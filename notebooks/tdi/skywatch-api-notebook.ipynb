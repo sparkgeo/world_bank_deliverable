{
 "cells": [
  {
   "attachments": {},
   "cell_type": "markdown",
   "metadata": {},
   "source": [
    "---\n",
    "title: \"Skywatch API Notebook\"\n",
    "format:\n",
    "  html:\n",
    "    code-fold: true\n",
    "jupyter: python3\n",
    "execute: \n",
    "  enabled: false\n",
    "  eval: false\n",
    "---"
   ]
  },
  {
   "attachments": {},
   "cell_type": "markdown",
   "metadata": {},
   "source": [
    "This notebook is used to query and download PlanetScope imagery using the Skywatch EarthCache API within a specified AOI and date range. <br> The notebook performs the following tasks:\n",
    "1. Queries the Skywatch API for the area and time of interest. Returns dataframe with all images meeting the specified criteria.\n",
    "2. Filters results to select the \"best\" image per day, if there are multiple images on a given day.\n",
    "3. Visualize results in a variety of graphs.\n",
    "4. Download selected images.\n"
   ]
  },
  {
   "cell_type": "code",
   "execution_count": 8,
   "metadata": {},
   "outputs": [],
   "source": [
    "import time\n",
    "import warnings\n",
    "import math\n",
    "from pathlib import Path\n",
    "import requests\n",
    "import pandas as pd\n",
    "import geopandas as gpd\n",
    "import json\n",
    "import datetime\n",
    "import plotly.express as px\n",
    "import plotly.graph_objects as go\n",
    "import pickle\n",
    "import numpy as np"
   ]
  },
  {
   "attachments": {},
   "cell_type": "markdown",
   "metadata": {
    "tags": []
   },
   "source": [
    "## File Paths and Query Parameters\n",
    "Run the below two cells first, even if resuming process at a later stage."
   ]
  },
  {
   "cell_type": "code",
   "execution_count": 10,
   "metadata": {},
   "outputs": [],
   "source": [
    "api_key = \"\" # Put skywatch api key here\n",
    "aoi_name = \"BeitBridge\" # Name for AOI\n",
    "o_start_date = \"2018-01-01\" # Overall start date for query\n",
    "o_end_date = \"2023-03-31\" # Overall end date for query\n",
    "cc_thresh = 25.0 # Maximum allowable image cloud cover percentage\n",
    "coverage_thresh = 80.0 # Minimum AOI image coverage percentage\n",
    "output_graphs = False # Option to output graphs in Stage 3 to files\n",
    "\n",
    "aoi_file = Path(\"../../data/processed/Beitbridge_PS_AOI_Final.gpkg\") # AOI geometry file used to query API\n",
    "\n",
    "# Overall path to put all outputs\n",
    "out_path = Path(f\"../../data/tdi_demo_files/{aoi_name}\")\n",
    "out_path = out_path.resolve()\n",
    "out_path.mkdir(parents=True, exist_ok=True)\n",
    "\n",
    "# Path to put search queries\n",
    "outpath_search_df = out_path.joinpath('search_queries')\n",
    "outpath_search_df.mkdir(exist_ok=True)\n",
    "\n",
    "outpath_download_df = out_path.joinpath('download_dataframes') # Path to put download dataframes\n",
    "outpath_images = out_path.joinpath(\"images\") # Base path where image files will be downloaded"
   ]
  },
  {
   "cell_type": "code",
   "execution_count": 11,
   "metadata": {},
   "outputs": [],
   "source": [
    "aoi_file = aoi_file.resolve()\n",
    "aoi_data = gpd.read_file(aoi_file)\n",
    "aoi_json = json.loads(aoi_data.to_json())\n",
    "\n",
    "headers = {'Content-Type': 'application/json', 'x-api-key': api_key} # Used to construct queries. Do not change\n",
    "\n",
    "if not api_key:\n",
    "    print(\"No API key found. Beware that querying and downloading imagery will fail.\")"
   ]
  },
  {
   "cell_type": "markdown",
   "metadata": {},
   "source": [
    "## Stage 1: Search API\n",
    "This part of the notebook queries the Earthcache API for the specified AOI and TOI. Because of limitations of the API, long date ranges can fail to return all results. To get around this, the overall use-specified date range is split into multiple more manageable queries, with the results combined at the end."
   ]
  },
  {
   "cell_type": "code",
   "execution_count": 12,
   "metadata": {},
   "outputs": [],
   "source": [
    "# Range of days to split up into separate queries. Skywatch API fails to return full results if too wide of a date range is used, so this is used as a workaround\n",
    "# The separate queries are combined at the end of the process.\n",
    "date_interval = 90\n",
    "\n",
    "o_start_datetime = datetime.datetime.strptime(o_start_date, \"%Y-%m-%d\")\n",
    "o_end_datetime = datetime.datetime.strptime(o_end_date, \"%Y-%m-%d\")\n",
    "num_intervals = math.floor((o_end_datetime - o_start_datetime).days / date_interval)\n",
    "\n",
    "date_list = []\n",
    "\n",
    "if num_intervals > 0:\n",
    "    starting_date = None\n",
    "    for i in range(0, num_intervals):\n",
    "        if not starting_date:\n",
    "            starting_date = o_start_datetime\n",
    "        ending_date = starting_date + datetime.timedelta(days=date_interval)\n",
    "\n",
    "        if ending_date > o_end_datetime:\n",
    "            ending_date = o_end_datetime\n",
    "\n",
    "        date_list.append({\"start_date\": datetime.datetime.strftime(starting_date, \"%Y-%m-%d\"), \"end_date\": datetime.datetime.strftime(ending_date, \"%Y-%m-%d\")})\n",
    "        starting_date = ending_date + datetime.timedelta(days=1)\n",
    "\n",
    "    if ending_date < o_end_datetime:\n",
    "        final_start_date = ending_date + datetime.timedelta(days=1)\n",
    "        date_list.append({\"start_date\": datetime.datetime.strftime(final_start_date, \"%Y-%m-%d\"), \"end_date\": o_end_date})\n",
    "\n",
    "else:\n",
    "    date_list.append({\"start_date\": o_start_date, \"end_date\": o_end_date})"
   ]
  },
  {
   "cell_type": "code",
   "execution_count": null,
   "metadata": {},
   "outputs": [],
   "source": [
    "def get_sat_type(sat_id, source):\n",
    "    \"\"\"\n",
    "    Parses the type of Dove satellite from the image source returned from the Skywatch API as well as the satellite ID string.\n",
    "    This is performed because the Skywatch API does not currently make any distinction between the Dove-Classic and Dove-R\n",
    "    satellite platforms.\n",
    "\n",
    "    Params:\n",
    "    ---------------------\n",
    "    sat_id: str\n",
    "        identification string parsed from the image name\n",
    "    source: str\n",
    "        image source returned from the Skywatch API\n",
    "\n",
    "    Returns:\n",
    "    ---------------------\n",
    "    sat_type: str\n",
    "        satellite type for the input image\n",
    "\n",
    "    \"\"\"\n",
    "    # List of dove-r satellite ID strings\n",
    "    dove_r_list = [\"1047\", \"1057\", \"1058\", \"1059\", \"105a\", \"105b\", \"105d\", \"105e\", \"105f\", \"1060\", \"1061\", \"1062\", \"1063\", \"1064\", \"1065\", \"1066\", \"1067\", \"1068\", \"1069\", \"106a\", \"106b\", \"106c\", \"106d\", \"106e\", \"106f\"]\n",
    "\n",
    "    sat_parse = sat_id.split('_')[-1]\n",
    "    if source == \"PlanetScope-SuperDove\":\n",
    "        sat_type = 'superdove'\n",
    "    if source == \"PlanetScope\":\n",
    "        sat_type = 'dove-c'\n",
    "    \n",
    "    if any(sat in sat_parse for sat in dove_r_list):\n",
    "        sat_type = \"dove-r\"\n",
    "\n",
    "    return sat_type\n",
    "\n",
    "def create_search_query(start_date, end_date, aoi_json):\n",
    "    \"\"\"\n",
    "    Creates a json query to use for searching the Skywatch API.\n",
    "\n",
    "    Params:\n",
    "    ---------------------\n",
    "    start_date: str\n",
    "        starting date string for query\n",
    "    end_date: str\n",
    "        ending date string for query\n",
    "    aoi_json: geojson\n",
    "        geojson geometry for query AOI\n",
    "\n",
    "    Returns:\n",
    "    ---------------------\n",
    "    query: dict\n",
    "        formatted query dictionary\n",
    "\n",
    "    \"\"\"\n",
    "    query = {\n",
    "            \"location\": {\n",
    "                \"type\": \"Polygon\",\n",
    "                \"coordinates\": aoi_json[\"features\"][0][\"geometry\"][\"coordinates\"][0]\n",
    "            },\n",
    "            \"start_date\": start_date,\n",
    "            \"end_date\": end_date,\n",
    "            \"resolution\": [\"medium\"], # medium resolution = planetscope in skywatch\n",
    "            \"coverage\": 50.0, # default mimimum aoi coverage of 50% for initial query, with a more stringent filter applied later\n",
    "            \"interval_length\": 7,\n",
    "            \"order_by\": \"date\"\n",
    "        }\n",
    "    \n",
    "    return query\n",
    "\n",
    "def search_catalog(query, headers):\n",
    "    \"\"\"\n",
    "    Runs a POST request to create search query.\n",
    "\n",
    "    Params:\n",
    "    ---------------------\n",
    "    query: dict\n",
    "        formatted query dictionary\n",
    "    headers: dict\n",
    "        headers for query\n",
    "\n",
    "    Returns:\n",
    "    ---------------------\n",
    "    search_id: str\n",
    "        id for search query\n",
    "\n",
    "    \"\"\"\n",
    "    search_url = \"https://api.skywatch.co/earthcache/archive/search\"\n",
    "    search_resp = requests.post(url=search_url, data=json.dumps(query), headers=headers).json()\n",
    "    search_id = search_resp['data']['id']\n",
    "    \n",
    "    return search_id\n",
    "\n",
    "def get_search_results(search_id, headers):\n",
    "    \"\"\"\n",
    "    GET request to retrieve search results for a specified query\n",
    "\n",
    "    Params:\n",
    "    ---------------------\n",
    "    search_id: str\n",
    "        id for search query\n",
    "    headers: dict\n",
    "        headers for query\n",
    "\n",
    "    Returns:\n",
    "    ---------------------\n",
    "    search_resp_json: json\n",
    "        json containing search results for query\n",
    "\n",
    "    \"\"\"\n",
    "    search_url = f\"https://api.skywatch.co/earthcache/archive/search/{search_id}/search_results\"\n",
    "    search_resp = requests.get(url=search_url, headers=headers)\n",
    "\n",
    "    # Query results take a bit of time to populate after the initial POST request. This loop\n",
    "    # repeats the get request every 5 seconds until results are available.\n",
    "    if search_resp.status_code == 202:\n",
    "        while search_resp.status_code == 202:\n",
    "            print(\"Search still processing. Waiting 5 seconds.\")\n",
    "            time.sleep(5)\n",
    "            search_resp = requests.get(url=search_url, headers=headers)\n",
    "    \n",
    "    search_resp_json = search_resp.json()\n",
    "    \n",
    "    return search_resp_json\n",
    "\n",
    "def parse_results(search_resp, headers, search_id, df_list):\n",
    "    \"\"\"\n",
    "    Parses through returned query results and creates pandas dataframes from them.\n",
    "\n",
    "    Params:\n",
    "    ---------------------\n",
    "    search_resp: json\n",
    "        query results json\n",
    "    headers: dict\n",
    "        headers for query\n",
    "    search_id: str\n",
    "        id for search query\n",
    "    df_list: list\n",
    "        list of search dataframes created from earlier search results\n",
    "    \n",
    "    Returns:\n",
    "    ---------------------\n",
    "    df_list: list\n",
    "        list of search dataframes from previous and current search results\n",
    "    \"\"\"\n",
    "    # Parses through search json results and populates dataframe with select image attributes\n",
    "    for item in search_resp[\"data\"]:\n",
    "        datestr = item['start_time'].split(\"T\")[0]\n",
    "        date_obj = datetime.datetime.strptime(datestr, \"%Y-%m-%d\")\n",
    "        year = date_obj.year\n",
    "        month = date_obj.month\n",
    "        isodate = date_obj.isocalendar()\n",
    "        if isodate[0] == (year - 1) and isodate[1] == 52:\n",
    "            week = 1\n",
    "        else:\n",
    "            week = isodate[1]\n",
    "        \n",
    "        sat_type = get_sat_type(item['product_name'], item['source'])\n",
    "        item_df = pd.DataFrame([{\"search_id\": search_id, \"id\": item['id'], \"product_name\": item['product_name'], \"datestr\": datestr, \n",
    "                                \"date\": date_obj, \"year\": year, \"month\": month, \"week\": week, \"source\": item['source'], \"sat_type\": sat_type, \"area_sq_km\": \n",
    "                                item['area_sq_km'], \"cloud_cover\": item['result_cloud_cover_percentage'], \"aoi_coverage\": item[\"location_coverage_percentage\"],\n",
    "                                \"cost\": item['cost'], \"preview\": item[\"preview_uri\"]}])\n",
    "        df_list.append(item_df)\n",
    "    \n",
    "    # Check for pagination of search results\n",
    "    try:\n",
    "        cursor = search_resp['pagination']['cursor']['next']\n",
    "    except:\n",
    "        cursor = None\n",
    "    \n",
    "    # If results are paginated, perform additional GET queries and create new dataframes until no more pages are left\n",
    "    while cursor:\n",
    "        search_url3 = f\"https://api.skywatch.co/earthcache/archive/search/{search_id}/search_results?cursor={cursor}\"\n",
    "        search_resp_2 = requests.get(url=search_url3, headers=headers).json()\n",
    "        for item in search_resp_2[\"data\"]:\n",
    "            datestr = item['start_time'].split(\"T\")[0]\n",
    "            date_obj = datetime.datetime.strptime(datestr, \"%Y-%m-%d\")\n",
    "            year = date_obj.year\n",
    "            month = date_obj.month\n",
    "            isodate = date_obj.isocalendar()\n",
    "            if isodate[0] == (year - 1) and isodate[1] == 52:\n",
    "                week = 1\n",
    "            else:\n",
    "                week = isodate[1]\n",
    "\n",
    "            sat_type = get_sat_type(item['product_name'], item['source'])\n",
    "            item_df = pd.DataFrame([{\"search_id\": search_id, \"id\": item['id'], \"product_name\": item['product_name'], \"datestr\": datestr, \n",
    "                                    \"date\": date_obj, \"year\": year, \"month\": month, \"week\": week, \"source\": item['source'], \"sat_type\": sat_type, \"area_sq_km\": \n",
    "                                    item['area_sq_km'], \"cloud_cover\": item['result_cloud_cover_percentage'], \"aoi_coverage\": item[\"location_coverage_percentage\"],\n",
    "                                    \"cost\": item['cost'], \"preview\": item[\"preview_uri\"]}])\n",
    "            df_list.append(item_df)\n",
    "        \n",
    "        try:\n",
    "            cursor = search_resp_2['pagination']['cursor']['next']\n",
    "        except:\n",
    "            cursor = None\n",
    "    \n",
    "    return df_list\n",
    "\n",
    "# This loop iterates through the shorter date ranges created in the previous cell,\n",
    "# creating new search queries and retrieving results. The returned json is then parsed\n",
    "# to create Pandas dataframes, which are captured in a list\n",
    "\n",
    "df_list = [] # Empty list used to hold the separate results dataframes\n",
    "for entry in date_list:\n",
    "    start_date = entry['start_date']\n",
    "    end_date = entry['end_date']\n",
    "    print(f\"running search query for date range: {start_date} to {end_date}\")\n",
    "    query = create_search_query(start_date, end_date, aoi_json)\n",
    "    search_id = search_catalog(query, headers)\n",
    "    search_resp = get_search_results(search_id, headers)\n",
    "    df_list = parse_results(search_resp, headers, search_id, df_list)"
   ]
  },
  {
   "cell_type": "code",
   "execution_count": 14,
   "metadata": {},
   "outputs": [],
   "source": [
    "# This cell combines the returned data from the separate API queries into a single dataframe\n",
    "def combine_query_dataframes(df_list):\n",
    "    \"\"\"\n",
    "    Combined separate results dataframes into a single dataframe.\n",
    "\n",
    "    Params:\n",
    "    ---------------------\n",
    "    df_list: list\n",
    "        list of separate dataframes created from query results\n",
    "\n",
    "    Returns:\n",
    "    ---------------------\n",
    "    search_df: pandas dataframe\n",
    "        combined dataframe containing all search results\n",
    "    \"\"\"\n",
    "    search_df = pd.concat(df_list)\n",
    "    search_df.reset_index(drop=True, inplace=True)\n",
    "    search_df['year'] = search_df['year'].astype('category')\n",
    "    search_df['month'] = search_df['month'].astype('category')\n",
    "    search_df['week'] = search_df['week'].astype('category')\n",
    "\n",
    "    # this line adds a new field with an image preview html link, which is used in one of the interactive graphs in Stage 3\n",
    "    search_df[\"preview_html\"] = search_df.apply(lambda x: f'<a href=\\\"{x[\"preview\"]}\\\">Preview</a>', axis=1)\n",
    "\n",
    "    return search_df\n",
    "\n",
    "search_df = combine_query_dataframes(df_list)"
   ]
  },
  {
   "cell_type": "code",
   "execution_count": 15,
   "metadata": {},
   "outputs": [],
   "source": [
    "# Put combined search dataframe into pickle file to reload later\n",
    "search_pickle = outpath_search_df.joinpath(f'{aoi_name}_{o_start_date}_to_{o_end_date}_search_df.pkl')\n",
    "search_df.to_pickle(search_pickle)"
   ]
  },
  {
   "cell_type": "markdown",
   "metadata": {},
   "source": [
    "## Stage 2: Filter Query Dataframe.\n",
    "This stage of the process filters down the query results from Stage 1. Continue from here if you ran Stage 1 previously."
   ]
  },
  {
   "cell_type": "code",
   "execution_count": 16,
   "metadata": {},
   "outputs": [],
   "source": [
    "# Read in query pickle file\n",
    "search_pickle = outpath_search_df.joinpath(f'{aoi_name}_{o_start_date}_to_{o_end_date}_search_df.pkl')\n",
    "search_df = pd.read_pickle(search_pickle)"
   ]
  },
  {
   "cell_type": "code",
   "execution_count": 17,
   "metadata": {},
   "outputs": [],
   "source": [
    "def filter_dates(df):\n",
    "    \"\"\"\n",
    "    If more than one image exists for a given day, this function will select the \"best\" image for the day.\n",
    "    First, images with poor AOI coverage are removed. If multiple images remain after this step, then the\n",
    "    images are filtered by sensor type, with superdove and dove-r being prioritized over dove-classic.\n",
    "    Finally, if multiple images still remain, the image with the highest AOI coverage is selected.\n",
    "\n",
    "    Params:\n",
    "    ---------------------\n",
    "    df: pandas dataframe\n",
    "        subset dataframe containing only the images for the specific date\n",
    "\n",
    "    Returns:\n",
    "    ---------------------\n",
    "    select_id: str\n",
    "        image id string for the selected image\n",
    "    \"\"\"\n",
    "\n",
    "    top_coverage = df.nlargest(1,'aoi_coverage')[\"aoi_coverage\"].tolist()[0]\n",
    "    with warnings.catch_warnings():\n",
    "        warnings.simplefilter(\"ignore\")\n",
    "        df['cover_percentmax'] = df.apply(lambda row: (row[\"aoi_coverage\"] / top_coverage), axis=1)\n",
    "        \n",
    "    df = df.loc[(df[\"cover_percentmax\"]>=0.9)]\n",
    "\n",
    "    if 'superdove' in df['sat_type'].unique() or 'dove-r' in df['sat_type']:\n",
    "        df = df.loc[(df['sat_type'] == 'superdove') | (df['sat_type'] == 'dove-r')]\n",
    "\n",
    "    df = df.nlargest(1,'aoi_coverage')\n",
    "    select_id = df['id'].values[0]\n",
    "\n",
    "    return select_id\n",
    "\n",
    "def filter_dataframe(df, cloud_cover_thresh, coverage_thresh):\n",
    "    \"\"\"\n",
    "    Filters down initial query results based on cloud cover, aoi coverage, and selecting only one\n",
    "    image per day.\n",
    "\n",
    "    Params:\n",
    "    ---------------------\n",
    "    df: pandas dataframe\n",
    "        dataframe containing full image search results\n",
    "    cloud_cover_thresh: float\n",
    "        maximum cloud cover percent threshold\n",
    "    coverage_thresh: float\n",
    "        minimum aoi area coverage percent threshold\n",
    "\n",
    "    Returns:\n",
    "    ---------------------\n",
    "    filtered_df: pandas dataframe\n",
    "        filtered image dataframe\n",
    "    \"\"\"\n",
    "    filtered_df = df.copy(deep=True)\n",
    "    filtered_df = filtered_df.loc[(search_df[\"cloud_cover\"]<=cloud_cover_thresh) & (filtered_df[\"aoi_coverage\"] >= coverage_thresh)]\n",
    "\n",
    "    id_list = []\n",
    "    unique_dates = filtered_df.datestr.unique().tolist()\n",
    "    for date_ in unique_dates:\n",
    "        filtered_df2 = filtered_df.loc[filtered_df[\"datestr\"]==date_]\n",
    "        if len(filtered_df2) > 1:\n",
    "            select_id = filter_dates(filtered_df2)\n",
    "        else:\n",
    "            select_id = filtered_df2['id'].values[0]\n",
    "        \n",
    "        id_list.append(select_id)\n",
    "\n",
    "    filtered_df = filtered_df[filtered_df['id'].isin(id_list)]\n",
    "\n",
    "    filtered_df.reset_index(inplace=True, drop=True)\n",
    "    return filtered_df\n",
    "\n",
    "filtered_search = filter_dataframe(search_df, cc_thresh, coverage_thresh)"
   ]
  },
  {
   "cell_type": "code",
   "execution_count": 18,
   "metadata": {},
   "outputs": [],
   "source": [
    "# Save filtered dataframe to pickle file for subsequent process stages\n",
    "filter_search_pickle = outpath_search_df.joinpath(f'{aoi_name}_{o_start_date}_to_{o_end_date}_search_df_filtered.pkl')\n",
    "filtered_search.to_pickle(filter_search_pickle)"
   ]
  },
  {
   "cell_type": "markdown",
   "metadata": {},
   "source": [
    "## Stage 3: Graph Generation\n",
    "This stage is entirely optional but can be used to visualize the results of the query prior to download. The results of the query are displayed in a variety of interactive graphs"
   ]
  },
  {
   "cell_type": "code",
   "execution_count": 19,
   "metadata": {},
   "outputs": [],
   "source": [
    "# Path to put put figures\n",
    "outpath_figs = outpath_search_df.joinpath('figures')\n",
    "outpath_figs.mkdir(exist_ok=True)"
   ]
  },
  {
   "cell_type": "code",
   "execution_count": 20,
   "metadata": {},
   "outputs": [],
   "source": [
    "# Read filtered search dataframe from pickle file\n",
    "filter_search_pickle = outpath_search_df.joinpath(f'{aoi_name}_{o_start_date}_to_{o_end_date}_search_df_filtered.pkl')\n",
    "filtered_search = pd.read_pickle(filter_search_pickle)"
   ]
  },
  {
   "cell_type": "code",
   "execution_count": 21,
   "metadata": {},
   "outputs": [
    {
     "data": {
      "application/vnd.plotly.v1+json": {
       "config": {
        "plotlyServerURL": "https://plot.ly"
       },
       "data": [
        {
         "alignmentgroup": "True",
         "hovertemplate": "variable=0% clouds<br>month=%{x}<br>value=%{y}<extra></extra>",
         "legendgroup": "0% clouds",
         "marker": {
          "color": "green",
          "pattern": {
           "shape": ""
          }
         },
         "name": "0% clouds",
         "offsetgroup": "0% clouds",
         "orientation": "v",
         "showlegend": true,
         "textposition": "auto",
         "type": "bar",
         "x": [
          1,
          2,
          3,
          4,
          5,
          6,
          7,
          8,
          9,
          10,
          11,
          12
         ],
         "xaxis": "x",
         "y": [
          2,
          7,
          5,
          5,
          15,
          12,
          11,
          15,
          13,
          12,
          5,
          4
         ],
         "yaxis": "y"
        },
        {
         "alignmentgroup": "True",
         "hovertemplate": "variable=<=2% clouds<br>month=%{x}<br>value=%{y}<extra></extra>",
         "legendgroup": "<=2% clouds",
         "marker": {
          "color": "yellow",
          "pattern": {
           "shape": ""
          }
         },
         "name": "<=2% clouds",
         "offsetgroup": "<=2% clouds",
         "orientation": "v",
         "showlegend": true,
         "textposition": "auto",
         "type": "bar",
         "x": [
          1,
          2,
          3,
          4,
          5,
          6,
          7,
          8,
          9,
          10,
          11,
          12
         ],
         "xaxis": "x",
         "y": [
          1,
          1,
          1,
          0,
          2,
          1,
          0,
          2,
          1,
          1,
          1,
          0
         ],
         "yaxis": "y"
        },
        {
         "alignmentgroup": "True",
         "hovertemplate": "variable=<=5% clouds<br>month=%{x}<br>value=%{y}<extra></extra>",
         "legendgroup": "<=5% clouds",
         "marker": {
          "color": "orange",
          "pattern": {
           "shape": ""
          }
         },
         "name": "<=5% clouds",
         "offsetgroup": "<=5% clouds",
         "orientation": "v",
         "showlegend": true,
         "textposition": "auto",
         "type": "bar",
         "x": [
          1,
          2,
          3,
          4,
          5,
          6,
          7,
          8,
          9,
          10,
          11,
          12
         ],
         "xaxis": "x",
         "y": [
          0,
          1,
          0,
          0,
          0,
          1,
          0,
          1,
          0,
          0,
          0,
          1
         ],
         "yaxis": "y"
        },
        {
         "alignmentgroup": "True",
         "hovertemplate": "variable=<=10% clouds<br>month=%{x}<br>value=%{y}<extra></extra>",
         "legendgroup": "<=10% clouds",
         "marker": {
          "color": "red",
          "pattern": {
           "shape": ""
          }
         },
         "name": "<=10% clouds",
         "offsetgroup": "<=10% clouds",
         "orientation": "v",
         "showlegend": true,
         "textposition": "auto",
         "type": "bar",
         "x": [
          1,
          2,
          3,
          4,
          5,
          6,
          7,
          8,
          9,
          10,
          11,
          12
         ],
         "xaxis": "x",
         "y": [
          0,
          1,
          1,
          0,
          1,
          0,
          1,
          0,
          0,
          0,
          2,
          2
         ],
         "yaxis": "y"
        },
        {
         "alignmentgroup": "True",
         "hovertemplate": "variable=>10% clouds<br>month=%{x}<br>value=%{y}<extra></extra>",
         "legendgroup": ">10% clouds",
         "marker": {
          "color": "maroon",
          "pattern": {
           "shape": ""
          }
         },
         "name": ">10% clouds",
         "offsetgroup": ">10% clouds",
         "orientation": "v",
         "showlegend": true,
         "textposition": "auto",
         "type": "bar",
         "x": [
          1,
          2,
          3,
          4,
          5,
          6,
          7,
          8,
          9,
          10,
          11,
          12
         ],
         "xaxis": "x",
         "y": [
          2,
          1,
          1,
          0,
          0,
          1,
          3,
          1,
          1,
          0,
          5,
          4
         ],
         "yaxis": "y"
        }
       ],
       "layout": {
        "barmode": "relative",
        "legend": {
         "title": {
          "text": "variable"
         },
         "tracegroupgap": 0
        },
        "margin": {
         "t": 60
        },
        "template": {
         "data": {
          "bar": [
           {
            "error_x": {
             "color": "#2a3f5f"
            },
            "error_y": {
             "color": "#2a3f5f"
            },
            "marker": {
             "line": {
              "color": "#E5ECF6",
              "width": 0.5
             },
             "pattern": {
              "fillmode": "overlay",
              "size": 10,
              "solidity": 0.2
             }
            },
            "type": "bar"
           }
          ],
          "barpolar": [
           {
            "marker": {
             "line": {
              "color": "#E5ECF6",
              "width": 0.5
             },
             "pattern": {
              "fillmode": "overlay",
              "size": 10,
              "solidity": 0.2
             }
            },
            "type": "barpolar"
           }
          ],
          "carpet": [
           {
            "aaxis": {
             "endlinecolor": "#2a3f5f",
             "gridcolor": "white",
             "linecolor": "white",
             "minorgridcolor": "white",
             "startlinecolor": "#2a3f5f"
            },
            "baxis": {
             "endlinecolor": "#2a3f5f",
             "gridcolor": "white",
             "linecolor": "white",
             "minorgridcolor": "white",
             "startlinecolor": "#2a3f5f"
            },
            "type": "carpet"
           }
          ],
          "choropleth": [
           {
            "colorbar": {
             "outlinewidth": 0,
             "ticks": ""
            },
            "type": "choropleth"
           }
          ],
          "contour": [
           {
            "colorbar": {
             "outlinewidth": 0,
             "ticks": ""
            },
            "colorscale": [
             [
              0,
              "#0d0887"
             ],
             [
              0.1111111111111111,
              "#46039f"
             ],
             [
              0.2222222222222222,
              "#7201a8"
             ],
             [
              0.3333333333333333,
              "#9c179e"
             ],
             [
              0.4444444444444444,
              "#bd3786"
             ],
             [
              0.5555555555555556,
              "#d8576b"
             ],
             [
              0.6666666666666666,
              "#ed7953"
             ],
             [
              0.7777777777777778,
              "#fb9f3a"
             ],
             [
              0.8888888888888888,
              "#fdca26"
             ],
             [
              1,
              "#f0f921"
             ]
            ],
            "type": "contour"
           }
          ],
          "contourcarpet": [
           {
            "colorbar": {
             "outlinewidth": 0,
             "ticks": ""
            },
            "type": "contourcarpet"
           }
          ],
          "heatmap": [
           {
            "colorbar": {
             "outlinewidth": 0,
             "ticks": ""
            },
            "colorscale": [
             [
              0,
              "#0d0887"
             ],
             [
              0.1111111111111111,
              "#46039f"
             ],
             [
              0.2222222222222222,
              "#7201a8"
             ],
             [
              0.3333333333333333,
              "#9c179e"
             ],
             [
              0.4444444444444444,
              "#bd3786"
             ],
             [
              0.5555555555555556,
              "#d8576b"
             ],
             [
              0.6666666666666666,
              "#ed7953"
             ],
             [
              0.7777777777777778,
              "#fb9f3a"
             ],
             [
              0.8888888888888888,
              "#fdca26"
             ],
             [
              1,
              "#f0f921"
             ]
            ],
            "type": "heatmap"
           }
          ],
          "heatmapgl": [
           {
            "colorbar": {
             "outlinewidth": 0,
             "ticks": ""
            },
            "colorscale": [
             [
              0,
              "#0d0887"
             ],
             [
              0.1111111111111111,
              "#46039f"
             ],
             [
              0.2222222222222222,
              "#7201a8"
             ],
             [
              0.3333333333333333,
              "#9c179e"
             ],
             [
              0.4444444444444444,
              "#bd3786"
             ],
             [
              0.5555555555555556,
              "#d8576b"
             ],
             [
              0.6666666666666666,
              "#ed7953"
             ],
             [
              0.7777777777777778,
              "#fb9f3a"
             ],
             [
              0.8888888888888888,
              "#fdca26"
             ],
             [
              1,
              "#f0f921"
             ]
            ],
            "type": "heatmapgl"
           }
          ],
          "histogram": [
           {
            "marker": {
             "pattern": {
              "fillmode": "overlay",
              "size": 10,
              "solidity": 0.2
             }
            },
            "type": "histogram"
           }
          ],
          "histogram2d": [
           {
            "colorbar": {
             "outlinewidth": 0,
             "ticks": ""
            },
            "colorscale": [
             [
              0,
              "#0d0887"
             ],
             [
              0.1111111111111111,
              "#46039f"
             ],
             [
              0.2222222222222222,
              "#7201a8"
             ],
             [
              0.3333333333333333,
              "#9c179e"
             ],
             [
              0.4444444444444444,
              "#bd3786"
             ],
             [
              0.5555555555555556,
              "#d8576b"
             ],
             [
              0.6666666666666666,
              "#ed7953"
             ],
             [
              0.7777777777777778,
              "#fb9f3a"
             ],
             [
              0.8888888888888888,
              "#fdca26"
             ],
             [
              1,
              "#f0f921"
             ]
            ],
            "type": "histogram2d"
           }
          ],
          "histogram2dcontour": [
           {
            "colorbar": {
             "outlinewidth": 0,
             "ticks": ""
            },
            "colorscale": [
             [
              0,
              "#0d0887"
             ],
             [
              0.1111111111111111,
              "#46039f"
             ],
             [
              0.2222222222222222,
              "#7201a8"
             ],
             [
              0.3333333333333333,
              "#9c179e"
             ],
             [
              0.4444444444444444,
              "#bd3786"
             ],
             [
              0.5555555555555556,
              "#d8576b"
             ],
             [
              0.6666666666666666,
              "#ed7953"
             ],
             [
              0.7777777777777778,
              "#fb9f3a"
             ],
             [
              0.8888888888888888,
              "#fdca26"
             ],
             [
              1,
              "#f0f921"
             ]
            ],
            "type": "histogram2dcontour"
           }
          ],
          "mesh3d": [
           {
            "colorbar": {
             "outlinewidth": 0,
             "ticks": ""
            },
            "type": "mesh3d"
           }
          ],
          "parcoords": [
           {
            "line": {
             "colorbar": {
              "outlinewidth": 0,
              "ticks": ""
             }
            },
            "type": "parcoords"
           }
          ],
          "pie": [
           {
            "automargin": true,
            "type": "pie"
           }
          ],
          "scatter": [
           {
            "fillpattern": {
             "fillmode": "overlay",
             "size": 10,
             "solidity": 0.2
            },
            "type": "scatter"
           }
          ],
          "scatter3d": [
           {
            "line": {
             "colorbar": {
              "outlinewidth": 0,
              "ticks": ""
             }
            },
            "marker": {
             "colorbar": {
              "outlinewidth": 0,
              "ticks": ""
             }
            },
            "type": "scatter3d"
           }
          ],
          "scattercarpet": [
           {
            "marker": {
             "colorbar": {
              "outlinewidth": 0,
              "ticks": ""
             }
            },
            "type": "scattercarpet"
           }
          ],
          "scattergeo": [
           {
            "marker": {
             "colorbar": {
              "outlinewidth": 0,
              "ticks": ""
             }
            },
            "type": "scattergeo"
           }
          ],
          "scattergl": [
           {
            "marker": {
             "colorbar": {
              "outlinewidth": 0,
              "ticks": ""
             }
            },
            "type": "scattergl"
           }
          ],
          "scattermapbox": [
           {
            "marker": {
             "colorbar": {
              "outlinewidth": 0,
              "ticks": ""
             }
            },
            "type": "scattermapbox"
           }
          ],
          "scatterpolar": [
           {
            "marker": {
             "colorbar": {
              "outlinewidth": 0,
              "ticks": ""
             }
            },
            "type": "scatterpolar"
           }
          ],
          "scatterpolargl": [
           {
            "marker": {
             "colorbar": {
              "outlinewidth": 0,
              "ticks": ""
             }
            },
            "type": "scatterpolargl"
           }
          ],
          "scatterternary": [
           {
            "marker": {
             "colorbar": {
              "outlinewidth": 0,
              "ticks": ""
             }
            },
            "type": "scatterternary"
           }
          ],
          "surface": [
           {
            "colorbar": {
             "outlinewidth": 0,
             "ticks": ""
            },
            "colorscale": [
             [
              0,
              "#0d0887"
             ],
             [
              0.1111111111111111,
              "#46039f"
             ],
             [
              0.2222222222222222,
              "#7201a8"
             ],
             [
              0.3333333333333333,
              "#9c179e"
             ],
             [
              0.4444444444444444,
              "#bd3786"
             ],
             [
              0.5555555555555556,
              "#d8576b"
             ],
             [
              0.6666666666666666,
              "#ed7953"
             ],
             [
              0.7777777777777778,
              "#fb9f3a"
             ],
             [
              0.8888888888888888,
              "#fdca26"
             ],
             [
              1,
              "#f0f921"
             ]
            ],
            "type": "surface"
           }
          ],
          "table": [
           {
            "cells": {
             "fill": {
              "color": "#EBF0F8"
             },
             "line": {
              "color": "white"
             }
            },
            "header": {
             "fill": {
              "color": "#C8D4E3"
             },
             "line": {
              "color": "white"
             }
            },
            "type": "table"
           }
          ]
         },
         "layout": {
          "annotationdefaults": {
           "arrowcolor": "#2a3f5f",
           "arrowhead": 0,
           "arrowwidth": 1
          },
          "autotypenumbers": "strict",
          "coloraxis": {
           "colorbar": {
            "outlinewidth": 0,
            "ticks": ""
           }
          },
          "colorscale": {
           "diverging": [
            [
             0,
             "#8e0152"
            ],
            [
             0.1,
             "#c51b7d"
            ],
            [
             0.2,
             "#de77ae"
            ],
            [
             0.3,
             "#f1b6da"
            ],
            [
             0.4,
             "#fde0ef"
            ],
            [
             0.5,
             "#f7f7f7"
            ],
            [
             0.6,
             "#e6f5d0"
            ],
            [
             0.7,
             "#b8e186"
            ],
            [
             0.8,
             "#7fbc41"
            ],
            [
             0.9,
             "#4d9221"
            ],
            [
             1,
             "#276419"
            ]
           ],
           "sequential": [
            [
             0,
             "#0d0887"
            ],
            [
             0.1111111111111111,
             "#46039f"
            ],
            [
             0.2222222222222222,
             "#7201a8"
            ],
            [
             0.3333333333333333,
             "#9c179e"
            ],
            [
             0.4444444444444444,
             "#bd3786"
            ],
            [
             0.5555555555555556,
             "#d8576b"
            ],
            [
             0.6666666666666666,
             "#ed7953"
            ],
            [
             0.7777777777777778,
             "#fb9f3a"
            ],
            [
             0.8888888888888888,
             "#fdca26"
            ],
            [
             1,
             "#f0f921"
            ]
           ],
           "sequentialminus": [
            [
             0,
             "#0d0887"
            ],
            [
             0.1111111111111111,
             "#46039f"
            ],
            [
             0.2222222222222222,
             "#7201a8"
            ],
            [
             0.3333333333333333,
             "#9c179e"
            ],
            [
             0.4444444444444444,
             "#bd3786"
            ],
            [
             0.5555555555555556,
             "#d8576b"
            ],
            [
             0.6666666666666666,
             "#ed7953"
            ],
            [
             0.7777777777777778,
             "#fb9f3a"
            ],
            [
             0.8888888888888888,
             "#fdca26"
            ],
            [
             1,
             "#f0f921"
            ]
           ]
          },
          "colorway": [
           "#636efa",
           "#EF553B",
           "#00cc96",
           "#ab63fa",
           "#FFA15A",
           "#19d3f3",
           "#FF6692",
           "#B6E880",
           "#FF97FF",
           "#FECB52"
          ],
          "font": {
           "color": "#2a3f5f"
          },
          "geo": {
           "bgcolor": "white",
           "lakecolor": "white",
           "landcolor": "#E5ECF6",
           "showlakes": true,
           "showland": true,
           "subunitcolor": "white"
          },
          "hoverlabel": {
           "align": "left"
          },
          "hovermode": "closest",
          "mapbox": {
           "style": "light"
          },
          "paper_bgcolor": "white",
          "plot_bgcolor": "#E5ECF6",
          "polar": {
           "angularaxis": {
            "gridcolor": "white",
            "linecolor": "white",
            "ticks": ""
           },
           "bgcolor": "#E5ECF6",
           "radialaxis": {
            "gridcolor": "white",
            "linecolor": "white",
            "ticks": ""
           }
          },
          "scene": {
           "xaxis": {
            "backgroundcolor": "#E5ECF6",
            "gridcolor": "white",
            "gridwidth": 2,
            "linecolor": "white",
            "showbackground": true,
            "ticks": "",
            "zerolinecolor": "white"
           },
           "yaxis": {
            "backgroundcolor": "#E5ECF6",
            "gridcolor": "white",
            "gridwidth": 2,
            "linecolor": "white",
            "showbackground": true,
            "ticks": "",
            "zerolinecolor": "white"
           },
           "zaxis": {
            "backgroundcolor": "#E5ECF6",
            "gridcolor": "white",
            "gridwidth": 2,
            "linecolor": "white",
            "showbackground": true,
            "ticks": "",
            "zerolinecolor": "white"
           }
          },
          "shapedefaults": {
           "line": {
            "color": "#2a3f5f"
           }
          },
          "ternary": {
           "aaxis": {
            "gridcolor": "white",
            "linecolor": "white",
            "ticks": ""
           },
           "baxis": {
            "gridcolor": "white",
            "linecolor": "white",
            "ticks": ""
           },
           "bgcolor": "#E5ECF6",
           "caxis": {
            "gridcolor": "white",
            "linecolor": "white",
            "ticks": ""
           }
          },
          "title": {
           "x": 0.05
          },
          "xaxis": {
           "automargin": true,
           "gridcolor": "white",
           "linecolor": "white",
           "ticks": "",
           "title": {
            "standoff": 15
           },
           "zerolinecolor": "white",
           "zerolinewidth": 2
          },
          "yaxis": {
           "automargin": true,
           "gridcolor": "white",
           "linecolor": "white",
           "ticks": "",
           "title": {
            "standoff": 15
           },
           "zerolinecolor": "white",
           "zerolinewidth": 2
          }
         }
        },
        "title": {
         "text": "PlanetScope Cloud Cover By Month - 2022 - BeitBridge",
         "x": 0.5
        },
        "xaxis": {
         "anchor": "y",
         "domain": [
          0,
          1
         ],
         "title": {
          "text": "Month of Year"
         }
        },
        "yaxis": {
         "anchor": "x",
         "domain": [
          0,
          1
         ],
         "title": {
          "text": "Image Count"
         }
        }
       }
      }
     },
     "metadata": {},
     "output_type": "display_data"
    }
   ],
   "source": [
    "# Graph 1: monthly bar graphs showing the number of images per month broken down by cloud cover percentage\n",
    "def create_month_cc_graph(df, target_year, output_graph=False):\n",
    "    \"\"\"\n",
    "    Creates interactive bar plots showing the number of images in a given year, broken down by month\n",
    "    and by cloud cover percentage.\n",
    "\n",
    "    Params:\n",
    "    ---------------------\n",
    "    df: pandas dataframe\n",
    "        query dataframe containing image information\n",
    "    target_year: int\n",
    "        year to produce graph for (will cause an error if no images present for specified year)\n",
    "    output_graph: bool\n",
    "        if set to True, graph will be saved to file as an html and png file\n",
    "    \"\"\"\n",
    "    \n",
    "    target_df = df.loc[df[\"year\"] == target_year]\n",
    "    min_date = target_df.iloc[0]['datestr']\n",
    "    max_date = target_df.iloc[-1]['datestr']\n",
    "\n",
    "    month_df = pd.DataFrame()\n",
    "    month_df[\"0% clouds\"] = target_df.loc[target_df['cloud_cover'] == 0]['month'].value_counts()\n",
    "    month_df[\"<=2% clouds\"] = target_df.loc[(target_df['cloud_cover'] > 0) & (target_df['cloud_cover'] <= 2)]['month'].value_counts()\n",
    "    month_df[\"<=5% clouds\"] = target_df.loc[(target_df['cloud_cover'] > 2) & (target_df['cloud_cover'] <= 5)]['month'].value_counts()\n",
    "    month_df[\"<=10% clouds\"] = target_df.loc[(target_df['cloud_cover'] > 5) & (target_df['cloud_cover'] <= 10)]['month'].value_counts()\n",
    "    month_df[\">10% clouds\"] = target_df.loc[target_df['cloud_cover'] > 10]['month'].value_counts()\n",
    "\n",
    "    month_df.reset_index(inplace=True)\n",
    "    month_df.rename(columns={'index': 'month'}, inplace=True)\n",
    "    month_df.sort_values('month', inplace=True)\n",
    "    month_df.reset_index(inplace=True, drop=True)\n",
    "\n",
    "    month_fig = px.bar(month_df, x='month', y=['0% clouds', '<=2% clouds', '<=5% clouds', '<=10% clouds', '>10% clouds'], color_discrete_map={'0% clouds': 'green','<=2% clouds': 'yellow', \"<=5% clouds\": \"orange\", \"<=10% clouds\": \"red\", \">10% clouds\": \"maroon\"})\n",
    "    month_fig.update_layout(title_text=f\"PlanetScope Cloud Cover By Month - {target_year} - {aoi_name}\", title_x=0.5, yaxis_title=\"Image Count\", xaxis_title=\"Month of Year\")\n",
    "\n",
    "    filenamestr = f\"PlanetScope_Monthly_Image_Count_{min_date}_to_{max_date}_{aoi_name}\"\n",
    "    if output_graph:\n",
    "        out_png = outpath_figs.joinpath(f\"{filenamestr}.png\")\n",
    "        out_html = outpath_figs.joinpath(f\"{filenamestr}.html\")\n",
    "        month_fig.write_image(out_png)\n",
    "        month_fig.write_html(out_html)\n",
    "\n",
    "    month_fig.show()\n",
    "\n",
    "create_month_cc_graph(filtered_search, target_year=2022, output_graph=output_graphs)"
   ]
  },
  {
   "cell_type": "code",
   "execution_count": 22,
   "metadata": {},
   "outputs": [
    {
     "data": {
      "application/vnd.plotly.v1+json": {
       "config": {
        "plotlyServerURL": "https://plot.ly"
       },
       "data": [
        {
         "alignmentgroup": "True",
         "hovertemplate": "variable=0% clouds<br>week=%{x}<br>value=%{y}<extra></extra>",
         "legendgroup": "0% clouds",
         "marker": {
          "color": "green",
          "pattern": {
           "shape": ""
          }
         },
         "name": "0% clouds",
         "offsetgroup": "0% clouds",
         "orientation": "v",
         "showlegend": true,
         "textposition": "auto",
         "type": "bar",
         "x": [
          1,
          2,
          3,
          4,
          5,
          6,
          7,
          8,
          9,
          10,
          11,
          12,
          13,
          14,
          15,
          16,
          17,
          18,
          19,
          20,
          21,
          22,
          23,
          24,
          25,
          26,
          27,
          28,
          29,
          30,
          31,
          32,
          33,
          34,
          35,
          36,
          37,
          38,
          39,
          40,
          41,
          42,
          43,
          44,
          45,
          46,
          47,
          48,
          49,
          50,
          51,
          52,
          53
         ],
         "xaxis": "x",
         "y": [
          1,
          0,
          1,
          0,
          3,
          1,
          2,
          1,
          3,
          0,
          1,
          0,
          3,
          0,
          0,
          1,
          2,
          4,
          5,
          0,
          5,
          4,
          2,
          6,
          1,
          1,
          4,
          0,
          2,
          4,
          0,
          7,
          2,
          5,
          2,
          3,
          4,
          2,
          4,
          5,
          4,
          1,
          1,
          0,
          1,
          3,
          1,
          1,
          1,
          0,
          2,
          0,
          0
         ],
         "yaxis": "y"
        },
        {
         "alignmentgroup": "True",
         "hovertemplate": "variable=<=2% clouds<br>week=%{x}<br>value=%{y}<extra></extra>",
         "legendgroup": "<=2% clouds",
         "marker": {
          "color": "yellow",
          "pattern": {
           "shape": ""
          }
         },
         "name": "<=2% clouds",
         "offsetgroup": "<=2% clouds",
         "orientation": "v",
         "showlegend": true,
         "textposition": "auto",
         "type": "bar",
         "x": [
          1,
          2,
          3,
          4,
          5,
          6,
          7,
          8,
          9,
          10,
          11,
          12,
          13,
          14,
          15,
          16,
          17,
          18,
          19,
          20,
          21,
          22,
          23,
          24,
          25,
          26,
          27,
          28,
          29,
          30,
          31,
          32,
          33,
          34,
          35,
          36,
          37,
          38,
          39,
          40,
          41,
          42,
          43,
          44,
          45,
          46,
          47,
          48,
          49,
          50,
          51,
          52,
          53
         ],
         "xaxis": "x",
         "y": [
          1,
          0,
          0,
          0,
          0,
          0,
          0,
          1,
          0,
          0,
          0,
          0,
          1,
          0,
          0,
          0,
          0,
          1,
          0,
          0,
          1,
          0,
          1,
          0,
          0,
          0,
          0,
          0,
          0,
          0,
          0,
          0,
          0,
          2,
          1,
          0,
          0,
          0,
          0,
          0,
          0,
          0,
          1,
          0,
          0,
          0,
          1,
          0,
          0,
          0,
          0,
          0,
          0
         ],
         "yaxis": "y"
        },
        {
         "alignmentgroup": "True",
         "hovertemplate": "variable=<=5% clouds<br>week=%{x}<br>value=%{y}<extra></extra>",
         "legendgroup": "<=5% clouds",
         "marker": {
          "color": "orange",
          "pattern": {
           "shape": ""
          }
         },
         "name": "<=5% clouds",
         "offsetgroup": "<=5% clouds",
         "orientation": "v",
         "showlegend": true,
         "textposition": "auto",
         "type": "bar",
         "x": [
          1,
          2,
          3,
          4,
          5,
          6,
          7,
          8,
          9,
          10,
          11,
          12,
          13,
          14,
          15,
          16,
          17,
          18,
          19,
          20,
          21,
          22,
          23,
          24,
          25,
          26,
          27,
          28,
          29,
          30,
          31,
          32,
          33,
          34,
          35,
          36,
          37,
          38,
          39,
          40,
          41,
          42,
          43,
          44,
          45,
          46,
          47,
          48,
          49,
          50,
          51,
          52,
          53
         ],
         "xaxis": "x",
         "y": [
          0,
          0,
          0,
          0,
          0,
          0,
          1,
          0,
          0,
          0,
          0,
          0,
          0,
          0,
          0,
          0,
          0,
          0,
          0,
          0,
          0,
          0,
          0,
          0,
          1,
          0,
          0,
          0,
          0,
          0,
          1,
          0,
          0,
          0,
          0,
          0,
          0,
          0,
          0,
          0,
          0,
          0,
          0,
          0,
          0,
          0,
          0,
          0,
          0,
          0,
          0,
          1,
          0
         ],
         "yaxis": "y"
        },
        {
         "alignmentgroup": "True",
         "hovertemplate": "variable=<=10% clouds<br>week=%{x}<br>value=%{y}<extra></extra>",
         "legendgroup": "<=10% clouds",
         "marker": {
          "color": "red",
          "pattern": {
           "shape": ""
          }
         },
         "name": "<=10% clouds",
         "offsetgroup": "<=10% clouds",
         "orientation": "v",
         "showlegend": true,
         "textposition": "auto",
         "type": "bar",
         "x": [
          1,
          2,
          3,
          4,
          5,
          6,
          7,
          8,
          9,
          10,
          11,
          12,
          13,
          14,
          15,
          16,
          17,
          18,
          19,
          20,
          21,
          22,
          23,
          24,
          25,
          26,
          27,
          28,
          29,
          30,
          31,
          32,
          33,
          34,
          35,
          36,
          37,
          38,
          39,
          40,
          41,
          42,
          43,
          44,
          45,
          46,
          47,
          48,
          49,
          50,
          51,
          52,
          53
         ],
         "xaxis": "x",
         "y": [
          0,
          0,
          0,
          0,
          0,
          0,
          0,
          1,
          0,
          0,
          1,
          0,
          0,
          0,
          0,
          0,
          0,
          0,
          1,
          0,
          0,
          0,
          0,
          0,
          0,
          1,
          0,
          0,
          0,
          0,
          0,
          0,
          0,
          0,
          0,
          0,
          0,
          0,
          0,
          0,
          0,
          0,
          0,
          1,
          0,
          1,
          0,
          0,
          0,
          1,
          1,
          0,
          0
         ],
         "yaxis": "y"
        },
        {
         "alignmentgroup": "True",
         "hovertemplate": "variable=>10% clouds<br>week=%{x}<br>value=%{y}<extra></extra>",
         "legendgroup": ">10% clouds",
         "marker": {
          "color": "maroon",
          "pattern": {
           "shape": ""
          }
         },
         "name": ">10% clouds",
         "offsetgroup": ">10% clouds",
         "orientation": "v",
         "showlegend": true,
         "textposition": "auto",
         "type": "bar",
         "x": [
          1,
          2,
          3,
          4,
          5,
          6,
          7,
          8,
          9,
          10,
          11,
          12,
          13,
          14,
          15,
          16,
          17,
          18,
          19,
          20,
          21,
          22,
          23,
          24,
          25,
          26,
          27,
          28,
          29,
          30,
          31,
          32,
          33,
          34,
          35,
          36,
          37,
          38,
          39,
          40,
          41,
          42,
          43,
          44,
          45,
          46,
          47,
          48,
          49,
          50,
          51,
          52,
          53
         ],
         "xaxis": "x",
         "y": [
          0,
          1,
          1,
          0,
          0,
          1,
          0,
          0,
          0,
          0,
          0,
          1,
          0,
          0,
          0,
          0,
          0,
          0,
          0,
          0,
          0,
          0,
          0,
          0,
          1,
          0,
          1,
          1,
          0,
          1,
          0,
          0,
          1,
          0,
          0,
          1,
          0,
          0,
          0,
          0,
          0,
          0,
          0,
          1,
          0,
          0,
          2,
          2,
          1,
          0,
          1,
          2,
          0
         ],
         "yaxis": "y"
        }
       ],
       "layout": {
        "barmode": "relative",
        "legend": {
         "title": {
          "text": "variable"
         },
         "tracegroupgap": 0
        },
        "margin": {
         "t": 60
        },
        "template": {
         "data": {
          "bar": [
           {
            "error_x": {
             "color": "#2a3f5f"
            },
            "error_y": {
             "color": "#2a3f5f"
            },
            "marker": {
             "line": {
              "color": "#E5ECF6",
              "width": 0.5
             },
             "pattern": {
              "fillmode": "overlay",
              "size": 10,
              "solidity": 0.2
             }
            },
            "type": "bar"
           }
          ],
          "barpolar": [
           {
            "marker": {
             "line": {
              "color": "#E5ECF6",
              "width": 0.5
             },
             "pattern": {
              "fillmode": "overlay",
              "size": 10,
              "solidity": 0.2
             }
            },
            "type": "barpolar"
           }
          ],
          "carpet": [
           {
            "aaxis": {
             "endlinecolor": "#2a3f5f",
             "gridcolor": "white",
             "linecolor": "white",
             "minorgridcolor": "white",
             "startlinecolor": "#2a3f5f"
            },
            "baxis": {
             "endlinecolor": "#2a3f5f",
             "gridcolor": "white",
             "linecolor": "white",
             "minorgridcolor": "white",
             "startlinecolor": "#2a3f5f"
            },
            "type": "carpet"
           }
          ],
          "choropleth": [
           {
            "colorbar": {
             "outlinewidth": 0,
             "ticks": ""
            },
            "type": "choropleth"
           }
          ],
          "contour": [
           {
            "colorbar": {
             "outlinewidth": 0,
             "ticks": ""
            },
            "colorscale": [
             [
              0,
              "#0d0887"
             ],
             [
              0.1111111111111111,
              "#46039f"
             ],
             [
              0.2222222222222222,
              "#7201a8"
             ],
             [
              0.3333333333333333,
              "#9c179e"
             ],
             [
              0.4444444444444444,
              "#bd3786"
             ],
             [
              0.5555555555555556,
              "#d8576b"
             ],
             [
              0.6666666666666666,
              "#ed7953"
             ],
             [
              0.7777777777777778,
              "#fb9f3a"
             ],
             [
              0.8888888888888888,
              "#fdca26"
             ],
             [
              1,
              "#f0f921"
             ]
            ],
            "type": "contour"
           }
          ],
          "contourcarpet": [
           {
            "colorbar": {
             "outlinewidth": 0,
             "ticks": ""
            },
            "type": "contourcarpet"
           }
          ],
          "heatmap": [
           {
            "colorbar": {
             "outlinewidth": 0,
             "ticks": ""
            },
            "colorscale": [
             [
              0,
              "#0d0887"
             ],
             [
              0.1111111111111111,
              "#46039f"
             ],
             [
              0.2222222222222222,
              "#7201a8"
             ],
             [
              0.3333333333333333,
              "#9c179e"
             ],
             [
              0.4444444444444444,
              "#bd3786"
             ],
             [
              0.5555555555555556,
              "#d8576b"
             ],
             [
              0.6666666666666666,
              "#ed7953"
             ],
             [
              0.7777777777777778,
              "#fb9f3a"
             ],
             [
              0.8888888888888888,
              "#fdca26"
             ],
             [
              1,
              "#f0f921"
             ]
            ],
            "type": "heatmap"
           }
          ],
          "heatmapgl": [
           {
            "colorbar": {
             "outlinewidth": 0,
             "ticks": ""
            },
            "colorscale": [
             [
              0,
              "#0d0887"
             ],
             [
              0.1111111111111111,
              "#46039f"
             ],
             [
              0.2222222222222222,
              "#7201a8"
             ],
             [
              0.3333333333333333,
              "#9c179e"
             ],
             [
              0.4444444444444444,
              "#bd3786"
             ],
             [
              0.5555555555555556,
              "#d8576b"
             ],
             [
              0.6666666666666666,
              "#ed7953"
             ],
             [
              0.7777777777777778,
              "#fb9f3a"
             ],
             [
              0.8888888888888888,
              "#fdca26"
             ],
             [
              1,
              "#f0f921"
             ]
            ],
            "type": "heatmapgl"
           }
          ],
          "histogram": [
           {
            "marker": {
             "pattern": {
              "fillmode": "overlay",
              "size": 10,
              "solidity": 0.2
             }
            },
            "type": "histogram"
           }
          ],
          "histogram2d": [
           {
            "colorbar": {
             "outlinewidth": 0,
             "ticks": ""
            },
            "colorscale": [
             [
              0,
              "#0d0887"
             ],
             [
              0.1111111111111111,
              "#46039f"
             ],
             [
              0.2222222222222222,
              "#7201a8"
             ],
             [
              0.3333333333333333,
              "#9c179e"
             ],
             [
              0.4444444444444444,
              "#bd3786"
             ],
             [
              0.5555555555555556,
              "#d8576b"
             ],
             [
              0.6666666666666666,
              "#ed7953"
             ],
             [
              0.7777777777777778,
              "#fb9f3a"
             ],
             [
              0.8888888888888888,
              "#fdca26"
             ],
             [
              1,
              "#f0f921"
             ]
            ],
            "type": "histogram2d"
           }
          ],
          "histogram2dcontour": [
           {
            "colorbar": {
             "outlinewidth": 0,
             "ticks": ""
            },
            "colorscale": [
             [
              0,
              "#0d0887"
             ],
             [
              0.1111111111111111,
              "#46039f"
             ],
             [
              0.2222222222222222,
              "#7201a8"
             ],
             [
              0.3333333333333333,
              "#9c179e"
             ],
             [
              0.4444444444444444,
              "#bd3786"
             ],
             [
              0.5555555555555556,
              "#d8576b"
             ],
             [
              0.6666666666666666,
              "#ed7953"
             ],
             [
              0.7777777777777778,
              "#fb9f3a"
             ],
             [
              0.8888888888888888,
              "#fdca26"
             ],
             [
              1,
              "#f0f921"
             ]
            ],
            "type": "histogram2dcontour"
           }
          ],
          "mesh3d": [
           {
            "colorbar": {
             "outlinewidth": 0,
             "ticks": ""
            },
            "type": "mesh3d"
           }
          ],
          "parcoords": [
           {
            "line": {
             "colorbar": {
              "outlinewidth": 0,
              "ticks": ""
             }
            },
            "type": "parcoords"
           }
          ],
          "pie": [
           {
            "automargin": true,
            "type": "pie"
           }
          ],
          "scatter": [
           {
            "fillpattern": {
             "fillmode": "overlay",
             "size": 10,
             "solidity": 0.2
            },
            "type": "scatter"
           }
          ],
          "scatter3d": [
           {
            "line": {
             "colorbar": {
              "outlinewidth": 0,
              "ticks": ""
             }
            },
            "marker": {
             "colorbar": {
              "outlinewidth": 0,
              "ticks": ""
             }
            },
            "type": "scatter3d"
           }
          ],
          "scattercarpet": [
           {
            "marker": {
             "colorbar": {
              "outlinewidth": 0,
              "ticks": ""
             }
            },
            "type": "scattercarpet"
           }
          ],
          "scattergeo": [
           {
            "marker": {
             "colorbar": {
              "outlinewidth": 0,
              "ticks": ""
             }
            },
            "type": "scattergeo"
           }
          ],
          "scattergl": [
           {
            "marker": {
             "colorbar": {
              "outlinewidth": 0,
              "ticks": ""
             }
            },
            "type": "scattergl"
           }
          ],
          "scattermapbox": [
           {
            "marker": {
             "colorbar": {
              "outlinewidth": 0,
              "ticks": ""
             }
            },
            "type": "scattermapbox"
           }
          ],
          "scatterpolar": [
           {
            "marker": {
             "colorbar": {
              "outlinewidth": 0,
              "ticks": ""
             }
            },
            "type": "scatterpolar"
           }
          ],
          "scatterpolargl": [
           {
            "marker": {
             "colorbar": {
              "outlinewidth": 0,
              "ticks": ""
             }
            },
            "type": "scatterpolargl"
           }
          ],
          "scatterternary": [
           {
            "marker": {
             "colorbar": {
              "outlinewidth": 0,
              "ticks": ""
             }
            },
            "type": "scatterternary"
           }
          ],
          "surface": [
           {
            "colorbar": {
             "outlinewidth": 0,
             "ticks": ""
            },
            "colorscale": [
             [
              0,
              "#0d0887"
             ],
             [
              0.1111111111111111,
              "#46039f"
             ],
             [
              0.2222222222222222,
              "#7201a8"
             ],
             [
              0.3333333333333333,
              "#9c179e"
             ],
             [
              0.4444444444444444,
              "#bd3786"
             ],
             [
              0.5555555555555556,
              "#d8576b"
             ],
             [
              0.6666666666666666,
              "#ed7953"
             ],
             [
              0.7777777777777778,
              "#fb9f3a"
             ],
             [
              0.8888888888888888,
              "#fdca26"
             ],
             [
              1,
              "#f0f921"
             ]
            ],
            "type": "surface"
           }
          ],
          "table": [
           {
            "cells": {
             "fill": {
              "color": "#EBF0F8"
             },
             "line": {
              "color": "white"
             }
            },
            "header": {
             "fill": {
              "color": "#C8D4E3"
             },
             "line": {
              "color": "white"
             }
            },
            "type": "table"
           }
          ]
         },
         "layout": {
          "annotationdefaults": {
           "arrowcolor": "#2a3f5f",
           "arrowhead": 0,
           "arrowwidth": 1
          },
          "autotypenumbers": "strict",
          "coloraxis": {
           "colorbar": {
            "outlinewidth": 0,
            "ticks": ""
           }
          },
          "colorscale": {
           "diverging": [
            [
             0,
             "#8e0152"
            ],
            [
             0.1,
             "#c51b7d"
            ],
            [
             0.2,
             "#de77ae"
            ],
            [
             0.3,
             "#f1b6da"
            ],
            [
             0.4,
             "#fde0ef"
            ],
            [
             0.5,
             "#f7f7f7"
            ],
            [
             0.6,
             "#e6f5d0"
            ],
            [
             0.7,
             "#b8e186"
            ],
            [
             0.8,
             "#7fbc41"
            ],
            [
             0.9,
             "#4d9221"
            ],
            [
             1,
             "#276419"
            ]
           ],
           "sequential": [
            [
             0,
             "#0d0887"
            ],
            [
             0.1111111111111111,
             "#46039f"
            ],
            [
             0.2222222222222222,
             "#7201a8"
            ],
            [
             0.3333333333333333,
             "#9c179e"
            ],
            [
             0.4444444444444444,
             "#bd3786"
            ],
            [
             0.5555555555555556,
             "#d8576b"
            ],
            [
             0.6666666666666666,
             "#ed7953"
            ],
            [
             0.7777777777777778,
             "#fb9f3a"
            ],
            [
             0.8888888888888888,
             "#fdca26"
            ],
            [
             1,
             "#f0f921"
            ]
           ],
           "sequentialminus": [
            [
             0,
             "#0d0887"
            ],
            [
             0.1111111111111111,
             "#46039f"
            ],
            [
             0.2222222222222222,
             "#7201a8"
            ],
            [
             0.3333333333333333,
             "#9c179e"
            ],
            [
             0.4444444444444444,
             "#bd3786"
            ],
            [
             0.5555555555555556,
             "#d8576b"
            ],
            [
             0.6666666666666666,
             "#ed7953"
            ],
            [
             0.7777777777777778,
             "#fb9f3a"
            ],
            [
             0.8888888888888888,
             "#fdca26"
            ],
            [
             1,
             "#f0f921"
            ]
           ]
          },
          "colorway": [
           "#636efa",
           "#EF553B",
           "#00cc96",
           "#ab63fa",
           "#FFA15A",
           "#19d3f3",
           "#FF6692",
           "#B6E880",
           "#FF97FF",
           "#FECB52"
          ],
          "font": {
           "color": "#2a3f5f"
          },
          "geo": {
           "bgcolor": "white",
           "lakecolor": "white",
           "landcolor": "#E5ECF6",
           "showlakes": true,
           "showland": true,
           "subunitcolor": "white"
          },
          "hoverlabel": {
           "align": "left"
          },
          "hovermode": "closest",
          "mapbox": {
           "style": "light"
          },
          "paper_bgcolor": "white",
          "plot_bgcolor": "#E5ECF6",
          "polar": {
           "angularaxis": {
            "gridcolor": "white",
            "linecolor": "white",
            "ticks": ""
           },
           "bgcolor": "#E5ECF6",
           "radialaxis": {
            "gridcolor": "white",
            "linecolor": "white",
            "ticks": ""
           }
          },
          "scene": {
           "xaxis": {
            "backgroundcolor": "#E5ECF6",
            "gridcolor": "white",
            "gridwidth": 2,
            "linecolor": "white",
            "showbackground": true,
            "ticks": "",
            "zerolinecolor": "white"
           },
           "yaxis": {
            "backgroundcolor": "#E5ECF6",
            "gridcolor": "white",
            "gridwidth": 2,
            "linecolor": "white",
            "showbackground": true,
            "ticks": "",
            "zerolinecolor": "white"
           },
           "zaxis": {
            "backgroundcolor": "#E5ECF6",
            "gridcolor": "white",
            "gridwidth": 2,
            "linecolor": "white",
            "showbackground": true,
            "ticks": "",
            "zerolinecolor": "white"
           }
          },
          "shapedefaults": {
           "line": {
            "color": "#2a3f5f"
           }
          },
          "ternary": {
           "aaxis": {
            "gridcolor": "white",
            "linecolor": "white",
            "ticks": ""
           },
           "baxis": {
            "gridcolor": "white",
            "linecolor": "white",
            "ticks": ""
           },
           "bgcolor": "#E5ECF6",
           "caxis": {
            "gridcolor": "white",
            "linecolor": "white",
            "ticks": ""
           }
          },
          "title": {
           "x": 0.05
          },
          "xaxis": {
           "automargin": true,
           "gridcolor": "white",
           "linecolor": "white",
           "ticks": "",
           "title": {
            "standoff": 15
           },
           "zerolinecolor": "white",
           "zerolinewidth": 2
          },
          "yaxis": {
           "automargin": true,
           "gridcolor": "white",
           "linecolor": "white",
           "ticks": "",
           "title": {
            "standoff": 15
           },
           "zerolinecolor": "white",
           "zerolinewidth": 2
          }
         }
        },
        "title": {
         "text": "PlanetScope Cloud Cover By Week - 2022-01-05 to 2022-12-29 - BeitBridge",
         "x": 0.5
        },
        "xaxis": {
         "anchor": "y",
         "domain": [
          0,
          1
         ],
         "title": {
          "text": "Week of Year"
         }
        },
        "yaxis": {
         "anchor": "x",
         "domain": [
          0,
          1
         ],
         "title": {
          "text": "Image Count"
         }
        }
       }
      }
     },
     "metadata": {},
     "output_type": "display_data"
    }
   ],
   "source": [
    "# Graph 2: Weekly bar graphs showing the number of images per month broken down by cloud cover percentage\n",
    "def create_week_cc_graph(df, target_year, output_graph=False):\n",
    "    \"\"\"\n",
    "    Creates interactive bar plots showing the number of images in a given year, broken down by the week of year\n",
    "    and by cloud cover percentage.\n",
    "\n",
    "    Params:\n",
    "    ---------------------\n",
    "    df: pandas dataframe\n",
    "        query dataframe containing image information\n",
    "    target_year: int\n",
    "        year to produce graph for (will cause an error if no images present for specified year)\n",
    "    output_graph: bool\n",
    "        if set to True, graph will be saved to file as an html and png file\n",
    "    \"\"\"\n",
    "    target_df = df.loc[df[\"year\"] == target_year]\n",
    "    min_date = target_df.iloc[0]['datestr']\n",
    "    max_date = target_df.iloc[-1]['datestr']\n",
    "    week_df = pd.DataFrame()\n",
    "    week_df[\"0% clouds\"] = target_df.loc[target_df['cloud_cover'] == 0]['week'].value_counts()\n",
    "    week_df[\"<=2% clouds\"] = target_df.loc[(target_df['cloud_cover'] > 0) & (target_df['cloud_cover'] <= 2)]['week'].value_counts()\n",
    "    week_df[\"<=5% clouds\"] = target_df.loc[(target_df['cloud_cover'] > 2) & (target_df['cloud_cover'] <= 5)]['week'].value_counts()\n",
    "    week_df[\"<=10% clouds\"] = target_df.loc[(target_df['cloud_cover'] > 5) & (target_df['cloud_cover'] <= 10)]['week'].value_counts()\n",
    "    week_df[\">10% clouds\"] = target_df.loc[target_df['cloud_cover'] > 10]['week'].value_counts()\n",
    "\n",
    "    week_df.reset_index(inplace=True)\n",
    "    week_df.rename(columns={'index': 'week'}, inplace=True)\n",
    "    week_df.sort_values('week', inplace=True)\n",
    "    week_df.reset_index(inplace=True, drop=True)\n",
    "\n",
    "    week_fig = px.bar(week_df, x='week', y=['0% clouds', '<=2% clouds', '<=5% clouds', '<=10% clouds', '>10% clouds'], color_discrete_map={'0% clouds': 'green','<=2% clouds': 'yellow', \"<=5% clouds\": \"orange\", \"<=10% clouds\": \"red\", \">10% clouds\": \"maroon\"})\n",
    "    week_fig.update_layout(title_text=f\"PlanetScope Cloud Cover By Week - {min_date} to {max_date} - {aoi_name}\", title_x=0.5, yaxis_title=\"Image Count\", xaxis_title=\"Week of Year\")\n",
    "\n",
    "    filenamestr = f\"PlanetScope_Weekly_Image_Count_{min_date}_to_{max_date}_{aoi_name}\"\n",
    "    if output_graph:\n",
    "        out_png = outpath_figs.joinpath(f\"{filenamestr}.png\")\n",
    "        out_html = outpath_figs.joinpath(f\"{filenamestr}.html\")\n",
    "        week_fig.write_image(out_png)\n",
    "        week_fig.write_html(out_html)\n",
    "\n",
    "    week_fig.show()\n",
    "\n",
    "create_week_cc_graph(filtered_search, target_year=2022, output_graph=output_graphs)"
   ]
  },
  {
   "cell_type": "code",
   "execution_count": 23,
   "metadata": {},
   "outputs": [
    {
     "data": {
      "application/vnd.plotly.v1+json": {
       "config": {
        "plotlyServerURL": "https://plot.ly"
       },
       "data": [
        {
         "alignmentgroup": "True",
         "customdata": [
          [
           79,
           13,
           4,
           6,
           9,
           563.3,
           92.7,
           28.52,
           42.78,
           64.17
          ],
          [
           104,
           2,
           5,
           3,
           11,
           741.56,
           14.26,
           35.65,
           21.39,
           78.43
          ],
          [
           82,
           10,
           6,
           4,
           11,
           584.69,
           71.3,
           42.78,
           28.52,
           78.43
          ],
          [
           121,
           9,
           14,
           7,
           14,
           862.78,
           64.17,
           99.83,
           49.91,
           99.83
          ],
          [
           106,
           11,
           4,
           8,
           19,
           755.82,
           78.43,
           28.52,
           57.04,
           135.48
          ],
          [
           10,
           5,
           0,
           4,
           2,
           71.3,
           35.65,
           0,
           28.52,
           14.26
          ]
         ],
         "hovertemplate": "Image Count 0% Clouds: %{customdata[0]} Estimated Cost: %{customdata[5]}<br>\n                Image Count <=2% Clouds: %{customdata[1]} Estimated Cost: %{customdata[6]}<br>\n                Image Count <=5% Clouds: %{customdata[2]} Estimated Cost: %{customdata[7]}<br>\n                Image Count <=10% Clouds: %{customdata[3]} Estimated Cost: %{customdata[8]}<br>\n                Image Count >10% Clouds: %{customdata[4]} Estimated Cost: %{customdata[9]}",
         "legendgroup": "0% clouds",
         "marker": {
          "color": "green",
          "pattern": {
           "shape": ""
          }
         },
         "name": "0% clouds",
         "offsetgroup": "0% clouds",
         "orientation": "v",
         "showlegend": true,
         "textposition": "auto",
         "type": "bar",
         "x": [
          2018,
          2019,
          2020,
          2021,
          2022,
          2023
         ],
         "xaxis": "x",
         "y": [
          79,
          104,
          82,
          121,
          106,
          10
         ],
         "yaxis": "y"
        },
        {
         "alignmentgroup": "True",
         "customdata": [
          [
           79,
           13,
           4,
           6,
           9,
           563.3,
           92.7,
           28.52,
           42.78,
           64.17
          ],
          [
           104,
           2,
           5,
           3,
           11,
           741.56,
           14.26,
           35.65,
           21.39,
           78.43
          ],
          [
           82,
           10,
           6,
           4,
           11,
           584.69,
           71.3,
           42.78,
           28.52,
           78.43
          ],
          [
           121,
           9,
           14,
           7,
           14,
           862.78,
           64.17,
           99.83,
           49.91,
           99.83
          ],
          [
           106,
           11,
           4,
           8,
           19,
           755.82,
           78.43,
           28.52,
           57.04,
           135.48
          ],
          [
           10,
           5,
           0,
           4,
           2,
           71.3,
           35.65,
           0,
           28.52,
           14.26
          ]
         ],
         "hovertemplate": "Image Count 0% Clouds: %{customdata[0]} Estimated Cost: %{customdata[5]}<br>\n                Image Count <=2% Clouds: %{customdata[1]} Estimated Cost: %{customdata[6]}<br>\n                Image Count <=5% Clouds: %{customdata[2]} Estimated Cost: %{customdata[7]}<br>\n                Image Count <=10% Clouds: %{customdata[3]} Estimated Cost: %{customdata[8]}<br>\n                Image Count >10% Clouds: %{customdata[4]} Estimated Cost: %{customdata[9]}",
         "legendgroup": "<=2% clouds",
         "marker": {
          "color": "yellow",
          "pattern": {
           "shape": ""
          }
         },
         "name": "<=2% clouds",
         "offsetgroup": "<=2% clouds",
         "orientation": "v",
         "showlegend": true,
         "textposition": "auto",
         "type": "bar",
         "x": [
          2018,
          2019,
          2020,
          2021,
          2022,
          2023
         ],
         "xaxis": "x",
         "y": [
          13,
          2,
          10,
          9,
          11,
          5
         ],
         "yaxis": "y"
        },
        {
         "alignmentgroup": "True",
         "customdata": [
          [
           79,
           13,
           4,
           6,
           9,
           563.3,
           92.7,
           28.52,
           42.78,
           64.17
          ],
          [
           104,
           2,
           5,
           3,
           11,
           741.56,
           14.26,
           35.65,
           21.39,
           78.43
          ],
          [
           82,
           10,
           6,
           4,
           11,
           584.69,
           71.3,
           42.78,
           28.52,
           78.43
          ],
          [
           121,
           9,
           14,
           7,
           14,
           862.78,
           64.17,
           99.83,
           49.91,
           99.83
          ],
          [
           106,
           11,
           4,
           8,
           19,
           755.82,
           78.43,
           28.52,
           57.04,
           135.48
          ],
          [
           10,
           5,
           0,
           4,
           2,
           71.3,
           35.65,
           0,
           28.52,
           14.26
          ]
         ],
         "hovertemplate": "Image Count 0% Clouds: %{customdata[0]} Estimated Cost: %{customdata[5]}<br>\n                Image Count <=2% Clouds: %{customdata[1]} Estimated Cost: %{customdata[6]}<br>\n                Image Count <=5% Clouds: %{customdata[2]} Estimated Cost: %{customdata[7]}<br>\n                Image Count <=10% Clouds: %{customdata[3]} Estimated Cost: %{customdata[8]}<br>\n                Image Count >10% Clouds: %{customdata[4]} Estimated Cost: %{customdata[9]}",
         "legendgroup": "<=5% clouds",
         "marker": {
          "color": "orange",
          "pattern": {
           "shape": ""
          }
         },
         "name": "<=5% clouds",
         "offsetgroup": "<=5% clouds",
         "orientation": "v",
         "showlegend": true,
         "textposition": "auto",
         "type": "bar",
         "x": [
          2018,
          2019,
          2020,
          2021,
          2022,
          2023
         ],
         "xaxis": "x",
         "y": [
          4,
          5,
          6,
          14,
          4,
          0
         ],
         "yaxis": "y"
        },
        {
         "alignmentgroup": "True",
         "customdata": [
          [
           79,
           13,
           4,
           6,
           9,
           563.3,
           92.7,
           28.52,
           42.78,
           64.17
          ],
          [
           104,
           2,
           5,
           3,
           11,
           741.56,
           14.26,
           35.65,
           21.39,
           78.43
          ],
          [
           82,
           10,
           6,
           4,
           11,
           584.69,
           71.3,
           42.78,
           28.52,
           78.43
          ],
          [
           121,
           9,
           14,
           7,
           14,
           862.78,
           64.17,
           99.83,
           49.91,
           99.83
          ],
          [
           106,
           11,
           4,
           8,
           19,
           755.82,
           78.43,
           28.52,
           57.04,
           135.48
          ],
          [
           10,
           5,
           0,
           4,
           2,
           71.3,
           35.65,
           0,
           28.52,
           14.26
          ]
         ],
         "hovertemplate": "Image Count 0% Clouds: %{customdata[0]} Estimated Cost: %{customdata[5]}<br>\n                Image Count <=2% Clouds: %{customdata[1]} Estimated Cost: %{customdata[6]}<br>\n                Image Count <=5% Clouds: %{customdata[2]} Estimated Cost: %{customdata[7]}<br>\n                Image Count <=10% Clouds: %{customdata[3]} Estimated Cost: %{customdata[8]}<br>\n                Image Count >10% Clouds: %{customdata[4]} Estimated Cost: %{customdata[9]}",
         "legendgroup": "<=10% clouds",
         "marker": {
          "color": "red",
          "pattern": {
           "shape": ""
          }
         },
         "name": "<=10% clouds",
         "offsetgroup": "<=10% clouds",
         "orientation": "v",
         "showlegend": true,
         "textposition": "auto",
         "type": "bar",
         "x": [
          2018,
          2019,
          2020,
          2021,
          2022,
          2023
         ],
         "xaxis": "x",
         "y": [
          6,
          3,
          4,
          7,
          8,
          4
         ],
         "yaxis": "y"
        },
        {
         "alignmentgroup": "True",
         "customdata": [
          [
           79,
           13,
           4,
           6,
           9,
           563.3,
           92.7,
           28.52,
           42.78,
           64.17
          ],
          [
           104,
           2,
           5,
           3,
           11,
           741.56,
           14.26,
           35.65,
           21.39,
           78.43
          ],
          [
           82,
           10,
           6,
           4,
           11,
           584.69,
           71.3,
           42.78,
           28.52,
           78.43
          ],
          [
           121,
           9,
           14,
           7,
           14,
           862.78,
           64.17,
           99.83,
           49.91,
           99.83
          ],
          [
           106,
           11,
           4,
           8,
           19,
           755.82,
           78.43,
           28.52,
           57.04,
           135.48
          ],
          [
           10,
           5,
           0,
           4,
           2,
           71.3,
           35.65,
           0,
           28.52,
           14.26
          ]
         ],
         "hovertemplate": "Image Count 0% Clouds: %{customdata[0]} Estimated Cost: %{customdata[5]}<br>\n                Image Count <=2% Clouds: %{customdata[1]} Estimated Cost: %{customdata[6]}<br>\n                Image Count <=5% Clouds: %{customdata[2]} Estimated Cost: %{customdata[7]}<br>\n                Image Count <=10% Clouds: %{customdata[3]} Estimated Cost: %{customdata[8]}<br>\n                Image Count >10% Clouds: %{customdata[4]} Estimated Cost: %{customdata[9]}",
         "legendgroup": ">10% clouds",
         "marker": {
          "color": "maroon",
          "pattern": {
           "shape": ""
          }
         },
         "name": ">10% clouds",
         "offsetgroup": ">10% clouds",
         "orientation": "v",
         "showlegend": true,
         "textposition": "auto",
         "type": "bar",
         "x": [
          2018,
          2019,
          2020,
          2021,
          2022,
          2023
         ],
         "xaxis": "x",
         "y": [
          9,
          11,
          11,
          14,
          19,
          2
         ],
         "yaxis": "y"
        }
       ],
       "layout": {
        "barmode": "relative",
        "legend": {
         "title": {
          "text": "variable"
         },
         "tracegroupgap": 0
        },
        "margin": {
         "t": 60
        },
        "template": {
         "data": {
          "bar": [
           {
            "error_x": {
             "color": "#2a3f5f"
            },
            "error_y": {
             "color": "#2a3f5f"
            },
            "marker": {
             "line": {
              "color": "#E5ECF6",
              "width": 0.5
             },
             "pattern": {
              "fillmode": "overlay",
              "size": 10,
              "solidity": 0.2
             }
            },
            "type": "bar"
           }
          ],
          "barpolar": [
           {
            "marker": {
             "line": {
              "color": "#E5ECF6",
              "width": 0.5
             },
             "pattern": {
              "fillmode": "overlay",
              "size": 10,
              "solidity": 0.2
             }
            },
            "type": "barpolar"
           }
          ],
          "carpet": [
           {
            "aaxis": {
             "endlinecolor": "#2a3f5f",
             "gridcolor": "white",
             "linecolor": "white",
             "minorgridcolor": "white",
             "startlinecolor": "#2a3f5f"
            },
            "baxis": {
             "endlinecolor": "#2a3f5f",
             "gridcolor": "white",
             "linecolor": "white",
             "minorgridcolor": "white",
             "startlinecolor": "#2a3f5f"
            },
            "type": "carpet"
           }
          ],
          "choropleth": [
           {
            "colorbar": {
             "outlinewidth": 0,
             "ticks": ""
            },
            "type": "choropleth"
           }
          ],
          "contour": [
           {
            "colorbar": {
             "outlinewidth": 0,
             "ticks": ""
            },
            "colorscale": [
             [
              0,
              "#0d0887"
             ],
             [
              0.1111111111111111,
              "#46039f"
             ],
             [
              0.2222222222222222,
              "#7201a8"
             ],
             [
              0.3333333333333333,
              "#9c179e"
             ],
             [
              0.4444444444444444,
              "#bd3786"
             ],
             [
              0.5555555555555556,
              "#d8576b"
             ],
             [
              0.6666666666666666,
              "#ed7953"
             ],
             [
              0.7777777777777778,
              "#fb9f3a"
             ],
             [
              0.8888888888888888,
              "#fdca26"
             ],
             [
              1,
              "#f0f921"
             ]
            ],
            "type": "contour"
           }
          ],
          "contourcarpet": [
           {
            "colorbar": {
             "outlinewidth": 0,
             "ticks": ""
            },
            "type": "contourcarpet"
           }
          ],
          "heatmap": [
           {
            "colorbar": {
             "outlinewidth": 0,
             "ticks": ""
            },
            "colorscale": [
             [
              0,
              "#0d0887"
             ],
             [
              0.1111111111111111,
              "#46039f"
             ],
             [
              0.2222222222222222,
              "#7201a8"
             ],
             [
              0.3333333333333333,
              "#9c179e"
             ],
             [
              0.4444444444444444,
              "#bd3786"
             ],
             [
              0.5555555555555556,
              "#d8576b"
             ],
             [
              0.6666666666666666,
              "#ed7953"
             ],
             [
              0.7777777777777778,
              "#fb9f3a"
             ],
             [
              0.8888888888888888,
              "#fdca26"
             ],
             [
              1,
              "#f0f921"
             ]
            ],
            "type": "heatmap"
           }
          ],
          "heatmapgl": [
           {
            "colorbar": {
             "outlinewidth": 0,
             "ticks": ""
            },
            "colorscale": [
             [
              0,
              "#0d0887"
             ],
             [
              0.1111111111111111,
              "#46039f"
             ],
             [
              0.2222222222222222,
              "#7201a8"
             ],
             [
              0.3333333333333333,
              "#9c179e"
             ],
             [
              0.4444444444444444,
              "#bd3786"
             ],
             [
              0.5555555555555556,
              "#d8576b"
             ],
             [
              0.6666666666666666,
              "#ed7953"
             ],
             [
              0.7777777777777778,
              "#fb9f3a"
             ],
             [
              0.8888888888888888,
              "#fdca26"
             ],
             [
              1,
              "#f0f921"
             ]
            ],
            "type": "heatmapgl"
           }
          ],
          "histogram": [
           {
            "marker": {
             "pattern": {
              "fillmode": "overlay",
              "size": 10,
              "solidity": 0.2
             }
            },
            "type": "histogram"
           }
          ],
          "histogram2d": [
           {
            "colorbar": {
             "outlinewidth": 0,
             "ticks": ""
            },
            "colorscale": [
             [
              0,
              "#0d0887"
             ],
             [
              0.1111111111111111,
              "#46039f"
             ],
             [
              0.2222222222222222,
              "#7201a8"
             ],
             [
              0.3333333333333333,
              "#9c179e"
             ],
             [
              0.4444444444444444,
              "#bd3786"
             ],
             [
              0.5555555555555556,
              "#d8576b"
             ],
             [
              0.6666666666666666,
              "#ed7953"
             ],
             [
              0.7777777777777778,
              "#fb9f3a"
             ],
             [
              0.8888888888888888,
              "#fdca26"
             ],
             [
              1,
              "#f0f921"
             ]
            ],
            "type": "histogram2d"
           }
          ],
          "histogram2dcontour": [
           {
            "colorbar": {
             "outlinewidth": 0,
             "ticks": ""
            },
            "colorscale": [
             [
              0,
              "#0d0887"
             ],
             [
              0.1111111111111111,
              "#46039f"
             ],
             [
              0.2222222222222222,
              "#7201a8"
             ],
             [
              0.3333333333333333,
              "#9c179e"
             ],
             [
              0.4444444444444444,
              "#bd3786"
             ],
             [
              0.5555555555555556,
              "#d8576b"
             ],
             [
              0.6666666666666666,
              "#ed7953"
             ],
             [
              0.7777777777777778,
              "#fb9f3a"
             ],
             [
              0.8888888888888888,
              "#fdca26"
             ],
             [
              1,
              "#f0f921"
             ]
            ],
            "type": "histogram2dcontour"
           }
          ],
          "mesh3d": [
           {
            "colorbar": {
             "outlinewidth": 0,
             "ticks": ""
            },
            "type": "mesh3d"
           }
          ],
          "parcoords": [
           {
            "line": {
             "colorbar": {
              "outlinewidth": 0,
              "ticks": ""
             }
            },
            "type": "parcoords"
           }
          ],
          "pie": [
           {
            "automargin": true,
            "type": "pie"
           }
          ],
          "scatter": [
           {
            "fillpattern": {
             "fillmode": "overlay",
             "size": 10,
             "solidity": 0.2
            },
            "type": "scatter"
           }
          ],
          "scatter3d": [
           {
            "line": {
             "colorbar": {
              "outlinewidth": 0,
              "ticks": ""
             }
            },
            "marker": {
             "colorbar": {
              "outlinewidth": 0,
              "ticks": ""
             }
            },
            "type": "scatter3d"
           }
          ],
          "scattercarpet": [
           {
            "marker": {
             "colorbar": {
              "outlinewidth": 0,
              "ticks": ""
             }
            },
            "type": "scattercarpet"
           }
          ],
          "scattergeo": [
           {
            "marker": {
             "colorbar": {
              "outlinewidth": 0,
              "ticks": ""
             }
            },
            "type": "scattergeo"
           }
          ],
          "scattergl": [
           {
            "marker": {
             "colorbar": {
              "outlinewidth": 0,
              "ticks": ""
             }
            },
            "type": "scattergl"
           }
          ],
          "scattermapbox": [
           {
            "marker": {
             "colorbar": {
              "outlinewidth": 0,
              "ticks": ""
             }
            },
            "type": "scattermapbox"
           }
          ],
          "scatterpolar": [
           {
            "marker": {
             "colorbar": {
              "outlinewidth": 0,
              "ticks": ""
             }
            },
            "type": "scatterpolar"
           }
          ],
          "scatterpolargl": [
           {
            "marker": {
             "colorbar": {
              "outlinewidth": 0,
              "ticks": ""
             }
            },
            "type": "scatterpolargl"
           }
          ],
          "scatterternary": [
           {
            "marker": {
             "colorbar": {
              "outlinewidth": 0,
              "ticks": ""
             }
            },
            "type": "scatterternary"
           }
          ],
          "surface": [
           {
            "colorbar": {
             "outlinewidth": 0,
             "ticks": ""
            },
            "colorscale": [
             [
              0,
              "#0d0887"
             ],
             [
              0.1111111111111111,
              "#46039f"
             ],
             [
              0.2222222222222222,
              "#7201a8"
             ],
             [
              0.3333333333333333,
              "#9c179e"
             ],
             [
              0.4444444444444444,
              "#bd3786"
             ],
             [
              0.5555555555555556,
              "#d8576b"
             ],
             [
              0.6666666666666666,
              "#ed7953"
             ],
             [
              0.7777777777777778,
              "#fb9f3a"
             ],
             [
              0.8888888888888888,
              "#fdca26"
             ],
             [
              1,
              "#f0f921"
             ]
            ],
            "type": "surface"
           }
          ],
          "table": [
           {
            "cells": {
             "fill": {
              "color": "#EBF0F8"
             },
             "line": {
              "color": "white"
             }
            },
            "header": {
             "fill": {
              "color": "#C8D4E3"
             },
             "line": {
              "color": "white"
             }
            },
            "type": "table"
           }
          ]
         },
         "layout": {
          "annotationdefaults": {
           "arrowcolor": "#2a3f5f",
           "arrowhead": 0,
           "arrowwidth": 1
          },
          "autotypenumbers": "strict",
          "coloraxis": {
           "colorbar": {
            "outlinewidth": 0,
            "ticks": ""
           }
          },
          "colorscale": {
           "diverging": [
            [
             0,
             "#8e0152"
            ],
            [
             0.1,
             "#c51b7d"
            ],
            [
             0.2,
             "#de77ae"
            ],
            [
             0.3,
             "#f1b6da"
            ],
            [
             0.4,
             "#fde0ef"
            ],
            [
             0.5,
             "#f7f7f7"
            ],
            [
             0.6,
             "#e6f5d0"
            ],
            [
             0.7,
             "#b8e186"
            ],
            [
             0.8,
             "#7fbc41"
            ],
            [
             0.9,
             "#4d9221"
            ],
            [
             1,
             "#276419"
            ]
           ],
           "sequential": [
            [
             0,
             "#0d0887"
            ],
            [
             0.1111111111111111,
             "#46039f"
            ],
            [
             0.2222222222222222,
             "#7201a8"
            ],
            [
             0.3333333333333333,
             "#9c179e"
            ],
            [
             0.4444444444444444,
             "#bd3786"
            ],
            [
             0.5555555555555556,
             "#d8576b"
            ],
            [
             0.6666666666666666,
             "#ed7953"
            ],
            [
             0.7777777777777778,
             "#fb9f3a"
            ],
            [
             0.8888888888888888,
             "#fdca26"
            ],
            [
             1,
             "#f0f921"
            ]
           ],
           "sequentialminus": [
            [
             0,
             "#0d0887"
            ],
            [
             0.1111111111111111,
             "#46039f"
            ],
            [
             0.2222222222222222,
             "#7201a8"
            ],
            [
             0.3333333333333333,
             "#9c179e"
            ],
            [
             0.4444444444444444,
             "#bd3786"
            ],
            [
             0.5555555555555556,
             "#d8576b"
            ],
            [
             0.6666666666666666,
             "#ed7953"
            ],
            [
             0.7777777777777778,
             "#fb9f3a"
            ],
            [
             0.8888888888888888,
             "#fdca26"
            ],
            [
             1,
             "#f0f921"
            ]
           ]
          },
          "colorway": [
           "#636efa",
           "#EF553B",
           "#00cc96",
           "#ab63fa",
           "#FFA15A",
           "#19d3f3",
           "#FF6692",
           "#B6E880",
           "#FF97FF",
           "#FECB52"
          ],
          "font": {
           "color": "#2a3f5f"
          },
          "geo": {
           "bgcolor": "white",
           "lakecolor": "white",
           "landcolor": "#E5ECF6",
           "showlakes": true,
           "showland": true,
           "subunitcolor": "white"
          },
          "hoverlabel": {
           "align": "left"
          },
          "hovermode": "closest",
          "mapbox": {
           "style": "light"
          },
          "paper_bgcolor": "white",
          "plot_bgcolor": "#E5ECF6",
          "polar": {
           "angularaxis": {
            "gridcolor": "white",
            "linecolor": "white",
            "ticks": ""
           },
           "bgcolor": "#E5ECF6",
           "radialaxis": {
            "gridcolor": "white",
            "linecolor": "white",
            "ticks": ""
           }
          },
          "scene": {
           "xaxis": {
            "backgroundcolor": "#E5ECF6",
            "gridcolor": "white",
            "gridwidth": 2,
            "linecolor": "white",
            "showbackground": true,
            "ticks": "",
            "zerolinecolor": "white"
           },
           "yaxis": {
            "backgroundcolor": "#E5ECF6",
            "gridcolor": "white",
            "gridwidth": 2,
            "linecolor": "white",
            "showbackground": true,
            "ticks": "",
            "zerolinecolor": "white"
           },
           "zaxis": {
            "backgroundcolor": "#E5ECF6",
            "gridcolor": "white",
            "gridwidth": 2,
            "linecolor": "white",
            "showbackground": true,
            "ticks": "",
            "zerolinecolor": "white"
           }
          },
          "shapedefaults": {
           "line": {
            "color": "#2a3f5f"
           }
          },
          "ternary": {
           "aaxis": {
            "gridcolor": "white",
            "linecolor": "white",
            "ticks": ""
           },
           "baxis": {
            "gridcolor": "white",
            "linecolor": "white",
            "ticks": ""
           },
           "bgcolor": "#E5ECF6",
           "caxis": {
            "gridcolor": "white",
            "linecolor": "white",
            "ticks": ""
           }
          },
          "title": {
           "x": 0.05
          },
          "xaxis": {
           "automargin": true,
           "gridcolor": "white",
           "linecolor": "white",
           "ticks": "",
           "title": {
            "standoff": 15
           },
           "zerolinecolor": "white",
           "zerolinewidth": 2
          },
          "yaxis": {
           "automargin": true,
           "gridcolor": "white",
           "linecolor": "white",
           "ticks": "",
           "title": {
            "standoff": 15
           },
           "zerolinecolor": "white",
           "zerolinewidth": 2
          }
         }
        },
        "title": {
         "text": "PlanetScope Annual Image Counts and Cost - 2018 to 2023 - BeitBridge",
         "x": 0.5
        },
        "xaxis": {
         "anchor": "y",
         "domain": [
          0,
          1
         ],
         "title": {
          "text": "Year"
         }
        },
        "yaxis": {
         "anchor": "x",
         "domain": [
          0,
          1
         ],
         "title": {
          "text": "Image Count"
         }
        }
       }
      }
     },
     "metadata": {},
     "output_type": "display_data"
    }
   ],
   "source": [
    "# Graph 3: Annual bar chart showing image counts per year broken down by cloud cover percentage.\n",
    "# Use this to display the number of images across multiple years in the query, if applicable.\n",
    "def create_year_cc_graph(df, output_graph=False):\n",
    "    \"\"\"\n",
    "    Creates interactive bar plots showing the number of images in a given year across multiple years,\n",
    "    broken down by cloud cover percentage.\n",
    "\n",
    "    Params:\n",
    "    ---------------------\n",
    "    df: pandas dataframe\n",
    "        query dataframe containing image information\n",
    "    output_graph: bool\n",
    "        if set to True, graph will be saved to file as an html and png file\n",
    "    \"\"\"\n",
    "    target_df = df\n",
    "    min_year = target_df.iloc[0]['year']\n",
    "    max_year = target_df.iloc[-1]['year']\n",
    "    avg_price = target_df[\"cost\"].mean()\n",
    "    year_df = pd.DataFrame()\n",
    "    year_df[\"0% clouds\"] = target_df.loc[target_df['cloud_cover'] == 0]['year'].value_counts()\n",
    "    year_df[\"<=2% clouds\"] = target_df.loc[(target_df['cloud_cover'] > 0) & (target_df['cloud_cover'] <= 2)]['year'].value_counts()\n",
    "    year_df[\"<=5% clouds\"] = target_df.loc[(target_df['cloud_cover'] > 2) & (target_df['cloud_cover'] <= 5)]['year'].value_counts()\n",
    "    year_df[\"<=10% clouds\"] = target_df.loc[(target_df['cloud_cover'] > 5) & (target_df['cloud_cover'] <= 10)]['year'].value_counts()\n",
    "    year_df[\">10% clouds\"] = target_df.loc[(target_df['cloud_cover'] > 10)]['year'].value_counts()\n",
    "    year_df[\"0% clouds cost\"] = year_df.apply(lambda row: round((row[\"0% clouds\"] * avg_price), 2), axis=1)\n",
    "    year_df[\"<=2% clouds cost\"] = year_df.apply(lambda row: round((row[\"<=2% clouds\"] * avg_price), 2), axis=1)\n",
    "    year_df[\"<=5% clouds cost\"] = year_df.apply(lambda row: round((row[\"<=5% clouds\"] * avg_price), 2), axis=1)\n",
    "    year_df[\"<=10% clouds cost\"] = year_df.apply(lambda row: round((row[\"<=10% clouds\"] * avg_price), 2), axis=1)\n",
    "    year_df[\">10% clouds cost\"] = year_df.apply(lambda row: round((row[\">10% clouds\"] * avg_price), 2), axis=1)\n",
    "\n",
    "    year_df.reset_index(inplace=True)\n",
    "    year_df.rename(columns={'index': 'year'}, inplace=True)\n",
    "    year_df.sort_values('year', inplace=True)\n",
    "    year_df.reset_index(inplace=True, drop=True)\n",
    "\n",
    "    h_template='''Image Count 0% Clouds: %{customdata[0]} Estimated Cost: %{customdata[5]}<br>\n",
    "                Image Count <=2% Clouds: %{customdata[1]} Estimated Cost: %{customdata[6]}<br>\n",
    "                Image Count <=5% Clouds: %{customdata[2]} Estimated Cost: %{customdata[7]}<br>\n",
    "                Image Count <=10% Clouds: %{customdata[3]} Estimated Cost: %{customdata[8]}<br>\n",
    "                Image Count >10% Clouds: %{customdata[4]} Estimated Cost: %{customdata[9]}'''\n",
    "    year_fig = px.bar(year_df, x='year', y=['0% clouds', '<=2% clouds', '<=5% clouds', '<=10% clouds', '>10% clouds'], \n",
    "                      color_discrete_map={'0% clouds': 'green','<=2% clouds': 'yellow', \"<=5% clouds\": \"orange\", \"<=10% clouds\": \"red\", \">10% clouds\": \"maroon\"}, \n",
    "                      custom_data=np.stack((year_df['0% clouds'], year_df['<=2% clouds'], year_df['<=5% clouds'], year_df['<=10% clouds'], year_df['>10% clouds'], \n",
    "                                            year_df['0% clouds cost'], year_df['<=2% clouds cost'], year_df['<=5% clouds cost'], year_df['<=10% clouds cost'], year_df['>10% clouds cost'])))\n",
    "    \n",
    "    year_fig.update_layout(title_text=f\"PlanetScope Annual Image Counts and Cost - {min_year} to {max_year} - {aoi_name}\", title_x=0.5, yaxis_title=\"Image Count\", xaxis_title=\"Year\")\n",
    "    year_fig.update_traces(hovertemplate=h_template)\n",
    "\n",
    "    filenamestr = f\"PlanetScope_Annual_Image_Count_and_Cost_{min_year}_to_{max_year}_{aoi_name}\"\n",
    "    if output_graph:\n",
    "        out_png = outpath_figs.joinpath(f\"{filenamestr}.png\")\n",
    "        out_html = outpath_figs.joinpath(f\"{filenamestr}.html\")\n",
    "        year_fig.write_image(out_png)\n",
    "        year_fig.write_html(out_html)\n",
    "\n",
    "    year_fig.show()\n",
    "\n",
    "    return year_df\n",
    "\n",
    "year_df = create_year_cc_graph(filtered_search, output_graph=output_graphs)"
   ]
  },
  {
   "cell_type": "code",
   "execution_count": 24,
   "metadata": {},
   "outputs": [
    {
     "data": {
      "application/vnd.plotly.v1+json": {
       "config": {
        "plotlyServerURL": "https://plot.ly"
       },
       "data": [
        {
         "alignmentgroup": "True",
         "hovertemplate": "variable=2018_counts<br>month=%{x}<br>value=%{y}<extra></extra>",
         "legendgroup": "2018_counts",
         "marker": {
          "color": "#636efa",
          "pattern": {
           "shape": ""
          }
         },
         "name": "2018_counts",
         "offsetgroup": "2018_counts",
         "orientation": "v",
         "showlegend": true,
         "textposition": "auto",
         "type": "bar",
         "x": [
          1,
          2,
          3,
          4,
          5,
          6,
          7,
          8,
          9,
          10,
          11,
          12
         ],
         "xaxis": "x",
         "y": [
          4,
          0,
          4,
          5,
          7,
          10,
          8,
          10,
          10,
          9,
          4,
          8
         ],
         "yaxis": "y"
        },
        {
         "alignmentgroup": "True",
         "hovertemplate": "variable=2019_counts<br>month=%{x}<br>value=%{y}<extra></extra>",
         "legendgroup": "2019_counts",
         "marker": {
          "color": "#EF553B",
          "pattern": {
           "shape": ""
          }
         },
         "name": "2019_counts",
         "offsetgroup": "2019_counts",
         "orientation": "v",
         "showlegend": true,
         "textposition": "auto",
         "type": "bar",
         "x": [
          1,
          2,
          3,
          4,
          5,
          6,
          7,
          8,
          9,
          10,
          11,
          12
         ],
         "xaxis": "x",
         "y": [
          4,
          2,
          6,
          6,
          11,
          11,
          15,
          13,
          8,
          11,
          11,
          6
         ],
         "yaxis": "y"
        },
        {
         "alignmentgroup": "True",
         "hovertemplate": "variable=2020_counts<br>month=%{x}<br>value=%{y}<extra></extra>",
         "legendgroup": "2020_counts",
         "marker": {
          "color": "#00cc96",
          "pattern": {
           "shape": ""
          }
         },
         "name": "2020_counts",
         "offsetgroup": "2020_counts",
         "orientation": "v",
         "showlegend": true,
         "textposition": "auto",
         "type": "bar",
         "x": [
          1,
          2,
          3,
          4,
          5,
          6,
          7,
          8,
          9,
          10,
          11,
          12
         ],
         "xaxis": "x",
         "y": [
          1,
          4,
          3,
          6,
          13,
          10,
          7,
          11,
          9,
          8,
          7,
          3
         ],
         "yaxis": "y"
        },
        {
         "alignmentgroup": "True",
         "hovertemplate": "variable=2021_counts<br>month=%{x}<br>value=%{y}<extra></extra>",
         "legendgroup": "2021_counts",
         "marker": {
          "color": "#ab63fa",
          "pattern": {
           "shape": ""
          }
         },
         "name": "2021_counts",
         "offsetgroup": "2021_counts",
         "orientation": "v",
         "showlegend": true,
         "textposition": "auto",
         "type": "bar",
         "x": [
          1,
          2,
          3,
          4,
          5,
          6,
          7,
          8,
          9,
          10,
          11,
          12
         ],
         "xaxis": "x",
         "y": [
          0,
          1,
          7,
          17,
          13,
          15,
          16,
          16,
          16,
          8,
          7,
          5
         ],
         "yaxis": "y"
        },
        {
         "alignmentgroup": "True",
         "hovertemplate": "variable=2022_counts<br>month=%{x}<br>value=%{y}<extra></extra>",
         "legendgroup": "2022_counts",
         "marker": {
          "color": "#FFA15A",
          "pattern": {
           "shape": ""
          }
         },
         "name": "2022_counts",
         "offsetgroup": "2022_counts",
         "orientation": "v",
         "showlegend": true,
         "textposition": "auto",
         "type": "bar",
         "x": [
          1,
          2,
          3,
          4,
          5,
          6,
          7,
          8,
          9,
          10,
          11,
          12
         ],
         "xaxis": "x",
         "y": [
          2,
          7,
          5,
          5,
          15,
          12,
          11,
          15,
          13,
          12,
          5,
          4
         ],
         "yaxis": "y"
        },
        {
         "alignmentgroup": "True",
         "hovertemplate": "variable=2023_counts<br>month=%{x}<br>value=%{y}<extra></extra>",
         "legendgroup": "2023_counts",
         "marker": {
          "color": "#19d3f3",
          "pattern": {
           "shape": ""
          }
         },
         "name": "2023_counts",
         "offsetgroup": "2023_counts",
         "orientation": "v",
         "showlegend": true,
         "textposition": "auto",
         "type": "bar",
         "x": [
          1,
          2,
          3,
          4,
          5,
          6,
          7,
          8,
          9,
          10,
          11,
          12
         ],
         "xaxis": "x",
         "y": [
          3,
          1,
          6,
          0,
          0,
          0,
          0,
          0,
          0,
          0,
          0,
          0
         ],
         "yaxis": "y"
        }
       ],
       "layout": {
        "barmode": "group",
        "legend": {
         "title": {
          "text": "variable"
         },
         "tracegroupgap": 0
        },
        "margin": {
         "t": 60
        },
        "template": {
         "data": {
          "bar": [
           {
            "error_x": {
             "color": "#2a3f5f"
            },
            "error_y": {
             "color": "#2a3f5f"
            },
            "marker": {
             "line": {
              "color": "#E5ECF6",
              "width": 0.5
             },
             "pattern": {
              "fillmode": "overlay",
              "size": 10,
              "solidity": 0.2
             }
            },
            "type": "bar"
           }
          ],
          "barpolar": [
           {
            "marker": {
             "line": {
              "color": "#E5ECF6",
              "width": 0.5
             },
             "pattern": {
              "fillmode": "overlay",
              "size": 10,
              "solidity": 0.2
             }
            },
            "type": "barpolar"
           }
          ],
          "carpet": [
           {
            "aaxis": {
             "endlinecolor": "#2a3f5f",
             "gridcolor": "white",
             "linecolor": "white",
             "minorgridcolor": "white",
             "startlinecolor": "#2a3f5f"
            },
            "baxis": {
             "endlinecolor": "#2a3f5f",
             "gridcolor": "white",
             "linecolor": "white",
             "minorgridcolor": "white",
             "startlinecolor": "#2a3f5f"
            },
            "type": "carpet"
           }
          ],
          "choropleth": [
           {
            "colorbar": {
             "outlinewidth": 0,
             "ticks": ""
            },
            "type": "choropleth"
           }
          ],
          "contour": [
           {
            "colorbar": {
             "outlinewidth": 0,
             "ticks": ""
            },
            "colorscale": [
             [
              0,
              "#0d0887"
             ],
             [
              0.1111111111111111,
              "#46039f"
             ],
             [
              0.2222222222222222,
              "#7201a8"
             ],
             [
              0.3333333333333333,
              "#9c179e"
             ],
             [
              0.4444444444444444,
              "#bd3786"
             ],
             [
              0.5555555555555556,
              "#d8576b"
             ],
             [
              0.6666666666666666,
              "#ed7953"
             ],
             [
              0.7777777777777778,
              "#fb9f3a"
             ],
             [
              0.8888888888888888,
              "#fdca26"
             ],
             [
              1,
              "#f0f921"
             ]
            ],
            "type": "contour"
           }
          ],
          "contourcarpet": [
           {
            "colorbar": {
             "outlinewidth": 0,
             "ticks": ""
            },
            "type": "contourcarpet"
           }
          ],
          "heatmap": [
           {
            "colorbar": {
             "outlinewidth": 0,
             "ticks": ""
            },
            "colorscale": [
             [
              0,
              "#0d0887"
             ],
             [
              0.1111111111111111,
              "#46039f"
             ],
             [
              0.2222222222222222,
              "#7201a8"
             ],
             [
              0.3333333333333333,
              "#9c179e"
             ],
             [
              0.4444444444444444,
              "#bd3786"
             ],
             [
              0.5555555555555556,
              "#d8576b"
             ],
             [
              0.6666666666666666,
              "#ed7953"
             ],
             [
              0.7777777777777778,
              "#fb9f3a"
             ],
             [
              0.8888888888888888,
              "#fdca26"
             ],
             [
              1,
              "#f0f921"
             ]
            ],
            "type": "heatmap"
           }
          ],
          "heatmapgl": [
           {
            "colorbar": {
             "outlinewidth": 0,
             "ticks": ""
            },
            "colorscale": [
             [
              0,
              "#0d0887"
             ],
             [
              0.1111111111111111,
              "#46039f"
             ],
             [
              0.2222222222222222,
              "#7201a8"
             ],
             [
              0.3333333333333333,
              "#9c179e"
             ],
             [
              0.4444444444444444,
              "#bd3786"
             ],
             [
              0.5555555555555556,
              "#d8576b"
             ],
             [
              0.6666666666666666,
              "#ed7953"
             ],
             [
              0.7777777777777778,
              "#fb9f3a"
             ],
             [
              0.8888888888888888,
              "#fdca26"
             ],
             [
              1,
              "#f0f921"
             ]
            ],
            "type": "heatmapgl"
           }
          ],
          "histogram": [
           {
            "marker": {
             "pattern": {
              "fillmode": "overlay",
              "size": 10,
              "solidity": 0.2
             }
            },
            "type": "histogram"
           }
          ],
          "histogram2d": [
           {
            "colorbar": {
             "outlinewidth": 0,
             "ticks": ""
            },
            "colorscale": [
             [
              0,
              "#0d0887"
             ],
             [
              0.1111111111111111,
              "#46039f"
             ],
             [
              0.2222222222222222,
              "#7201a8"
             ],
             [
              0.3333333333333333,
              "#9c179e"
             ],
             [
              0.4444444444444444,
              "#bd3786"
             ],
             [
              0.5555555555555556,
              "#d8576b"
             ],
             [
              0.6666666666666666,
              "#ed7953"
             ],
             [
              0.7777777777777778,
              "#fb9f3a"
             ],
             [
              0.8888888888888888,
              "#fdca26"
             ],
             [
              1,
              "#f0f921"
             ]
            ],
            "type": "histogram2d"
           }
          ],
          "histogram2dcontour": [
           {
            "colorbar": {
             "outlinewidth": 0,
             "ticks": ""
            },
            "colorscale": [
             [
              0,
              "#0d0887"
             ],
             [
              0.1111111111111111,
              "#46039f"
             ],
             [
              0.2222222222222222,
              "#7201a8"
             ],
             [
              0.3333333333333333,
              "#9c179e"
             ],
             [
              0.4444444444444444,
              "#bd3786"
             ],
             [
              0.5555555555555556,
              "#d8576b"
             ],
             [
              0.6666666666666666,
              "#ed7953"
             ],
             [
              0.7777777777777778,
              "#fb9f3a"
             ],
             [
              0.8888888888888888,
              "#fdca26"
             ],
             [
              1,
              "#f0f921"
             ]
            ],
            "type": "histogram2dcontour"
           }
          ],
          "mesh3d": [
           {
            "colorbar": {
             "outlinewidth": 0,
             "ticks": ""
            },
            "type": "mesh3d"
           }
          ],
          "parcoords": [
           {
            "line": {
             "colorbar": {
              "outlinewidth": 0,
              "ticks": ""
             }
            },
            "type": "parcoords"
           }
          ],
          "pie": [
           {
            "automargin": true,
            "type": "pie"
           }
          ],
          "scatter": [
           {
            "fillpattern": {
             "fillmode": "overlay",
             "size": 10,
             "solidity": 0.2
            },
            "type": "scatter"
           }
          ],
          "scatter3d": [
           {
            "line": {
             "colorbar": {
              "outlinewidth": 0,
              "ticks": ""
             }
            },
            "marker": {
             "colorbar": {
              "outlinewidth": 0,
              "ticks": ""
             }
            },
            "type": "scatter3d"
           }
          ],
          "scattercarpet": [
           {
            "marker": {
             "colorbar": {
              "outlinewidth": 0,
              "ticks": ""
             }
            },
            "type": "scattercarpet"
           }
          ],
          "scattergeo": [
           {
            "marker": {
             "colorbar": {
              "outlinewidth": 0,
              "ticks": ""
             }
            },
            "type": "scattergeo"
           }
          ],
          "scattergl": [
           {
            "marker": {
             "colorbar": {
              "outlinewidth": 0,
              "ticks": ""
             }
            },
            "type": "scattergl"
           }
          ],
          "scattermapbox": [
           {
            "marker": {
             "colorbar": {
              "outlinewidth": 0,
              "ticks": ""
             }
            },
            "type": "scattermapbox"
           }
          ],
          "scatterpolar": [
           {
            "marker": {
             "colorbar": {
              "outlinewidth": 0,
              "ticks": ""
             }
            },
            "type": "scatterpolar"
           }
          ],
          "scatterpolargl": [
           {
            "marker": {
             "colorbar": {
              "outlinewidth": 0,
              "ticks": ""
             }
            },
            "type": "scatterpolargl"
           }
          ],
          "scatterternary": [
           {
            "marker": {
             "colorbar": {
              "outlinewidth": 0,
              "ticks": ""
             }
            },
            "type": "scatterternary"
           }
          ],
          "surface": [
           {
            "colorbar": {
             "outlinewidth": 0,
             "ticks": ""
            },
            "colorscale": [
             [
              0,
              "#0d0887"
             ],
             [
              0.1111111111111111,
              "#46039f"
             ],
             [
              0.2222222222222222,
              "#7201a8"
             ],
             [
              0.3333333333333333,
              "#9c179e"
             ],
             [
              0.4444444444444444,
              "#bd3786"
             ],
             [
              0.5555555555555556,
              "#d8576b"
             ],
             [
              0.6666666666666666,
              "#ed7953"
             ],
             [
              0.7777777777777778,
              "#fb9f3a"
             ],
             [
              0.8888888888888888,
              "#fdca26"
             ],
             [
              1,
              "#f0f921"
             ]
            ],
            "type": "surface"
           }
          ],
          "table": [
           {
            "cells": {
             "fill": {
              "color": "#EBF0F8"
             },
             "line": {
              "color": "white"
             }
            },
            "header": {
             "fill": {
              "color": "#C8D4E3"
             },
             "line": {
              "color": "white"
             }
            },
            "type": "table"
           }
          ]
         },
         "layout": {
          "annotationdefaults": {
           "arrowcolor": "#2a3f5f",
           "arrowhead": 0,
           "arrowwidth": 1
          },
          "autotypenumbers": "strict",
          "coloraxis": {
           "colorbar": {
            "outlinewidth": 0,
            "ticks": ""
           }
          },
          "colorscale": {
           "diverging": [
            [
             0,
             "#8e0152"
            ],
            [
             0.1,
             "#c51b7d"
            ],
            [
             0.2,
             "#de77ae"
            ],
            [
             0.3,
             "#f1b6da"
            ],
            [
             0.4,
             "#fde0ef"
            ],
            [
             0.5,
             "#f7f7f7"
            ],
            [
             0.6,
             "#e6f5d0"
            ],
            [
             0.7,
             "#b8e186"
            ],
            [
             0.8,
             "#7fbc41"
            ],
            [
             0.9,
             "#4d9221"
            ],
            [
             1,
             "#276419"
            ]
           ],
           "sequential": [
            [
             0,
             "#0d0887"
            ],
            [
             0.1111111111111111,
             "#46039f"
            ],
            [
             0.2222222222222222,
             "#7201a8"
            ],
            [
             0.3333333333333333,
             "#9c179e"
            ],
            [
             0.4444444444444444,
             "#bd3786"
            ],
            [
             0.5555555555555556,
             "#d8576b"
            ],
            [
             0.6666666666666666,
             "#ed7953"
            ],
            [
             0.7777777777777778,
             "#fb9f3a"
            ],
            [
             0.8888888888888888,
             "#fdca26"
            ],
            [
             1,
             "#f0f921"
            ]
           ],
           "sequentialminus": [
            [
             0,
             "#0d0887"
            ],
            [
             0.1111111111111111,
             "#46039f"
            ],
            [
             0.2222222222222222,
             "#7201a8"
            ],
            [
             0.3333333333333333,
             "#9c179e"
            ],
            [
             0.4444444444444444,
             "#bd3786"
            ],
            [
             0.5555555555555556,
             "#d8576b"
            ],
            [
             0.6666666666666666,
             "#ed7953"
            ],
            [
             0.7777777777777778,
             "#fb9f3a"
            ],
            [
             0.8888888888888888,
             "#fdca26"
            ],
            [
             1,
             "#f0f921"
            ]
           ]
          },
          "colorway": [
           "#636efa",
           "#EF553B",
           "#00cc96",
           "#ab63fa",
           "#FFA15A",
           "#19d3f3",
           "#FF6692",
           "#B6E880",
           "#FF97FF",
           "#FECB52"
          ],
          "font": {
           "color": "#2a3f5f"
          },
          "geo": {
           "bgcolor": "white",
           "lakecolor": "white",
           "landcolor": "#E5ECF6",
           "showlakes": true,
           "showland": true,
           "subunitcolor": "white"
          },
          "hoverlabel": {
           "align": "left"
          },
          "hovermode": "closest",
          "mapbox": {
           "style": "light"
          },
          "paper_bgcolor": "white",
          "plot_bgcolor": "#E5ECF6",
          "polar": {
           "angularaxis": {
            "gridcolor": "white",
            "linecolor": "white",
            "ticks": ""
           },
           "bgcolor": "#E5ECF6",
           "radialaxis": {
            "gridcolor": "white",
            "linecolor": "white",
            "ticks": ""
           }
          },
          "scene": {
           "xaxis": {
            "backgroundcolor": "#E5ECF6",
            "gridcolor": "white",
            "gridwidth": 2,
            "linecolor": "white",
            "showbackground": true,
            "ticks": "",
            "zerolinecolor": "white"
           },
           "yaxis": {
            "backgroundcolor": "#E5ECF6",
            "gridcolor": "white",
            "gridwidth": 2,
            "linecolor": "white",
            "showbackground": true,
            "ticks": "",
            "zerolinecolor": "white"
           },
           "zaxis": {
            "backgroundcolor": "#E5ECF6",
            "gridcolor": "white",
            "gridwidth": 2,
            "linecolor": "white",
            "showbackground": true,
            "ticks": "",
            "zerolinecolor": "white"
           }
          },
          "shapedefaults": {
           "line": {
            "color": "#2a3f5f"
           }
          },
          "ternary": {
           "aaxis": {
            "gridcolor": "white",
            "linecolor": "white",
            "ticks": ""
           },
           "baxis": {
            "gridcolor": "white",
            "linecolor": "white",
            "ticks": ""
           },
           "bgcolor": "#E5ECF6",
           "caxis": {
            "gridcolor": "white",
            "linecolor": "white",
            "ticks": ""
           }
          },
          "title": {
           "x": 0.05
          },
          "xaxis": {
           "automargin": true,
           "gridcolor": "white",
           "linecolor": "white",
           "ticks": "",
           "title": {
            "standoff": 15
           },
           "zerolinecolor": "white",
           "zerolinewidth": 2
          },
          "yaxis": {
           "automargin": true,
           "gridcolor": "white",
           "linecolor": "white",
           "ticks": "",
           "title": {
            "standoff": 15
           },
           "zerolinecolor": "white",
           "zerolinewidth": 2
          }
         }
        },
        "title": {
         "text": "PlanetScope Image Count By Year and Month - 0% Cloud Cover - 2018 to 2023 - BeitBridge",
         "x": 0.5
        },
        "xaxis": {
         "anchor": "y",
         "domain": [
          0,
          1
         ],
         "title": {
          "text": "Month of Year"
         }
        },
        "yaxis": {
         "anchor": "x",
         "domain": [
          0,
          1
         ],
         "title": {
          "text": "Image Count"
         }
        }
       }
      }
     },
     "metadata": {},
     "output_type": "display_data"
    }
   ],
   "source": [
    "# Graph 4: Monthly bar chart showing monthly image counts broken down by year. User must specify a threshold for cloud cover\n",
    "def create_month_multiyear_graph(df, cc_threshold, output_graph=False):\n",
    "    \"\"\"\n",
    "    Creates a monthly bar chart to display image counts per month, broken down by imaging year.\n",
    "    Image counts are determined based on the input cloud cover threshold.\n",
    "\n",
    "    Params:\n",
    "    ---------------------\n",
    "    df: pandas dataframe\n",
    "        query dataframe containing image information\n",
    "    cc_threshold: float\n",
    "        cloud cover percentage threshold. Images with cloud cover exceeding this number will not be counted\n",
    "    output_graph: bool\n",
    "        if set to True, graph will be saved to file as an html and png file\n",
    "    \"\"\"\n",
    "    \n",
    "    min_year = df.iloc[0]['year']\n",
    "    max_year = df.iloc[-1]['year']\n",
    "\n",
    "    month_df = pd.DataFrame()\n",
    "    col_list = []\n",
    "    for year in df.year.unique().tolist():\n",
    "        target_df = df.loc[df[\"year\"] == year]\n",
    "        col_name = f\"{year}_counts\"\n",
    "        month_df[col_name] = target_df.loc[target_df['cloud_cover'] <= cc_threshold]['month'].value_counts()\n",
    "        col_list.append(col_name)\n",
    "\n",
    "    month_df.reset_index(inplace=True)\n",
    "    month_df.rename(columns={'index': 'month'}, inplace=True)\n",
    "    month_df.sort_values('month', inplace=True)\n",
    "    month_df.reset_index(inplace=True, drop=True)\n",
    "\n",
    "    month_fig = px.bar(month_df, x='month', y=col_list, barmode='group')\n",
    "    month_fig.update_layout(title_text=f\"PlanetScope Image Count By Year and Month - {cc_threshold}% Cloud Cover - {min_year} to {max_year} - {aoi_name}\", title_x=0.5, yaxis_title=\"Image Count\", xaxis_title=\"Month of Year\")\n",
    "\n",
    "    filenamestr = f\"PlanetScope_Image_Count_Annual_Monthly_{cc_threshold}%CC_{min_year}_to_{max_year}_{aoi_name}\"\n",
    "    if output_graph:\n",
    "        out_png = outpath_figs.joinpath(f\"{filenamestr}.png\")\n",
    "        out_html = outpath_figs.joinpath(f\"{filenamestr}.html\")\n",
    "        month_fig.write_image(out_png)\n",
    "        month_fig.write_html(out_html)\n",
    "\n",
    "    month_fig.show()\n",
    "\n",
    "create_month_multiyear_graph(filtered_search, cc_threshold=0, output_graph=output_graphs)"
   ]
  },
  {
   "cell_type": "code",
   "execution_count": 25,
   "metadata": {},
   "outputs": [
    {
     "data": {
      "application/vnd.plotly.v1+json": {
       "config": {
        "plotlyServerURL": "https://plot.ly"
       },
       "data": [
        {
         "customdata": [
          [
           "2018-01-01",
           "PlanetScope",
           16,
           "<a href=\"https://preview.planet.terrastream.ca/planet/planetscope/8865b38b-6195-4e79-969c-44331d4b9770_thumb.png\">Preview</a>"
          ],
          [
           "2018-01-06",
           "PlanetScope",
           2,
           "<a href=\"https://preview.planet.terrastream.ca/planet/planetscope/86c1089c-a754-4bf0-9024-eb86768908e2_thumb.png\">Preview</a>"
          ],
          [
           "2018-01-07",
           "PlanetScope",
           5,
           "<a href=\"https://preview.planet.terrastream.ca/planet/planetscope/81ccda75-2a44-4f58-8b6e-26686b2a619c_thumb.png\">Preview</a>"
          ],
          [
           "2018-01-08",
           "PlanetScope",
           0,
           "<a href=\"https://preview.planet.terrastream.ca/planet/planetscope/c08928f4-e5a3-48e9-b4d9-811c99d4a0e9_thumb.png\">Preview</a>"
          ],
          [
           "2018-01-13",
           "PlanetScope",
           0,
           "<a href=\"https://preview.planet.terrastream.ca/planet/planetscope/dee6e50c-23c8-481d-9032-7b2f630f165a_thumb.png\">Preview</a>"
          ],
          [
           "2018-01-15",
           "PlanetScope",
           2,
           "<a href=\"https://preview.planet.terrastream.ca/planet/planetscope/6ea99d69-9616-4252-81be-fbbd67f6150e_thumb.png\">Preview</a>"
          ],
          [
           "2018-01-16",
           "PlanetScope",
           7,
           "<a href=\"https://preview.planet.terrastream.ca/planet/planetscope/eb998154-ac27-4d62-a1c0-b429d68c7313_thumb.png\">Preview</a>"
          ],
          [
           "2018-01-17",
           "PlanetScope",
           4,
           "<a href=\"https://preview.planet.terrastream.ca/planet/planetscope/f22c2e0c-1d34-4a42-83df-ef05a5666b83_thumb.png\">Preview</a>"
          ],
          [
           "2018-01-19",
           "PlanetScope",
           0,
           "<a href=\"https://preview.planet.terrastream.ca/planet/planetscope/77c53181-8e25-430f-b4ce-43ce81cdd336_thumb.png\">Preview</a>"
          ],
          [
           "2018-01-21",
           "PlanetScope",
           0,
           "<a href=\"https://preview.planet.terrastream.ca/planet/planetscope/a6aa9b79-3596-42eb-833e-01477e626027_thumb.png\">Preview</a>"
          ],
          [
           "2018-01-28",
           "PlanetScope",
           2,
           "<a href=\"https://preview.planet.terrastream.ca/planet/planetscope/c451fcff-eef8-41cc-8e7a-523e124ea379_thumb.png\">Preview</a>"
          ],
          [
           "2018-02-08",
           "PlanetScope",
           14,
           "<a href=\"https://preview.planet.terrastream.ca/planet/planetscope/f0dc1af2-da9a-4fb9-b0f7-c7e13c82ebb5_thumb.png\">Preview</a>"
          ],
          [
           "2018-02-16",
           "PlanetScope",
           1,
           "<a href=\"https://preview.planet.terrastream.ca/planet/planetscope/a8fb9be1-4883-4461-a4cb-97255d87c098_thumb.png\">Preview</a>"
          ],
          [
           "2018-03-11",
           "PlanetScope",
           1,
           "<a href=\"https://preview.planet.terrastream.ca/planet/planetscope/c0909fd3-8156-48fb-b7a7-e80eeb0dd7f2_thumb.png\">Preview</a>"
          ],
          [
           "2018-03-12",
           "PlanetScope",
           1,
           "<a href=\"https://preview.planet.terrastream.ca/planet/planetscope/691e74bd-e3cd-46fb-b4c6-81c4cf1fbfbd_thumb.png\">Preview</a>"
          ],
          [
           "2018-03-14",
           "PlanetScope",
           9,
           "<a href=\"https://preview.planet.terrastream.ca/planet/planetscope/bb4eff7f-4c93-468c-92a1-a5577b30c7ee_thumb.png\">Preview</a>"
          ],
          [
           "2018-03-15",
           "PlanetScope",
           2,
           "<a href=\"https://preview.planet.terrastream.ca/planet/planetscope/74fa59c3-785b-4974-ab7a-d42438402b82_thumb.png\">Preview</a>"
          ],
          [
           "2018-03-19",
           "PlanetScope",
           1,
           "<a href=\"https://preview.planet.terrastream.ca/planet/planetscope/a5457143-f480-448d-b360-de62c2124094_thumb.png\">Preview</a>"
          ],
          [
           "2018-03-20",
           "PlanetScope",
           0,
           "<a href=\"https://preview.planet.terrastream.ca/planet/planetscope/fe60d690-a462-45be-8b8e-419868308fd0_thumb.png\">Preview</a>"
          ],
          [
           "2018-03-21",
           "PlanetScope",
           0,
           "<a href=\"https://preview.planet.terrastream.ca/planet/planetscope/1200ed7e-dafd-4555-ac4f-719ee0d87074_thumb.png\">Preview</a>"
          ],
          [
           "2018-03-25",
           "PlanetScope",
           0,
           "<a href=\"https://preview.planet.terrastream.ca/planet/planetscope/2802ac11-5b47-4b8e-8dff-97d8e84de1d5_thumb.png\">Preview</a>"
          ],
          [
           "2018-03-26",
           "PlanetScope",
           22,
           "<a href=\"https://preview.planet.terrastream.ca/planet/planetscope/a4b6694b-f9d7-4906-b3f2-7902428ddfc4_thumb.png\">Preview</a>"
          ],
          [
           "2018-03-30",
           "PlanetScope",
           0,
           "<a href=\"https://preview.planet.terrastream.ca/planet/planetscope/c0b0d3cb-488f-4d3f-a4c4-d9d8b5b88eb2_thumb.png\">Preview</a>"
          ],
          [
           "2018-03-31",
           "PlanetScope",
           15,
           "<a href=\"https://preview.planet.terrastream.ca/planet/planetscope/96cc4566-9156-45e0-9894-4d6755bee232_thumb.png\">Preview</a>"
          ],
          [
           "2018-04-05",
           "PlanetScope",
           1,
           "<a href=\"https://preview.planet.terrastream.ca/planet/planetscope/50e7cb5e-8a88-4cd8-be06-3b521d274292_thumb.png\">Preview</a>"
          ],
          [
           "2018-04-13",
           "PlanetScope",
           11,
           "<a href=\"https://preview.planet.terrastream.ca/planet/planetscope/abd97b42-702b-4a63-b0dd-92438670edd3_thumb.png\">Preview</a>"
          ],
          [
           "2018-04-18",
           "PlanetScope",
           0,
           "<a href=\"https://preview.planet.terrastream.ca/planet/planetscope/f8a016c6-7137-4243-a69c-261560e032ff_thumb.png\">Preview</a>"
          ],
          [
           "2018-04-19",
           "PlanetScope",
           0,
           "<a href=\"https://preview.planet.terrastream.ca/planet/planetscope/bb18b23b-4291-416f-b928-f3d08ef285b9_thumb.png\">Preview</a>"
          ],
          [
           "2018-04-22",
           "PlanetScope",
           3,
           "<a href=\"https://preview.planet.terrastream.ca/planet/planetscope/d7efcf47-2500-4825-977f-03571c3d45e3_thumb.png\">Preview</a>"
          ],
          [
           "2018-04-23",
           "PlanetScope",
           0,
           "<a href=\"https://preview.planet.terrastream.ca/planet/planetscope/e18d82dd-d4e9-4bd7-9a93-1d32f48ff283_thumb.png\">Preview</a>"
          ],
          [
           "2018-04-24",
           "PlanetScope",
           0,
           "<a href=\"https://preview.planet.terrastream.ca/planet/planetscope/604d19c7-4f2a-426a-9f62-ab6011416d8b_thumb.png\">Preview</a>"
          ],
          [
           "2018-04-25",
           "PlanetScope",
           0,
           "<a href=\"https://preview.planet.terrastream.ca/planet/planetscope/4bafc1b6-ec46-4203-8b4f-3c0799cab9c5_thumb.png\">Preview</a>"
          ],
          [
           "2018-05-03",
           "PlanetScope",
           0,
           "<a href=\"https://preview.planet.terrastream.ca/planet/planetscope/1e72d6c5-d4c6-4d00-a12e-5f7b8d17efa3_thumb.png\">Preview</a>"
          ],
          [
           "2018-05-06",
           "PlanetScope",
           7,
           "<a href=\"https://preview.planet.terrastream.ca/planet/planetscope/7f5ec521-866e-41d0-a9b8-c9e028f1c222_thumb.png\">Preview</a>"
          ],
          [
           "2018-05-09",
           "PlanetScope",
           0,
           "<a href=\"https://preview.planet.terrastream.ca/planet/planetscope/d5931f6d-8133-48f6-b7ee-f409f403528c_thumb.png\">Preview</a>"
          ],
          [
           "2018-05-12",
           "PlanetScope",
           0,
           "<a href=\"https://preview.planet.terrastream.ca/planet/planetscope/38838495-3a0d-43bb-9da5-c31baef5e787_thumb.png\">Preview</a>"
          ],
          [
           "2018-05-13",
           "PlanetScope",
           0,
           "<a href=\"https://preview.planet.terrastream.ca/planet/planetscope/7d6496c9-3927-4868-9b75-9d0cd809a398_thumb.png\">Preview</a>"
          ],
          [
           "2018-05-17",
           "PlanetScope",
           0,
           "<a href=\"https://preview.planet.terrastream.ca/planet/planetscope/e80b6b3f-960b-4dcc-b980-8823dad92a53_thumb.png\">Preview</a>"
          ],
          [
           "2018-05-23",
           "PlanetScope",
           0,
           "<a href=\"https://preview.planet.terrastream.ca/planet/planetscope/5d7d31f4-8700-4933-8268-4ad2f95810a3_thumb.png\">Preview</a>"
          ],
          [
           "2018-05-31",
           "PlanetScope",
           0,
           "<a href=\"https://preview.planet.terrastream.ca/planet/planetscope/417ccd6a-9fd7-4018-bfb5-f290402ce349_thumb.png\">Preview</a>"
          ],
          [
           "2018-06-02",
           "PlanetScope",
           1,
           "<a href=\"https://preview.planet.terrastream.ca/planet/planetscope/41ba62df-0372-4f33-9257-5d3e6edce7c6_thumb.png\">Preview</a>"
          ],
          [
           "2018-06-05",
           "PlanetScope",
           7,
           "<a href=\"https://preview.planet.terrastream.ca/planet/planetscope/41d33d31-8f41-4712-950a-e11a3e0e0f2e_thumb.png\">Preview</a>"
          ],
          [
           "2018-06-08",
           "PlanetScope",
           0,
           "<a href=\"https://preview.planet.terrastream.ca/planet/planetscope/758c170d-df8f-4898-84d7-2e68fc6e200e_thumb.png\">Preview</a>"
          ],
          [
           "2018-06-10",
           "PlanetScope",
           0,
           "<a href=\"https://preview.planet.terrastream.ca/planet/planetscope/a9df18cf-634d-482f-90f9-8fb742f89d3c_thumb.png\">Preview</a>"
          ],
          [
           "2018-06-15",
           "PlanetScope",
           0,
           "<a href=\"https://preview.planet.terrastream.ca/planet/planetscope/fe4a51e4-f0b1-4336-bda1-589f413fff1e_thumb.png\">Preview</a>"
          ],
          [
           "2018-06-18",
           "PlanetScope",
           21,
           "<a href=\"https://preview.planet.terrastream.ca/planet/planetscope/4cdff0cf-c4e5-4d21-9d0a-2b3fb50ed20b_thumb.png\">Preview</a>"
          ],
          [
           "2018-06-19",
           "PlanetScope",
           0,
           "<a href=\"https://preview.planet.terrastream.ca/planet/planetscope/efa136de-8487-4e62-b1e0-2b2f390676af_thumb.png\">Preview</a>"
          ],
          [
           "2018-06-20",
           "PlanetScope",
           0,
           "<a href=\"https://preview.planet.terrastream.ca/planet/planetscope/f26cc69d-e275-4b67-823d-cd3441417439_thumb.png\">Preview</a>"
          ],
          [
           "2018-06-24",
           "PlanetScope",
           0,
           "<a href=\"https://preview.planet.terrastream.ca/planet/planetscope/cd0e9923-8d82-4612-857f-f525a52e83b6_thumb.png\">Preview</a>"
          ],
          [
           "2018-06-25",
           "PlanetScope",
           0,
           "<a href=\"https://preview.planet.terrastream.ca/planet/planetscope/22209995-de90-440d-a0c1-35c0c877fae2_thumb.png\">Preview</a>"
          ],
          [
           "2018-06-26",
           "PlanetScope",
           0,
           "<a href=\"https://preview.planet.terrastream.ca/planet/planetscope/e71b2a1c-6853-452f-abe2-d87145d1441f_thumb.png\">Preview</a>"
          ],
          [
           "2018-06-28",
           "PlanetScope",
           0,
           "<a href=\"https://preview.planet.terrastream.ca/planet/planetscope/78db3f95-836a-4e1e-9ff4-d8d4369d2598_thumb.png\">Preview</a>"
          ],
          [
           "2018-06-30",
           "PlanetScope",
           0,
           "<a href=\"https://preview.planet.terrastream.ca/planet/planetscope/8bc77f15-e6c5-4c09-befe-34b44e617aab_thumb.png\">Preview</a>"
          ],
          [
           "2018-07-01",
           "PlanetScope",
           0,
           "<a href=\"https://preview.planet.terrastream.ca/planet/planetscope/9fc92252-808b-48a0-bb66-0b86b4177728_thumb.png\">Preview</a>"
          ],
          [
           "2018-07-02",
           "PlanetScope",
           0,
           "<a href=\"https://preview.planet.terrastream.ca/planet/planetscope/6ee1e49f-e1e4-49ec-9ba4-e3be810576ef_thumb.png\">Preview</a>"
          ],
          [
           "2018-07-03",
           "PlanetScope",
           0,
           "<a href=\"https://preview.planet.terrastream.ca/planet/planetscope/34960629-1617-44b8-8737-d78598ade306_thumb.png\">Preview</a>"
          ],
          [
           "2018-07-07",
           "PlanetScope",
           10,
           "<a href=\"https://preview.planet.terrastream.ca/planet/planetscope/ef8ef84c-2da0-4182-a576-d18babeeb591_thumb.png\">Preview</a>"
          ],
          [
           "2018-07-11",
           "PlanetScope",
           0,
           "<a href=\"https://preview.planet.terrastream.ca/planet/planetscope/74464755-319c-426b-a72a-e5649d7f343e_thumb.png\">Preview</a>"
          ],
          [
           "2018-07-24",
           "PlanetScope",
           22,
           "<a href=\"https://preview.planet.terrastream.ca/planet/planetscope/980c1084-0d17-4eb0-940a-617fdf296ba2_thumb.png\">Preview</a>"
          ],
          [
           "2018-07-25",
           "PlanetScope",
           0,
           "<a href=\"https://preview.planet.terrastream.ca/planet/planetscope/923bd32a-fbf9-4aec-afbf-c3a997c7e12d_thumb.png\">Preview</a>"
          ],
          [
           "2018-07-27",
           "PlanetScope",
           0,
           "<a href=\"https://preview.planet.terrastream.ca/planet/planetscope/6d9de4c0-5832-438e-a13d-c450fce65295_thumb.png\">Preview</a>"
          ],
          [
           "2018-07-28",
           "PlanetScope",
           0,
           "<a href=\"https://preview.planet.terrastream.ca/planet/planetscope/68f7aa21-f7ec-41a9-b147-f67f703b9070_thumb.png\">Preview</a>"
          ],
          [
           "2018-07-30",
           "PlanetScope",
           0,
           "<a href=\"https://preview.planet.terrastream.ca/planet/planetscope/4bbede39-65f9-4b32-8f82-3852cb575330_thumb.png\">Preview</a>"
          ],
          [
           "2018-07-31",
           "PlanetScope",
           1,
           "<a href=\"https://preview.planet.terrastream.ca/planet/planetscope/b07f6b3f-b901-474a-8a6b-969a6ae565ee_thumb.png\">Preview</a>"
          ],
          [
           "2018-08-01",
           "PlanetScope",
           0,
           "<a href=\"https://preview.planet.terrastream.ca/planet/planetscope/0aeb8876-3430-441e-b821-a300a1ef5e42_thumb.png\">Preview</a>"
          ],
          [
           "2018-08-04",
           "PlanetScope",
           1,
           "<a href=\"https://preview.planet.terrastream.ca/planet/planetscope/60d87df6-7e14-4c59-8bd3-7cb2ab222abd_thumb.png\">Preview</a>"
          ],
          [
           "2018-08-05",
           "PlanetScope",
           0,
           "<a href=\"https://preview.planet.terrastream.ca/planet/planetscope/ab9e33d5-f4ff-4c0b-aecd-98976a848872_thumb.png\">Preview</a>"
          ],
          [
           "2018-08-08",
           "PlanetScope",
           0,
           "<a href=\"https://preview.planet.terrastream.ca/planet/planetscope/3eb54af6-72af-4099-ab91-37390c2feb70_thumb.png\">Preview</a>"
          ],
          [
           "2018-08-10",
           "PlanetScope",
           5,
           "<a href=\"https://preview.planet.terrastream.ca/planet/planetscope/488309f9-12a1-4cbc-a030-0e58ee2dfe38_thumb.png\">Preview</a>"
          ],
          [
           "2018-08-11",
           "PlanetScope",
           0,
           "<a href=\"https://preview.planet.terrastream.ca/planet/planetscope/572c35d8-8ba1-4296-9f06-06c7de1c2b4c_thumb.png\">Preview</a>"
          ],
          [
           "2018-08-13",
           "PlanetScope",
           0,
           "<a href=\"https://preview.planet.terrastream.ca/planet/planetscope/512e478a-509d-426f-9e75-680bbfe63444_thumb.png\">Preview</a>"
          ],
          [
           "2018-08-14",
           "PlanetScope",
           0,
           "<a href=\"https://preview.planet.terrastream.ca/planet/planetscope/4d77463b-f0de-451d-bad2-2bbad50fe191_thumb.png\">Preview</a>"
          ],
          [
           "2018-08-15",
           "PlanetScope",
           0,
           "<a href=\"https://preview.planet.terrastream.ca/planet/planetscope/446df8b2-a21c-48b9-9ce2-ffcd2bb06983_thumb.png\">Preview</a>"
          ],
          [
           "2018-08-20",
           "PlanetScope",
           0,
           "<a href=\"https://preview.planet.terrastream.ca/planet/planetscope/85aeda9d-7f81-43ae-82f7-004ca7ed42d6_thumb.png\">Preview</a>"
          ],
          [
           "2018-08-23",
           "PlanetScope",
           0,
           "<a href=\"https://preview.planet.terrastream.ca/planet/planetscope/5c839f9c-4057-4196-b6c7-42f377380ecb_thumb.png\">Preview</a>"
          ],
          [
           "2018-08-27",
           "PlanetScope",
           0,
           "<a href=\"https://preview.planet.terrastream.ca/planet/planetscope/d3278e00-5400-431a-95f5-714e449021bf_thumb.png\">Preview</a>"
          ],
          [
           "2018-09-02",
           "PlanetScope",
           0,
           "<a href=\"https://preview.planet.terrastream.ca/planet/planetscope/fd2e2c29-10f9-4de8-a69b-5848b00ba47a_thumb.png\">Preview</a>"
          ],
          [
           "2018-09-07",
           "PlanetScope",
           0,
           "<a href=\"https://preview.planet.terrastream.ca/planet/planetscope/fa9d3444-6fba-4268-bbdb-9bf0b74510dc_thumb.png\">Preview</a>"
          ],
          [
           "2018-09-10",
           "PlanetScope",
           0,
           "<a href=\"https://preview.planet.terrastream.ca/planet/planetscope/0c90adcf-62bc-41d3-adb7-6895c39f0611_thumb.png\">Preview</a>"
          ],
          [
           "2018-09-13",
           "PlanetScope",
           0,
           "<a href=\"https://preview.planet.terrastream.ca/planet/planetscope/af70bf2b-9a89-42cb-952b-a6ddf10efc9e_thumb.png\">Preview</a>"
          ],
          [
           "2018-09-15",
           "PlanetScope",
           0,
           "<a href=\"https://preview.planet.terrastream.ca/planet/planetscope/fb5f0b11-7d87-4459-ab34-e33458c93132_thumb.png\">Preview</a>"
          ],
          [
           "2018-09-16",
           "PlanetScope",
           0,
           "<a href=\"https://preview.planet.terrastream.ca/planet/planetscope/8ade2526-ba79-4e14-a271-ac664a24194a_thumb.png\">Preview</a>"
          ],
          [
           "2018-09-18",
           "PlanetScope",
           0,
           "<a href=\"https://preview.planet.terrastream.ca/planet/planetscope/73dc3a29-76a7-4961-9d6b-aa8843827c45_thumb.png\">Preview</a>"
          ],
          [
           "2018-09-19",
           "PlanetScope",
           0,
           "<a href=\"https://preview.planet.terrastream.ca/planet/planetscope/9dde165f-bac1-4811-84ba-632d2896d1ff_thumb.png\">Preview</a>"
          ],
          [
           "2018-09-20",
           "PlanetScope",
           0,
           "<a href=\"https://preview.planet.terrastream.ca/planet/planetscope/75993c64-f299-4dd0-9999-c79f74d12630_thumb.png\">Preview</a>"
          ],
          [
           "2018-09-24",
           "PlanetScope",
           0,
           "<a href=\"https://preview.planet.terrastream.ca/planet/planetscope/30cf420a-49e5-4a17-9375-2fa20fbdf84b_thumb.png\">Preview</a>"
          ],
          [
           "2018-10-02",
           "PlanetScope",
           0,
           "<a href=\"https://preview.planet.terrastream.ca/planet/planetscope/8102627a-1edb-4fdf-8afe-e46d5c571506_thumb.png\">Preview</a>"
          ],
          [
           "2018-10-03",
           "PlanetScope",
           0,
           "<a href=\"https://preview.planet.terrastream.ca/planet/planetscope/e28df3c4-2209-4a70-bc3d-a96e052919c2_thumb.png\">Preview</a>"
          ],
          [
           "2018-10-07",
           "PlanetScope",
           0,
           "<a href=\"https://preview.planet.terrastream.ca/planet/planetscope/27f1faf0-7af4-4183-b6a6-7982546b7cce_thumb.png\">Preview</a>"
          ],
          [
           "2018-10-12",
           "PlanetScope",
           0,
           "<a href=\"https://preview.planet.terrastream.ca/planet/planetscope/3e80b3e5-c7cf-4741-a5d7-4e6fdc43526b_thumb.png\">Preview</a>"
          ],
          [
           "2018-10-16",
           "PlanetScope",
           0,
           "<a href=\"https://preview.planet.terrastream.ca/planet/planetscope/1901c395-b000-4541-83e4-afe064128869_thumb.png\">Preview</a>"
          ],
          [
           "2018-10-20",
           "PlanetScope",
           7,
           "<a href=\"https://preview.planet.terrastream.ca/planet/planetscope/2e0fe8da-9b69-4db8-8381-5b1b97a3929c_thumb.png\">Preview</a>"
          ],
          [
           "2018-10-27",
           "PlanetScope",
           0,
           "<a href=\"https://preview.planet.terrastream.ca/planet/planetscope/65d07117-6bd7-4e93-a07f-521ed003bc66_thumb.png\">Preview</a>"
          ],
          [
           "2018-10-29",
           "PlanetScope",
           0,
           "<a href=\"https://preview.planet.terrastream.ca/planet/planetscope/ac46c860-b971-4e2b-b61b-d0fbffbc9f39_thumb.png\">Preview</a>"
          ],
          [
           "2018-10-30",
           "PlanetScope",
           0,
           "<a href=\"https://preview.planet.terrastream.ca/planet/planetscope/e8b2b55f-e007-4573-b959-b148b5dd93f3_thumb.png\">Preview</a>"
          ],
          [
           "2018-10-31",
           "PlanetScope",
           0,
           "<a href=\"https://preview.planet.terrastream.ca/planet/planetscope/5f65799c-6dfe-4ac4-bcab-aa1815f76c15_thumb.png\">Preview</a>"
          ],
          [
           "2018-11-11",
           "PlanetScope",
           0,
           "<a href=\"https://preview.planet.terrastream.ca/planet/planetscope/eb948d6d-8e13-490e-b034-134fb331afe1_thumb.png\">Preview</a>"
          ],
          [
           "2018-11-17",
           "PlanetScope",
           0,
           "<a href=\"https://preview.planet.terrastream.ca/planet/planetscope/88d4db1d-cf96-4fdd-86de-33e5bbfd40d9_thumb.png\">Preview</a>"
          ],
          [
           "2018-11-18",
           "PlanetScope",
           0,
           "<a href=\"https://preview.planet.terrastream.ca/planet/planetscope/60ef7b0b-91c9-4368-bb05-caeb63954751_thumb.png\">Preview</a>"
          ],
          [
           "2018-11-20",
           "PlanetScope",
           0,
           "<a href=\"https://preview.planet.terrastream.ca/planet/planetscope/9b689336-2549-4ab6-9191-c822047b7874_thumb.png\">Preview</a>"
          ],
          [
           "2018-12-04",
           "PlanetScope",
           20,
           "<a href=\"https://preview.planet.terrastream.ca/planet/planetscope/56a3643a-dab1-497c-933c-fb363941ad11_thumb.png\">Preview</a>"
          ],
          [
           "2018-12-05",
           "PlanetScope",
           0,
           "<a href=\"https://preview.planet.terrastream.ca/planet/planetscope/c1a3dc6e-a7ea-45af-ba2f-01913aaa1988_thumb.png\">Preview</a>"
          ],
          [
           "2018-12-13",
           "PlanetScope",
           0,
           "<a href=\"https://preview.planet.terrastream.ca/planet/planetscope/d8da0614-db3a-4817-b0c3-1dd2ee23cd5a_thumb.png\">Preview</a>"
          ],
          [
           "2018-12-15",
           "PlanetScope",
           22,
           "<a href=\"https://preview.planet.terrastream.ca/planet/planetscope/02a36af8-c949-4df3-963d-f629ce208dc4_thumb.png\">Preview</a>"
          ],
          [
           "2018-12-16",
           "PlanetScope",
           0,
           "<a href=\"https://preview.planet.terrastream.ca/planet/planetscope/10f43ac7-7bc7-433e-9b9b-71ce3e5f4cb9_thumb.png\">Preview</a>"
          ],
          [
           "2018-12-17",
           "PlanetScope",
           0,
           "<a href=\"https://preview.planet.terrastream.ca/planet/planetscope/13942e79-d1ae-409e-80aa-24f3e2d826a1_thumb.png\">Preview</a>"
          ],
          [
           "2018-12-18",
           "PlanetScope",
           0,
           "<a href=\"https://preview.planet.terrastream.ca/planet/planetscope/17c6cad9-f42f-43c2-a793-93852be0f64a_thumb.png\">Preview</a>"
          ],
          [
           "2018-12-19",
           "PlanetScope",
           0,
           "<a href=\"https://preview.planet.terrastream.ca/planet/planetscope/58990870-254e-45b8-a536-b9b087005a29_thumb.png\">Preview</a>"
          ],
          [
           "2018-12-24",
           "PlanetScope",
           0,
           "<a href=\"https://preview.planet.terrastream.ca/planet/planetscope/a80fa7cb-70c3-4526-82f1-867e4837abbd_thumb.png\">Preview</a>"
          ],
          [
           "2018-12-25",
           "PlanetScope",
           1,
           "<a href=\"https://preview.planet.terrastream.ca/planet/planetscope/f9b45d7a-32b5-41b2-bc6a-adfbc0b5d684_thumb.png\">Preview</a>"
          ],
          [
           "2018-12-26",
           "PlanetScope",
           0,
           "<a href=\"https://preview.planet.terrastream.ca/planet/planetscope/4405f73f-a17e-4fff-a4f2-371dc0ec3d93_thumb.png\">Preview</a>"
          ],
          [
           "2019-01-06",
           "PlanetScope",
           0,
           "<a href=\"https://preview.planet.terrastream.ca/planet/planetscope/5e19153a-7dc5-4c74-b49c-b1f813e7f6f1_thumb.png\">Preview</a>"
          ],
          [
           "2019-01-07",
           "PlanetScope",
           3,
           "<a href=\"https://preview.planet.terrastream.ca/planet/planetscope/7372ee53-0a9a-4386-a40e-81eeadbe85b9_thumb.png\">Preview</a>"
          ],
          [
           "2019-01-10",
           "PlanetScope",
           8,
           "<a href=\"https://preview.planet.terrastream.ca/planet/planetscope/ebfb33d9-e3b9-4bba-a8b8-d981dbf4b03c_thumb.png\">Preview</a>"
          ],
          [
           "2019-01-13",
           "PlanetScope",
           0,
           "<a href=\"https://preview.planet.terrastream.ca/planet/planetscope/d754117d-87b3-4ec6-b5a1-8e9ba3cab0eb_thumb.png\">Preview</a>"
          ],
          [
           "2019-01-23",
           "PlanetScope",
           21,
           "<a href=\"https://preview.planet.terrastream.ca/planet/planetscope/c29013f5-6471-4c08-b4ff-3acd0daa5609_thumb.png\">Preview</a>"
          ],
          [
           "2019-01-24",
           "PlanetScope",
           0,
           "<a href=\"https://preview.planet.terrastream.ca/planet/planetscope/b9492a59-754f-4d5f-89ca-921c91503fbb_thumb.png\">Preview</a>"
          ],
          [
           "2019-01-25",
           "PlanetScope",
           0,
           "<a href=\"https://preview.planet.terrastream.ca/planet/planetscope/5723ddb8-647b-4642-9127-218e65d6bd58_thumb.png\">Preview</a>"
          ],
          [
           "2019-02-04",
           "PlanetScope",
           0,
           "<a href=\"https://preview.planet.terrastream.ca/planet/planetscope/cf7ac4b4-cc69-4170-8dff-6cb8384e00b3_thumb.png\">Preview</a>"
          ],
          [
           "2019-02-08",
           "PlanetScope",
           1,
           "<a href=\"https://preview.planet.terrastream.ca/planet/planetscope/cff19072-0806-4e4e-8013-6f6eeea903bc_thumb.png\">Preview</a>"
          ],
          [
           "2019-02-21",
           "PlanetScope",
           0,
           "<a href=\"https://preview.planet.terrastream.ca/planet/planetscope/87fc3dea-d28e-44b0-bf94-d64d6c94bac4_thumb.png\">Preview</a>"
          ],
          [
           "2019-03-02",
           "PlanetScope",
           15,
           "<a href=\"https://preview.planet.terrastream.ca/planet/planetscope/a3c294d9-7938-45f5-af68-8d15f7c318a8_thumb.png\">Preview</a>"
          ],
          [
           "2019-03-03",
           "PlanetScope",
           0,
           "<a href=\"https://preview.planet.terrastream.ca/planet/planetscope/661c75c3-bf6f-4854-a1c6-862986780da5_thumb.png\">Preview</a>"
          ],
          [
           "2019-03-09",
           "PlanetScope",
           22,
           "<a href=\"https://preview.planet.terrastream.ca/planet/planetscope/6d2036d2-be3a-461e-8c89-0fc3772db55f_thumb.png\">Preview</a>"
          ],
          [
           "2019-03-10",
           "PlanetScope",
           0,
           "<a href=\"https://preview.planet.terrastream.ca/planet/planetscope/92e454ef-262e-48d4-a3ee-45cd598345a7_thumb.png\">Preview</a>"
          ],
          [
           "2019-03-11",
           "PlanetScope",
           22,
           "<a href=\"https://preview.planet.terrastream.ca/planet/planetscope/d9528a8e-b6b0-4478-8267-319466eacbc0_thumb.png\">Preview</a>"
          ],
          [
           "2019-03-20",
           "PlanetScope",
           10,
           "<a href=\"https://preview.planet.terrastream.ca/planet/planetscope/ac889a8f-5e91-434f-aaf7-dd50972b8d6e_thumb.png\">Preview</a>"
          ],
          [
           "2019-03-21",
           "PlanetScope",
           0,
           "<a href=\"https://preview.planet.terrastream.ca/planet/planetscope/c1ae8029-314b-419d-a65f-4b32c4750d22_thumb.png\">Preview</a>"
          ],
          [
           "2019-03-25",
           "PlanetScope",
           0,
           "<a href=\"https://preview.planet.terrastream.ca/planet/planetscope/bc6fd48d-fac3-4f62-b87f-e85884d0e82e_thumb.png\">Preview</a>"
          ],
          [
           "2019-03-26",
           "PlanetScope",
           0,
           "<a href=\"https://preview.planet.terrastream.ca/planet/planetscope/e2753f10-2fb5-4ec7-a458-d87dc6d1519b_thumb.png\">Preview</a>"
          ],
          [
           "2019-03-29",
           "PlanetScope",
           0,
           "<a href=\"https://preview.planet.terrastream.ca/planet/planetscope/4a17b86d-67e7-4aad-b418-d5e23e2de608_thumb.png\">Preview</a>"
          ],
          [
           "2019-04-01",
           "PlanetScope",
           0,
           "<a href=\"https://preview.planet.terrastream.ca/planet/planetscope/cfe5e97c-f500-4789-ab22-c39268d77e04_thumb.png\">Preview</a>"
          ],
          [
           "2019-04-05",
           "PlanetScope",
           0,
           "<a href=\"https://preview.planet.terrastream.ca/planet/planetscope/9cc02349-f363-4352-8c19-32d1073c7af4_thumb.png\">Preview</a>"
          ],
          [
           "2019-04-09",
           "PlanetScope",
           0,
           "<a href=\"https://preview.planet.terrastream.ca/planet/planetscope/1d62f656-aab6-4b5b-b03c-309c75998ded_thumb.png\">Preview</a>"
          ],
          [
           "2019-04-14",
           "PlanetScope",
           0,
           "<a href=\"https://preview.planet.terrastream.ca/planet/planetscope/2d337d96-335e-43cc-ae6c-5c786e39436c_thumb.png\">Preview</a>"
          ],
          [
           "2019-04-19",
           "PlanetScope",
           0,
           "<a href=\"https://preview.planet.terrastream.ca/planet/planetscope/78be5609-abe9-4bd1-a35e-d9b4b04ac0b8_thumb.png\">Preview</a>"
          ],
          [
           "2019-04-20",
           "PlanetScope",
           0,
           "<a href=\"https://preview.planet.terrastream.ca/planet/planetscope/18dbe23d-0313-47fa-8348-baf9716951b9_thumb.png\">Preview</a>"
          ],
          [
           "2019-04-29",
           "PlanetScope",
           20,
           "<a href=\"https://preview.planet.terrastream.ca/planet/planetscope/bb30b2e3-df5f-4293-9294-a3229722ac67_thumb.png\">Preview</a>"
          ],
          [
           "2019-05-01",
           "PlanetScope",
           0,
           "<a href=\"https://preview.planet.terrastream.ca/planet/planetscope/f928cac6-ad91-4486-bf79-88aeea9f21a2_thumb.png\">Preview</a>"
          ],
          [
           "2019-05-03",
           "PlanetScope",
           0,
           "<a href=\"https://preview.planet.terrastream.ca/planet/planetscope/abbfaa96-86b5-47c4-9b0b-8c566c77c8d7_thumb.png\">Preview</a>"
          ],
          [
           "2019-05-05",
           "PlanetScope",
           0,
           "<a href=\"https://preview.planet.terrastream.ca/planet/planetscope/fef67887-46cb-4b65-a346-a74e46642c5a_thumb.png\">Preview</a>"
          ],
          [
           "2019-05-07",
           "PlanetScope",
           0,
           "<a href=\"https://preview.planet.terrastream.ca/planet/planetscope/1b42b9e6-8355-4937-ac03-2f9b845f41d6_thumb.png\">Preview</a>"
          ],
          [
           "2019-05-13",
           "PlanetScope",
           0,
           "<a href=\"https://preview.planet.terrastream.ca/planet/planetscope/660e0220-3207-4b1d-bc7f-fb799f6adac4_thumb.png\">Preview</a>"
          ],
          [
           "2019-05-14",
           "PlanetScope",
           0,
           "<a href=\"https://preview.planet.terrastream.ca/planet/planetscope/f74dad3b-8f63-423b-a8fe-075e00a461d8_thumb.png\">Preview</a>"
          ],
          [
           "2019-05-16",
           "PlanetScope",
           0,
           "<a href=\"https://preview.planet.terrastream.ca/planet/planetscope/0f13806d-e31b-4a9d-b6de-1ab4d1a2b1dc_thumb.png\">Preview</a>"
          ],
          [
           "2019-05-20",
           "PlanetScope",
           0,
           "<a href=\"https://preview.planet.terrastream.ca/planet/planetscope/a00d6d32-ada2-490a-b8b6-f07f5433ff2b_thumb.png\">Preview</a>"
          ],
          [
           "2019-05-22",
           "PlanetScope",
           5,
           "<a href=\"https://preview.planet.terrastream.ca/planet/planetscope/47ea3ee4-2083-429e-9b32-1a1af668d779_thumb.png\">Preview</a>"
          ],
          [
           "2019-05-27",
           "PlanetScope",
           0,
           "<a href=\"https://preview.planet.terrastream.ca/planet/planetscope/b965abe1-e3b9-43e1-b5a0-c9ed5acc789d_thumb.png\">Preview</a>"
          ],
          [
           "2019-05-28",
           "PlanetScope",
           0,
           "<a href=\"https://preview.planet.terrastream.ca/planet/planetscope/af0dadbd-bc5a-4aeb-8369-ffb0e698c36e_thumb.png\">Preview</a>"
          ],
          [
           "2019-05-30",
           "PlanetScope",
           0,
           "<a href=\"https://preview.planet.terrastream.ca/planet/planetscope/13aaa144-c1b9-4fb9-bef5-ee4d9c61307e_thumb.png\">Preview</a>"
          ],
          [
           "2019-06-01",
           "PlanetScope",
           0,
           "<a href=\"https://preview.planet.terrastream.ca/planet/planetscope/26d460c6-a490-4ee1-b049-6b8ca3951f0a_thumb.png\">Preview</a>"
          ],
          [
           "2019-06-02",
           "PlanetScope",
           0,
           "<a href=\"https://preview.planet.terrastream.ca/planet/planetscope/21741496-55fb-4961-93ba-06f00c365557_thumb.png\">Preview</a>"
          ],
          [
           "2019-06-05",
           "PlanetScope",
           0,
           "<a href=\"https://preview.planet.terrastream.ca/planet/planetscope/31f9512b-0a0c-4ec9-a2aa-542f7e836606_thumb.png\">Preview</a>"
          ],
          [
           "2019-06-06",
           "PlanetScope",
           0,
           "<a href=\"https://preview.planet.terrastream.ca/planet/planetscope/c183c5b9-e88c-494f-a8a0-2843876fd2fa_thumb.png\">Preview</a>"
          ],
          [
           "2019-06-07",
           "PlanetScope",
           10,
           "<a href=\"https://preview.planet.terrastream.ca/planet/planetscope/521174bc-45ec-4293-b0c6-54695b3876c8_thumb.png\">Preview</a>"
          ],
          [
           "2019-06-09",
           "PlanetScope",
           14,
           "<a href=\"https://preview.planet.terrastream.ca/planet/planetscope/e99cb73c-8559-4727-bd94-81f0d30deb91_thumb.png\">Preview</a>"
          ],
          [
           "2019-06-10",
           "PlanetScope",
           24,
           "<a href=\"https://preview.planet.terrastream.ca/planet/planetscope/53a79a3b-64f3-4130-8a31-484dd100f5ae_thumb.png\">Preview</a>"
          ],
          [
           "2019-06-11",
           "PlanetScope",
           0,
           "<a href=\"https://preview.planet.terrastream.ca/planet/planetscope/a4727bb1-91ad-4f36-a13f-9c6006c53118_thumb.png\">Preview</a>"
          ],
          [
           "2019-06-15",
           "PlanetScope",
           13,
           "<a href=\"https://preview.planet.terrastream.ca/planet/planetscope/6ec86f42-d014-43a5-bd64-9c42c6fdb220_thumb.png\">Preview</a>"
          ],
          [
           "2019-06-16",
           "PlanetScope",
           0,
           "<a href=\"https://preview.planet.terrastream.ca/planet/planetscope/90af8ea2-c025-4770-918b-1069909ddad3_thumb.png\">Preview</a>"
          ],
          [
           "2019-06-22",
           "PlanetScope",
           0,
           "<a href=\"https://preview.planet.terrastream.ca/planet/planetscope/4be488f1-0adb-4e7d-a984-af8ba2a879a8_thumb.png\">Preview</a>"
          ],
          [
           "2019-06-25",
           "PlanetScope",
           0,
           "<a href=\"https://preview.planet.terrastream.ca/planet/planetscope/aa514e50-468a-4e7e-80f3-1676088627c4_thumb.png\">Preview</a>"
          ],
          [
           "2019-06-27",
           "PlanetScope",
           0,
           "<a href=\"https://preview.planet.terrastream.ca/planet/planetscope/b11b3712-ffc0-4852-93b1-87b0eaec4f06_thumb.png\">Preview</a>"
          ],
          [
           "2019-06-28",
           "PlanetScope",
           0,
           "<a href=\"https://preview.planet.terrastream.ca/planet/planetscope/f3b54439-59f0-4bd5-8cc8-ccc762392ff9_thumb.png\">Preview</a>"
          ],
          [
           "2019-06-29",
           "PlanetScope",
           0,
           "<a href=\"https://preview.planet.terrastream.ca/planet/planetscope/cd6454d9-a065-4d9a-8a3f-f659788ecb1a_thumb.png\">Preview</a>"
          ],
          [
           "2019-07-01",
           "PlanetScope",
           0,
           "<a href=\"https://preview.planet.terrastream.ca/planet/planetscope/d270fcee-09d0-4182-b2a6-dd39cece3b0a_thumb.png\">Preview</a>"
          ],
          [
           "2019-07-02",
           "PlanetScope",
           0,
           "<a href=\"https://preview.planet.terrastream.ca/planet/planetscope/7fbe12d4-d3fe-4d90-a1d1-0200c9b3812a_thumb.png\">Preview</a>"
          ],
          [
           "2019-07-04",
           "PlanetScope",
           0,
           "<a href=\"https://preview.planet.terrastream.ca/planet/planetscope/7c4f2f73-26d3-4def-aa71-aa0c3b9fe44d_thumb.png\">Preview</a>"
          ],
          [
           "2019-07-05",
           "PlanetScope",
           0,
           "<a href=\"https://preview.planet.terrastream.ca/planet/planetscope/be1d959f-9bdb-4995-80ad-64066e6e4d3c_thumb.png\">Preview</a>"
          ],
          [
           "2019-07-08",
           "PlanetScope",
           0,
           "<a href=\"https://preview.planet.terrastream.ca/planet/planetscope/b004091c-bb35-4c34-a04e-2cf07cdb167a_thumb.png\">Preview</a>"
          ],
          [
           "2019-07-09",
           "PlanetScope",
           0,
           "<a href=\"https://preview.planet.terrastream.ca/planet/planetscope/66d74e3e-5ba8-4968-9d55-3a7108a0b0ed_thumb.png\">Preview</a>"
          ],
          [
           "2019-07-10",
           "PlanetScope",
           0,
           "<a href=\"https://preview.planet.terrastream.ca/planet/planetscope/4d27bed0-b300-4990-be6b-e94f21ffbb62_thumb.png\">Preview</a>"
          ],
          [
           "2019-07-11",
           "PlanetScope",
           0,
           "<a href=\"https://preview.planet.terrastream.ca/planet/planetscope/a360ada8-44ce-4915-a2cb-54b1305dbfba_thumb.png\">Preview</a>"
          ],
          [
           "2019-07-14",
           "PlanetScope",
           0,
           "<a href=\"https://preview.planet.terrastream.ca/planet/planetscope/fd23c95e-1b82-4f1c-b348-0427e70c32a4_thumb.png\">Preview</a>"
          ],
          [
           "2019-07-15",
           "PlanetScope",
           0,
           "<a href=\"https://preview.planet.terrastream.ca/planet/planetscope/abfe8da6-8967-42bb-b4bd-11e4403c599e_thumb.png\">Preview</a>"
          ],
          [
           "2019-07-18",
           "PlanetScope",
           0,
           "<a href=\"https://preview.planet.terrastream.ca/planet/planetscope/2f64e7e0-4326-4c57-a97c-a89b28ad1c2e_thumb.png\">Preview</a>"
          ],
          [
           "2019-07-19",
           "PlanetScope",
           0,
           "<a href=\"https://preview.planet.terrastream.ca/planet/planetscope/4f9a6b0e-edf1-4414-880d-a95a4190ba6d_thumb.png\">Preview</a>"
          ],
          [
           "2019-07-20",
           "PlanetScope",
           0,
           "<a href=\"https://preview.planet.terrastream.ca/planet/planetscope/8311d41e-d5c6-496d-9ead-4a166bdc642d_thumb.png\">Preview</a>"
          ],
          [
           "2019-07-23",
           "PlanetScope",
           0,
           "<a href=\"https://preview.planet.terrastream.ca/planet/planetscope/98a968d9-aeb9-49d8-a6c9-8d622184b66f_thumb.png\">Preview</a>"
          ],
          [
           "2019-07-31",
           "PlanetScope",
           0,
           "<a href=\"https://preview.planet.terrastream.ca/planet/planetscope/bd121e3a-1264-4b21-8158-f87abc8c242d_thumb.png\">Preview</a>"
          ],
          [
           "2019-08-03",
           "PlanetScope",
           0,
           "<a href=\"https://preview.planet.terrastream.ca/planet/planetscope/f23555a8-6dc1-4670-a437-2f9dede7f3ab_thumb.png\">Preview</a>"
          ],
          [
           "2019-08-04",
           "PlanetScope",
           0,
           "<a href=\"https://preview.planet.terrastream.ca/planet/planetscope/95f5dbc2-72fb-4432-9db5-dfd7a5621293_thumb.png\">Preview</a>"
          ],
          [
           "2019-08-05",
           "PlanetScope",
           0,
           "<a href=\"https://preview.planet.terrastream.ca/planet/planetscope/3b27f563-d7ea-4d39-94c5-85101e579164_thumb.png\">Preview</a>"
          ],
          [
           "2019-08-08",
           "PlanetScope",
           0,
           "<a href=\"https://preview.planet.terrastream.ca/planet/planetscope/fb910a69-8e50-4dc1-9bf7-8ce90602453d_thumb.png\">Preview</a>"
          ],
          [
           "2019-08-11",
           "PlanetScope",
           0,
           "<a href=\"https://preview.planet.terrastream.ca/planet/planetscope/265ab36b-7000-4346-a844-e1dfb99a11af_thumb.png\">Preview</a>"
          ],
          [
           "2019-08-12",
           "PlanetScope",
           0,
           "<a href=\"https://preview.planet.terrastream.ca/planet/planetscope/fd3b6850-2a0e-4df6-9845-bcc55afc13d3_thumb.png\">Preview</a>"
          ],
          [
           "2019-08-14",
           "PlanetScope",
           0,
           "<a href=\"https://preview.planet.terrastream.ca/planet/planetscope/2b3c7b6b-a6f2-4653-80c7-2b9fbb10b403_thumb.png\">Preview</a>"
          ],
          [
           "2019-08-16",
           "PlanetScope",
           0,
           "<a href=\"https://preview.planet.terrastream.ca/planet/planetscope/d8e35b9f-571a-4b29-9da0-d792971f79aa_thumb.png\">Preview</a>"
          ],
          [
           "2019-08-21",
           "PlanetScope",
           16,
           "<a href=\"https://preview.planet.terrastream.ca/planet/planetscope/fe5ff107-86be-4cdf-8bb5-a769755e382f_thumb.png\">Preview</a>"
          ],
          [
           "2019-08-22",
           "PlanetScope",
           1,
           "<a href=\"https://preview.planet.terrastream.ca/planet/planetscope/c92b7fd2-5b8e-45ac-8d3f-3e597b251c20_thumb.png\">Preview</a>"
          ],
          [
           "2019-08-23",
           "PlanetScope",
           0,
           "<a href=\"https://preview.planet.terrastream.ca/planet/planetscope/e3089fcd-acc1-4fc9-b749-76c3a4c359d5_thumb.png\">Preview</a>"
          ],
          [
           "2019-08-26",
           "PlanetScope",
           0,
           "<a href=\"https://preview.planet.terrastream.ca/planet/planetscope/86fee12c-6017-4450-b9a9-935e55a47777_thumb.png\">Preview</a>"
          ],
          [
           "2019-08-27",
           "PlanetScope",
           0,
           "<a href=\"https://preview.planet.terrastream.ca/planet/planetscope/2a592219-0065-4cfc-87fe-5f2e73550097_thumb.png\">Preview</a>"
          ],
          [
           "2019-08-28",
           "PlanetScope",
           0,
           "<a href=\"https://preview.planet.terrastream.ca/planet/planetscope/5c4e9ea0-408d-472b-93b0-89c5733a88aa_thumb.png\">Preview</a>"
          ],
          [
           "2019-08-30",
           "PlanetScope",
           0,
           "<a href=\"https://preview.planet.terrastream.ca/planet/planetscope/c580e9df-8839-4d4d-a1d5-bc1bd0f00a30_thumb.png\">Preview</a>"
          ],
          [
           "2019-09-04",
           "PlanetScope",
           0,
           "<a href=\"https://preview.planet.terrastream.ca/planet/planetscope/1c0c871a-bfc1-4bc0-9632-abff64cb3706_thumb.png\">Preview</a>"
          ],
          [
           "2019-09-05",
           "PlanetScope",
           0,
           "<a href=\"https://preview.planet.terrastream.ca/planet/planetscope/58fbf528-c536-40eb-93f3-468daa566caa_thumb.png\">Preview</a>"
          ],
          [
           "2019-09-09",
           "PlanetScope",
           0,
           "<a href=\"https://preview.planet.terrastream.ca/planet/planetscope/a4c71d46-bde4-47b1-931c-9423d2af89db_thumb.png\">Preview</a>"
          ],
          [
           "2019-09-10",
           "PlanetScope",
           0,
           "<a href=\"https://preview.planet.terrastream.ca/planet/planetscope/e44bf74d-a8ea-4fc8-8be1-dd3033f23e3e_thumb.png\">Preview</a>"
          ],
          [
           "2019-09-16",
           "PlanetScope",
           0,
           "<a href=\"https://preview.planet.terrastream.ca/planet/planetscope/9348f9e8-375b-4253-bcf4-cba1a532051c_thumb.png\">Preview</a>"
          ],
          [
           "2019-09-20",
           "PlanetScope",
           0,
           "<a href=\"https://preview.planet.terrastream.ca/planet/planetscope/626a262e-8aa3-4e5a-89a9-db2778294835_thumb.png\">Preview</a>"
          ],
          [
           "2019-09-23",
           "PlanetScope",
           0,
           "<a href=\"https://preview.planet.terrastream.ca/planet/planetscope/dec7c485-a0dd-45d3-a51d-7f64d6ae5ac0_thumb.png\">Preview</a>"
          ],
          [
           "2019-09-29",
           "PlanetScope",
           0,
           "<a href=\"https://preview.planet.terrastream.ca/planet/planetscope/4a5401c9-1b2e-453d-ae86-eca8ac200afc_thumb.png\">Preview</a>"
          ],
          [
           "2019-10-04",
           "PlanetScope",
           0,
           "<a href=\"https://preview.planet.terrastream.ca/planet/planetscope/34b06032-b7d9-482d-bcb4-1b62b27e7ecd_thumb.png\">Preview</a>"
          ],
          [
           "2019-10-05",
           "PlanetScope",
           16,
           "<a href=\"https://preview.planet.terrastream.ca/planet/planetscope/9b1f0791-779a-457b-a5d4-a280bf655ab9_thumb.png\">Preview</a>"
          ],
          [
           "2019-10-07",
           "PlanetScope",
           0,
           "<a href=\"https://preview.planet.terrastream.ca/planet/planetscope/aa4e6f37-8114-4078-a4c1-ca024b241c33_thumb.png\">Preview</a>"
          ],
          [
           "2019-10-09",
           "PlanetScope",
           0,
           "<a href=\"https://preview.planet.terrastream.ca/planet/planetscope/1a0c6b9e-ca1a-467d-8cc4-04a7a4bc32e1_thumb.png\">Preview</a>"
          ],
          [
           "2019-10-10",
           "PlanetScope",
           0,
           "<a href=\"https://preview.planet.terrastream.ca/planet/planetscope/d5530c34-479f-4425-8e6e-fa5d2f6307fc_thumb.png\">Preview</a>"
          ],
          [
           "2019-10-12",
           "PlanetScope",
           3,
           "<a href=\"https://preview.planet.terrastream.ca/planet/planetscope/63042922-2067-41fd-9943-737022757e3a_thumb.png\">Preview</a>"
          ],
          [
           "2019-10-13",
           "PlanetScope",
           0,
           "<a href=\"https://preview.planet.terrastream.ca/planet/planetscope/0dbe7ada-2e5c-4613-bfa5-9ffe07d27c0e_thumb.png\">Preview</a>"
          ],
          [
           "2019-10-15",
           "PlanetScope",
           0,
           "<a href=\"https://preview.planet.terrastream.ca/planet/planetscope/a0cc914c-34c6-4389-9260-052e71a7f5c9_thumb.png\">Preview</a>"
          ],
          [
           "2019-10-17",
           "PlanetScope",
           0,
           "<a href=\"https://preview.planet.terrastream.ca/planet/planetscope/d50a34ed-b1e9-40bb-a35a-91201d73e591_thumb.png\">Preview</a>"
          ],
          [
           "2019-10-18",
           "PlanetScope",
           0,
           "<a href=\"https://preview.planet.terrastream.ca/planet/planetscope/76fd39b9-0a89-43d8-b520-2d5e54ccac74_thumb.png\">Preview</a>"
          ],
          [
           "2019-10-19",
           "PlanetScope",
           0,
           "<a href=\"https://preview.planet.terrastream.ca/planet/planetscope/624fa473-9217-415f-8dee-b7bdf0c3cc6c_thumb.png\">Preview</a>"
          ],
          [
           "2019-10-25",
           "PlanetScope",
           0,
           "<a href=\"https://preview.planet.terrastream.ca/planet/planetscope/6c97a828-ddb9-4958-998c-2d6deebfca19_thumb.png\">Preview</a>"
          ],
          [
           "2019-10-28",
           "PlanetScope",
           0,
           "<a href=\"https://preview.planet.terrastream.ca/planet/planetscope/faf4502b-a385-4e65-95e1-aa6b5df79969_thumb.png\">Preview</a>"
          ],
          [
           "2019-11-03",
           "PlanetScope",
           0,
           "<a href=\"https://preview.planet.terrastream.ca/planet/planetscope/430c6a30-e6cd-4cc7-ae05-ea52570cce47_thumb.png\">Preview</a>"
          ],
          [
           "2019-11-04",
           "PlanetScope",
           0,
           "<a href=\"https://preview.planet.terrastream.ca/planet/planetscope/f8fbd346-4b81-493c-b4fe-8b6b3f00970e_thumb.png\">Preview</a>"
          ],
          [
           "2019-11-05",
           "PlanetScope",
           18,
           "<a href=\"https://preview.planet.terrastream.ca/planet/planetscope/163587c1-f84f-4c43-8071-078ae3d4c524_thumb.png\">Preview</a>"
          ],
          [
           "2019-11-06",
           "PlanetScope",
           0,
           "<a href=\"https://preview.planet.terrastream.ca/planet/planetscope/771f7dd4-635d-4b09-b878-4f97e0cb5bb5_thumb.png\">Preview</a>"
          ],
          [
           "2019-11-14",
           "PlanetScope",
           4,
           "<a href=\"https://preview.planet.terrastream.ca/planet/planetscope/c4666de6-0c13-43fb-b195-5a5b7891d01c_thumb.png\">Preview</a>"
          ],
          [
           "2019-11-16",
           "PlanetScope",
           0,
           "<a href=\"https://preview.planet.terrastream.ca/planet/planetscope/e62070ac-8ba4-4254-b004-fdb0082a0a49_thumb.png\">Preview</a>"
          ],
          [
           "2019-11-17",
           "PlanetScope",
           0,
           "<a href=\"https://preview.planet.terrastream.ca/planet/planetscope/2c8415d2-de1b-4981-b959-26551a72095f_thumb.png\">Preview</a>"
          ],
          [
           "2019-11-18",
           "PlanetScope",
           0,
           "<a href=\"https://preview.planet.terrastream.ca/planet/planetscope/2b97b633-248b-4114-9907-54429809ad3f_thumb.png\">Preview</a>"
          ],
          [
           "2019-11-19",
           "PlanetScope",
           0,
           "<a href=\"https://preview.planet.terrastream.ca/planet/planetscope/da4ec320-efe0-415c-bdbb-5c90cf7797de_thumb.png\">Preview</a>"
          ],
          [
           "2019-11-25",
           "PlanetScope",
           0,
           "<a href=\"https://preview.planet.terrastream.ca/planet/planetscope/e44c50b1-c0b8-4af3-bc25-6bcb59f0bfa7_thumb.png\">Preview</a>"
          ],
          [
           "2019-11-27",
           "PlanetScope",
           0,
           "<a href=\"https://preview.planet.terrastream.ca/planet/planetscope/cb2b4450-8595-4022-9f7a-c692d31f778e_thumb.png\">Preview</a>"
          ],
          [
           "2019-11-28",
           "PlanetScope",
           0,
           "<a href=\"https://preview.planet.terrastream.ca/planet/planetscope/fa2b290f-ccea-4291-b9f7-e8020e0d0da1_thumb.png\">Preview</a>"
          ],
          [
           "2019-11-29",
           "PlanetScope",
           0,
           "<a href=\"https://preview.planet.terrastream.ca/planet/planetscope/2dfcb0c4-09e2-470c-8b88-51be6a79e18c_thumb.png\">Preview</a>"
          ],
          [
           "2019-12-01",
           "PlanetScope",
           0,
           "<a href=\"https://preview.planet.terrastream.ca/planet/planetscope/0c695382-be2a-4ce9-9394-32d675d1fe31_thumb.png\">Preview</a>"
          ],
          [
           "2019-12-07",
           "PlanetScope",
           3,
           "<a href=\"https://preview.planet.terrastream.ca/planet/planetscope/b67f68c4-ad42-43d6-a408-dab84a9358a7_thumb.png\">Preview</a>"
          ],
          [
           "2019-12-14",
           "PlanetScope",
           0,
           "<a href=\"https://preview.planet.terrastream.ca/planet/planetscope/2689bdb3-c192-41f9-915a-4aefd0bb803c_thumb.png\">Preview</a>"
          ],
          [
           "2019-12-18",
           "PlanetScope",
           0,
           "<a href=\"https://preview.planet.terrastream.ca/planet/planetscope/86b761bf-3a82-4b78-b1f0-de464312b357_thumb.png\">Preview</a>"
          ],
          [
           "2019-12-20",
           "PlanetScope",
           0,
           "<a href=\"https://preview.planet.terrastream.ca/planet/planetscope/d5eaf2dd-5b4d-49ca-94c5-ac2b344fc60d_thumb.png\">Preview</a>"
          ],
          [
           "2019-12-26",
           "PlanetScope",
           0,
           "<a href=\"https://preview.planet.terrastream.ca/planet/planetscope/6a60a640-9e1b-4888-8333-fe0ea0087104_thumb.png\">Preview</a>"
          ],
          [
           "2019-12-29",
           "PlanetScope",
           0,
           "<a href=\"https://preview.planet.terrastream.ca/planet/planetscope/8a1fc20e-826e-4eec-9a97-fc6dfddfc102_thumb.png\">Preview</a>"
          ],
          [
           "2020-01-02",
           "PlanetScope",
           5,
           "<a href=\"https://preview.planet.terrastream.ca/planet/planetscope/255af68e-cf6c-4f90-b856-a2618f963769_thumb.png\">Preview</a>"
          ],
          [
           "2020-01-05",
           "PlanetScope",
           2,
           "<a href=\"https://preview.planet.terrastream.ca/planet/planetscope/e1213cc9-9572-41b6-ae6b-188d57b6f137_thumb.png\">Preview</a>"
          ],
          [
           "2020-01-09",
           "PlanetScope",
           24,
           "<a href=\"https://preview.planet.terrastream.ca/planet/planetscope/0a2cd7c5-0f00-4206-bf2a-a2dae7987035_thumb.png\">Preview</a>"
          ],
          [
           "2020-01-27",
           "PlanetScope",
           0,
           "<a href=\"https://preview.planet.terrastream.ca/planet/planetscope/4b386b34-18b0-4807-b282-258364fd08a4_thumb.png\">Preview</a>"
          ],
          [
           "2020-01-29",
           "PlanetScope",
           2,
           "<a href=\"https://preview.planet.terrastream.ca/planet/planetscope/b803b21a-8303-4929-b7f4-5e339c8bee3f_thumb.png\">Preview</a>"
          ],
          [
           "2020-02-01",
           "PlanetScope",
           0,
           "<a href=\"https://preview.planet.terrastream.ca/planet/planetscope/660838f0-aa72-4031-a5c6-5251d809ccfa_thumb.png\">Preview</a>"
          ],
          [
           "2020-02-07",
           "PlanetScope",
           0,
           "<a href=\"https://preview.planet.terrastream.ca/planet/planetscope/6ae0b1c2-cbf6-4b8e-af90-f0737e70a52a_thumb.png\">Preview</a>"
          ],
          [
           "2020-02-14",
           "PlanetScope",
           0,
           "<a href=\"https://preview.planet.terrastream.ca/planet/planetscope/68b06bb0-eedf-46d4-b05e-899aab915273_thumb.png\">Preview</a>"
          ],
          [
           "2020-02-15",
           "PlanetScope",
           0,
           "<a href=\"https://preview.planet.terrastream.ca/planet/planetscope/be83c86d-f671-48cb-a504-5dfeaa56311d_thumb.png\">Preview</a>"
          ],
          [
           "2020-02-20",
           "PlanetScope",
           15,
           "<a href=\"https://preview.planet.terrastream.ca/planet/planetscope/ee654d90-d79f-45a3-bea7-e4e1ba0ac93b_thumb.png\">Preview</a>"
          ],
          [
           "2020-02-21",
           "PlanetScope",
           20,
           "<a href=\"https://preview.planet.terrastream.ca/planet/planetscope/13e64f8e-f9a6-4a73-8f07-651ec5530640_thumb.png\">Preview</a>"
          ],
          [
           "2020-03-10",
           "PlanetScope",
           11,
           "<a href=\"https://preview.planet.terrastream.ca/planet/planetscope/f4e422f5-4c51-410f-ae83-e6b2d40ec485_thumb.png\">Preview</a>"
          ],
          [
           "2020-03-19",
           "PlanetScope",
           14,
           "<a href=\"https://preview.planet.terrastream.ca/planet/planetscope/d60aa5e9-ce4b-40fb-9de1-4e0a5ae6db1d_thumb.png\">Preview</a>"
          ],
          [
           "2020-03-23",
           "PlanetScope",
           2,
           "<a href=\"https://preview.planet.terrastream.ca/planet/planetscope/d7bd8ef4-54b0-496e-a8d5-23b1df2d5a35_thumb.png\">Preview</a>"
          ],
          [
           "2020-03-25",
           "PlanetScope",
           0,
           "<a href=\"https://preview.planet.terrastream.ca/planet/planetscope/d349e78a-b89c-480b-8db2-7c2a404c7967_thumb.png\">Preview</a>"
          ],
          [
           "2020-03-29",
           "PlanetScope",
           0,
           "<a href=\"https://preview.planet.terrastream.ca/planet/planetscope/d42aa65c-de2b-4034-9bf4-5e38f234e44a_thumb.png\">Preview</a>"
          ],
          [
           "2020-03-30",
           "PlanetScope",
           0,
           "<a href=\"https://preview.planet.terrastream.ca/planet/planetscope/7ac09f6e-2085-4cbc-85bd-fe73aa98d95a_thumb.png\">Preview</a>"
          ],
          [
           "2020-04-01",
           "PlanetScope",
           0,
           "<a href=\"https://preview.planet.terrastream.ca/planet/planetscope/daff6f4c-f22b-4d55-8dc4-71837d9ef769_thumb.png\">Preview</a>"
          ],
          [
           "2020-04-06",
           "PlanetScope",
           0,
           "<a href=\"https://preview.planet.terrastream.ca/planet/planetscope/9fc9b014-d11c-4715-912b-24743481dbc5_thumb.png\">Preview</a>"
          ],
          [
           "2020-04-11",
           "PlanetScope",
           4,
           "<a href=\"https://preview.planet.terrastream.ca/planet/planetscope/2df19dac-f644-4aaa-bce7-752030e91b8b_thumb.png\">Preview</a>"
          ],
          [
           "2020-04-12",
           "PlanetScope",
           0,
           "<a href=\"https://preview.planet.terrastream.ca/planet/planetscope/34a06ea4-a6f0-4fb2-8dad-05459032e5d6_thumb.png\">Preview</a>"
          ],
          [
           "2020-04-13",
           "PlanetScope",
           0,
           "<a href=\"https://preview.planet.terrastream.ca/planet/planetscope/8dee335d-88c4-42a5-88ad-dd4d9b32ea1e_thumb.png\">Preview</a>"
          ],
          [
           "2020-04-14",
           "PlanetScope",
           0,
           "<a href=\"https://preview.planet.terrastream.ca/planet/planetscope/b453f447-90cf-4a30-bd40-b01328ac442c_thumb.png\">Preview</a>"
          ],
          [
           "2020-04-16",
           "PlanetScope",
           2,
           "<a href=\"https://preview.planet.terrastream.ca/planet/planetscope/54a94a33-f597-4b0c-a941-37ab1b28e09e_thumb.png\">Preview</a>"
          ],
          [
           "2020-04-20",
           "PlanetScope",
           3,
           "<a href=\"https://preview.planet.terrastream.ca/planet/planetscope/eba1b93b-21ad-4ffb-ad84-2c451f20936c_thumb.png\">Preview</a>"
          ],
          [
           "2020-04-22",
           "PlanetScope",
           23,
           "<a href=\"https://preview.planet.terrastream.ca/planet/planetscope/b6b054ce-7112-4be8-996a-8739acb35d9e_thumb.png\">Preview</a>"
          ],
          [
           "2020-04-25",
           "PlanetScope",
           0,
           "<a href=\"https://preview.planet.terrastream.ca/planet/planetscope/1f456ee7-616b-43b0-aae8-0a63d8172836_thumb.png\">Preview</a>"
          ],
          [
           "2020-04-29",
           "PlanetScope",
           21,
           "<a href=\"https://preview.planet.terrastream.ca/planet/planetscope/de9a9967-f7d7-40e5-a6a8-9e1975767b73_thumb.png\">Preview</a>"
          ],
          [
           "2020-04-30",
           "PlanetScope",
           2,
           "<a href=\"https://preview.planet.terrastream.ca/planet/planetscope/1c8c00a9-0e2f-4835-a4e4-aba930a6504a_thumb.png\">Preview</a>"
          ],
          [
           "2020-05-01",
           "PlanetScope",
           0,
           "<a href=\"https://preview.planet.terrastream.ca/planet/planetscope/31ce4899-dbeb-4fce-a197-8898555767fb_thumb.png\">Preview</a>"
          ],
          [
           "2020-05-02",
           "PlanetScope-SuperDove",
           0,
           "<a href=\"https://preview.planet.terrastream.ca/planet/planetscope-superdove/c668ab2c-638f-4dfb-a89f-8d72d84c53dd_thumb.png\">Preview</a>"
          ],
          [
           "2020-05-03",
           "PlanetScope",
           0,
           "<a href=\"https://preview.planet.terrastream.ca/planet/planetscope/d8d0d1c3-2c4f-4485-9e8d-def3231dd327_thumb.png\">Preview</a>"
          ],
          [
           "2020-05-04",
           "PlanetScope",
           0,
           "<a href=\"https://preview.planet.terrastream.ca/planet/planetscope/f353192b-4a16-4525-88d5-131fa364d48e_thumb.png\">Preview</a>"
          ],
          [
           "2020-05-06",
           "PlanetScope",
           0,
           "<a href=\"https://preview.planet.terrastream.ca/planet/planetscope/f55aa5d1-a46a-474d-8ea7-454ea8125083_thumb.png\">Preview</a>"
          ],
          [
           "2020-05-10",
           "PlanetScope",
           4,
           "<a href=\"https://preview.planet.terrastream.ca/planet/planetscope/cba83dab-38b1-4bdd-89a1-d82ebff7f6fc_thumb.png\">Preview</a>"
          ],
          [
           "2020-05-13",
           "PlanetScope",
           2,
           "<a href=\"https://preview.planet.terrastream.ca/planet/planetscope/aa74d7f8-11f5-4f98-9264-8a3a74482b95_thumb.png\">Preview</a>"
          ],
          [
           "2020-05-18",
           "PlanetScope",
           0,
           "<a href=\"https://preview.planet.terrastream.ca/planet/planetscope/f2fe340e-528e-4b74-8c45-091932cd0ecf_thumb.png\">Preview</a>"
          ],
          [
           "2020-05-19",
           "PlanetScope",
           0,
           "<a href=\"https://preview.planet.terrastream.ca/planet/planetscope/be9fa2be-33e2-4c4f-82d9-a2627960be6b_thumb.png\">Preview</a>"
          ],
          [
           "2020-05-23",
           "PlanetScope",
           0,
           "<a href=\"https://preview.planet.terrastream.ca/planet/planetscope/7c84d49f-7ecd-411c-bc45-99731ad10f27_thumb.png\">Preview</a>"
          ],
          [
           "2020-05-25",
           "PlanetScope",
           0,
           "<a href=\"https://preview.planet.terrastream.ca/planet/planetscope/0e18a287-b79d-4a02-9ec0-f1f29b3ddf06_thumb.png\">Preview</a>"
          ],
          [
           "2020-05-26",
           "PlanetScope-SuperDove",
           0,
           "<a href=\"https://preview.planet.terrastream.ca/planet/planetscope-superdove/cecbc9ff-0c05-4b6e-8366-c56806a7c0de_thumb.png\">Preview</a>"
          ],
          [
           "2020-05-29",
           "PlanetScope",
           0,
           "<a href=\"https://preview.planet.terrastream.ca/planet/planetscope/f12bf1fd-b491-48b3-b647-7cf8b46137bc_thumb.png\">Preview</a>"
          ],
          [
           "2020-05-30",
           "PlanetScope-SuperDove",
           0,
           "<a href=\"https://preview.planet.terrastream.ca/planet/planetscope-superdove/8ce48e7e-cb1a-42c9-84d9-32f71f1695d9_thumb.png\">Preview</a>"
          ],
          [
           "2020-05-31",
           "PlanetScope",
           0,
           "<a href=\"https://preview.planet.terrastream.ca/planet/planetscope/8906a792-8c44-42b7-b943-0714f41a6d07_thumb.png\">Preview</a>"
          ],
          [
           "2020-06-03",
           "PlanetScope",
           0,
           "<a href=\"https://preview.planet.terrastream.ca/planet/planetscope/939b75e9-14f1-4365-a89f-8cc418d37571_thumb.png\">Preview</a>"
          ],
          [
           "2020-06-04",
           "PlanetScope-SuperDove",
           17,
           "<a href=\"https://preview.planet.terrastream.ca/planet/planetscope-superdove/03ca21c6-63c5-4e9c-9532-e733e11e34f4_thumb.png\">Preview</a>"
          ],
          [
           "2020-06-06",
           "PlanetScope",
           1,
           "<a href=\"https://preview.planet.terrastream.ca/planet/planetscope/1cdee93a-3d81-4536-9fe2-76186d5289e3_thumb.png\">Preview</a>"
          ],
          [
           "2020-06-07",
           "PlanetScope",
           0,
           "<a href=\"https://preview.planet.terrastream.ca/planet/planetscope/0b93de02-6018-4223-8a2c-7f41eb78aa00_thumb.png\">Preview</a>"
          ],
          [
           "2020-06-08",
           "PlanetScope",
           0,
           "<a href=\"https://preview.planet.terrastream.ca/planet/planetscope/c9eb963a-23aa-4986-8321-f28c537c6284_thumb.png\">Preview</a>"
          ],
          [
           "2020-06-11",
           "PlanetScope",
           0,
           "<a href=\"https://preview.planet.terrastream.ca/planet/planetscope/788f5c5a-19df-4e66-abfa-23fb9a24bd44_thumb.png\">Preview</a>"
          ],
          [
           "2020-06-12",
           "PlanetScope",
           0,
           "<a href=\"https://preview.planet.terrastream.ca/planet/planetscope/89db6dca-7477-4efa-a4f1-181152d15a07_thumb.png\">Preview</a>"
          ],
          [
           "2020-06-14",
           "PlanetScope",
           0,
           "<a href=\"https://preview.planet.terrastream.ca/planet/planetscope/7001932d-db22-4089-ba7a-e1130f1a5080_thumb.png\">Preview</a>"
          ],
          [
           "2020-06-16",
           "PlanetScope",
           1,
           "<a href=\"https://preview.planet.terrastream.ca/planet/planetscope/7485f4f2-2ad6-4d1b-99f4-729517b9a56b_thumb.png\">Preview</a>"
          ],
          [
           "2020-06-20",
           "PlanetScope",
           0,
           "<a href=\"https://preview.planet.terrastream.ca/planet/planetscope/cb00fc0d-c1cb-403e-b7e6-4a75e83ae24a_thumb.png\">Preview</a>"
          ],
          [
           "2020-06-23",
           "PlanetScope",
           0,
           "<a href=\"https://preview.planet.terrastream.ca/planet/planetscope/8886fa23-58e3-418a-b15c-7c7d50411ac2_thumb.png\">Preview</a>"
          ],
          [
           "2020-06-25",
           "PlanetScope",
           9,
           "<a href=\"https://preview.planet.terrastream.ca/planet/planetscope/0148973d-0938-46a9-b9a8-e33da1f788ab_thumb.png\">Preview</a>"
          ],
          [
           "2020-06-26",
           "PlanetScope",
           0,
           "<a href=\"https://preview.planet.terrastream.ca/planet/planetscope/01a5a904-031c-4d9b-a7aa-2a38f3b6eebd_thumb.png\">Preview</a>"
          ],
          [
           "2020-06-30",
           "PlanetScope-SuperDove",
           0,
           "<a href=\"https://preview.planet.terrastream.ca/planet/planetscope-superdove/611401eb-0f0d-4460-b680-406aed89ca48_thumb.png\">Preview</a>"
          ],
          [
           "2020-07-03",
           "PlanetScope",
           0,
           "<a href=\"https://preview.planet.terrastream.ca/planet/planetscope/58aefff3-4098-40fd-af20-ddbb2d1ca884_thumb.png\">Preview</a>"
          ],
          [
           "2020-07-05",
           "PlanetScope",
           0,
           "<a href=\"https://preview.planet.terrastream.ca/planet/planetscope/fe34de09-0c33-4176-83dc-2b4927ef8ad5_thumb.png\">Preview</a>"
          ],
          [
           "2020-07-06",
           "PlanetScope",
           0,
           "<a href=\"https://preview.planet.terrastream.ca/planet/planetscope/2a8eb1d5-7cbc-4f63-b522-8598436b8098_thumb.png\">Preview</a>"
          ],
          [
           "2020-07-13",
           "PlanetScope-SuperDove",
           0,
           "<a href=\"https://preview.planet.terrastream.ca/planet/planetscope-superdove/a73c3596-bad1-4af8-98d9-81192642a1aa_thumb.png\">Preview</a>"
          ],
          [
           "2020-07-15",
           "PlanetScope-SuperDove",
           0,
           "<a href=\"https://preview.planet.terrastream.ca/planet/planetscope-superdove/d6522d5a-477c-4f4a-9c76-bbe3c902efe2_thumb.png\">Preview</a>"
          ],
          [
           "2020-07-18",
           "PlanetScope",
           0,
           "<a href=\"https://preview.planet.terrastream.ca/planet/planetscope/2fbcb988-1a87-4875-bea2-63eb4a13f7b6_thumb.png\">Preview</a>"
          ],
          [
           "2020-07-20",
           "PlanetScope",
           5,
           "<a href=\"https://preview.planet.terrastream.ca/planet/planetscope/1c4591a4-089c-42a3-bd46-47a05b0b2235_thumb.png\">Preview</a>"
          ],
          [
           "2020-07-29",
           "PlanetScope",
           0,
           "<a href=\"https://preview.planet.terrastream.ca/planet/planetscope/d8671fcc-dfac-4bb2-aa0f-3172265625db_thumb.png\">Preview</a>"
          ],
          [
           "2020-08-01",
           "PlanetScope",
           0,
           "<a href=\"https://preview.planet.terrastream.ca/planet/planetscope/f8f707a6-bf0c-4b93-a991-277e2f657010_thumb.png\">Preview</a>"
          ],
          [
           "2020-08-03",
           "PlanetScope-SuperDove",
           0,
           "<a href=\"https://preview.planet.terrastream.ca/planet/planetscope-superdove/00126378-5523-42ed-aa5e-154223107a61_thumb.png\">Preview</a>"
          ],
          [
           "2020-08-05",
           "PlanetScope-SuperDove",
           0,
           "<a href=\"https://preview.planet.terrastream.ca/planet/planetscope-superdove/5804b761-4822-4972-b8c5-5f33d4752fc7_thumb.png\">Preview</a>"
          ],
          [
           "2020-08-06",
           "PlanetScope",
           0,
           "<a href=\"https://preview.planet.terrastream.ca/planet/planetscope/94b6fb9f-d255-4803-a98e-4a841882773b_thumb.png\">Preview</a>"
          ],
          [
           "2020-08-09",
           "PlanetScope",
           0,
           "<a href=\"https://preview.planet.terrastream.ca/planet/planetscope/47f96a20-ac56-4f11-8188-e0bf7f836513_thumb.png\">Preview</a>"
          ],
          [
           "2020-08-10",
           "PlanetScope",
           0,
           "<a href=\"https://preview.planet.terrastream.ca/planet/planetscope/b388d5df-116f-4f4f-bc44-41aff1b7015d_thumb.png\">Preview</a>"
          ],
          [
           "2020-08-12",
           "PlanetScope-SuperDove",
           0,
           "<a href=\"https://preview.planet.terrastream.ca/planet/planetscope-superdove/ade24214-e0e7-45b4-a232-71a8de8479a4_thumb.png\">Preview</a>"
          ],
          [
           "2020-08-19",
           "PlanetScope",
           0,
           "<a href=\"https://preview.planet.terrastream.ca/planet/planetscope/08bac954-32c6-4b75-a5ed-8e504d353906_thumb.png\">Preview</a>"
          ],
          [
           "2020-08-24",
           "PlanetScope",
           0,
           "<a href=\"https://preview.planet.terrastream.ca/planet/planetscope/ce460a8e-2db1-451a-abcc-bddd1088d0aa_thumb.png\">Preview</a>"
          ],
          [
           "2020-08-26",
           "PlanetScope-SuperDove",
           0,
           "<a href=\"https://preview.planet.terrastream.ca/planet/planetscope-superdove/b242a05c-8696-43a3-8c8c-cf51906713b7_thumb.png\">Preview</a>"
          ],
          [
           "2020-08-28",
           "PlanetScope",
           0,
           "<a href=\"https://preview.planet.terrastream.ca/planet/planetscope/c053dbaa-1575-45f6-bdbe-d473dcf25ac3_thumb.png\">Preview</a>"
          ],
          [
           "2020-09-04",
           "PlanetScope-SuperDove",
           0,
           "<a href=\"https://preview.planet.terrastream.ca/planet/planetscope-superdove/9c076a77-008f-4dbf-92cc-7239485da216_thumb.png\">Preview</a>"
          ],
          [
           "2020-09-13",
           "PlanetScope",
           10,
           "<a href=\"https://preview.planet.terrastream.ca/planet/planetscope/c217176d-9386-4652-96e7-93b4b19844b2_thumb.png\">Preview</a>"
          ],
          [
           "2020-09-15",
           "PlanetScope",
           0,
           "<a href=\"https://preview.planet.terrastream.ca/planet/planetscope/c407c512-1d06-4a4f-bcd3-ecdd58816e78_thumb.png\">Preview</a>"
          ],
          [
           "2020-09-16",
           "PlanetScope",
           0,
           "<a href=\"https://preview.planet.terrastream.ca/planet/planetscope/268649e5-7865-45d9-b299-1b455385c5da_thumb.png\">Preview</a>"
          ],
          [
           "2020-09-19",
           "PlanetScope-SuperDove",
           0,
           "<a href=\"https://preview.planet.terrastream.ca/planet/planetscope-superdove/ec2bab77-71b6-4fd8-81d3-36b2df83bb80_thumb.png\">Preview</a>"
          ],
          [
           "2020-09-20",
           "PlanetScope-SuperDove",
           0,
           "<a href=\"https://preview.planet.terrastream.ca/planet/planetscope-superdove/184525f1-190d-47c4-9ce9-8925431e4424_thumb.png\">Preview</a>"
          ],
          [
           "2020-09-21",
           "PlanetScope-SuperDove",
           0,
           "<a href=\"https://preview.planet.terrastream.ca/planet/planetscope-superdove/050ab342-faf5-4a20-a327-9e4d148ec16a_thumb.png\">Preview</a>"
          ],
          [
           "2020-09-24",
           "PlanetScope",
           0,
           "<a href=\"https://preview.planet.terrastream.ca/planet/planetscope/b3b5b054-2e1e-4a51-bcc3-9e7823c4a956_thumb.png\">Preview</a>"
          ],
          [
           "2020-09-25",
           "PlanetScope",
           0,
           "<a href=\"https://preview.planet.terrastream.ca/planet/planetscope/3d735b82-9a98-42ac-8a9f-a36bad167572_thumb.png\">Preview</a>"
          ],
          [
           "2020-09-27",
           "PlanetScope",
           0,
           "<a href=\"https://preview.planet.terrastream.ca/planet/planetscope/61e19325-1b29-48c4-9482-ec7295401d7b_thumb.png\">Preview</a>"
          ],
          [
           "2020-10-09",
           "PlanetScope",
           16,
           "<a href=\"https://preview.planet.terrastream.ca/planet/planetscope/10494f5b-55b6-49fe-9f0c-e00031c44298_thumb.png\">Preview</a>"
          ],
          [
           "2020-10-10",
           "PlanetScope-SuperDove",
           0,
           "<a href=\"https://preview.planet.terrastream.ca/planet/planetscope-superdove/6e271eda-9106-49bf-9115-807a5a3406c7_thumb.png\">Preview</a>"
          ],
          [
           "2020-10-18",
           "PlanetScope",
           0,
           "<a href=\"https://preview.planet.terrastream.ca/planet/planetscope/0f0c772e-c0c4-4bbe-950f-8c59fcb4ee6f_thumb.png\">Preview</a>"
          ],
          [
           "2020-10-20",
           "PlanetScope",
           0,
           "<a href=\"https://preview.planet.terrastream.ca/planet/planetscope/fd7b88e5-2dc6-4c79-95fb-caa136a31290_thumb.png\">Preview</a>"
          ],
          [
           "2020-10-22",
           "PlanetScope",
           23,
           "<a href=\"https://preview.planet.terrastream.ca/planet/planetscope/56a695fc-5fb0-4409-bb53-2eecb2ee1440_thumb.png\">Preview</a>"
          ],
          [
           "2020-10-24",
           "PlanetScope-SuperDove",
           9,
           "<a href=\"https://preview.planet.terrastream.ca/planet/planetscope-superdove/bda4664e-9f68-4702-8105-259f8d8cf812_thumb.png\">Preview</a>"
          ],
          [
           "2020-10-26",
           "PlanetScope",
           0,
           "<a href=\"https://preview.planet.terrastream.ca/planet/planetscope/a44280fc-22d3-4b88-afc8-dba7864eb436_thumb.png\">Preview</a>"
          ],
          [
           "2020-10-27",
           "PlanetScope",
           0,
           "<a href=\"https://preview.planet.terrastream.ca/planet/planetscope/f5df89b5-e223-466d-8b30-11906d6b9e83_thumb.png\">Preview</a>"
          ],
          [
           "2020-10-28",
           "PlanetScope",
           0,
           "<a href=\"https://preview.planet.terrastream.ca/planet/planetscope/9e6267d5-2c20-485a-977e-60c0c3b10636_thumb.png\">Preview</a>"
          ],
          [
           "2020-10-29",
           "PlanetScope",
           0,
           "<a href=\"https://preview.planet.terrastream.ca/planet/planetscope/4861c8cc-bcca-4f72-83b4-a491877f71ac_thumb.png\">Preview</a>"
          ],
          [
           "2020-10-30",
           "PlanetScope",
           0,
           "<a href=\"https://preview.planet.terrastream.ca/planet/planetscope/b06e854d-74e8-491d-b468-f185069f75f1_thumb.png\">Preview</a>"
          ],
          [
           "2020-11-02",
           "PlanetScope",
           4,
           "<a href=\"https://preview.planet.terrastream.ca/planet/planetscope/723f5503-00af-4faf-a5a5-eaeee4331f4b_thumb.png\">Preview</a>"
          ],
          [
           "2020-11-03",
           "PlanetScope-SuperDove",
           0,
           "<a href=\"https://preview.planet.terrastream.ca/planet/planetscope-superdove/c31ec0c4-0554-4010-955f-692bbbd60d4e_thumb.png\">Preview</a>"
          ],
          [
           "2020-11-07",
           "PlanetScope",
           0,
           "<a href=\"https://preview.planet.terrastream.ca/planet/planetscope/abe4305f-894e-4204-8174-9160859facda_thumb.png\">Preview</a>"
          ],
          [
           "2020-11-08",
           "PlanetScope-SuperDove",
           10,
           "<a href=\"https://preview.planet.terrastream.ca/planet/planetscope-superdove/e00e099e-c8ea-4a04-94aa-6761601a5b75_thumb.png\">Preview</a>"
          ],
          [
           "2020-11-09",
           "PlanetScope-SuperDove",
           0,
           "<a href=\"https://preview.planet.terrastream.ca/planet/planetscope-superdove/420bdaa0-0279-4b24-b66b-f8220b12be7c_thumb.png\">Preview</a>"
          ],
          [
           "2020-11-13",
           "PlanetScope",
           1,
           "<a href=\"https://preview.planet.terrastream.ca/planet/planetscope/122c4b3c-9184-4021-88ef-95f6e084ac1f_thumb.png\">Preview</a>"
          ],
          [
           "2020-11-14",
           "PlanetScope-SuperDove",
           0,
           "<a href=\"https://preview.planet.terrastream.ca/planet/planetscope-superdove/a10ab2e9-020c-4954-a5cf-346ebc2a43dd_thumb.png\">Preview</a>"
          ],
          [
           "2020-11-15",
           "PlanetScope-SuperDove",
           0,
           "<a href=\"https://preview.planet.terrastream.ca/planet/planetscope-superdove/406d502e-d737-40a4-a7d5-531e8ea597c6_thumb.png\">Preview</a>"
          ],
          [
           "2020-11-17",
           "PlanetScope-SuperDove",
           0,
           "<a href=\"https://preview.planet.terrastream.ca/planet/planetscope-superdove/ff895838-e8f7-444f-b630-0106ca282425_thumb.png\">Preview</a>"
          ],
          [
           "2020-11-22",
           "PlanetScope",
           2,
           "<a href=\"https://preview.planet.terrastream.ca/planet/planetscope/4767d1bc-d286-4507-aba7-631575ad4603_thumb.png\">Preview</a>"
          ],
          [
           "2020-11-24",
           "PlanetScope",
           0,
           "<a href=\"https://preview.planet.terrastream.ca/planet/planetscope/350be047-5b52-4172-9c06-04bc8fb64f44_thumb.png\">Preview</a>"
          ],
          [
           "2020-12-12",
           "PlanetScope-SuperDove",
           0,
           "<a href=\"https://preview.planet.terrastream.ca/planet/planetscope-superdove/28058738-ad54-4832-9418-8254b3935926_thumb.png\">Preview</a>"
          ],
          [
           "2020-12-22",
           "PlanetScope-SuperDove",
           0,
           "<a href=\"https://preview.planet.terrastream.ca/planet/planetscope-superdove/3eb51df7-4a25-4a6b-abd5-2dc6005378ed_thumb.png\">Preview</a>"
          ],
          [
           "2020-12-23",
           "PlanetScope",
           0,
           "<a href=\"https://preview.planet.terrastream.ca/planet/planetscope/2ff1fd67-047c-43af-8f75-f17d6b19fe95_thumb.png\">Preview</a>"
          ],
          [
           "2020-12-28",
           "PlanetScope-SuperDove",
           24,
           "<a href=\"https://preview.planet.terrastream.ca/planet/planetscope-superdove/46b17ed9-7c79-4eb3-af5d-28415ef90c6d_thumb.png\">Preview</a>"
          ],
          [
           "2021-01-16",
           "PlanetScope",
           5,
           "<a href=\"https://preview.planet.terrastream.ca/planet/planetscope/01be453b-c264-4ff5-a2ff-71e7548c0c1e_thumb.png\">Preview</a>"
          ],
          [
           "2021-02-01",
           "PlanetScope",
           9,
           "<a href=\"https://preview.planet.terrastream.ca/planet/planetscope/46f21cd2-7046-49d0-bc9b-a2899e2b05c6_thumb.png\">Preview</a>"
          ],
          [
           "2021-02-09",
           "PlanetScope",
           23,
           "<a href=\"https://preview.planet.terrastream.ca/planet/planetscope/a8ee8f04-62e6-4975-92b2-feaea84490ee_thumb.png\">Preview</a>"
          ],
          [
           "2021-02-19",
           "PlanetScope-SuperDove",
           5,
           "<a href=\"https://preview.planet.terrastream.ca/planet/planetscope-superdove/9504d47f-f4ec-4287-acf0-271266326bdd_thumb.png\">Preview</a>"
          ],
          [
           "2021-02-20",
           "PlanetScope",
           0,
           "<a href=\"https://preview.planet.terrastream.ca/planet/planetscope/44fc0706-9568-4e07-b77d-73b23cbc5c6f_thumb.png\">Preview</a>"
          ],
          [
           "2021-02-25",
           "PlanetScope-SuperDove",
           15,
           "<a href=\"https://preview.planet.terrastream.ca/planet/planetscope-superdove/5ba9d886-31de-4624-a1b0-85e87e93e8e3_thumb.png\">Preview</a>"
          ],
          [
           "2021-03-04",
           "PlanetScope-SuperDove",
           3,
           "<a href=\"https://preview.planet.terrastream.ca/planet/planetscope-superdove/2a83036c-2e66-4500-ba5b-47035b4c7b63_thumb.png\">Preview</a>"
          ],
          [
           "2021-03-05",
           "PlanetScope",
           0,
           "<a href=\"https://preview.planet.terrastream.ca/planet/planetscope/91703b06-17f9-4bd4-9b55-490b7ae5d940_thumb.png\">Preview</a>"
          ],
          [
           "2021-03-08",
           "PlanetScope",
           3,
           "<a href=\"https://preview.planet.terrastream.ca/planet/planetscope/ed94e677-a06f-4760-8b54-0440dfcb01a1_thumb.png\">Preview</a>"
          ],
          [
           "2021-03-09",
           "PlanetScope",
           0,
           "<a href=\"https://preview.planet.terrastream.ca/planet/planetscope/db91530c-11fa-4b1d-b562-b1f53f47856d_thumb.png\">Preview</a>"
          ],
          [
           "2021-03-11",
           "PlanetScope-SuperDove",
           0,
           "<a href=\"https://preview.planet.terrastream.ca/planet/planetscope-superdove/b52d1e33-3fce-4d46-ae30-b093a17fbbec_thumb.png\">Preview</a>"
          ],
          [
           "2021-03-15",
           "PlanetScope",
           7,
           "<a href=\"https://preview.planet.terrastream.ca/planet/planetscope/02eef182-a155-4913-8e44-1595edef2a76_thumb.png\">Preview</a>"
          ],
          [
           "2021-03-16",
           "PlanetScope",
           0,
           "<a href=\"https://preview.planet.terrastream.ca/planet/planetscope/5733d4f9-7cfb-4db3-9042-a41af942f645_thumb.png\">Preview</a>"
          ],
          [
           "2021-03-17",
           "PlanetScope",
           12,
           "<a href=\"https://preview.planet.terrastream.ca/planet/planetscope/60c2a086-b55c-4463-9db9-3f9ffdaf901f_thumb.png\">Preview</a>"
          ],
          [
           "2021-03-19",
           "PlanetScope",
           1,
           "<a href=\"https://preview.planet.terrastream.ca/planet/planetscope/b8798664-4c86-4f12-9765-459e7a450045_thumb.png\">Preview</a>"
          ],
          [
           "2021-03-20",
           "PlanetScope-SuperDove",
           4,
           "<a href=\"https://preview.planet.terrastream.ca/planet/planetscope-superdove/87592534-f32f-4edb-92eb-53bcb6e6adf9_thumb.png\">Preview</a>"
          ],
          [
           "2021-03-21",
           "PlanetScope-SuperDove",
           0,
           "<a href=\"https://preview.planet.terrastream.ca/planet/planetscope-superdove/cc2a4eff-3b84-4f2f-a18a-36d089179eb9_thumb.png\">Preview</a>"
          ],
          [
           "2021-03-25",
           "PlanetScope-SuperDove",
           10,
           "<a href=\"https://preview.planet.terrastream.ca/planet/planetscope-superdove/3c2e294b-4e57-4779-876c-e33b56e36f48_thumb.png\">Preview</a>"
          ],
          [
           "2021-03-26",
           "PlanetScope-SuperDove",
           0,
           "<a href=\"https://preview.planet.terrastream.ca/planet/planetscope-superdove/a0f93871-0f34-41c0-8ab8-77a0f1920632_thumb.png\">Preview</a>"
          ],
          [
           "2021-03-27",
           "PlanetScope-SuperDove",
           0,
           "<a href=\"https://preview.planet.terrastream.ca/planet/planetscope-superdove/66deaab9-c593-417b-bc5e-5d95e974636f_thumb.png\">Preview</a>"
          ],
          [
           "2021-03-30",
           "PlanetScope",
           12,
           "<a href=\"https://preview.planet.terrastream.ca/planet/planetscope/0d737208-d50b-4a02-9b8b-943fc784e0c6_thumb.png\">Preview</a>"
          ],
          [
           "2021-03-31",
           "PlanetScope",
           11,
           "<a href=\"https://preview.planet.terrastream.ca/planet/planetscope/6ac0b7e7-8da7-4622-a937-5d9194ba7baa_thumb.png\">Preview</a>"
          ],
          [
           "2021-04-01",
           "PlanetScope-SuperDove",
           2,
           "<a href=\"https://preview.planet.terrastream.ca/planet/planetscope-superdove/73feaf66-1479-4e81-bc22-153ed59c7cd9_thumb.png\">Preview</a>"
          ],
          [
           "2021-04-02",
           "PlanetScope-SuperDove",
           0,
           "<a href=\"https://preview.planet.terrastream.ca/planet/planetscope-superdove/772a12a4-88d3-471f-9775-756363519b46_thumb.png\">Preview</a>"
          ],
          [
           "2021-04-03",
           "PlanetScope-SuperDove",
           0,
           "<a href=\"https://preview.planet.terrastream.ca/planet/planetscope-superdove/620832a7-ace2-47da-9898-dff691ad540a_thumb.png\">Preview</a>"
          ],
          [
           "2021-04-05",
           "PlanetScope",
           0,
           "<a href=\"https://preview.planet.terrastream.ca/planet/planetscope/4b4d6abe-a2ac-4200-aab2-5138bb379941_thumb.png\">Preview</a>"
          ],
          [
           "2021-04-08",
           "PlanetScope-SuperDove",
           0,
           "<a href=\"https://preview.planet.terrastream.ca/planet/planetscope-superdove/4d1b43ee-f088-4eaf-970d-0541c5f95ba9_thumb.png\">Preview</a>"
          ],
          [
           "2021-04-09",
           "PlanetScope-SuperDove",
           0,
           "<a href=\"https://preview.planet.terrastream.ca/planet/planetscope-superdove/8cc08eb8-c453-44bd-a27c-5e882d4a0253_thumb.png\">Preview</a>"
          ],
          [
           "2021-04-10",
           "PlanetScope-SuperDove",
           4,
           "<a href=\"https://preview.planet.terrastream.ca/planet/planetscope-superdove/b9536cd5-b983-4e6d-b007-efb20058ab6b_thumb.png\">Preview</a>"
          ],
          [
           "2021-04-11",
           "PlanetScope-SuperDove",
           0,
           "<a href=\"https://preview.planet.terrastream.ca/planet/planetscope-superdove/02786daa-161b-4b4d-a5a9-826eebc5a419_thumb.png\">Preview</a>"
          ],
          [
           "2021-04-12",
           "PlanetScope-SuperDove",
           0,
           "<a href=\"https://preview.planet.terrastream.ca/planet/planetscope-superdove/57fbec89-361b-4640-89f7-f7c371b3a6c5_thumb.png\">Preview</a>"
          ],
          [
           "2021-04-15",
           "PlanetScope-SuperDove",
           2,
           "<a href=\"https://preview.planet.terrastream.ca/planet/planetscope-superdove/09a923ff-ba84-4ca3-84c0-e2afc8a346bb_thumb.png\">Preview</a>"
          ],
          [
           "2021-04-16",
           "PlanetScope",
           0,
           "<a href=\"https://preview.planet.terrastream.ca/planet/planetscope/607db128-69d6-468b-8bfc-67c91e7b0e26_thumb.png\">Preview</a>"
          ],
          [
           "2021-04-18",
           "PlanetScope-SuperDove",
           0,
           "<a href=\"https://preview.planet.terrastream.ca/planet/planetscope-superdove/264cff91-bc89-42be-b904-a1fb5a86e714_thumb.png\">Preview</a>"
          ],
          [
           "2021-04-19",
           "PlanetScope-SuperDove",
           0,
           "<a href=\"https://preview.planet.terrastream.ca/planet/planetscope-superdove/f689faa0-e77c-4b61-86c6-f9d5c95a99b1_thumb.png\">Preview</a>"
          ],
          [
           "2021-04-20",
           "PlanetScope-SuperDove",
           4,
           "<a href=\"https://preview.planet.terrastream.ca/planet/planetscope-superdove/3a18c4cd-4a89-4f8c-bc47-c74f29906ae7_thumb.png\">Preview</a>"
          ],
          [
           "2021-04-22",
           "PlanetScope",
           0,
           "<a href=\"https://preview.planet.terrastream.ca/planet/planetscope/98710aae-59d6-4d7e-98f9-c89f783025e9_thumb.png\">Preview</a>"
          ],
          [
           "2021-04-23",
           "PlanetScope-SuperDove",
           0,
           "<a href=\"https://preview.planet.terrastream.ca/planet/planetscope-superdove/9c491ec3-92f8-426c-a215-270d061276cf_thumb.png\">Preview</a>"
          ],
          [
           "2021-04-25",
           "PlanetScope-SuperDove",
           0,
           "<a href=\"https://preview.planet.terrastream.ca/planet/planetscope-superdove/1635aadd-d960-4896-b7cc-55e69abb6a73_thumb.png\">Preview</a>"
          ],
          [
           "2021-04-26",
           "PlanetScope-SuperDove",
           0,
           "<a href=\"https://preview.planet.terrastream.ca/planet/planetscope-superdove/4b924751-251e-40c3-ade4-c376a7f1bb13_thumb.png\">Preview</a>"
          ],
          [
           "2021-04-27",
           "PlanetScope-SuperDove",
           0,
           "<a href=\"https://preview.planet.terrastream.ca/planet/planetscope-superdove/5d04de50-2006-4290-b25a-df1eabdd6336_thumb.png\">Preview</a>"
          ],
          [
           "2021-04-28",
           "PlanetScope",
           0,
           "<a href=\"https://preview.planet.terrastream.ca/planet/planetscope/e05d0fcf-5a20-4df1-bfe9-706cb5d08d00_thumb.png\">Preview</a>"
          ],
          [
           "2021-04-29",
           "PlanetScope",
           1,
           "<a href=\"https://preview.planet.terrastream.ca/planet/planetscope/5b07490f-8d62-4f06-a607-74cca9ab3421_thumb.png\">Preview</a>"
          ],
          [
           "2021-04-30",
           "PlanetScope",
           0,
           "<a href=\"https://preview.planet.terrastream.ca/planet/planetscope/968b4e4b-056d-4d35-8bc1-5efb5f3e6d53_thumb.png\">Preview</a>"
          ],
          [
           "2021-05-02",
           "PlanetScope-SuperDove",
           2,
           "<a href=\"https://preview.planet.terrastream.ca/planet/planetscope-superdove/81338181-20d9-4220-8970-2dcd423508fd_thumb.png\">Preview</a>"
          ],
          [
           "2021-05-03",
           "PlanetScope",
           2,
           "<a href=\"https://preview.planet.terrastream.ca/planet/planetscope/f405a6c4-3ca8-4c45-b91d-2650843b3bd0_thumb.png\">Preview</a>"
          ],
          [
           "2021-05-04",
           "PlanetScope-SuperDove",
           1,
           "<a href=\"https://preview.planet.terrastream.ca/planet/planetscope-superdove/75403f44-0bde-4d5c-9154-fb9928afa55d_thumb.png\">Preview</a>"
          ],
          [
           "2021-05-05",
           "PlanetScope-SuperDove",
           0,
           "<a href=\"https://preview.planet.terrastream.ca/planet/planetscope-superdove/94b42c9c-dd72-410e-b62c-4cef4e9f6fc9_thumb.png\">Preview</a>"
          ],
          [
           "2021-05-07",
           "PlanetScope-SuperDove",
           5,
           "<a href=\"https://preview.planet.terrastream.ca/planet/planetscope-superdove/51407550-48bd-45a7-8162-f8ae42887eb7_thumb.png\">Preview</a>"
          ],
          [
           "2021-05-08",
           "PlanetScope-SuperDove",
           0,
           "<a href=\"https://preview.planet.terrastream.ca/planet/planetscope-superdove/1bae3ba6-20b0-45db-9835-a831e10a62d5_thumb.png\">Preview</a>"
          ],
          [
           "2021-05-12",
           "PlanetScope-SuperDove",
           0,
           "<a href=\"https://preview.planet.terrastream.ca/planet/planetscope-superdove/2a3c6a3e-a5e4-46d2-b5b9-d6bc5dc6ca22_thumb.png\">Preview</a>"
          ],
          [
           "2021-05-13",
           "PlanetScope-SuperDove",
           0,
           "<a href=\"https://preview.planet.terrastream.ca/planet/planetscope-superdove/32e4d9d2-4f85-4a96-89c3-2df8c4637f62_thumb.png\">Preview</a>"
          ],
          [
           "2021-05-14",
           "PlanetScope-SuperDove",
           0,
           "<a href=\"https://preview.planet.terrastream.ca/planet/planetscope-superdove/64f0a35c-dcdc-4a67-a908-a9fdc82a5594_thumb.png\">Preview</a>"
          ],
          [
           "2021-05-15",
           "PlanetScope-SuperDove",
           0,
           "<a href=\"https://preview.planet.terrastream.ca/planet/planetscope-superdove/8338cb0f-5f2d-4a77-ba39-0c91d45643f8_thumb.png\">Preview</a>"
          ],
          [
           "2021-05-16",
           "PlanetScope-SuperDove",
           0,
           "<a href=\"https://preview.planet.terrastream.ca/planet/planetscope-superdove/14c2181e-c1cd-46d7-9c26-854f3f51cca0_thumb.png\">Preview</a>"
          ],
          [
           "2021-05-17",
           "PlanetScope-SuperDove",
           0,
           "<a href=\"https://preview.planet.terrastream.ca/planet/planetscope-superdove/19695a20-f85d-4198-90b6-0157e928882f_thumb.png\">Preview</a>"
          ],
          [
           "2021-05-20",
           "PlanetScope",
           0,
           "<a href=\"https://preview.planet.terrastream.ca/planet/planetscope/c1208b1d-58b7-496c-9a7c-0a8b4a0df8e2_thumb.png\">Preview</a>"
          ],
          [
           "2021-05-21",
           "PlanetScope-SuperDove",
           0,
           "<a href=\"https://preview.planet.terrastream.ca/planet/planetscope-superdove/c594b05a-ab3a-41b7-89e1-f587c5bcc584_thumb.png\">Preview</a>"
          ],
          [
           "2021-05-24",
           "PlanetScope-SuperDove",
           0,
           "<a href=\"https://preview.planet.terrastream.ca/planet/planetscope-superdove/02b10ad5-078e-4eaf-83d9-272d9c7ffd6e_thumb.png\">Preview</a>"
          ],
          [
           "2021-05-25",
           "PlanetScope-SuperDove",
           0,
           "<a href=\"https://preview.planet.terrastream.ca/planet/planetscope-superdove/80db8265-4dee-4e2f-a903-8db4ec847483_thumb.png\">Preview</a>"
          ],
          [
           "2021-05-26",
           "PlanetScope-SuperDove",
           0,
           "<a href=\"https://preview.planet.terrastream.ca/planet/planetscope-superdove/5a94c02f-7478-4176-a944-34102ccd45aa_thumb.png\">Preview</a>"
          ],
          [
           "2021-06-03",
           "PlanetScope",
           24,
           "<a href=\"https://preview.planet.terrastream.ca/planet/planetscope/a47ccd20-d87e-4881-938a-fef8c8b071b4_thumb.png\">Preview</a>"
          ],
          [
           "2021-06-06",
           "PlanetScope-SuperDove",
           21,
           "<a href=\"https://preview.planet.terrastream.ca/planet/planetscope-superdove/5ec7e4bc-ce78-4bf5-bd47-778316e64425_thumb.png\">Preview</a>"
          ],
          [
           "2021-06-10",
           "PlanetScope-SuperDove",
           0,
           "<a href=\"https://preview.planet.terrastream.ca/planet/planetscope-superdove/ebeea42e-66a0-4250-bd1b-4183dd89ace7_thumb.png\">Preview</a>"
          ],
          [
           "2021-06-11",
           "PlanetScope-SuperDove",
           0,
           "<a href=\"https://preview.planet.terrastream.ca/planet/planetscope-superdove/b582f6d0-704e-46ef-b8bb-fbbc03ff6745_thumb.png\">Preview</a>"
          ],
          [
           "2021-06-12",
           "PlanetScope",
           0,
           "<a href=\"https://preview.planet.terrastream.ca/planet/planetscope/d4674119-847d-46ab-8be2-aaf6d01443cd_thumb.png\">Preview</a>"
          ],
          [
           "2021-06-13",
           "PlanetScope-SuperDove",
           0,
           "<a href=\"https://preview.planet.terrastream.ca/planet/planetscope-superdove/fd5684b4-3212-4620-be6b-5dfa87370a37_thumb.png\">Preview</a>"
          ],
          [
           "2021-06-16",
           "PlanetScope-SuperDove",
           0,
           "<a href=\"https://preview.planet.terrastream.ca/planet/planetscope-superdove/f008189b-35c7-44c0-9c56-e32ae89bf288_thumb.png\">Preview</a>"
          ],
          [
           "2021-06-18",
           "PlanetScope-SuperDove",
           0,
           "<a href=\"https://preview.planet.terrastream.ca/planet/planetscope-superdove/cfaa18a7-341e-4490-898e-e1779aa762e8_thumb.png\">Preview</a>"
          ],
          [
           "2021-06-22",
           "PlanetScope-SuperDove",
           0,
           "<a href=\"https://preview.planet.terrastream.ca/planet/planetscope-superdove/a324b3ae-db82-4ace-9e1d-e42e938da32d_thumb.png\">Preview</a>"
          ],
          [
           "2021-06-23",
           "PlanetScope",
           0,
           "<a href=\"https://preview.planet.terrastream.ca/planet/planetscope/eea5b5db-0a66-4309-b23d-108225214964_thumb.png\">Preview</a>"
          ],
          [
           "2021-06-24",
           "PlanetScope",
           0,
           "<a href=\"https://preview.planet.terrastream.ca/planet/planetscope/9470eb77-7d35-4ffc-9884-e867030b8e8c_thumb.png\">Preview</a>"
          ],
          [
           "2021-06-25",
           "PlanetScope-SuperDove",
           0,
           "<a href=\"https://preview.planet.terrastream.ca/planet/planetscope-superdove/7718b080-ad49-47a9-a23a-2aa9f60f9cc7_thumb.png\">Preview</a>"
          ],
          [
           "2021-06-26",
           "PlanetScope-SuperDove",
           0,
           "<a href=\"https://preview.planet.terrastream.ca/planet/planetscope-superdove/0531c4db-478d-4aa4-ba64-d7f8484f7c7b_thumb.png\">Preview</a>"
          ],
          [
           "2021-06-27",
           "PlanetScope-SuperDove",
           0,
           "<a href=\"https://preview.planet.terrastream.ca/planet/planetscope-superdove/25724a4f-b86b-4afa-bffb-cf6f648e21c0_thumb.png\">Preview</a>"
          ],
          [
           "2021-06-28",
           "PlanetScope-SuperDove",
           0,
           "<a href=\"https://preview.planet.terrastream.ca/planet/planetscope-superdove/04d23dfd-8d6e-444c-a4b7-b46ceb8cec40_thumb.png\">Preview</a>"
          ],
          [
           "2021-06-29",
           "PlanetScope-SuperDove",
           0,
           "<a href=\"https://preview.planet.terrastream.ca/planet/planetscope-superdove/2da6d9a2-3c3c-47c5-b93d-05b3a023d3ef_thumb.png\">Preview</a>"
          ],
          [
           "2021-06-30",
           "PlanetScope",
           0,
           "<a href=\"https://preview.planet.terrastream.ca/planet/planetscope/a57fa418-e452-45d3-a413-2088812abf32_thumb.png\">Preview</a>"
          ],
          [
           "2021-07-01",
           "PlanetScope-SuperDove",
           0,
           "<a href=\"https://preview.planet.terrastream.ca/planet/planetscope-superdove/1f089afe-e84e-4a56-9f9f-25163e5855a1_thumb.png\">Preview</a>"
          ],
          [
           "2021-07-02",
           "PlanetScope",
           0,
           "<a href=\"https://preview.planet.terrastream.ca/planet/planetscope/f32b544d-f225-4805-b04a-087f6125d610_thumb.png\">Preview</a>"
          ],
          [
           "2021-07-03",
           "PlanetScope",
           0,
           "<a href=\"https://preview.planet.terrastream.ca/planet/planetscope/e3c357b1-5752-4736-8bf1-1bd0028c7715_thumb.png\">Preview</a>"
          ],
          [
           "2021-07-04",
           "PlanetScope-SuperDove",
           0,
           "<a href=\"https://preview.planet.terrastream.ca/planet/planetscope-superdove/33774ab8-907e-4373-8fd3-d68448e47001_thumb.png\">Preview</a>"
          ],
          [
           "2021-07-07",
           "PlanetScope",
           0,
           "<a href=\"https://preview.planet.terrastream.ca/planet/planetscope/0018e11d-b2c1-4de4-b52c-641c540db34f_thumb.png\">Preview</a>"
          ],
          [
           "2021-07-08",
           "PlanetScope-SuperDove",
           0,
           "<a href=\"https://preview.planet.terrastream.ca/planet/planetscope-superdove/be7f4e7f-dfe1-46ab-9b43-7166253e9e68_thumb.png\">Preview</a>"
          ],
          [
           "2021-07-09",
           "PlanetScope-SuperDove",
           0,
           "<a href=\"https://preview.planet.terrastream.ca/planet/planetscope-superdove/eecdea09-7488-4a91-8be6-ac7ac60b9f97_thumb.png\">Preview</a>"
          ],
          [
           "2021-07-10",
           "PlanetScope-SuperDove",
           0,
           "<a href=\"https://preview.planet.terrastream.ca/planet/planetscope-superdove/d884b3e3-4ccd-41b9-a731-10ffc1e24614_thumb.png\">Preview</a>"
          ],
          [
           "2021-07-12",
           "PlanetScope-SuperDove",
           0,
           "<a href=\"https://preview.planet.terrastream.ca/planet/planetscope-superdove/048b10de-a050-43be-a64a-1cb3681a87c8_thumb.png\">Preview</a>"
          ],
          [
           "2021-07-13",
           "PlanetScope",
           0,
           "<a href=\"https://preview.planet.terrastream.ca/planet/planetscope/6dc8b15f-8366-4a3c-adc9-fe1fea60745e_thumb.png\">Preview</a>"
          ],
          [
           "2021-07-14",
           "PlanetScope-SuperDove",
           19,
           "<a href=\"https://preview.planet.terrastream.ca/planet/planetscope-superdove/007a3c2d-32a4-44b6-9342-a30584ed6913_thumb.png\">Preview</a>"
          ],
          [
           "2021-07-17",
           "PlanetScope-SuperDove",
           0,
           "<a href=\"https://preview.planet.terrastream.ca/planet/planetscope-superdove/9ed50392-659a-476d-96f2-aa07ebbe77cc_thumb.png\">Preview</a>"
          ],
          [
           "2021-07-20",
           "PlanetScope-SuperDove",
           0,
           "<a href=\"https://preview.planet.terrastream.ca/planet/planetscope-superdove/c4904e57-b5e0-4d7d-b258-141e83928ce2_thumb.png\">Preview</a>"
          ],
          [
           "2021-07-22",
           "PlanetScope",
           0,
           "<a href=\"https://preview.planet.terrastream.ca/planet/planetscope/abdbff70-fc3b-46ab-9567-f3ca15b40128_thumb.png\">Preview</a>"
          ],
          [
           "2021-07-23",
           "PlanetScope-SuperDove",
           10,
           "<a href=\"https://preview.planet.terrastream.ca/planet/planetscope-superdove/2635e762-0b6a-4e3d-9f89-96a02f7ca056_thumb.png\">Preview</a>"
          ],
          [
           "2021-07-24",
           "PlanetScope-SuperDove",
           0,
           "<a href=\"https://preview.planet.terrastream.ca/planet/planetscope-superdove/c5057832-4170-4f18-b20b-3d31c77bd14f_thumb.png\">Preview</a>"
          ],
          [
           "2021-07-28",
           "PlanetScope-SuperDove",
           0,
           "<a href=\"https://preview.planet.terrastream.ca/planet/planetscope-superdove/82cdcc05-d463-4941-b5ff-190e8fcd5239_thumb.png\">Preview</a>"
          ],
          [
           "2021-07-30",
           "PlanetScope-SuperDove",
           0,
           "<a href=\"https://preview.planet.terrastream.ca/planet/planetscope-superdove/49300979-04f4-40c0-8feb-8d1caf9580f2_thumb.png\">Preview</a>"
          ],
          [
           "2021-07-31",
           "PlanetScope-SuperDove",
           23,
           "<a href=\"https://preview.planet.terrastream.ca/planet/planetscope-superdove/23e21b96-4709-48f6-a2b7-0ff9764b725b_thumb.png\">Preview</a>"
          ],
          [
           "2021-08-01",
           "PlanetScope-SuperDove",
           0,
           "<a href=\"https://preview.planet.terrastream.ca/planet/planetscope-superdove/47f9b955-5540-4739-80c9-37caa1857949_thumb.png\">Preview</a>"
          ],
          [
           "2021-08-02",
           "PlanetScope-SuperDove",
           0,
           "<a href=\"https://preview.planet.terrastream.ca/planet/planetscope-superdove/280e1535-852e-418d-9a7d-a2365c096052_thumb.png\">Preview</a>"
          ],
          [
           "2021-08-05",
           "PlanetScope-SuperDove",
           0,
           "<a href=\"https://preview.planet.terrastream.ca/planet/planetscope-superdove/910dd247-7572-4dbd-8837-e9b4c24f041f_thumb.png\">Preview</a>"
          ],
          [
           "2021-08-06",
           "PlanetScope-SuperDove",
           0,
           "<a href=\"https://preview.planet.terrastream.ca/planet/planetscope-superdove/cde2d7c5-aff6-4544-8c1b-78d760679ce5_thumb.png\">Preview</a>"
          ],
          [
           "2021-08-07",
           "PlanetScope-SuperDove",
           0,
           "<a href=\"https://preview.planet.terrastream.ca/planet/planetscope-superdove/6bb2236c-d61f-401d-b498-dcd917e35d7e_thumb.png\">Preview</a>"
          ],
          [
           "2021-08-09",
           "PlanetScope-SuperDove",
           0,
           "<a href=\"https://preview.planet.terrastream.ca/planet/planetscope-superdove/23ee52f1-15b2-4e60-bbae-c8615330b794_thumb.png\">Preview</a>"
          ],
          [
           "2021-08-12",
           "PlanetScope-SuperDove",
           0,
           "<a href=\"https://preview.planet.terrastream.ca/planet/planetscope-superdove/b2a626d7-358a-4a1f-8320-c7a91684ecb4_thumb.png\">Preview</a>"
          ],
          [
           "2021-08-13",
           "PlanetScope-SuperDove",
           0,
           "<a href=\"https://preview.planet.terrastream.ca/planet/planetscope-superdove/7e4ccd52-ae43-4098-9f69-79c1c2da88d9_thumb.png\">Preview</a>"
          ],
          [
           "2021-08-16",
           "PlanetScope",
           0,
           "<a href=\"https://preview.planet.terrastream.ca/planet/planetscope/9b80a7c1-2589-4f8f-aade-19a8ecddf817_thumb.png\">Preview</a>"
          ],
          [
           "2021-08-17",
           "PlanetScope-SuperDove",
           0,
           "<a href=\"https://preview.planet.terrastream.ca/planet/planetscope-superdove/4ccf0c4a-1d19-48e5-924a-e14eb7a9fa5b_thumb.png\">Preview</a>"
          ],
          [
           "2021-08-19",
           "PlanetScope-SuperDove",
           0,
           "<a href=\"https://preview.planet.terrastream.ca/planet/planetscope-superdove/8a6d380b-6c9d-4e09-a3d3-6599ef6c45af_thumb.png\">Preview</a>"
          ],
          [
           "2021-08-20",
           "PlanetScope-SuperDove",
           0,
           "<a href=\"https://preview.planet.terrastream.ca/planet/planetscope-superdove/ff781aff-4e76-4bf9-b042-41395e82659e_thumb.png\">Preview</a>"
          ],
          [
           "2021-08-22",
           "PlanetScope",
           0,
           "<a href=\"https://preview.planet.terrastream.ca/planet/planetscope/9a43f472-9747-40a1-8dc8-09842db23c5d_thumb.png\">Preview</a>"
          ],
          [
           "2021-08-24",
           "PlanetScope-SuperDove",
           0,
           "<a href=\"https://preview.planet.terrastream.ca/planet/planetscope-superdove/af7c423a-54ff-41fa-9c3a-1bd8533b2a54_thumb.png\">Preview</a>"
          ],
          [
           "2021-08-25",
           "PlanetScope-SuperDove",
           0,
           "<a href=\"https://preview.planet.terrastream.ca/planet/planetscope-superdove/712efffd-2886-4643-9705-1fee32951043_thumb.png\">Preview</a>"
          ],
          [
           "2021-08-26",
           "PlanetScope",
           2,
           "<a href=\"https://preview.planet.terrastream.ca/planet/planetscope/7566d291-ee3b-4cfc-b365-0aff0226cd29_thumb.png\">Preview</a>"
          ],
          [
           "2021-08-31",
           "PlanetScope-SuperDove",
           0,
           "<a href=\"https://preview.planet.terrastream.ca/planet/planetscope-superdove/0e0822e9-ed25-4e4c-86c1-af5ead839aff_thumb.png\">Preview</a>"
          ],
          [
           "2021-09-01",
           "PlanetScope-SuperDove",
           0,
           "<a href=\"https://preview.planet.terrastream.ca/planet/planetscope-superdove/5acfa7a8-5258-434c-99d9-4ac614506ca2_thumb.png\">Preview</a>"
          ],
          [
           "2021-09-02",
           "PlanetScope",
           0,
           "<a href=\"https://preview.planet.terrastream.ca/planet/planetscope/6fbb1525-b4a0-4cbc-b873-83cb7cf3fb3c_thumb.png\">Preview</a>"
          ],
          [
           "2021-09-03",
           "PlanetScope-SuperDove",
           0,
           "<a href=\"https://preview.planet.terrastream.ca/planet/planetscope-superdove/92907ab7-a372-4e1f-8379-487de85fe246_thumb.png\">Preview</a>"
          ],
          [
           "2021-09-04",
           "PlanetScope-SuperDove",
           0,
           "<a href=\"https://preview.planet.terrastream.ca/planet/planetscope-superdove/2f221b1f-4560-4221-b66e-0b6c743e36cd_thumb.png\">Preview</a>"
          ],
          [
           "2021-09-05",
           "PlanetScope-SuperDove",
           0,
           "<a href=\"https://preview.planet.terrastream.ca/planet/planetscope-superdove/08b60ed2-4b4f-4b3e-b18d-fb7665198440_thumb.png\">Preview</a>"
          ],
          [
           "2021-09-06",
           "PlanetScope-SuperDove",
           0,
           "<a href=\"https://preview.planet.terrastream.ca/planet/planetscope-superdove/6194f736-e231-4865-9a4f-b72a74e5a744_thumb.png\">Preview</a>"
          ],
          [
           "2021-09-07",
           "PlanetScope-SuperDove",
           3,
           "<a href=\"https://preview.planet.terrastream.ca/planet/planetscope-superdove/74b50bbf-f804-4fae-8246-4c26358c56ab_thumb.png\">Preview</a>"
          ],
          [
           "2021-09-10",
           "PlanetScope-SuperDove",
           0,
           "<a href=\"https://preview.planet.terrastream.ca/planet/planetscope-superdove/e64aeea2-9e92-4334-885d-6595b0b7646b_thumb.png\">Preview</a>"
          ],
          [
           "2021-09-12",
           "PlanetScope-SuperDove",
           0,
           "<a href=\"https://preview.planet.terrastream.ca/planet/planetscope-superdove/2bf1a334-8587-4524-b814-8dcf8670f521_thumb.png\">Preview</a>"
          ],
          [
           "2021-09-13",
           "PlanetScope-SuperDove",
           9,
           "<a href=\"https://preview.planet.terrastream.ca/planet/planetscope-superdove/2b88ffa5-6e48-496d-97b2-1b81aec29939_thumb.png\">Preview</a>"
          ],
          [
           "2021-09-14",
           "PlanetScope",
           0,
           "<a href=\"https://preview.planet.terrastream.ca/planet/planetscope/c4cb77f1-3813-4d14-8886-ccda6e424e52_thumb.png\">Preview</a>"
          ],
          [
           "2021-09-15",
           "PlanetScope-SuperDove",
           0,
           "<a href=\"https://preview.planet.terrastream.ca/planet/planetscope-superdove/833a88b2-8250-456b-a57b-662262b59fd3_thumb.png\">Preview</a>"
          ],
          [
           "2021-09-23",
           "PlanetScope",
           0,
           "<a href=\"https://preview.planet.terrastream.ca/planet/planetscope/9bbd7543-0b72-424c-beff-0dcecff7a2a3_thumb.png\">Preview</a>"
          ],
          [
           "2021-09-24",
           "PlanetScope-SuperDove",
           0,
           "<a href=\"https://preview.planet.terrastream.ca/planet/planetscope-superdove/ecaaae4c-410c-4752-ab3a-b4df5bd0b44b_thumb.png\">Preview</a>"
          ],
          [
           "2021-09-25",
           "PlanetScope-SuperDove",
           0,
           "<a href=\"https://preview.planet.terrastream.ca/planet/planetscope-superdove/0c6ab4fc-08e4-4526-b731-574104d3d08e_thumb.png\">Preview</a>"
          ],
          [
           "2021-09-26",
           "PlanetScope-SuperDove",
           0,
           "<a href=\"https://preview.planet.terrastream.ca/planet/planetscope-superdove/3100b929-d97b-4d7e-86cc-95f27d346e87_thumb.png\">Preview</a>"
          ],
          [
           "2021-09-27",
           "PlanetScope",
           0,
           "<a href=\"https://preview.planet.terrastream.ca/planet/planetscope/c355a09d-d1ef-4dac-b8b3-afaa426a2a3e_thumb.png\">Preview</a>"
          ],
          [
           "2021-09-29",
           "PlanetScope-SuperDove",
           0,
           "<a href=\"https://preview.planet.terrastream.ca/planet/planetscope-superdove/be563709-6bb3-45bd-bc3e-ed8556acba42_thumb.png\">Preview</a>"
          ],
          [
           "2021-10-03",
           "PlanetScope-SuperDove",
           5,
           "<a href=\"https://preview.planet.terrastream.ca/planet/planetscope-superdove/53828f4a-6f2a-4853-8189-affa3b5e82d5_thumb.png\">Preview</a>"
          ],
          [
           "2021-10-09",
           "PlanetScope",
           0,
           "<a href=\"https://preview.planet.terrastream.ca/planet/planetscope/1dd1f4a6-6fd4-4c37-8ec8-d2662e9ae2d5_thumb.png\">Preview</a>"
          ],
          [
           "2021-10-12",
           "PlanetScope-SuperDove",
           0,
           "<a href=\"https://preview.planet.terrastream.ca/planet/planetscope-superdove/8b4abb1a-1712-429c-8cd6-8ebe05481455_thumb.png\">Preview</a>"
          ],
          [
           "2021-10-14",
           "PlanetScope-SuperDove",
           0,
           "<a href=\"https://preview.planet.terrastream.ca/planet/planetscope-superdove/6ce5ad9b-f4ea-4db7-b9e7-c2a73b77cf92_thumb.png\">Preview</a>"
          ],
          [
           "2021-10-15",
           "PlanetScope-SuperDove",
           0,
           "<a href=\"https://preview.planet.terrastream.ca/planet/planetscope-superdove/e5aab4e9-e932-4150-8f81-404d431ac272_thumb.png\">Preview</a>"
          ],
          [
           "2021-10-16",
           "PlanetScope-SuperDove",
           0,
           "<a href=\"https://preview.planet.terrastream.ca/planet/planetscope-superdove/94a60b79-cec4-4e99-969d-a7aa94cc608d_thumb.png\">Preview</a>"
          ],
          [
           "2021-10-17",
           "PlanetScope-SuperDove",
           3,
           "<a href=\"https://preview.planet.terrastream.ca/planet/planetscope-superdove/37faf47f-9ab3-4781-bf59-d561979bcae4_thumb.png\">Preview</a>"
          ],
          [
           "2021-10-21",
           "PlanetScope-SuperDove",
           0,
           "<a href=\"https://preview.planet.terrastream.ca/planet/planetscope-superdove/ada09111-010b-4010-9be3-104895855c0a_thumb.png\">Preview</a>"
          ],
          [
           "2021-10-22",
           "PlanetScope-SuperDove",
           19,
           "<a href=\"https://preview.planet.terrastream.ca/planet/planetscope-superdove/8fcfc4be-2ea7-4014-8d00-29cda899ba68_thumb.png\">Preview</a>"
          ],
          [
           "2021-10-23",
           "PlanetScope-SuperDove",
           0,
           "<a href=\"https://preview.planet.terrastream.ca/planet/planetscope-superdove/f430eccf-3b9e-4c0f-8be3-d2d127fa19e1_thumb.png\">Preview</a>"
          ],
          [
           "2021-10-24",
           "PlanetScope-SuperDove",
           4,
           "<a href=\"https://preview.planet.terrastream.ca/planet/planetscope-superdove/01ba8b9d-066c-458d-9d42-de826fd35310_thumb.png\">Preview</a>"
          ],
          [
           "2021-10-29",
           "PlanetScope-SuperDove",
           0,
           "<a href=\"https://preview.planet.terrastream.ca/planet/planetscope-superdove/c6e1c072-4f25-47de-8c91-f14d1c196490_thumb.png\">Preview</a>"
          ],
          [
           "2021-11-01",
           "PlanetScope",
           0,
           "<a href=\"https://preview.planet.terrastream.ca/planet/planetscope/2f10d9d5-dc68-4ea9-9960-c08b371e602b_thumb.png\">Preview</a>"
          ],
          [
           "2021-11-05",
           "PlanetScope-SuperDove",
           19,
           "<a href=\"https://preview.planet.terrastream.ca/planet/planetscope-superdove/cf50bdfc-cb44-4ef2-ae1f-48f6cd2ada0a_thumb.png\">Preview</a>"
          ],
          [
           "2021-11-06",
           "PlanetScope-SuperDove",
           10,
           "<a href=\"https://preview.planet.terrastream.ca/planet/planetscope-superdove/ac368bdc-06fd-473f-91ac-bab616abee0c_thumb.png\">Preview</a>"
          ],
          [
           "2021-11-07",
           "PlanetScope",
           0,
           "<a href=\"https://preview.planet.terrastream.ca/planet/planetscope/2e63b470-ae8e-472e-9cba-885dd9f5aed8_thumb.png\">Preview</a>"
          ],
          [
           "2021-11-08",
           "PlanetScope",
           0,
           "<a href=\"https://preview.planet.terrastream.ca/planet/planetscope/63f5291e-6f10-4bee-bf47-91b7c5bc547a_thumb.png\">Preview</a>"
          ],
          [
           "2021-11-11",
           "PlanetScope-SuperDove",
           5,
           "<a href=\"https://preview.planet.terrastream.ca/planet/planetscope-superdove/e683d5e6-411a-404a-a792-f201d97fad9f_thumb.png\">Preview</a>"
          ],
          [
           "2021-11-12",
           "PlanetScope-SuperDove",
           0,
           "<a href=\"https://preview.planet.terrastream.ca/planet/planetscope-superdove/b5ac27cd-81ed-4a4c-9d1d-b8f43c5d43a2_thumb.png\">Preview</a>"
          ],
          [
           "2021-11-14",
           "PlanetScope",
           20,
           "<a href=\"https://preview.planet.terrastream.ca/planet/planetscope/cef2b6da-49f1-496c-a86d-9288946ba363_thumb.png\">Preview</a>"
          ],
          [
           "2021-11-17",
           "PlanetScope",
           0,
           "<a href=\"https://preview.planet.terrastream.ca/planet/planetscope/63cc55f5-50b2-469e-868f-7147208ed5d6_thumb.png\">Preview</a>"
          ],
          [
           "2021-11-18",
           "PlanetScope-SuperDove",
           0,
           "<a href=\"https://preview.planet.terrastream.ca/planet/planetscope-superdove/acc01ec0-3774-4652-9b15-6a3dcd450128_thumb.png\">Preview</a>"
          ],
          [
           "2021-11-29",
           "PlanetScope-SuperDove",
           0,
           "<a href=\"https://preview.planet.terrastream.ca/planet/planetscope-superdove/c623577f-df66-4115-bad5-448de54812cc_thumb.png\">Preview</a>"
          ],
          [
           "2021-12-01",
           "PlanetScope-SuperDove",
           0,
           "<a href=\"https://preview.planet.terrastream.ca/planet/planetscope-superdove/1da087fb-f658-4ae0-b246-1f0245c82b6a_thumb.png\">Preview</a>"
          ],
          [
           "2021-12-03",
           "PlanetScope-SuperDove",
           7,
           "<a href=\"https://preview.planet.terrastream.ca/planet/planetscope-superdove/e6de0be2-e4b7-4d01-88ca-fa9d302c8f9e_thumb.png\">Preview</a>"
          ],
          [
           "2021-12-04",
           "PlanetScope-SuperDove",
           0,
           "<a href=\"https://preview.planet.terrastream.ca/planet/planetscope-superdove/7127896e-cc55-4736-8a87-e1934d7027c2_thumb.png\">Preview</a>"
          ],
          [
           "2021-12-11",
           "PlanetScope-SuperDove",
           25,
           "<a href=\"https://preview.planet.terrastream.ca/planet/planetscope-superdove/cc7769fc-de46-4ca7-bf92-03469490cb31_thumb.png\">Preview</a>"
          ],
          [
           "2021-12-12",
           "PlanetScope-SuperDove",
           0,
           "<a href=\"https://preview.planet.terrastream.ca/planet/planetscope-superdove/fab3739a-0ba4-4d39-b2f8-958e80fae5e0_thumb.png\">Preview</a>"
          ],
          [
           "2021-12-15",
           "PlanetScope-SuperDove",
           21,
           "<a href=\"https://preview.planet.terrastream.ca/planet/planetscope-superdove/114719ee-d74a-4cf7-812a-f5c5560a3ad1_thumb.png\">Preview</a>"
          ],
          [
           "2021-12-24",
           "PlanetScope",
           0,
           "<a href=\"https://preview.planet.terrastream.ca/planet/planetscope/4d78fb3a-de2a-4dec-add8-708633e9edc9_thumb.png\">Preview</a>"
          ],
          [
           "2021-12-29",
           "PlanetScope-SuperDove",
           4,
           "<a href=\"https://preview.planet.terrastream.ca/planet/planetscope-superdove/78bcd0d1-f022-426a-8c58-9c04836fde27_thumb.png\">Preview</a>"
          ],
          [
           "2021-12-30",
           "PlanetScope-SuperDove",
           1,
           "<a href=\"https://preview.planet.terrastream.ca/planet/planetscope-superdove/6da9a41c-dcac-4371-87e4-20e0cfa5ff82_thumb.png\">Preview</a>"
          ],
          [
           "2021-12-31",
           "PlanetScope-SuperDove",
           0,
           "<a href=\"https://preview.planet.terrastream.ca/planet/planetscope-superdove/c6497684-4525-440e-b917-25b75e7534f1_thumb.png\">Preview</a>"
          ],
          [
           "2022-01-05",
           "PlanetScope-SuperDove",
           2,
           "<a href=\"https://preview.planet.terrastream.ca/planet/planetscope-superdove/ba758e64-2e31-43d7-9c86-da075fe46588_thumb.png\">Preview</a>"
          ],
          [
           "2022-01-06",
           "PlanetScope-SuperDove",
           0,
           "<a href=\"https://preview.planet.terrastream.ca/planet/planetscope-superdove/11da01fe-c342-45d3-b618-0b5aa6d4fceb_thumb.png\">Preview</a>"
          ],
          [
           "2022-01-12",
           "PlanetScope-SuperDove",
           14,
           "<a href=\"https://preview.planet.terrastream.ca/planet/planetscope-superdove/c6851550-c453-49b1-8d12-4606433a7f38_thumb.png\">Preview</a>"
          ],
          [
           "2022-01-18",
           "PlanetScope",
           19,
           "<a href=\"https://preview.planet.terrastream.ca/planet/planetscope/f20fcc7d-b66b-4001-b989-36d7e6966219_thumb.png\">Preview</a>"
          ],
          [
           "2022-01-19",
           "PlanetScope-SuperDove",
           0,
           "<a href=\"https://preview.planet.terrastream.ca/planet/planetscope-superdove/c732820a-b5b5-4dac-9157-75910bb3ae27_thumb.png\">Preview</a>"
          ],
          [
           "2022-02-01",
           "PlanetScope-SuperDove",
           0,
           "<a href=\"https://preview.planet.terrastream.ca/planet/planetscope-superdove/2b1a531a-c58f-4714-83fd-804b2631d1b2_thumb.png\">Preview</a>"
          ],
          [
           "2022-02-02",
           "PlanetScope-SuperDove",
           0,
           "<a href=\"https://preview.planet.terrastream.ca/planet/planetscope-superdove/3432cc1e-dd5a-459f-b363-a8361faff988_thumb.png\">Preview</a>"
          ],
          [
           "2022-02-03",
           "PlanetScope-SuperDove",
           0,
           "<a href=\"https://preview.planet.terrastream.ca/planet/planetscope-superdove/f98b9846-4d49-4215-8d4e-cc91f7ff2b44_thumb.png\">Preview</a>"
          ],
          [
           "2022-02-09",
           "PlanetScope",
           0,
           "<a href=\"https://preview.planet.terrastream.ca/planet/planetscope/333ff8a0-946d-4d07-8a0f-cc4e3165c98b_thumb.png\">Preview</a>"
          ],
          [
           "2022-02-10",
           "PlanetScope-SuperDove",
           18,
           "<a href=\"https://preview.planet.terrastream.ca/planet/planetscope-superdove/179d873f-28f1-4839-8f1f-88446095764c_thumb.png\">Preview</a>"
          ],
          [
           "2022-02-14",
           "PlanetScope",
           0,
           "<a href=\"https://preview.planet.terrastream.ca/planet/planetscope/915a8026-53ac-4e9c-8b35-907486ca8eec_thumb.png\">Preview</a>"
          ],
          [
           "2022-02-19",
           "PlanetScope-SuperDove",
           4,
           "<a href=\"https://preview.planet.terrastream.ca/planet/planetscope-superdove/1e5d43dc-45e4-473b-bb3e-d6396e14af5b_thumb.png\">Preview</a>"
          ],
          [
           "2022-02-20",
           "PlanetScope-SuperDove",
           0,
           "<a href=\"https://preview.planet.terrastream.ca/planet/planetscope-superdove/d3e2ce7a-908a-4df2-aab8-d1d9d4244859_thumb.png\">Preview</a>"
          ],
          [
           "2022-02-21",
           "PlanetScope-SuperDove",
           2,
           "<a href=\"https://preview.planet.terrastream.ca/planet/planetscope-superdove/6d576093-57df-44e2-bd2e-5d0a7bd634ca_thumb.png\">Preview</a>"
          ],
          [
           "2022-02-24",
           "PlanetScope-SuperDove",
           0,
           "<a href=\"https://preview.planet.terrastream.ca/planet/planetscope-superdove/fa7e4b55-0374-462c-aff7-e6f0aa99adbd_thumb.png\">Preview</a>"
          ],
          [
           "2022-02-26",
           "PlanetScope-SuperDove",
           7,
           "<a href=\"https://preview.planet.terrastream.ca/planet/planetscope-superdove/cbee0ca9-6e10-4d38-8a6c-9394b6da1ceb_thumb.png\">Preview</a>"
          ],
          [
           "2022-03-01",
           "PlanetScope-SuperDove",
           0,
           "<a href=\"https://preview.planet.terrastream.ca/planet/planetscope-superdove/81e84695-c2f0-4f28-82ef-9a24a85c288c_thumb.png\">Preview</a>"
          ],
          [
           "2022-03-03",
           "PlanetScope-SuperDove",
           0,
           "<a href=\"https://preview.planet.terrastream.ca/planet/planetscope-superdove/ff4d9f8a-728e-4edb-ae72-62b95078ed74_thumb.png\">Preview</a>"
          ],
          [
           "2022-03-04",
           "PlanetScope-SuperDove",
           0,
           "<a href=\"https://preview.planet.terrastream.ca/planet/planetscope-superdove/95c23317-5645-446e-b2aa-7d0da74ef931_thumb.png\">Preview</a>"
          ],
          [
           "2022-03-14",
           "PlanetScope",
           0,
           "<a href=\"https://preview.planet.terrastream.ca/planet/planetscope/4620bae7-0eb6-4a40-9c27-afe851ad4c4a_thumb.png\">Preview</a>"
          ],
          [
           "2022-03-19",
           "PlanetScope-SuperDove",
           7,
           "<a href=\"https://preview.planet.terrastream.ca/planet/planetscope-superdove/01e319eb-6882-4d9d-a91d-0382501fb2a7_thumb.png\">Preview</a>"
          ],
          [
           "2022-03-22",
           "PlanetScope",
           22,
           "<a href=\"https://preview.planet.terrastream.ca/planet/planetscope/e1632d87-8c36-4ddc-abe9-d3a3a34af8d2_thumb.png\">Preview</a>"
          ],
          [
           "2022-03-30",
           "PlanetScope",
           0,
           "<a href=\"https://preview.planet.terrastream.ca/planet/planetscope/3680d12f-e21d-446f-b2e3-37c65114409d_thumb.png\">Preview</a>"
          ],
          [
           "2022-03-31",
           "PlanetScope-SuperDove",
           1,
           "<a href=\"https://preview.planet.terrastream.ca/planet/planetscope-superdove/565f6d4d-5018-4a03-b586-4bda512f109f_thumb.png\">Preview</a>"
          ],
          [
           "2022-04-01",
           "PlanetScope-SuperDove",
           0,
           "<a href=\"https://preview.planet.terrastream.ca/planet/planetscope-superdove/d341322c-b6a8-4310-85ce-5b3d170d5507_thumb.png\">Preview</a>"
          ],
          [
           "2022-04-02",
           "PlanetScope-SuperDove",
           0,
           "<a href=\"https://preview.planet.terrastream.ca/planet/planetscope-superdove/5f030c9e-af72-4199-8d74-bc026d6d2be7_thumb.png\">Preview</a>"
          ],
          [
           "2022-04-24",
           "PlanetScope-SuperDove",
           0,
           "<a href=\"https://preview.planet.terrastream.ca/planet/planetscope-superdove/3a96bb72-f868-4d9a-8ce0-c9a36d5b9558_thumb.png\">Preview</a>"
          ],
          [
           "2022-04-29",
           "PlanetScope-SuperDove",
           0,
           "<a href=\"https://preview.planet.terrastream.ca/planet/planetscope-superdove/4c018bdf-f000-4fbc-9ff1-2a48e090b87a_thumb.png\">Preview</a>"
          ],
          [
           "2022-04-30",
           "PlanetScope-SuperDove",
           0,
           "<a href=\"https://preview.planet.terrastream.ca/planet/planetscope-superdove/e01cf59e-fa37-42a3-ba1e-6530a2779ee1_thumb.png\">Preview</a>"
          ],
          [
           "2022-05-02",
           "PlanetScope-SuperDove",
           0,
           "<a href=\"https://preview.planet.terrastream.ca/planet/planetscope-superdove/106f655c-30dd-42b5-b95a-5ecbfe87c970_thumb.png\">Preview</a>"
          ],
          [
           "2022-05-04",
           "PlanetScope-SuperDove",
           0,
           "<a href=\"https://preview.planet.terrastream.ca/planet/planetscope-superdove/b3dd0e54-b71a-4b01-8362-16144cd027e1_thumb.png\">Preview</a>"
          ],
          [
           "2022-05-05",
           "PlanetScope-SuperDove",
           1,
           "<a href=\"https://preview.planet.terrastream.ca/planet/planetscope-superdove/fefe7ae5-4671-43b5-a512-0b44bd0ddc99_thumb.png\">Preview</a>"
          ],
          [
           "2022-05-06",
           "PlanetScope-SuperDove",
           0,
           "<a href=\"https://preview.planet.terrastream.ca/planet/planetscope-superdove/de651ce3-e6ff-45e5-a808-fc5d4d0d13d6_thumb.png\">Preview</a>"
          ],
          [
           "2022-05-08",
           "PlanetScope-SuperDove",
           0,
           "<a href=\"https://preview.planet.terrastream.ca/planet/planetscope-superdove/d40045ae-ea81-4ecc-b712-8936610779ab_thumb.png\">Preview</a>"
          ],
          [
           "2022-05-09",
           "PlanetScope-SuperDove",
           7,
           "<a href=\"https://preview.planet.terrastream.ca/planet/planetscope-superdove/92d6415a-96f1-4cba-8472-8dd5e7d20527_thumb.png\">Preview</a>"
          ],
          [
           "2022-05-11",
           "PlanetScope-SuperDove",
           0,
           "<a href=\"https://preview.planet.terrastream.ca/planet/planetscope-superdove/5f20c35b-bff9-4600-b94b-71d356be1b59_thumb.png\">Preview</a>"
          ],
          [
           "2022-05-12",
           "PlanetScope-SuperDove",
           0,
           "<a href=\"https://preview.planet.terrastream.ca/planet/planetscope-superdove/3d9dcf5a-bf4a-49b9-aced-7497147a44a1_thumb.png\">Preview</a>"
          ],
          [
           "2022-05-13",
           "PlanetScope-SuperDove",
           0,
           "<a href=\"https://preview.planet.terrastream.ca/planet/planetscope-superdove/82920caa-09a2-498a-a142-89be4942c812_thumb.png\">Preview</a>"
          ],
          [
           "2022-05-14",
           "PlanetScope-SuperDove",
           0,
           "<a href=\"https://preview.planet.terrastream.ca/planet/planetscope-superdove/950e5e6d-47b1-47a5-b25a-23a53135d8b4_thumb.png\">Preview</a>"
          ],
          [
           "2022-05-15",
           "PlanetScope-SuperDove",
           0,
           "<a href=\"https://preview.planet.terrastream.ca/planet/planetscope-superdove/e27caabd-8b1f-4927-b61c-db77cabb9e83_thumb.png\">Preview</a>"
          ],
          [
           "2022-05-23",
           "PlanetScope-SuperDove",
           0,
           "<a href=\"https://preview.planet.terrastream.ca/planet/planetscope-superdove/4d5e31bf-90d7-4a76-a6c1-3cbd8eaf2c3f_thumb.png\">Preview</a>"
          ],
          [
           "2022-05-24",
           "PlanetScope-SuperDove",
           0,
           "<a href=\"https://preview.planet.terrastream.ca/planet/planetscope-superdove/2c92d55d-79e6-428d-82ff-de51b2879b58_thumb.png\">Preview</a>"
          ],
          [
           "2022-05-25",
           "PlanetScope-SuperDove",
           0,
           "<a href=\"https://preview.planet.terrastream.ca/planet/planetscope-superdove/82c812f6-6d36-413e-ba4e-92387aa9574c_thumb.png\">Preview</a>"
          ],
          [
           "2022-05-26",
           "PlanetScope-SuperDove",
           0,
           "<a href=\"https://preview.planet.terrastream.ca/planet/planetscope-superdove/97b8179a-8feb-4b82-bded-11aa1c46ba41_thumb.png\">Preview</a>"
          ],
          [
           "2022-05-27",
           "PlanetScope-SuperDove",
           1,
           "<a href=\"https://preview.planet.terrastream.ca/planet/planetscope-superdove/905282fd-74d1-4e50-bfdc-d6a84a2f6da5_thumb.png\">Preview</a>"
          ],
          [
           "2022-05-29",
           "PlanetScope-SuperDove",
           0,
           "<a href=\"https://preview.planet.terrastream.ca/planet/planetscope-superdove/ceb1145c-ab8f-458a-8b4f-16c4237e3c5c_thumb.png\">Preview</a>"
          ],
          [
           "2022-05-30",
           "PlanetScope-SuperDove",
           0,
           "<a href=\"https://preview.planet.terrastream.ca/planet/planetscope-superdove/dc0e77c8-7dca-4a04-94b9-07d14ca4b33b_thumb.png\">Preview</a>"
          ],
          [
           "2022-06-01",
           "PlanetScope-SuperDove",
           0,
           "<a href=\"https://preview.planet.terrastream.ca/planet/planetscope-superdove/f92c1138-6ad6-4cd5-81cf-d50090243d8d_thumb.png\">Preview</a>"
          ],
          [
           "2022-06-02",
           "PlanetScope-SuperDove",
           0,
           "<a href=\"https://preview.planet.terrastream.ca/planet/planetscope-superdove/8553fc53-f9b5-4714-a3b6-13613e0a50e3_thumb.png\">Preview</a>"
          ],
          [
           "2022-06-04",
           "PlanetScope-SuperDove",
           0,
           "<a href=\"https://preview.planet.terrastream.ca/planet/planetscope-superdove/5db765ec-dd44-4219-bc29-b524fac0539e_thumb.png\">Preview</a>"
          ],
          [
           "2022-06-09",
           "PlanetScope-SuperDove",
           1,
           "<a href=\"https://preview.planet.terrastream.ca/planet/planetscope-superdove/454a6d03-627f-431a-b521-367acd8d9685_thumb.png\">Preview</a>"
          ],
          [
           "2022-06-10",
           "PlanetScope-SuperDove",
           0,
           "<a href=\"https://preview.planet.terrastream.ca/planet/planetscope-superdove/828b9d95-2d52-4154-b2f1-0f6a3ecab352_thumb.png\">Preview</a>"
          ],
          [
           "2022-06-12",
           "PlanetScope-SuperDove",
           0,
           "<a href=\"https://preview.planet.terrastream.ca/planet/planetscope-superdove/035ff718-64a5-4e28-8772-c7ea0450445c_thumb.png\">Preview</a>"
          ],
          [
           "2022-06-13",
           "PlanetScope-SuperDove",
           0,
           "<a href=\"https://preview.planet.terrastream.ca/planet/planetscope-superdove/0f6e5ca1-f837-41d7-834d-e1e197f1b613_thumb.png\">Preview</a>"
          ],
          [
           "2022-06-14",
           "PlanetScope-SuperDove",
           0,
           "<a href=\"https://preview.planet.terrastream.ca/planet/planetscope-superdove/592ea20b-a185-4c93-aced-26b581f9b0d0_thumb.png\">Preview</a>"
          ],
          [
           "2022-06-15",
           "PlanetScope-SuperDove",
           0,
           "<a href=\"https://preview.planet.terrastream.ca/planet/planetscope-superdove/e64f6737-cc78-4549-8320-78e0587be50b_thumb.png\">Preview</a>"
          ],
          [
           "2022-06-17",
           "PlanetScope-SuperDove",
           0,
           "<a href=\"https://preview.planet.terrastream.ca/planet/planetscope-superdove/efa0ff24-b0bf-4b5f-86d5-75943d827786_thumb.png\">Preview</a>"
          ],
          [
           "2022-06-18",
           "PlanetScope-SuperDove",
           0,
           "<a href=\"https://preview.planet.terrastream.ca/planet/planetscope-superdove/738257a2-1aeb-4355-a3fa-2bbf048f6968_thumb.png\">Preview</a>"
          ],
          [
           "2022-06-19",
           "PlanetScope-SuperDove",
           0,
           "<a href=\"https://preview.planet.terrastream.ca/planet/planetscope-superdove/9209907d-53bd-4ee8-8857-5cc5c536a243_thumb.png\">Preview</a>"
          ],
          [
           "2022-06-22",
           "PlanetScope-SuperDove",
           15,
           "<a href=\"https://preview.planet.terrastream.ca/planet/planetscope-superdove/3b89697e-1d31-43e5-8582-df26490cc351_thumb.png\">Preview</a>"
          ],
          [
           "2022-06-24",
           "PlanetScope-SuperDove",
           0,
           "<a href=\"https://preview.planet.terrastream.ca/planet/planetscope-superdove/af825b92-d127-411e-b2c4-d152c1e90a71_thumb.png\">Preview</a>"
          ],
          [
           "2022-06-25",
           "PlanetScope-SuperDove",
           5,
           "<a href=\"https://preview.planet.terrastream.ca/planet/planetscope-superdove/40d1f7b8-b340-4e9a-96fe-96b209c45609_thumb.png\">Preview</a>"
          ],
          [
           "2022-07-02",
           "PlanetScope-SuperDove",
           10,
           "<a href=\"https://preview.planet.terrastream.ca/planet/planetscope-superdove/30da3ed0-99a1-43ed-b19b-3f1b5edc454d_thumb.png\">Preview</a>"
          ],
          [
           "2022-07-03",
           "PlanetScope-SuperDove",
           0,
           "<a href=\"https://preview.planet.terrastream.ca/planet/planetscope-superdove/21df6c60-d2a3-43fd-92f8-cb28ad031bce_thumb.png\">Preview</a>"
          ],
          [
           "2022-07-05",
           "PlanetScope-SuperDove",
           0,
           "<a href=\"https://preview.planet.terrastream.ca/planet/planetscope-superdove/575801a1-5009-4fb7-abbd-4762377fdca5_thumb.png\">Preview</a>"
          ],
          [
           "2022-07-07",
           "PlanetScope-SuperDove",
           0,
           "<a href=\"https://preview.planet.terrastream.ca/planet/planetscope-superdove/d0bd226b-34e0-4be5-b27d-a0c7497e13db_thumb.png\">Preview</a>"
          ],
          [
           "2022-07-08",
           "PlanetScope-SuperDove",
           0,
           "<a href=\"https://preview.planet.terrastream.ca/planet/planetscope-superdove/397fee5f-40bb-4f49-89bc-ad5490573680_thumb.png\">Preview</a>"
          ],
          [
           "2022-07-09",
           "PlanetScope-SuperDove",
           11,
           "<a href=\"https://preview.planet.terrastream.ca/planet/planetscope-superdove/3d831081-a7a9-42af-b25b-36500fce526c_thumb.png\">Preview</a>"
          ],
          [
           "2022-07-10",
           "PlanetScope-SuperDove",
           0,
           "<a href=\"https://preview.planet.terrastream.ca/planet/planetscope-superdove/41c8404c-03ea-4aab-879c-2cd63db50a58_thumb.png\">Preview</a>"
          ],
          [
           "2022-07-15",
           "PlanetScope-SuperDove",
           11,
           "<a href=\"https://preview.planet.terrastream.ca/planet/planetscope-superdove/ae62b4bb-01f7-4136-8d61-420ed6496332_thumb.png\">Preview</a>"
          ],
          [
           "2022-07-23",
           "PlanetScope-SuperDove",
           0,
           "<a href=\"https://preview.planet.terrastream.ca/planet/planetscope-superdove/9529093c-63a6-4085-8e00-af87cdbdc675_thumb.png\">Preview</a>"
          ],
          [
           "2022-07-24",
           "PlanetScope-SuperDove",
           0,
           "<a href=\"https://preview.planet.terrastream.ca/planet/planetscope-superdove/c73adf1b-8aa1-4d21-8f0f-b353021505e6_thumb.png\">Preview</a>"
          ],
          [
           "2022-07-26",
           "PlanetScope-SuperDove",
           12,
           "<a href=\"https://preview.planet.terrastream.ca/planet/planetscope-superdove/b9b33bae-807c-43f2-a537-82ef1d9e0633_thumb.png\">Preview</a>"
          ],
          [
           "2022-07-27",
           "PlanetScope-SuperDove",
           0,
           "<a href=\"https://preview.planet.terrastream.ca/planet/planetscope-superdove/1d62eb57-99f8-4252-ae05-272d5379ae95_thumb.png\">Preview</a>"
          ],
          [
           "2022-07-29",
           "PlanetScope-SuperDove",
           0,
           "<a href=\"https://preview.planet.terrastream.ca/planet/planetscope-superdove/db8f3192-3481-4604-b8bc-a70e48bbd511_thumb.png\">Preview</a>"
          ],
          [
           "2022-07-30",
           "PlanetScope-SuperDove",
           0,
           "<a href=\"https://preview.planet.terrastream.ca/planet/planetscope-superdove/4d1a5094-f5e6-4c28-a495-516b57d95627_thumb.png\">Preview</a>"
          ],
          [
           "2022-07-31",
           "PlanetScope-SuperDove",
           0,
           "<a href=\"https://preview.planet.terrastream.ca/planet/planetscope-superdove/79688c47-17c2-4814-b589-b2a3103eb074_thumb.png\">Preview</a>"
          ],
          [
           "2022-08-03",
           "PlanetScope-SuperDove",
           5,
           "<a href=\"https://preview.planet.terrastream.ca/planet/planetscope-superdove/130eedf4-df96-4b23-87f3-bd43f52e4a23_thumb.png\">Preview</a>"
          ],
          [
           "2022-08-08",
           "PlanetScope-SuperDove",
           0,
           "<a href=\"https://preview.planet.terrastream.ca/planet/planetscope-superdove/f8bf8267-951d-4928-965c-233b774cd98c_thumb.png\">Preview</a>"
          ],
          [
           "2022-08-09",
           "PlanetScope-SuperDove",
           0,
           "<a href=\"https://preview.planet.terrastream.ca/planet/planetscope-superdove/463664d2-3a1b-4dac-a776-9ad6d5fa2768_thumb.png\">Preview</a>"
          ],
          [
           "2022-08-10",
           "PlanetScope-SuperDove",
           0,
           "<a href=\"https://preview.planet.terrastream.ca/planet/planetscope-superdove/2278f660-a313-4866-a627-74a4f773e337_thumb.png\">Preview</a>"
          ],
          [
           "2022-08-11",
           "PlanetScope-SuperDove",
           0,
           "<a href=\"https://preview.planet.terrastream.ca/planet/planetscope-superdove/d2888403-f3e0-447b-a6ee-2c428e8059e4_thumb.png\">Preview</a>"
          ],
          [
           "2022-08-12",
           "PlanetScope-SuperDove",
           0,
           "<a href=\"https://preview.planet.terrastream.ca/planet/planetscope-superdove/417edb60-1a27-41ef-9e1f-b00f783f6137_thumb.png\">Preview</a>"
          ],
          [
           "2022-08-13",
           "PlanetScope-SuperDove",
           0,
           "<a href=\"https://preview.planet.terrastream.ca/planet/planetscope-superdove/42a79a60-2a21-4479-aecf-4a74d256b1d3_thumb.png\">Preview</a>"
          ],
          [
           "2022-08-14",
           "PlanetScope-SuperDove",
           0,
           "<a href=\"https://preview.planet.terrastream.ca/planet/planetscope-superdove/7d792632-5f25-4c67-b6b6-1ff6245c339d_thumb.png\">Preview</a>"
          ],
          [
           "2022-08-15",
           "PlanetScope-SuperDove",
           0,
           "<a href=\"https://preview.planet.terrastream.ca/planet/planetscope-superdove/82ef5caa-da54-4a8c-bc28-c1f93cc7bd3c_thumb.png\">Preview</a>"
          ],
          [
           "2022-08-16",
           "PlanetScope-SuperDove",
           11,
           "<a href=\"https://preview.planet.terrastream.ca/planet/planetscope-superdove/5f5facbd-8bbc-4244-8281-72fb5203a8a1_thumb.png\">Preview</a>"
          ],
          [
           "2022-08-18",
           "PlanetScope-SuperDove",
           0,
           "<a href=\"https://preview.planet.terrastream.ca/planet/planetscope-superdove/f623ee22-c353-4e30-96b1-8b384415dc53_thumb.png\">Preview</a>"
          ],
          [
           "2022-08-22",
           "PlanetScope-SuperDove",
           2,
           "<a href=\"https://preview.planet.terrastream.ca/planet/planetscope-superdove/7f24385b-3ca3-47f1-a88e-85b252a34f76_thumb.png\">Preview</a>"
          ],
          [
           "2022-08-23",
           "PlanetScope-SuperDove",
           0,
           "<a href=\"https://preview.planet.terrastream.ca/planet/planetscope-superdove/fc4d0752-bd69-48ba-9b0c-f5d408ff5d38_thumb.png\">Preview</a>"
          ],
          [
           "2022-08-24",
           "PlanetScope-SuperDove",
           1,
           "<a href=\"https://preview.planet.terrastream.ca/planet/planetscope-superdove/6a7f1c2f-3e71-474a-a054-5e5b0473653a_thumb.png\">Preview</a>"
          ],
          [
           "2022-08-25",
           "PlanetScope-SuperDove",
           0,
           "<a href=\"https://preview.planet.terrastream.ca/planet/planetscope-superdove/e704a1c9-6c50-4d2b-97ff-bf2b8e8eaebb_thumb.png\">Preview</a>"
          ],
          [
           "2022-08-26",
           "PlanetScope-SuperDove",
           0,
           "<a href=\"https://preview.planet.terrastream.ca/planet/planetscope-superdove/918b5b52-a091-498b-9517-6e22150be22a_thumb.png\">Preview</a>"
          ],
          [
           "2022-08-27",
           "PlanetScope-SuperDove",
           0,
           "<a href=\"https://preview.planet.terrastream.ca/planet/planetscope-superdove/e3fa245b-1282-45ce-b138-528b40378850_thumb.png\">Preview</a>"
          ],
          [
           "2022-08-28",
           "PlanetScope-SuperDove",
           0,
           "<a href=\"https://preview.planet.terrastream.ca/planet/planetscope-superdove/9b97c996-8b69-4b47-b7de-dca8ea309aa2_thumb.png\">Preview</a>"
          ],
          [
           "2022-08-29",
           "PlanetScope-SuperDove",
           0,
           "<a href=\"https://preview.planet.terrastream.ca/planet/planetscope-superdove/fdb1651f-0d2c-4d0f-b747-8713e3f03b96_thumb.png\">Preview</a>"
          ],
          [
           "2022-09-02",
           "PlanetScope-SuperDove",
           1,
           "<a href=\"https://preview.planet.terrastream.ca/planet/planetscope-superdove/bab5556a-b70e-4245-b182-15e6e05f1fe0_thumb.png\">Preview</a>"
          ],
          [
           "2022-09-03",
           "PlanetScope-SuperDove",
           0,
           "<a href=\"https://preview.planet.terrastream.ca/planet/planetscope-superdove/d97cd231-007c-48a3-a25a-b35d4dc0c9e6_thumb.png\">Preview</a>"
          ],
          [
           "2022-09-05",
           "PlanetScope-SuperDove",
           0,
           "<a href=\"https://preview.planet.terrastream.ca/planet/planetscope-superdove/32f992b4-8776-4970-ad9f-4fc79137ce64_thumb.png\">Preview</a>"
          ],
          [
           "2022-09-08",
           "PlanetScope-SuperDove",
           11,
           "<a href=\"https://preview.planet.terrastream.ca/planet/planetscope-superdove/1d089b6c-5ec9-463e-b8a3-4a483ff2fd37_thumb.png\">Preview</a>"
          ],
          [
           "2022-09-10",
           "PlanetScope-SuperDove",
           0,
           "<a href=\"https://preview.planet.terrastream.ca/planet/planetscope-superdove/4cf093b8-c44b-4b12-b425-4a40c3a7e4a4_thumb.png\">Preview</a>"
          ],
          [
           "2022-09-11",
           "PlanetScope-SuperDove",
           0,
           "<a href=\"https://preview.planet.terrastream.ca/planet/planetscope-superdove/18492dfc-e173-4e80-b599-f214dc9ae32c_thumb.png\">Preview</a>"
          ],
          [
           "2022-09-12",
           "PlanetScope-SuperDove",
           0,
           "<a href=\"https://preview.planet.terrastream.ca/planet/planetscope-superdove/e1f2137d-2f99-4e21-a07e-5bf3f9de7ab7_thumb.png\">Preview</a>"
          ],
          [
           "2022-09-15",
           "PlanetScope-SuperDove",
           0,
           "<a href=\"https://preview.planet.terrastream.ca/planet/planetscope-superdove/be03f696-856e-43e6-9922-5b3549a35c07_thumb.png\">Preview</a>"
          ],
          [
           "2022-09-17",
           "PlanetScope-SuperDove",
           0,
           "<a href=\"https://preview.planet.terrastream.ca/planet/planetscope-superdove/e11bfc80-bb25-4878-8e36-cbc31eefd236_thumb.png\">Preview</a>"
          ],
          [
           "2022-09-18",
           "PlanetScope-SuperDove",
           0,
           "<a href=\"https://preview.planet.terrastream.ca/planet/planetscope-superdove/9646945c-745a-4630-b25a-815995f0274a_thumb.png\">Preview</a>"
          ],
          [
           "2022-09-19",
           "PlanetScope-SuperDove",
           0,
           "<a href=\"https://preview.planet.terrastream.ca/planet/planetscope-superdove/b56a65c7-4b5d-4f67-806f-dceb6e5d57b5_thumb.png\">Preview</a>"
          ],
          [
           "2022-09-25",
           "PlanetScope-SuperDove",
           0,
           "<a href=\"https://preview.planet.terrastream.ca/planet/planetscope-superdove/b24cf0f4-84ce-44c3-8f8a-02ea335b837c_thumb.png\">Preview</a>"
          ],
          [
           "2022-09-26",
           "PlanetScope-SuperDove",
           0,
           "<a href=\"https://preview.planet.terrastream.ca/planet/planetscope-superdove/81e3fb37-14e3-4134-ad55-c5f9ebeb653e_thumb.png\">Preview</a>"
          ],
          [
           "2022-09-27",
           "PlanetScope-SuperDove",
           0,
           "<a href=\"https://preview.planet.terrastream.ca/planet/planetscope-superdove/a6f8614b-7a11-4200-8442-652ae1e32c68_thumb.png\">Preview</a>"
          ],
          [
           "2022-09-30",
           "PlanetScope-SuperDove",
           0,
           "<a href=\"https://preview.planet.terrastream.ca/planet/planetscope-superdove/3469b15f-ff09-4ffd-a984-834a38f9b213_thumb.png\">Preview</a>"
          ],
          [
           "2022-10-01",
           "PlanetScope-SuperDove",
           0,
           "<a href=\"https://preview.planet.terrastream.ca/planet/planetscope-superdove/056c9673-a89a-44e5-93e7-8069ffe57336_thumb.png\">Preview</a>"
          ],
          [
           "2022-10-03",
           "PlanetScope-SuperDove",
           0,
           "<a href=\"https://preview.planet.terrastream.ca/planet/planetscope-superdove/00ce9a26-171b-43ff-bb34-5aa00a5e5f37_thumb.png\">Preview</a>"
          ],
          [
           "2022-10-04",
           "PlanetScope-SuperDove",
           0,
           "<a href=\"https://preview.planet.terrastream.ca/planet/planetscope-superdove/1bb4b9b7-c2f5-42e7-b727-2fb7b738a97a_thumb.png\">Preview</a>"
          ],
          [
           "2022-10-06",
           "PlanetScope-SuperDove",
           0,
           "<a href=\"https://preview.planet.terrastream.ca/planet/planetscope-superdove/4a090356-7193-42b0-9ab2-2050f3daba77_thumb.png\">Preview</a>"
          ],
          [
           "2022-10-07",
           "PlanetScope-SuperDove",
           0,
           "<a href=\"https://preview.planet.terrastream.ca/planet/planetscope-superdove/20726bb0-7062-4e81-8696-ca3aab488352_thumb.png\">Preview</a>"
          ],
          [
           "2022-10-09",
           "PlanetScope-SuperDove",
           0,
           "<a href=\"https://preview.planet.terrastream.ca/planet/planetscope-superdove/dbd603cf-f90b-4394-811b-255461d16db4_thumb.png\">Preview</a>"
          ],
          [
           "2022-10-10",
           "PlanetScope-SuperDove",
           0,
           "<a href=\"https://preview.planet.terrastream.ca/planet/planetscope-superdove/366b891f-6c67-4586-89a3-535e5456fdd6_thumb.png\">Preview</a>"
          ],
          [
           "2022-10-12",
           "PlanetScope-SuperDove",
           0,
           "<a href=\"https://preview.planet.terrastream.ca/planet/planetscope-superdove/43edd3de-7ae3-4fa3-a7a3-068273a88e44_thumb.png\">Preview</a>"
          ],
          [
           "2022-10-13",
           "PlanetScope-SuperDove",
           0,
           "<a href=\"https://preview.planet.terrastream.ca/planet/planetscope-superdove/0cbb8ef9-dded-45f4-b621-d7b270cfc0ee_thumb.png\">Preview</a>"
          ],
          [
           "2022-10-14",
           "PlanetScope-SuperDove",
           0,
           "<a href=\"https://preview.planet.terrastream.ca/planet/planetscope-superdove/e2d03481-c88b-4aaa-9731-23314b977633_thumb.png\">Preview</a>"
          ],
          [
           "2022-10-21",
           "PlanetScope-SuperDove",
           0,
           "<a href=\"https://preview.planet.terrastream.ca/planet/planetscope-superdove/3d993623-d560-46bb-b690-d21d1b38384f_thumb.png\">Preview</a>"
          ],
          [
           "2022-10-26",
           "PlanetScope-SuperDove",
           2,
           "<a href=\"https://preview.planet.terrastream.ca/planet/planetscope-superdove/054ecc35-9d88-49c0-84c0-e714541069e9_thumb.png\">Preview</a>"
          ],
          [
           "2022-10-28",
           "PlanetScope-SuperDove",
           0,
           "<a href=\"https://preview.planet.terrastream.ca/planet/planetscope-superdove/8b5bd89e-0b0f-4221-84f1-56fd1944c383_thumb.png\">Preview</a>"
          ],
          [
           "2022-11-04",
           "PlanetScope-SuperDove",
           10,
           "<a href=\"https://preview.planet.terrastream.ca/planet/planetscope-superdove/e69cda9f-f64a-4ec1-8b46-9085f5c01da8_thumb.png\">Preview</a>"
          ],
          [
           "2022-11-05",
           "PlanetScope-SuperDove",
           16,
           "<a href=\"https://preview.planet.terrastream.ca/planet/planetscope-superdove/e4f837f9-9347-4c72-9c29-afe2d8225838_thumb.png\">Preview</a>"
          ],
          [
           "2022-11-09",
           "PlanetScope-SuperDove",
           0,
           "<a href=\"https://preview.planet.terrastream.ca/planet/planetscope-superdove/c5c30f79-4db8-40b3-878e-c393a86dbadb_thumb.png\">Preview</a>"
          ],
          [
           "2022-11-16",
           "PlanetScope-SuperDove",
           0,
           "<a href=\"https://preview.planet.terrastream.ca/planet/planetscope-superdove/4cf75ae0-cbea-4dcb-9b17-2fef612dda3b_thumb.png\">Preview</a>"
          ],
          [
           "2022-11-17",
           "PlanetScope-SuperDove",
           0,
           "<a href=\"https://preview.planet.terrastream.ca/planet/planetscope-superdove/06701156-dd7b-4e08-a19d-974b9d6b6617_thumb.png\">Preview</a>"
          ],
          [
           "2022-11-18",
           "PlanetScope-SuperDove",
           0,
           "<a href=\"https://preview.planet.terrastream.ca/planet/planetscope-superdove/6ca81768-8d2a-4215-ba12-2583daf96e0c_thumb.png\">Preview</a>"
          ],
          [
           "2022-11-20",
           "PlanetScope-SuperDove",
           10,
           "<a href=\"https://preview.planet.terrastream.ca/planet/planetscope-superdove/9f6b6199-a6ff-4a98-9062-9adb08510a93_thumb.png\">Preview</a>"
          ],
          [
           "2022-11-22",
           "PlanetScope-SuperDove",
           15,
           "<a href=\"https://preview.planet.terrastream.ca/planet/planetscope-superdove/ee8e399a-f64d-4ed3-b7e5-2073c2640f99_thumb.png\">Preview</a>"
          ],
          [
           "2022-11-23",
           "PlanetScope-SuperDove",
           0,
           "<a href=\"https://preview.planet.terrastream.ca/planet/planetscope-superdove/b6fef881-ab66-4cb2-a8eb-f659c128c8e8_thumb.png\">Preview</a>"
          ],
          [
           "2022-11-24",
           "PlanetScope-SuperDove",
           24,
           "<a href=\"https://preview.planet.terrastream.ca/planet/planetscope-superdove/856012d0-e0cf-4dc9-98d3-6da82743f95f_thumb.png\">Preview</a>"
          ],
          [
           "2022-11-25",
           "PlanetScope-SuperDove",
           1,
           "<a href=\"https://preview.planet.terrastream.ca/planet/planetscope-superdove/e7c62497-018d-477b-8c8d-21b6aec1dcfd_thumb.png\">Preview</a>"
          ],
          [
           "2022-11-29",
           "PlanetScope-SuperDove",
           22,
           "<a href=\"https://preview.planet.terrastream.ca/planet/planetscope-superdove/3a531611-f750-4c4a-9d26-73b4dd6d91a1_thumb.png\">Preview</a>"
          ],
          [
           "2022-11-30",
           "PlanetScope-SuperDove",
           21,
           "<a href=\"https://preview.planet.terrastream.ca/planet/planetscope-superdove/b3003700-de4c-4d3b-99f0-5ad6cb72c94a_thumb.png\">Preview</a>"
          ],
          [
           "2022-12-02",
           "PlanetScope-SuperDove",
           0,
           "<a href=\"https://preview.planet.terrastream.ca/planet/planetscope-superdove/a3a14b34-49ad-47cc-8d3c-822581f4a7d5_thumb.png\">Preview</a>"
          ],
          [
           "2022-12-05",
           "PlanetScope-SuperDove",
           0,
           "<a href=\"https://preview.planet.terrastream.ca/planet/planetscope-superdove/46492b47-3fde-4c19-9d8b-08fc911d394e_thumb.png\">Preview</a>"
          ],
          [
           "2022-12-11",
           "PlanetScope-SuperDove",
           17,
           "<a href=\"https://preview.planet.terrastream.ca/planet/planetscope-superdove/b40bfefd-f270-4a1b-8f85-78e7eb1edef1_thumb.png\">Preview</a>"
          ],
          [
           "2022-12-15",
           "PlanetScope-SuperDove",
           7,
           "<a href=\"https://preview.planet.terrastream.ca/planet/planetscope-superdove/c7d70ff4-439c-4158-8a10-7d3244c63ee7_thumb.png\">Preview</a>"
          ],
          [
           "2022-12-20",
           "PlanetScope-SuperDove",
           9,
           "<a href=\"https://preview.planet.terrastream.ca/planet/planetscope-superdove/185464a8-1375-483a-9cf8-7afae7862b51_thumb.png\">Preview</a>"
          ],
          [
           "2022-12-23",
           "PlanetScope-SuperDove",
           21,
           "<a href=\"https://preview.planet.terrastream.ca/planet/planetscope-superdove/9681e506-c756-4dca-8cf4-a9631ce4012b_thumb.png\">Preview</a>"
          ],
          [
           "2022-12-24",
           "PlanetScope-SuperDove",
           0,
           "<a href=\"https://preview.planet.terrastream.ca/planet/planetscope-superdove/81cd8834-797e-4500-b026-43d339f69a51_thumb.png\">Preview</a>"
          ],
          [
           "2022-12-25",
           "PlanetScope-SuperDove",
           0,
           "<a href=\"https://preview.planet.terrastream.ca/planet/planetscope-superdove/4be7f710-b6b1-4783-93e3-7ff43e5b9dd6_thumb.png\">Preview</a>"
          ],
          [
           "2022-12-26",
           "PlanetScope-SuperDove",
           3,
           "<a href=\"https://preview.planet.terrastream.ca/planet/planetscope-superdove/b44517c7-9f08-4cbe-9938-3389aab089a3_thumb.png\">Preview</a>"
          ],
          [
           "2022-12-28",
           "PlanetScope-SuperDove",
           16,
           "<a href=\"https://preview.planet.terrastream.ca/planet/planetscope-superdove/5dec899f-18c7-4362-a5e0-d0476b83b9b1_thumb.png\">Preview</a>"
          ],
          [
           "2022-12-29",
           "PlanetScope-SuperDove",
           19,
           "<a href=\"https://preview.planet.terrastream.ca/planet/planetscope-superdove/e5721a40-9b6f-44a3-a19b-72862f3e7473_thumb.png\">Preview</a>"
          ],
          [
           "2023-01-02",
           "PlanetScope-SuperDove",
           16,
           "<a href=\"https://preview.planet.terrastream.ca/planet/planetscope-superdove/eaa8763f-5dfe-49a5-b258-ccb7044c61d8_thumb.png\">Preview</a>"
          ],
          [
           "2023-01-03",
           "PlanetScope-SuperDove",
           0,
           "<a href=\"https://preview.planet.terrastream.ca/planet/planetscope-superdove/b261c225-a6ba-4128-9643-2311c783dfa3_thumb.png\">Preview</a>"
          ],
          [
           "2023-01-04",
           "PlanetScope-SuperDove",
           0,
           "<a href=\"https://preview.planet.terrastream.ca/planet/planetscope-superdove/842d1879-6d67-4f1e-a433-6612150d2a53_thumb.png\">Preview</a>"
          ],
          [
           "2023-01-11",
           "PlanetScope-SuperDove",
           6,
           "<a href=\"https://preview.planet.terrastream.ca/planet/planetscope-superdove/c1077282-eb40-4783-a37b-d18253056c0b_thumb.png\">Preview</a>"
          ],
          [
           "2023-01-28",
           "PlanetScope-SuperDove",
           0,
           "<a href=\"https://preview.planet.terrastream.ca/planet/planetscope-superdove/2f0e21c1-816a-4a9e-80d4-d667f28ff49f_thumb.png\">Preview</a>"
          ],
          [
           "2023-01-29",
           "PlanetScope-SuperDove",
           7,
           "<a href=\"https://preview.planet.terrastream.ca/planet/planetscope-superdove/356a162b-7083-4133-b03d-8c41bf5281bd_thumb.png\">Preview</a>"
          ],
          [
           "2023-02-06",
           "PlanetScope-SuperDove",
           0,
           "<a href=\"https://preview.planet.terrastream.ca/planet/planetscope-superdove/aa73b9e7-d1f9-4049-b720-38866f9a3852_thumb.png\">Preview</a>"
          ],
          [
           "2023-02-24",
           "PlanetScope-SuperDove",
           7,
           "<a href=\"https://preview.planet.terrastream.ca/planet/planetscope-superdove/2a099c20-c9d0-4a6a-bc64-5e033c33a62c_thumb.png\">Preview</a>"
          ],
          [
           "2023-02-25",
           "PlanetScope-SuperDove",
           1,
           "<a href=\"https://preview.planet.terrastream.ca/planet/planetscope-superdove/7dc4ff5d-a92e-48e8-84d4-e03ff603ae7a_thumb.png\">Preview</a>"
          ],
          [
           "2023-03-04",
           "PlanetScope-SuperDove",
           2,
           "<a href=\"https://preview.planet.terrastream.ca/planet/planetscope-superdove/e4c14fed-46d8-4551-ac12-b0b729044dc7_thumb.png\">Preview</a>"
          ],
          [
           "2023-03-06",
           "PlanetScope-SuperDove",
           10,
           "<a href=\"https://preview.planet.terrastream.ca/planet/planetscope-superdove/0316b64a-a372-4da3-9210-a03e786ef05a_thumb.png\">Preview</a>"
          ],
          [
           "2023-03-09",
           "PlanetScope-SuperDove",
           0,
           "<a href=\"https://preview.planet.terrastream.ca/planet/planetscope-superdove/937851b6-9d7b-4e73-a6f4-7db0d1e541a0_thumb.png\">Preview</a>"
          ],
          [
           "2023-03-16",
           "PlanetScope-SuperDove",
           20,
           "<a href=\"https://preview.planet.terrastream.ca/planet/planetscope-superdove/fe99b858-22d4-414c-b2fa-a36a54bbceb8_thumb.png\">Preview</a>"
          ],
          [
           "2023-03-18",
           "PlanetScope-SuperDove",
           0,
           "<a href=\"https://preview.planet.terrastream.ca/planet/planetscope-superdove/400f5f10-beb7-441a-ac89-bdeb9a71eb52_thumb.png\">Preview</a>"
          ],
          [
           "2023-03-19",
           "PlanetScope-SuperDove",
           0,
           "<a href=\"https://preview.planet.terrastream.ca/planet/planetscope-superdove/d730246d-a6c0-4272-8e4a-0e9fe46a287d_thumb.png\">Preview</a>"
          ],
          [
           "2023-03-20",
           "PlanetScope-SuperDove",
           0,
           "<a href=\"https://preview.planet.terrastream.ca/planet/planetscope-superdove/5d49d405-d0f3-4a39-83f6-3c1a005ddc5c_thumb.png\">Preview</a>"
          ],
          [
           "2023-03-21",
           "PlanetScope-SuperDove",
           1,
           "<a href=\"https://preview.planet.terrastream.ca/planet/planetscope-superdove/3ac849e5-2d68-4d95-9a1d-d3b35f4ccdf5_thumb.png\">Preview</a>"
          ],
          [
           "2023-03-22",
           "PlanetScope-SuperDove",
           1,
           "<a href=\"https://preview.planet.terrastream.ca/planet/planetscope-superdove/0049f2d3-8693-419f-a413-df678994a333_thumb.png\">Preview</a>"
          ],
          [
           "2023-03-26",
           "PlanetScope-SuperDove",
           1,
           "<a href=\"https://preview.planet.terrastream.ca/planet/planetscope-superdove/0211a841-ebf9-4c66-a716-9ec910922b87_thumb.png\">Preview</a>"
          ],
          [
           "2023-03-29",
           "PlanetScope-SuperDove",
           0,
           "<a href=\"https://preview.planet.terrastream.ca/planet/planetscope-superdove/219590bc-a1d0-4251-9fb9-0760018a582d_thumb.png\">Preview</a>"
          ],
          [
           "2023-03-30",
           "PlanetScope-SuperDove",
           0,
           "<a href=\"https://preview.planet.terrastream.ca/planet/planetscope-superdove/d0a35a9d-4a9e-4ac8-9a82-36d0763d49b0_thumb.png\">Preview</a>"
          ]
         ],
         "hovertemplate": "Image Date: %{customdata[0]}<br>%{customdata[3]}<br>Cloud Cover: %{customdata[2]}%<br>Image Source: %{customdata[1]}",
         "marker": {
          "color": "red"
         },
         "mode": "markers",
         "orientation": "h",
         "type": "scatter",
         "x": [
          "2018-01-01T00:00:00",
          "2018-01-06T00:00:00",
          "2018-01-07T00:00:00",
          "2018-01-08T00:00:00",
          "2018-01-13T00:00:00",
          "2018-01-15T00:00:00",
          "2018-01-16T00:00:00",
          "2018-01-17T00:00:00",
          "2018-01-19T00:00:00",
          "2018-01-21T00:00:00",
          "2018-01-28T00:00:00",
          "2018-02-08T00:00:00",
          "2018-02-16T00:00:00",
          "2018-03-11T00:00:00",
          "2018-03-12T00:00:00",
          "2018-03-14T00:00:00",
          "2018-03-15T00:00:00",
          "2018-03-19T00:00:00",
          "2018-03-20T00:00:00",
          "2018-03-21T00:00:00",
          "2018-03-25T00:00:00",
          "2018-03-26T00:00:00",
          "2018-03-30T00:00:00",
          "2018-03-31T00:00:00",
          "2018-04-05T00:00:00",
          "2018-04-13T00:00:00",
          "2018-04-18T00:00:00",
          "2018-04-19T00:00:00",
          "2018-04-22T00:00:00",
          "2018-04-23T00:00:00",
          "2018-04-24T00:00:00",
          "2018-04-25T00:00:00",
          "2018-05-03T00:00:00",
          "2018-05-06T00:00:00",
          "2018-05-09T00:00:00",
          "2018-05-12T00:00:00",
          "2018-05-13T00:00:00",
          "2018-05-17T00:00:00",
          "2018-05-23T00:00:00",
          "2018-05-31T00:00:00",
          "2018-06-02T00:00:00",
          "2018-06-05T00:00:00",
          "2018-06-08T00:00:00",
          "2018-06-10T00:00:00",
          "2018-06-15T00:00:00",
          "2018-06-18T00:00:00",
          "2018-06-19T00:00:00",
          "2018-06-20T00:00:00",
          "2018-06-24T00:00:00",
          "2018-06-25T00:00:00",
          "2018-06-26T00:00:00",
          "2018-06-28T00:00:00",
          "2018-06-30T00:00:00",
          "2018-07-01T00:00:00",
          "2018-07-02T00:00:00",
          "2018-07-03T00:00:00",
          "2018-07-07T00:00:00",
          "2018-07-11T00:00:00",
          "2018-07-24T00:00:00",
          "2018-07-25T00:00:00",
          "2018-07-27T00:00:00",
          "2018-07-28T00:00:00",
          "2018-07-30T00:00:00",
          "2018-07-31T00:00:00",
          "2018-08-01T00:00:00",
          "2018-08-04T00:00:00",
          "2018-08-05T00:00:00",
          "2018-08-08T00:00:00",
          "2018-08-10T00:00:00",
          "2018-08-11T00:00:00",
          "2018-08-13T00:00:00",
          "2018-08-14T00:00:00",
          "2018-08-15T00:00:00",
          "2018-08-20T00:00:00",
          "2018-08-23T00:00:00",
          "2018-08-27T00:00:00",
          "2018-09-02T00:00:00",
          "2018-09-07T00:00:00",
          "2018-09-10T00:00:00",
          "2018-09-13T00:00:00",
          "2018-09-15T00:00:00",
          "2018-09-16T00:00:00",
          "2018-09-18T00:00:00",
          "2018-09-19T00:00:00",
          "2018-09-20T00:00:00",
          "2018-09-24T00:00:00",
          "2018-10-02T00:00:00",
          "2018-10-03T00:00:00",
          "2018-10-07T00:00:00",
          "2018-10-12T00:00:00",
          "2018-10-16T00:00:00",
          "2018-10-20T00:00:00",
          "2018-10-27T00:00:00",
          "2018-10-29T00:00:00",
          "2018-10-30T00:00:00",
          "2018-10-31T00:00:00",
          "2018-11-11T00:00:00",
          "2018-11-17T00:00:00",
          "2018-11-18T00:00:00",
          "2018-11-20T00:00:00",
          "2018-12-04T00:00:00",
          "2018-12-05T00:00:00",
          "2018-12-13T00:00:00",
          "2018-12-15T00:00:00",
          "2018-12-16T00:00:00",
          "2018-12-17T00:00:00",
          "2018-12-18T00:00:00",
          "2018-12-19T00:00:00",
          "2018-12-24T00:00:00",
          "2018-12-25T00:00:00",
          "2018-12-26T00:00:00",
          "2019-01-06T00:00:00",
          "2019-01-07T00:00:00",
          "2019-01-10T00:00:00",
          "2019-01-13T00:00:00",
          "2019-01-23T00:00:00",
          "2019-01-24T00:00:00",
          "2019-01-25T00:00:00",
          "2019-02-04T00:00:00",
          "2019-02-08T00:00:00",
          "2019-02-21T00:00:00",
          "2019-03-02T00:00:00",
          "2019-03-03T00:00:00",
          "2019-03-09T00:00:00",
          "2019-03-10T00:00:00",
          "2019-03-11T00:00:00",
          "2019-03-20T00:00:00",
          "2019-03-21T00:00:00",
          "2019-03-25T00:00:00",
          "2019-03-26T00:00:00",
          "2019-03-29T00:00:00",
          "2019-04-01T00:00:00",
          "2019-04-05T00:00:00",
          "2019-04-09T00:00:00",
          "2019-04-14T00:00:00",
          "2019-04-19T00:00:00",
          "2019-04-20T00:00:00",
          "2019-04-29T00:00:00",
          "2019-05-01T00:00:00",
          "2019-05-03T00:00:00",
          "2019-05-05T00:00:00",
          "2019-05-07T00:00:00",
          "2019-05-13T00:00:00",
          "2019-05-14T00:00:00",
          "2019-05-16T00:00:00",
          "2019-05-20T00:00:00",
          "2019-05-22T00:00:00",
          "2019-05-27T00:00:00",
          "2019-05-28T00:00:00",
          "2019-05-30T00:00:00",
          "2019-06-01T00:00:00",
          "2019-06-02T00:00:00",
          "2019-06-05T00:00:00",
          "2019-06-06T00:00:00",
          "2019-06-07T00:00:00",
          "2019-06-09T00:00:00",
          "2019-06-10T00:00:00",
          "2019-06-11T00:00:00",
          "2019-06-15T00:00:00",
          "2019-06-16T00:00:00",
          "2019-06-22T00:00:00",
          "2019-06-25T00:00:00",
          "2019-06-27T00:00:00",
          "2019-06-28T00:00:00",
          "2019-06-29T00:00:00",
          "2019-07-01T00:00:00",
          "2019-07-02T00:00:00",
          "2019-07-04T00:00:00",
          "2019-07-05T00:00:00",
          "2019-07-08T00:00:00",
          "2019-07-09T00:00:00",
          "2019-07-10T00:00:00",
          "2019-07-11T00:00:00",
          "2019-07-14T00:00:00",
          "2019-07-15T00:00:00",
          "2019-07-18T00:00:00",
          "2019-07-19T00:00:00",
          "2019-07-20T00:00:00",
          "2019-07-23T00:00:00",
          "2019-07-31T00:00:00",
          "2019-08-03T00:00:00",
          "2019-08-04T00:00:00",
          "2019-08-05T00:00:00",
          "2019-08-08T00:00:00",
          "2019-08-11T00:00:00",
          "2019-08-12T00:00:00",
          "2019-08-14T00:00:00",
          "2019-08-16T00:00:00",
          "2019-08-21T00:00:00",
          "2019-08-22T00:00:00",
          "2019-08-23T00:00:00",
          "2019-08-26T00:00:00",
          "2019-08-27T00:00:00",
          "2019-08-28T00:00:00",
          "2019-08-30T00:00:00",
          "2019-09-04T00:00:00",
          "2019-09-05T00:00:00",
          "2019-09-09T00:00:00",
          "2019-09-10T00:00:00",
          "2019-09-16T00:00:00",
          "2019-09-20T00:00:00",
          "2019-09-23T00:00:00",
          "2019-09-29T00:00:00",
          "2019-10-04T00:00:00",
          "2019-10-05T00:00:00",
          "2019-10-07T00:00:00",
          "2019-10-09T00:00:00",
          "2019-10-10T00:00:00",
          "2019-10-12T00:00:00",
          "2019-10-13T00:00:00",
          "2019-10-15T00:00:00",
          "2019-10-17T00:00:00",
          "2019-10-18T00:00:00",
          "2019-10-19T00:00:00",
          "2019-10-25T00:00:00",
          "2019-10-28T00:00:00",
          "2019-11-03T00:00:00",
          "2019-11-04T00:00:00",
          "2019-11-05T00:00:00",
          "2019-11-06T00:00:00",
          "2019-11-14T00:00:00",
          "2019-11-16T00:00:00",
          "2019-11-17T00:00:00",
          "2019-11-18T00:00:00",
          "2019-11-19T00:00:00",
          "2019-11-25T00:00:00",
          "2019-11-27T00:00:00",
          "2019-11-28T00:00:00",
          "2019-11-29T00:00:00",
          "2019-12-01T00:00:00",
          "2019-12-07T00:00:00",
          "2019-12-14T00:00:00",
          "2019-12-18T00:00:00",
          "2019-12-20T00:00:00",
          "2019-12-26T00:00:00",
          "2019-12-29T00:00:00",
          "2020-01-02T00:00:00",
          "2020-01-05T00:00:00",
          "2020-01-09T00:00:00",
          "2020-01-27T00:00:00",
          "2020-01-29T00:00:00",
          "2020-02-01T00:00:00",
          "2020-02-07T00:00:00",
          "2020-02-14T00:00:00",
          "2020-02-15T00:00:00",
          "2020-02-20T00:00:00",
          "2020-02-21T00:00:00",
          "2020-03-10T00:00:00",
          "2020-03-19T00:00:00",
          "2020-03-23T00:00:00",
          "2020-03-25T00:00:00",
          "2020-03-29T00:00:00",
          "2020-03-30T00:00:00",
          "2020-04-01T00:00:00",
          "2020-04-06T00:00:00",
          "2020-04-11T00:00:00",
          "2020-04-12T00:00:00",
          "2020-04-13T00:00:00",
          "2020-04-14T00:00:00",
          "2020-04-16T00:00:00",
          "2020-04-20T00:00:00",
          "2020-04-22T00:00:00",
          "2020-04-25T00:00:00",
          "2020-04-29T00:00:00",
          "2020-04-30T00:00:00",
          "2020-05-01T00:00:00",
          "2020-05-02T00:00:00",
          "2020-05-03T00:00:00",
          "2020-05-04T00:00:00",
          "2020-05-06T00:00:00",
          "2020-05-10T00:00:00",
          "2020-05-13T00:00:00",
          "2020-05-18T00:00:00",
          "2020-05-19T00:00:00",
          "2020-05-23T00:00:00",
          "2020-05-25T00:00:00",
          "2020-05-26T00:00:00",
          "2020-05-29T00:00:00",
          "2020-05-30T00:00:00",
          "2020-05-31T00:00:00",
          "2020-06-03T00:00:00",
          "2020-06-04T00:00:00",
          "2020-06-06T00:00:00",
          "2020-06-07T00:00:00",
          "2020-06-08T00:00:00",
          "2020-06-11T00:00:00",
          "2020-06-12T00:00:00",
          "2020-06-14T00:00:00",
          "2020-06-16T00:00:00",
          "2020-06-20T00:00:00",
          "2020-06-23T00:00:00",
          "2020-06-25T00:00:00",
          "2020-06-26T00:00:00",
          "2020-06-30T00:00:00",
          "2020-07-03T00:00:00",
          "2020-07-05T00:00:00",
          "2020-07-06T00:00:00",
          "2020-07-13T00:00:00",
          "2020-07-15T00:00:00",
          "2020-07-18T00:00:00",
          "2020-07-20T00:00:00",
          "2020-07-29T00:00:00",
          "2020-08-01T00:00:00",
          "2020-08-03T00:00:00",
          "2020-08-05T00:00:00",
          "2020-08-06T00:00:00",
          "2020-08-09T00:00:00",
          "2020-08-10T00:00:00",
          "2020-08-12T00:00:00",
          "2020-08-19T00:00:00",
          "2020-08-24T00:00:00",
          "2020-08-26T00:00:00",
          "2020-08-28T00:00:00",
          "2020-09-04T00:00:00",
          "2020-09-13T00:00:00",
          "2020-09-15T00:00:00",
          "2020-09-16T00:00:00",
          "2020-09-19T00:00:00",
          "2020-09-20T00:00:00",
          "2020-09-21T00:00:00",
          "2020-09-24T00:00:00",
          "2020-09-25T00:00:00",
          "2020-09-27T00:00:00",
          "2020-10-09T00:00:00",
          "2020-10-10T00:00:00",
          "2020-10-18T00:00:00",
          "2020-10-20T00:00:00",
          "2020-10-22T00:00:00",
          "2020-10-24T00:00:00",
          "2020-10-26T00:00:00",
          "2020-10-27T00:00:00",
          "2020-10-28T00:00:00",
          "2020-10-29T00:00:00",
          "2020-10-30T00:00:00",
          "2020-11-02T00:00:00",
          "2020-11-03T00:00:00",
          "2020-11-07T00:00:00",
          "2020-11-08T00:00:00",
          "2020-11-09T00:00:00",
          "2020-11-13T00:00:00",
          "2020-11-14T00:00:00",
          "2020-11-15T00:00:00",
          "2020-11-17T00:00:00",
          "2020-11-22T00:00:00",
          "2020-11-24T00:00:00",
          "2020-12-12T00:00:00",
          "2020-12-22T00:00:00",
          "2020-12-23T00:00:00",
          "2020-12-28T00:00:00",
          "2021-01-16T00:00:00",
          "2021-02-01T00:00:00",
          "2021-02-09T00:00:00",
          "2021-02-19T00:00:00",
          "2021-02-20T00:00:00",
          "2021-02-25T00:00:00",
          "2021-03-04T00:00:00",
          "2021-03-05T00:00:00",
          "2021-03-08T00:00:00",
          "2021-03-09T00:00:00",
          "2021-03-11T00:00:00",
          "2021-03-15T00:00:00",
          "2021-03-16T00:00:00",
          "2021-03-17T00:00:00",
          "2021-03-19T00:00:00",
          "2021-03-20T00:00:00",
          "2021-03-21T00:00:00",
          "2021-03-25T00:00:00",
          "2021-03-26T00:00:00",
          "2021-03-27T00:00:00",
          "2021-03-30T00:00:00",
          "2021-03-31T00:00:00",
          "2021-04-01T00:00:00",
          "2021-04-02T00:00:00",
          "2021-04-03T00:00:00",
          "2021-04-05T00:00:00",
          "2021-04-08T00:00:00",
          "2021-04-09T00:00:00",
          "2021-04-10T00:00:00",
          "2021-04-11T00:00:00",
          "2021-04-12T00:00:00",
          "2021-04-15T00:00:00",
          "2021-04-16T00:00:00",
          "2021-04-18T00:00:00",
          "2021-04-19T00:00:00",
          "2021-04-20T00:00:00",
          "2021-04-22T00:00:00",
          "2021-04-23T00:00:00",
          "2021-04-25T00:00:00",
          "2021-04-26T00:00:00",
          "2021-04-27T00:00:00",
          "2021-04-28T00:00:00",
          "2021-04-29T00:00:00",
          "2021-04-30T00:00:00",
          "2021-05-02T00:00:00",
          "2021-05-03T00:00:00",
          "2021-05-04T00:00:00",
          "2021-05-05T00:00:00",
          "2021-05-07T00:00:00",
          "2021-05-08T00:00:00",
          "2021-05-12T00:00:00",
          "2021-05-13T00:00:00",
          "2021-05-14T00:00:00",
          "2021-05-15T00:00:00",
          "2021-05-16T00:00:00",
          "2021-05-17T00:00:00",
          "2021-05-20T00:00:00",
          "2021-05-21T00:00:00",
          "2021-05-24T00:00:00",
          "2021-05-25T00:00:00",
          "2021-05-26T00:00:00",
          "2021-06-03T00:00:00",
          "2021-06-06T00:00:00",
          "2021-06-10T00:00:00",
          "2021-06-11T00:00:00",
          "2021-06-12T00:00:00",
          "2021-06-13T00:00:00",
          "2021-06-16T00:00:00",
          "2021-06-18T00:00:00",
          "2021-06-22T00:00:00",
          "2021-06-23T00:00:00",
          "2021-06-24T00:00:00",
          "2021-06-25T00:00:00",
          "2021-06-26T00:00:00",
          "2021-06-27T00:00:00",
          "2021-06-28T00:00:00",
          "2021-06-29T00:00:00",
          "2021-06-30T00:00:00",
          "2021-07-01T00:00:00",
          "2021-07-02T00:00:00",
          "2021-07-03T00:00:00",
          "2021-07-04T00:00:00",
          "2021-07-07T00:00:00",
          "2021-07-08T00:00:00",
          "2021-07-09T00:00:00",
          "2021-07-10T00:00:00",
          "2021-07-12T00:00:00",
          "2021-07-13T00:00:00",
          "2021-07-14T00:00:00",
          "2021-07-17T00:00:00",
          "2021-07-20T00:00:00",
          "2021-07-22T00:00:00",
          "2021-07-23T00:00:00",
          "2021-07-24T00:00:00",
          "2021-07-28T00:00:00",
          "2021-07-30T00:00:00",
          "2021-07-31T00:00:00",
          "2021-08-01T00:00:00",
          "2021-08-02T00:00:00",
          "2021-08-05T00:00:00",
          "2021-08-06T00:00:00",
          "2021-08-07T00:00:00",
          "2021-08-09T00:00:00",
          "2021-08-12T00:00:00",
          "2021-08-13T00:00:00",
          "2021-08-16T00:00:00",
          "2021-08-17T00:00:00",
          "2021-08-19T00:00:00",
          "2021-08-20T00:00:00",
          "2021-08-22T00:00:00",
          "2021-08-24T00:00:00",
          "2021-08-25T00:00:00",
          "2021-08-26T00:00:00",
          "2021-08-31T00:00:00",
          "2021-09-01T00:00:00",
          "2021-09-02T00:00:00",
          "2021-09-03T00:00:00",
          "2021-09-04T00:00:00",
          "2021-09-05T00:00:00",
          "2021-09-06T00:00:00",
          "2021-09-07T00:00:00",
          "2021-09-10T00:00:00",
          "2021-09-12T00:00:00",
          "2021-09-13T00:00:00",
          "2021-09-14T00:00:00",
          "2021-09-15T00:00:00",
          "2021-09-23T00:00:00",
          "2021-09-24T00:00:00",
          "2021-09-25T00:00:00",
          "2021-09-26T00:00:00",
          "2021-09-27T00:00:00",
          "2021-09-29T00:00:00",
          "2021-10-03T00:00:00",
          "2021-10-09T00:00:00",
          "2021-10-12T00:00:00",
          "2021-10-14T00:00:00",
          "2021-10-15T00:00:00",
          "2021-10-16T00:00:00",
          "2021-10-17T00:00:00",
          "2021-10-21T00:00:00",
          "2021-10-22T00:00:00",
          "2021-10-23T00:00:00",
          "2021-10-24T00:00:00",
          "2021-10-29T00:00:00",
          "2021-11-01T00:00:00",
          "2021-11-05T00:00:00",
          "2021-11-06T00:00:00",
          "2021-11-07T00:00:00",
          "2021-11-08T00:00:00",
          "2021-11-11T00:00:00",
          "2021-11-12T00:00:00",
          "2021-11-14T00:00:00",
          "2021-11-17T00:00:00",
          "2021-11-18T00:00:00",
          "2021-11-29T00:00:00",
          "2021-12-01T00:00:00",
          "2021-12-03T00:00:00",
          "2021-12-04T00:00:00",
          "2021-12-11T00:00:00",
          "2021-12-12T00:00:00",
          "2021-12-15T00:00:00",
          "2021-12-24T00:00:00",
          "2021-12-29T00:00:00",
          "2021-12-30T00:00:00",
          "2021-12-31T00:00:00",
          "2022-01-05T00:00:00",
          "2022-01-06T00:00:00",
          "2022-01-12T00:00:00",
          "2022-01-18T00:00:00",
          "2022-01-19T00:00:00",
          "2022-02-01T00:00:00",
          "2022-02-02T00:00:00",
          "2022-02-03T00:00:00",
          "2022-02-09T00:00:00",
          "2022-02-10T00:00:00",
          "2022-02-14T00:00:00",
          "2022-02-19T00:00:00",
          "2022-02-20T00:00:00",
          "2022-02-21T00:00:00",
          "2022-02-24T00:00:00",
          "2022-02-26T00:00:00",
          "2022-03-01T00:00:00",
          "2022-03-03T00:00:00",
          "2022-03-04T00:00:00",
          "2022-03-14T00:00:00",
          "2022-03-19T00:00:00",
          "2022-03-22T00:00:00",
          "2022-03-30T00:00:00",
          "2022-03-31T00:00:00",
          "2022-04-01T00:00:00",
          "2022-04-02T00:00:00",
          "2022-04-24T00:00:00",
          "2022-04-29T00:00:00",
          "2022-04-30T00:00:00",
          "2022-05-02T00:00:00",
          "2022-05-04T00:00:00",
          "2022-05-05T00:00:00",
          "2022-05-06T00:00:00",
          "2022-05-08T00:00:00",
          "2022-05-09T00:00:00",
          "2022-05-11T00:00:00",
          "2022-05-12T00:00:00",
          "2022-05-13T00:00:00",
          "2022-05-14T00:00:00",
          "2022-05-15T00:00:00",
          "2022-05-23T00:00:00",
          "2022-05-24T00:00:00",
          "2022-05-25T00:00:00",
          "2022-05-26T00:00:00",
          "2022-05-27T00:00:00",
          "2022-05-29T00:00:00",
          "2022-05-30T00:00:00",
          "2022-06-01T00:00:00",
          "2022-06-02T00:00:00",
          "2022-06-04T00:00:00",
          "2022-06-09T00:00:00",
          "2022-06-10T00:00:00",
          "2022-06-12T00:00:00",
          "2022-06-13T00:00:00",
          "2022-06-14T00:00:00",
          "2022-06-15T00:00:00",
          "2022-06-17T00:00:00",
          "2022-06-18T00:00:00",
          "2022-06-19T00:00:00",
          "2022-06-22T00:00:00",
          "2022-06-24T00:00:00",
          "2022-06-25T00:00:00",
          "2022-07-02T00:00:00",
          "2022-07-03T00:00:00",
          "2022-07-05T00:00:00",
          "2022-07-07T00:00:00",
          "2022-07-08T00:00:00",
          "2022-07-09T00:00:00",
          "2022-07-10T00:00:00",
          "2022-07-15T00:00:00",
          "2022-07-23T00:00:00",
          "2022-07-24T00:00:00",
          "2022-07-26T00:00:00",
          "2022-07-27T00:00:00",
          "2022-07-29T00:00:00",
          "2022-07-30T00:00:00",
          "2022-07-31T00:00:00",
          "2022-08-03T00:00:00",
          "2022-08-08T00:00:00",
          "2022-08-09T00:00:00",
          "2022-08-10T00:00:00",
          "2022-08-11T00:00:00",
          "2022-08-12T00:00:00",
          "2022-08-13T00:00:00",
          "2022-08-14T00:00:00",
          "2022-08-15T00:00:00",
          "2022-08-16T00:00:00",
          "2022-08-18T00:00:00",
          "2022-08-22T00:00:00",
          "2022-08-23T00:00:00",
          "2022-08-24T00:00:00",
          "2022-08-25T00:00:00",
          "2022-08-26T00:00:00",
          "2022-08-27T00:00:00",
          "2022-08-28T00:00:00",
          "2022-08-29T00:00:00",
          "2022-09-02T00:00:00",
          "2022-09-03T00:00:00",
          "2022-09-05T00:00:00",
          "2022-09-08T00:00:00",
          "2022-09-10T00:00:00",
          "2022-09-11T00:00:00",
          "2022-09-12T00:00:00",
          "2022-09-15T00:00:00",
          "2022-09-17T00:00:00",
          "2022-09-18T00:00:00",
          "2022-09-19T00:00:00",
          "2022-09-25T00:00:00",
          "2022-09-26T00:00:00",
          "2022-09-27T00:00:00",
          "2022-09-30T00:00:00",
          "2022-10-01T00:00:00",
          "2022-10-03T00:00:00",
          "2022-10-04T00:00:00",
          "2022-10-06T00:00:00",
          "2022-10-07T00:00:00",
          "2022-10-09T00:00:00",
          "2022-10-10T00:00:00",
          "2022-10-12T00:00:00",
          "2022-10-13T00:00:00",
          "2022-10-14T00:00:00",
          "2022-10-21T00:00:00",
          "2022-10-26T00:00:00",
          "2022-10-28T00:00:00",
          "2022-11-04T00:00:00",
          "2022-11-05T00:00:00",
          "2022-11-09T00:00:00",
          "2022-11-16T00:00:00",
          "2022-11-17T00:00:00",
          "2022-11-18T00:00:00",
          "2022-11-20T00:00:00",
          "2022-11-22T00:00:00",
          "2022-11-23T00:00:00",
          "2022-11-24T00:00:00",
          "2022-11-25T00:00:00",
          "2022-11-29T00:00:00",
          "2022-11-30T00:00:00",
          "2022-12-02T00:00:00",
          "2022-12-05T00:00:00",
          "2022-12-11T00:00:00",
          "2022-12-15T00:00:00",
          "2022-12-20T00:00:00",
          "2022-12-23T00:00:00",
          "2022-12-24T00:00:00",
          "2022-12-25T00:00:00",
          "2022-12-26T00:00:00",
          "2022-12-28T00:00:00",
          "2022-12-29T00:00:00",
          "2023-01-02T00:00:00",
          "2023-01-03T00:00:00",
          "2023-01-04T00:00:00",
          "2023-01-11T00:00:00",
          "2023-01-28T00:00:00",
          "2023-01-29T00:00:00",
          "2023-02-06T00:00:00",
          "2023-02-24T00:00:00",
          "2023-02-25T00:00:00",
          "2023-03-04T00:00:00",
          "2023-03-06T00:00:00",
          "2023-03-09T00:00:00",
          "2023-03-16T00:00:00",
          "2023-03-18T00:00:00",
          "2023-03-19T00:00:00",
          "2023-03-20T00:00:00",
          "2023-03-21T00:00:00",
          "2023-03-22T00:00:00",
          "2023-03-26T00:00:00",
          "2023-03-29T00:00:00",
          "2023-03-30T00:00:00"
         ],
         "y": [
          16,
          2,
          5,
          0,
          0,
          2,
          7,
          4,
          0,
          0,
          2,
          14,
          1,
          1,
          1,
          9,
          2,
          1,
          0,
          0,
          0,
          22,
          0,
          15,
          1,
          11,
          0,
          0,
          3,
          0,
          0,
          0,
          0,
          7,
          0,
          0,
          0,
          0,
          0,
          0,
          1,
          7,
          0,
          0,
          0,
          21,
          0,
          0,
          0,
          0,
          0,
          0,
          0,
          0,
          0,
          0,
          10,
          0,
          22,
          0,
          0,
          0,
          0,
          1,
          0,
          1,
          0,
          0,
          5,
          0,
          0,
          0,
          0,
          0,
          0,
          0,
          0,
          0,
          0,
          0,
          0,
          0,
          0,
          0,
          0,
          0,
          0,
          0,
          0,
          0,
          0,
          7,
          0,
          0,
          0,
          0,
          0,
          0,
          0,
          0,
          20,
          0,
          0,
          22,
          0,
          0,
          0,
          0,
          0,
          1,
          0,
          0,
          3,
          8,
          0,
          21,
          0,
          0,
          0,
          1,
          0,
          15,
          0,
          22,
          0,
          22,
          10,
          0,
          0,
          0,
          0,
          0,
          0,
          0,
          0,
          0,
          0,
          20,
          0,
          0,
          0,
          0,
          0,
          0,
          0,
          0,
          5,
          0,
          0,
          0,
          0,
          0,
          0,
          0,
          10,
          14,
          24,
          0,
          13,
          0,
          0,
          0,
          0,
          0,
          0,
          0,
          0,
          0,
          0,
          0,
          0,
          0,
          0,
          0,
          0,
          0,
          0,
          0,
          0,
          0,
          0,
          0,
          0,
          0,
          0,
          0,
          0,
          0,
          16,
          1,
          0,
          0,
          0,
          0,
          0,
          0,
          0,
          0,
          0,
          0,
          0,
          0,
          0,
          0,
          16,
          0,
          0,
          0,
          3,
          0,
          0,
          0,
          0,
          0,
          0,
          0,
          0,
          0,
          18,
          0,
          4,
          0,
          0,
          0,
          0,
          0,
          0,
          0,
          0,
          0,
          3,
          0,
          0,
          0,
          0,
          0,
          5,
          2,
          24,
          0,
          2,
          0,
          0,
          0,
          0,
          15,
          20,
          11,
          14,
          2,
          0,
          0,
          0,
          0,
          0,
          4,
          0,
          0,
          0,
          2,
          3,
          23,
          0,
          21,
          2,
          0,
          0,
          0,
          0,
          0,
          4,
          2,
          0,
          0,
          0,
          0,
          0,
          0,
          0,
          0,
          0,
          17,
          1,
          0,
          0,
          0,
          0,
          0,
          1,
          0,
          0,
          9,
          0,
          0,
          0,
          0,
          0,
          0,
          0,
          0,
          5,
          0,
          0,
          0,
          0,
          0,
          0,
          0,
          0,
          0,
          0,
          0,
          0,
          0,
          10,
          0,
          0,
          0,
          0,
          0,
          0,
          0,
          0,
          16,
          0,
          0,
          0,
          23,
          9,
          0,
          0,
          0,
          0,
          0,
          4,
          0,
          0,
          10,
          0,
          1,
          0,
          0,
          0,
          2,
          0,
          0,
          0,
          0,
          24,
          5,
          9,
          23,
          5,
          0,
          15,
          3,
          0,
          3,
          0,
          0,
          7,
          0,
          12,
          1,
          4,
          0,
          10,
          0,
          0,
          12,
          11,
          2,
          0,
          0,
          0,
          0,
          0,
          4,
          0,
          0,
          2,
          0,
          0,
          0,
          4,
          0,
          0,
          0,
          0,
          0,
          0,
          1,
          0,
          2,
          2,
          1,
          0,
          5,
          0,
          0,
          0,
          0,
          0,
          0,
          0,
          0,
          0,
          0,
          0,
          0,
          24,
          21,
          0,
          0,
          0,
          0,
          0,
          0,
          0,
          0,
          0,
          0,
          0,
          0,
          0,
          0,
          0,
          0,
          0,
          0,
          0,
          0,
          0,
          0,
          0,
          0,
          0,
          19,
          0,
          0,
          0,
          10,
          0,
          0,
          0,
          23,
          0,
          0,
          0,
          0,
          0,
          0,
          0,
          0,
          0,
          0,
          0,
          0,
          0,
          0,
          0,
          2,
          0,
          0,
          0,
          0,
          0,
          0,
          0,
          3,
          0,
          0,
          9,
          0,
          0,
          0,
          0,
          0,
          0,
          0,
          0,
          5,
          0,
          0,
          0,
          0,
          0,
          3,
          0,
          19,
          0,
          4,
          0,
          0,
          19,
          10,
          0,
          0,
          5,
          0,
          20,
          0,
          0,
          0,
          0,
          7,
          0,
          25,
          0,
          21,
          0,
          4,
          1,
          0,
          2,
          0,
          14,
          19,
          0,
          0,
          0,
          0,
          0,
          18,
          0,
          4,
          0,
          2,
          0,
          7,
          0,
          0,
          0,
          0,
          7,
          22,
          0,
          1,
          0,
          0,
          0,
          0,
          0,
          0,
          0,
          1,
          0,
          0,
          7,
          0,
          0,
          0,
          0,
          0,
          0,
          0,
          0,
          0,
          1,
          0,
          0,
          0,
          0,
          0,
          1,
          0,
          0,
          0,
          0,
          0,
          0,
          0,
          0,
          15,
          0,
          5,
          10,
          0,
          0,
          0,
          0,
          11,
          0,
          11,
          0,
          0,
          12,
          0,
          0,
          0,
          0,
          5,
          0,
          0,
          0,
          0,
          0,
          0,
          0,
          0,
          11,
          0,
          2,
          0,
          1,
          0,
          0,
          0,
          0,
          0,
          1,
          0,
          0,
          11,
          0,
          0,
          0,
          0,
          0,
          0,
          0,
          0,
          0,
          0,
          0,
          0,
          0,
          0,
          0,
          0,
          0,
          0,
          0,
          0,
          0,
          0,
          2,
          0,
          10,
          16,
          0,
          0,
          0,
          0,
          10,
          15,
          0,
          24,
          1,
          22,
          21,
          0,
          0,
          17,
          7,
          9,
          21,
          0,
          0,
          3,
          16,
          19,
          16,
          0,
          0,
          6,
          0,
          7,
          0,
          7,
          1,
          2,
          10,
          0,
          20,
          0,
          0,
          0,
          1,
          1,
          1,
          0,
          0
         ]
        }
       ],
       "layout": {
        "template": {
         "data": {
          "bar": [
           {
            "error_x": {
             "color": "#2a3f5f"
            },
            "error_y": {
             "color": "#2a3f5f"
            },
            "marker": {
             "line": {
              "color": "#E5ECF6",
              "width": 0.5
             },
             "pattern": {
              "fillmode": "overlay",
              "size": 10,
              "solidity": 0.2
             }
            },
            "type": "bar"
           }
          ],
          "barpolar": [
           {
            "marker": {
             "line": {
              "color": "#E5ECF6",
              "width": 0.5
             },
             "pattern": {
              "fillmode": "overlay",
              "size": 10,
              "solidity": 0.2
             }
            },
            "type": "barpolar"
           }
          ],
          "carpet": [
           {
            "aaxis": {
             "endlinecolor": "#2a3f5f",
             "gridcolor": "white",
             "linecolor": "white",
             "minorgridcolor": "white",
             "startlinecolor": "#2a3f5f"
            },
            "baxis": {
             "endlinecolor": "#2a3f5f",
             "gridcolor": "white",
             "linecolor": "white",
             "minorgridcolor": "white",
             "startlinecolor": "#2a3f5f"
            },
            "type": "carpet"
           }
          ],
          "choropleth": [
           {
            "colorbar": {
             "outlinewidth": 0,
             "ticks": ""
            },
            "type": "choropleth"
           }
          ],
          "contour": [
           {
            "colorbar": {
             "outlinewidth": 0,
             "ticks": ""
            },
            "colorscale": [
             [
              0,
              "#0d0887"
             ],
             [
              0.1111111111111111,
              "#46039f"
             ],
             [
              0.2222222222222222,
              "#7201a8"
             ],
             [
              0.3333333333333333,
              "#9c179e"
             ],
             [
              0.4444444444444444,
              "#bd3786"
             ],
             [
              0.5555555555555556,
              "#d8576b"
             ],
             [
              0.6666666666666666,
              "#ed7953"
             ],
             [
              0.7777777777777778,
              "#fb9f3a"
             ],
             [
              0.8888888888888888,
              "#fdca26"
             ],
             [
              1,
              "#f0f921"
             ]
            ],
            "type": "contour"
           }
          ],
          "contourcarpet": [
           {
            "colorbar": {
             "outlinewidth": 0,
             "ticks": ""
            },
            "type": "contourcarpet"
           }
          ],
          "heatmap": [
           {
            "colorbar": {
             "outlinewidth": 0,
             "ticks": ""
            },
            "colorscale": [
             [
              0,
              "#0d0887"
             ],
             [
              0.1111111111111111,
              "#46039f"
             ],
             [
              0.2222222222222222,
              "#7201a8"
             ],
             [
              0.3333333333333333,
              "#9c179e"
             ],
             [
              0.4444444444444444,
              "#bd3786"
             ],
             [
              0.5555555555555556,
              "#d8576b"
             ],
             [
              0.6666666666666666,
              "#ed7953"
             ],
             [
              0.7777777777777778,
              "#fb9f3a"
             ],
             [
              0.8888888888888888,
              "#fdca26"
             ],
             [
              1,
              "#f0f921"
             ]
            ],
            "type": "heatmap"
           }
          ],
          "heatmapgl": [
           {
            "colorbar": {
             "outlinewidth": 0,
             "ticks": ""
            },
            "colorscale": [
             [
              0,
              "#0d0887"
             ],
             [
              0.1111111111111111,
              "#46039f"
             ],
             [
              0.2222222222222222,
              "#7201a8"
             ],
             [
              0.3333333333333333,
              "#9c179e"
             ],
             [
              0.4444444444444444,
              "#bd3786"
             ],
             [
              0.5555555555555556,
              "#d8576b"
             ],
             [
              0.6666666666666666,
              "#ed7953"
             ],
             [
              0.7777777777777778,
              "#fb9f3a"
             ],
             [
              0.8888888888888888,
              "#fdca26"
             ],
             [
              1,
              "#f0f921"
             ]
            ],
            "type": "heatmapgl"
           }
          ],
          "histogram": [
           {
            "marker": {
             "pattern": {
              "fillmode": "overlay",
              "size": 10,
              "solidity": 0.2
             }
            },
            "type": "histogram"
           }
          ],
          "histogram2d": [
           {
            "colorbar": {
             "outlinewidth": 0,
             "ticks": ""
            },
            "colorscale": [
             [
              0,
              "#0d0887"
             ],
             [
              0.1111111111111111,
              "#46039f"
             ],
             [
              0.2222222222222222,
              "#7201a8"
             ],
             [
              0.3333333333333333,
              "#9c179e"
             ],
             [
              0.4444444444444444,
              "#bd3786"
             ],
             [
              0.5555555555555556,
              "#d8576b"
             ],
             [
              0.6666666666666666,
              "#ed7953"
             ],
             [
              0.7777777777777778,
              "#fb9f3a"
             ],
             [
              0.8888888888888888,
              "#fdca26"
             ],
             [
              1,
              "#f0f921"
             ]
            ],
            "type": "histogram2d"
           }
          ],
          "histogram2dcontour": [
           {
            "colorbar": {
             "outlinewidth": 0,
             "ticks": ""
            },
            "colorscale": [
             [
              0,
              "#0d0887"
             ],
             [
              0.1111111111111111,
              "#46039f"
             ],
             [
              0.2222222222222222,
              "#7201a8"
             ],
             [
              0.3333333333333333,
              "#9c179e"
             ],
             [
              0.4444444444444444,
              "#bd3786"
             ],
             [
              0.5555555555555556,
              "#d8576b"
             ],
             [
              0.6666666666666666,
              "#ed7953"
             ],
             [
              0.7777777777777778,
              "#fb9f3a"
             ],
             [
              0.8888888888888888,
              "#fdca26"
             ],
             [
              1,
              "#f0f921"
             ]
            ],
            "type": "histogram2dcontour"
           }
          ],
          "mesh3d": [
           {
            "colorbar": {
             "outlinewidth": 0,
             "ticks": ""
            },
            "type": "mesh3d"
           }
          ],
          "parcoords": [
           {
            "line": {
             "colorbar": {
              "outlinewidth": 0,
              "ticks": ""
             }
            },
            "type": "parcoords"
           }
          ],
          "pie": [
           {
            "automargin": true,
            "type": "pie"
           }
          ],
          "scatter": [
           {
            "fillpattern": {
             "fillmode": "overlay",
             "size": 10,
             "solidity": 0.2
            },
            "type": "scatter"
           }
          ],
          "scatter3d": [
           {
            "line": {
             "colorbar": {
              "outlinewidth": 0,
              "ticks": ""
             }
            },
            "marker": {
             "colorbar": {
              "outlinewidth": 0,
              "ticks": ""
             }
            },
            "type": "scatter3d"
           }
          ],
          "scattercarpet": [
           {
            "marker": {
             "colorbar": {
              "outlinewidth": 0,
              "ticks": ""
             }
            },
            "type": "scattercarpet"
           }
          ],
          "scattergeo": [
           {
            "marker": {
             "colorbar": {
              "outlinewidth": 0,
              "ticks": ""
             }
            },
            "type": "scattergeo"
           }
          ],
          "scattergl": [
           {
            "marker": {
             "colorbar": {
              "outlinewidth": 0,
              "ticks": ""
             }
            },
            "type": "scattergl"
           }
          ],
          "scattermapbox": [
           {
            "marker": {
             "colorbar": {
              "outlinewidth": 0,
              "ticks": ""
             }
            },
            "type": "scattermapbox"
           }
          ],
          "scatterpolar": [
           {
            "marker": {
             "colorbar": {
              "outlinewidth": 0,
              "ticks": ""
             }
            },
            "type": "scatterpolar"
           }
          ],
          "scatterpolargl": [
           {
            "marker": {
             "colorbar": {
              "outlinewidth": 0,
              "ticks": ""
             }
            },
            "type": "scatterpolargl"
           }
          ],
          "scatterternary": [
           {
            "marker": {
             "colorbar": {
              "outlinewidth": 0,
              "ticks": ""
             }
            },
            "type": "scatterternary"
           }
          ],
          "surface": [
           {
            "colorbar": {
             "outlinewidth": 0,
             "ticks": ""
            },
            "colorscale": [
             [
              0,
              "#0d0887"
             ],
             [
              0.1111111111111111,
              "#46039f"
             ],
             [
              0.2222222222222222,
              "#7201a8"
             ],
             [
              0.3333333333333333,
              "#9c179e"
             ],
             [
              0.4444444444444444,
              "#bd3786"
             ],
             [
              0.5555555555555556,
              "#d8576b"
             ],
             [
              0.6666666666666666,
              "#ed7953"
             ],
             [
              0.7777777777777778,
              "#fb9f3a"
             ],
             [
              0.8888888888888888,
              "#fdca26"
             ],
             [
              1,
              "#f0f921"
             ]
            ],
            "type": "surface"
           }
          ],
          "table": [
           {
            "cells": {
             "fill": {
              "color": "#EBF0F8"
             },
             "line": {
              "color": "white"
             }
            },
            "header": {
             "fill": {
              "color": "#C8D4E3"
             },
             "line": {
              "color": "white"
             }
            },
            "type": "table"
           }
          ]
         },
         "layout": {
          "annotationdefaults": {
           "arrowcolor": "#2a3f5f",
           "arrowhead": 0,
           "arrowwidth": 1
          },
          "autotypenumbers": "strict",
          "coloraxis": {
           "colorbar": {
            "outlinewidth": 0,
            "ticks": ""
           }
          },
          "colorscale": {
           "diverging": [
            [
             0,
             "#8e0152"
            ],
            [
             0.1,
             "#c51b7d"
            ],
            [
             0.2,
             "#de77ae"
            ],
            [
             0.3,
             "#f1b6da"
            ],
            [
             0.4,
             "#fde0ef"
            ],
            [
             0.5,
             "#f7f7f7"
            ],
            [
             0.6,
             "#e6f5d0"
            ],
            [
             0.7,
             "#b8e186"
            ],
            [
             0.8,
             "#7fbc41"
            ],
            [
             0.9,
             "#4d9221"
            ],
            [
             1,
             "#276419"
            ]
           ],
           "sequential": [
            [
             0,
             "#0d0887"
            ],
            [
             0.1111111111111111,
             "#46039f"
            ],
            [
             0.2222222222222222,
             "#7201a8"
            ],
            [
             0.3333333333333333,
             "#9c179e"
            ],
            [
             0.4444444444444444,
             "#bd3786"
            ],
            [
             0.5555555555555556,
             "#d8576b"
            ],
            [
             0.6666666666666666,
             "#ed7953"
            ],
            [
             0.7777777777777778,
             "#fb9f3a"
            ],
            [
             0.8888888888888888,
             "#fdca26"
            ],
            [
             1,
             "#f0f921"
            ]
           ],
           "sequentialminus": [
            [
             0,
             "#0d0887"
            ],
            [
             0.1111111111111111,
             "#46039f"
            ],
            [
             0.2222222222222222,
             "#7201a8"
            ],
            [
             0.3333333333333333,
             "#9c179e"
            ],
            [
             0.4444444444444444,
             "#bd3786"
            ],
            [
             0.5555555555555556,
             "#d8576b"
            ],
            [
             0.6666666666666666,
             "#ed7953"
            ],
            [
             0.7777777777777778,
             "#fb9f3a"
            ],
            [
             0.8888888888888888,
             "#fdca26"
            ],
            [
             1,
             "#f0f921"
            ]
           ]
          },
          "colorway": [
           "#636efa",
           "#EF553B",
           "#00cc96",
           "#ab63fa",
           "#FFA15A",
           "#19d3f3",
           "#FF6692",
           "#B6E880",
           "#FF97FF",
           "#FECB52"
          ],
          "font": {
           "color": "#2a3f5f"
          },
          "geo": {
           "bgcolor": "white",
           "lakecolor": "white",
           "landcolor": "#E5ECF6",
           "showlakes": true,
           "showland": true,
           "subunitcolor": "white"
          },
          "hoverlabel": {
           "align": "left"
          },
          "hovermode": "closest",
          "mapbox": {
           "style": "light"
          },
          "paper_bgcolor": "white",
          "plot_bgcolor": "#E5ECF6",
          "polar": {
           "angularaxis": {
            "gridcolor": "white",
            "linecolor": "white",
            "ticks": ""
           },
           "bgcolor": "#E5ECF6",
           "radialaxis": {
            "gridcolor": "white",
            "linecolor": "white",
            "ticks": ""
           }
          },
          "scene": {
           "xaxis": {
            "backgroundcolor": "#E5ECF6",
            "gridcolor": "white",
            "gridwidth": 2,
            "linecolor": "white",
            "showbackground": true,
            "ticks": "",
            "zerolinecolor": "white"
           },
           "yaxis": {
            "backgroundcolor": "#E5ECF6",
            "gridcolor": "white",
            "gridwidth": 2,
            "linecolor": "white",
            "showbackground": true,
            "ticks": "",
            "zerolinecolor": "white"
           },
           "zaxis": {
            "backgroundcolor": "#E5ECF6",
            "gridcolor": "white",
            "gridwidth": 2,
            "linecolor": "white",
            "showbackground": true,
            "ticks": "",
            "zerolinecolor": "white"
           }
          },
          "shapedefaults": {
           "line": {
            "color": "#2a3f5f"
           }
          },
          "ternary": {
           "aaxis": {
            "gridcolor": "white",
            "linecolor": "white",
            "ticks": ""
           },
           "baxis": {
            "gridcolor": "white",
            "linecolor": "white",
            "ticks": ""
           },
           "bgcolor": "#E5ECF6",
           "caxis": {
            "gridcolor": "white",
            "linecolor": "white",
            "ticks": ""
           }
          },
          "title": {
           "x": 0.05
          },
          "xaxis": {
           "automargin": true,
           "gridcolor": "white",
           "linecolor": "white",
           "ticks": "",
           "title": {
            "standoff": 15
           },
           "zerolinecolor": "white",
           "zerolinewidth": 2
          },
          "yaxis": {
           "automargin": true,
           "gridcolor": "white",
           "linecolor": "white",
           "ticks": "",
           "title": {
            "standoff": 15
           },
           "zerolinecolor": "white",
           "zerolinewidth": 2
          }
         }
        },
        "title": {
         "text": "PlanetScope Images - 2018-01-01 to 2023-03-31 - BeitBridge",
         "x": 0.5,
         "xanchor": "center"
        },
        "xaxis": {
         "title": {
          "text": "Image Date"
         }
        },
        "yaxis": {
         "title": {
          "text": "Cloud Cover Percentage"
         }
        }
       }
      }
     },
     "metadata": {},
     "output_type": "display_data"
    }
   ],
   "source": [
    "# Graph 5: Scatter plot showing individual images, with date on the x-axis and cloud cover percentage\n",
    "# on the y-axis. Hovering over a point displays image information, including a preview link to display the image thumbnail\n",
    "def create_image_preview_graph(df, output_graph=False):\n",
    "    \"\"\"\n",
    "    Creates an interactive scatterplot displaying individual images, with the image date on the \n",
    "    x-axis and cloud cover percentage on the y-axis.\n",
    "\n",
    "    Params:\n",
    "    ---------------------\n",
    "    df: pandas dataframe\n",
    "        query dataframe containing image information\n",
    "    output_graph: bool\n",
    "        if set to True, graph will be saved to file as an html and png file\n",
    "    \"\"\"\n",
    "    layout = go.Layout(title=f'PlanetScope Images - {o_start_date} to {o_end_date} - {aoi_name}', xaxis=dict(title=\"Image Date\"), yaxis=dict(title=\"Cloud Cover Percentage\"))#, autosize=False, width=1200, height=510)\n",
    "\n",
    "    fig = go.Figure(layout=layout)\n",
    "\n",
    "    h_template='Image Date: %{customdata[0]}<br>%{customdata[3]}<br>Cloud Cover: %{customdata[2]}%<br>Image Source: %{customdata[1]}'\n",
    "\n",
    "    fig.add_trace(go.Scatter(\n",
    "        y=df['cloud_cover'],\n",
    "        x=df['date'],\n",
    "        mode='markers',\n",
    "        orientation='h',\n",
    "        marker=dict(\n",
    "            color='red'),\n",
    "        customdata=np.stack((df['datestr'], df['source'], df['cloud_cover'], df['preview_html']), axis=-1),\n",
    "        hovertemplate=h_template\n",
    "    ))\n",
    "\n",
    "    fig.update_layout(title={'x': 0.5, 'xanchor': 'center'})\n",
    "\n",
    "    filenamestr = outpath_figs.joinpath(f\"PlanetScope_Image_Previews_{o_start_date}_to_{o_end_date}_{aoi_name}\")\n",
    "    if output_graph:\n",
    "        out_png = outpath_figs.joinpath(f\"{filenamestr}.png\")\n",
    "        out_html = outpath_figs.joinpath(f\"{filenamestr}.html\")\n",
    "        fig.write_image(out_png)\n",
    "        fig.write_html(out_html)\n",
    "\n",
    "    fig.show()\n",
    "\n",
    "create_image_preview_graph(filtered_search, output_graph=output_graphs)"
   ]
  },
  {
   "cell_type": "code",
   "execution_count": 26,
   "metadata": {},
   "outputs": [
    {
     "data": {
      "application/vnd.plotly.v1+json": {
       "config": {
        "plotlyServerURL": "https://plot.ly"
       },
       "data": [
        {
         "alignmentgroup": "True",
         "hovertemplate": "variable=Dove-Classic<br>month=%{x}<br>value=%{y}<extra></extra>",
         "legendgroup": "Dove-Classic",
         "marker": {
          "color": "#636efa",
          "pattern": {
           "shape": ""
          }
         },
         "name": "Dove-Classic",
         "offsetgroup": "Dove-Classic",
         "orientation": "v",
         "showlegend": true,
         "textposition": "auto",
         "type": "bar",
         "x": [
          1,
          2,
          3,
          4,
          5,
          6,
          7,
          8,
          9,
          10,
          11,
          12
         ],
         "xaxis": "x",
         "y": [
          0,
          0,
          2,
          3,
          0,
          3,
          5,
          2,
          1,
          0,
          3,
          1
         ],
         "yaxis": "y"
        },
        {
         "alignmentgroup": "True",
         "hovertemplate": "variable=Dove-R<br>month=%{x}<br>value=%{y}<extra></extra>",
         "legendgroup": "Dove-R",
         "marker": {
          "color": "#EF553B",
          "pattern": {
           "shape": ""
          }
         },
         "name": "Dove-R",
         "offsetgroup": "Dove-R",
         "orientation": "v",
         "showlegend": true,
         "textposition": "auto",
         "type": "bar",
         "x": [
          1,
          2,
          3,
          4,
          5,
          6,
          7,
          8,
          9,
          10,
          11,
          12
         ],
         "xaxis": "x",
         "y": [
          0,
          1,
          1,
          2,
          1,
          1,
          0,
          0,
          3,
          1,
          1,
          0
         ],
         "yaxis": "y"
        },
        {
         "alignmentgroup": "True",
         "hovertemplate": "variable=SuperDove<br>month=%{x}<br>value=%{y}<extra></extra>",
         "legendgroup": "SuperDove",
         "marker": {
          "color": "#00cc96",
          "pattern": {
           "shape": ""
          }
         },
         "name": "SuperDove",
         "offsetgroup": "SuperDove",
         "orientation": "v",
         "showlegend": true,
         "textposition": "auto",
         "type": "bar",
         "x": [
          1,
          2,
          3,
          4,
          5,
          6,
          7,
          8,
          9,
          10,
          11,
          12
         ],
         "xaxis": "x",
         "y": [
          0,
          0,
          4,
          12,
          12,
          11,
          11,
          14,
          12,
          7,
          3,
          4
         ],
         "yaxis": "y"
        }
       ],
       "layout": {
        "barmode": "relative",
        "legend": {
         "title": {
          "text": "variable"
         },
         "tracegroupgap": 0
        },
        "margin": {
         "t": 60
        },
        "template": {
         "data": {
          "bar": [
           {
            "error_x": {
             "color": "#2a3f5f"
            },
            "error_y": {
             "color": "#2a3f5f"
            },
            "marker": {
             "line": {
              "color": "#E5ECF6",
              "width": 0.5
             },
             "pattern": {
              "fillmode": "overlay",
              "size": 10,
              "solidity": 0.2
             }
            },
            "type": "bar"
           }
          ],
          "barpolar": [
           {
            "marker": {
             "line": {
              "color": "#E5ECF6",
              "width": 0.5
             },
             "pattern": {
              "fillmode": "overlay",
              "size": 10,
              "solidity": 0.2
             }
            },
            "type": "barpolar"
           }
          ],
          "carpet": [
           {
            "aaxis": {
             "endlinecolor": "#2a3f5f",
             "gridcolor": "white",
             "linecolor": "white",
             "minorgridcolor": "white",
             "startlinecolor": "#2a3f5f"
            },
            "baxis": {
             "endlinecolor": "#2a3f5f",
             "gridcolor": "white",
             "linecolor": "white",
             "minorgridcolor": "white",
             "startlinecolor": "#2a3f5f"
            },
            "type": "carpet"
           }
          ],
          "choropleth": [
           {
            "colorbar": {
             "outlinewidth": 0,
             "ticks": ""
            },
            "type": "choropleth"
           }
          ],
          "contour": [
           {
            "colorbar": {
             "outlinewidth": 0,
             "ticks": ""
            },
            "colorscale": [
             [
              0,
              "#0d0887"
             ],
             [
              0.1111111111111111,
              "#46039f"
             ],
             [
              0.2222222222222222,
              "#7201a8"
             ],
             [
              0.3333333333333333,
              "#9c179e"
             ],
             [
              0.4444444444444444,
              "#bd3786"
             ],
             [
              0.5555555555555556,
              "#d8576b"
             ],
             [
              0.6666666666666666,
              "#ed7953"
             ],
             [
              0.7777777777777778,
              "#fb9f3a"
             ],
             [
              0.8888888888888888,
              "#fdca26"
             ],
             [
              1,
              "#f0f921"
             ]
            ],
            "type": "contour"
           }
          ],
          "contourcarpet": [
           {
            "colorbar": {
             "outlinewidth": 0,
             "ticks": ""
            },
            "type": "contourcarpet"
           }
          ],
          "heatmap": [
           {
            "colorbar": {
             "outlinewidth": 0,
             "ticks": ""
            },
            "colorscale": [
             [
              0,
              "#0d0887"
             ],
             [
              0.1111111111111111,
              "#46039f"
             ],
             [
              0.2222222222222222,
              "#7201a8"
             ],
             [
              0.3333333333333333,
              "#9c179e"
             ],
             [
              0.4444444444444444,
              "#bd3786"
             ],
             [
              0.5555555555555556,
              "#d8576b"
             ],
             [
              0.6666666666666666,
              "#ed7953"
             ],
             [
              0.7777777777777778,
              "#fb9f3a"
             ],
             [
              0.8888888888888888,
              "#fdca26"
             ],
             [
              1,
              "#f0f921"
             ]
            ],
            "type": "heatmap"
           }
          ],
          "heatmapgl": [
           {
            "colorbar": {
             "outlinewidth": 0,
             "ticks": ""
            },
            "colorscale": [
             [
              0,
              "#0d0887"
             ],
             [
              0.1111111111111111,
              "#46039f"
             ],
             [
              0.2222222222222222,
              "#7201a8"
             ],
             [
              0.3333333333333333,
              "#9c179e"
             ],
             [
              0.4444444444444444,
              "#bd3786"
             ],
             [
              0.5555555555555556,
              "#d8576b"
             ],
             [
              0.6666666666666666,
              "#ed7953"
             ],
             [
              0.7777777777777778,
              "#fb9f3a"
             ],
             [
              0.8888888888888888,
              "#fdca26"
             ],
             [
              1,
              "#f0f921"
             ]
            ],
            "type": "heatmapgl"
           }
          ],
          "histogram": [
           {
            "marker": {
             "pattern": {
              "fillmode": "overlay",
              "size": 10,
              "solidity": 0.2
             }
            },
            "type": "histogram"
           }
          ],
          "histogram2d": [
           {
            "colorbar": {
             "outlinewidth": 0,
             "ticks": ""
            },
            "colorscale": [
             [
              0,
              "#0d0887"
             ],
             [
              0.1111111111111111,
              "#46039f"
             ],
             [
              0.2222222222222222,
              "#7201a8"
             ],
             [
              0.3333333333333333,
              "#9c179e"
             ],
             [
              0.4444444444444444,
              "#bd3786"
             ],
             [
              0.5555555555555556,
              "#d8576b"
             ],
             [
              0.6666666666666666,
              "#ed7953"
             ],
             [
              0.7777777777777778,
              "#fb9f3a"
             ],
             [
              0.8888888888888888,
              "#fdca26"
             ],
             [
              1,
              "#f0f921"
             ]
            ],
            "type": "histogram2d"
           }
          ],
          "histogram2dcontour": [
           {
            "colorbar": {
             "outlinewidth": 0,
             "ticks": ""
            },
            "colorscale": [
             [
              0,
              "#0d0887"
             ],
             [
              0.1111111111111111,
              "#46039f"
             ],
             [
              0.2222222222222222,
              "#7201a8"
             ],
             [
              0.3333333333333333,
              "#9c179e"
             ],
             [
              0.4444444444444444,
              "#bd3786"
             ],
             [
              0.5555555555555556,
              "#d8576b"
             ],
             [
              0.6666666666666666,
              "#ed7953"
             ],
             [
              0.7777777777777778,
              "#fb9f3a"
             ],
             [
              0.8888888888888888,
              "#fdca26"
             ],
             [
              1,
              "#f0f921"
             ]
            ],
            "type": "histogram2dcontour"
           }
          ],
          "mesh3d": [
           {
            "colorbar": {
             "outlinewidth": 0,
             "ticks": ""
            },
            "type": "mesh3d"
           }
          ],
          "parcoords": [
           {
            "line": {
             "colorbar": {
              "outlinewidth": 0,
              "ticks": ""
             }
            },
            "type": "parcoords"
           }
          ],
          "pie": [
           {
            "automargin": true,
            "type": "pie"
           }
          ],
          "scatter": [
           {
            "fillpattern": {
             "fillmode": "overlay",
             "size": 10,
             "solidity": 0.2
            },
            "type": "scatter"
           }
          ],
          "scatter3d": [
           {
            "line": {
             "colorbar": {
              "outlinewidth": 0,
              "ticks": ""
             }
            },
            "marker": {
             "colorbar": {
              "outlinewidth": 0,
              "ticks": ""
             }
            },
            "type": "scatter3d"
           }
          ],
          "scattercarpet": [
           {
            "marker": {
             "colorbar": {
              "outlinewidth": 0,
              "ticks": ""
             }
            },
            "type": "scattercarpet"
           }
          ],
          "scattergeo": [
           {
            "marker": {
             "colorbar": {
              "outlinewidth": 0,
              "ticks": ""
             }
            },
            "type": "scattergeo"
           }
          ],
          "scattergl": [
           {
            "marker": {
             "colorbar": {
              "outlinewidth": 0,
              "ticks": ""
             }
            },
            "type": "scattergl"
           }
          ],
          "scattermapbox": [
           {
            "marker": {
             "colorbar": {
              "outlinewidth": 0,
              "ticks": ""
             }
            },
            "type": "scattermapbox"
           }
          ],
          "scatterpolar": [
           {
            "marker": {
             "colorbar": {
              "outlinewidth": 0,
              "ticks": ""
             }
            },
            "type": "scatterpolar"
           }
          ],
          "scatterpolargl": [
           {
            "marker": {
             "colorbar": {
              "outlinewidth": 0,
              "ticks": ""
             }
            },
            "type": "scatterpolargl"
           }
          ],
          "scatterternary": [
           {
            "marker": {
             "colorbar": {
              "outlinewidth": 0,
              "ticks": ""
             }
            },
            "type": "scatterternary"
           }
          ],
          "surface": [
           {
            "colorbar": {
             "outlinewidth": 0,
             "ticks": ""
            },
            "colorscale": [
             [
              0,
              "#0d0887"
             ],
             [
              0.1111111111111111,
              "#46039f"
             ],
             [
              0.2222222222222222,
              "#7201a8"
             ],
             [
              0.3333333333333333,
              "#9c179e"
             ],
             [
              0.4444444444444444,
              "#bd3786"
             ],
             [
              0.5555555555555556,
              "#d8576b"
             ],
             [
              0.6666666666666666,
              "#ed7953"
             ],
             [
              0.7777777777777778,
              "#fb9f3a"
             ],
             [
              0.8888888888888888,
              "#fdca26"
             ],
             [
              1,
              "#f0f921"
             ]
            ],
            "type": "surface"
           }
          ],
          "table": [
           {
            "cells": {
             "fill": {
              "color": "#EBF0F8"
             },
             "line": {
              "color": "white"
             }
            },
            "header": {
             "fill": {
              "color": "#C8D4E3"
             },
             "line": {
              "color": "white"
             }
            },
            "type": "table"
           }
          ]
         },
         "layout": {
          "annotationdefaults": {
           "arrowcolor": "#2a3f5f",
           "arrowhead": 0,
           "arrowwidth": 1
          },
          "autotypenumbers": "strict",
          "coloraxis": {
           "colorbar": {
            "outlinewidth": 0,
            "ticks": ""
           }
          },
          "colorscale": {
           "diverging": [
            [
             0,
             "#8e0152"
            ],
            [
             0.1,
             "#c51b7d"
            ],
            [
             0.2,
             "#de77ae"
            ],
            [
             0.3,
             "#f1b6da"
            ],
            [
             0.4,
             "#fde0ef"
            ],
            [
             0.5,
             "#f7f7f7"
            ],
            [
             0.6,
             "#e6f5d0"
            ],
            [
             0.7,
             "#b8e186"
            ],
            [
             0.8,
             "#7fbc41"
            ],
            [
             0.9,
             "#4d9221"
            ],
            [
             1,
             "#276419"
            ]
           ],
           "sequential": [
            [
             0,
             "#0d0887"
            ],
            [
             0.1111111111111111,
             "#46039f"
            ],
            [
             0.2222222222222222,
             "#7201a8"
            ],
            [
             0.3333333333333333,
             "#9c179e"
            ],
            [
             0.4444444444444444,
             "#bd3786"
            ],
            [
             0.5555555555555556,
             "#d8576b"
            ],
            [
             0.6666666666666666,
             "#ed7953"
            ],
            [
             0.7777777777777778,
             "#fb9f3a"
            ],
            [
             0.8888888888888888,
             "#fdca26"
            ],
            [
             1,
             "#f0f921"
            ]
           ],
           "sequentialminus": [
            [
             0,
             "#0d0887"
            ],
            [
             0.1111111111111111,
             "#46039f"
            ],
            [
             0.2222222222222222,
             "#7201a8"
            ],
            [
             0.3333333333333333,
             "#9c179e"
            ],
            [
             0.4444444444444444,
             "#bd3786"
            ],
            [
             0.5555555555555556,
             "#d8576b"
            ],
            [
             0.6666666666666666,
             "#ed7953"
            ],
            [
             0.7777777777777778,
             "#fb9f3a"
            ],
            [
             0.8888888888888888,
             "#fdca26"
            ],
            [
             1,
             "#f0f921"
            ]
           ]
          },
          "colorway": [
           "#636efa",
           "#EF553B",
           "#00cc96",
           "#ab63fa",
           "#FFA15A",
           "#19d3f3",
           "#FF6692",
           "#B6E880",
           "#FF97FF",
           "#FECB52"
          ],
          "font": {
           "color": "#2a3f5f"
          },
          "geo": {
           "bgcolor": "white",
           "lakecolor": "white",
           "landcolor": "#E5ECF6",
           "showlakes": true,
           "showland": true,
           "subunitcolor": "white"
          },
          "hoverlabel": {
           "align": "left"
          },
          "hovermode": "closest",
          "mapbox": {
           "style": "light"
          },
          "paper_bgcolor": "white",
          "plot_bgcolor": "#E5ECF6",
          "polar": {
           "angularaxis": {
            "gridcolor": "white",
            "linecolor": "white",
            "ticks": ""
           },
           "bgcolor": "#E5ECF6",
           "radialaxis": {
            "gridcolor": "white",
            "linecolor": "white",
            "ticks": ""
           }
          },
          "scene": {
           "xaxis": {
            "backgroundcolor": "#E5ECF6",
            "gridcolor": "white",
            "gridwidth": 2,
            "linecolor": "white",
            "showbackground": true,
            "ticks": "",
            "zerolinecolor": "white"
           },
           "yaxis": {
            "backgroundcolor": "#E5ECF6",
            "gridcolor": "white",
            "gridwidth": 2,
            "linecolor": "white",
            "showbackground": true,
            "ticks": "",
            "zerolinecolor": "white"
           },
           "zaxis": {
            "backgroundcolor": "#E5ECF6",
            "gridcolor": "white",
            "gridwidth": 2,
            "linecolor": "white",
            "showbackground": true,
            "ticks": "",
            "zerolinecolor": "white"
           }
          },
          "shapedefaults": {
           "line": {
            "color": "#2a3f5f"
           }
          },
          "ternary": {
           "aaxis": {
            "gridcolor": "white",
            "linecolor": "white",
            "ticks": ""
           },
           "baxis": {
            "gridcolor": "white",
            "linecolor": "white",
            "ticks": ""
           },
           "bgcolor": "#E5ECF6",
           "caxis": {
            "gridcolor": "white",
            "linecolor": "white",
            "ticks": ""
           }
          },
          "title": {
           "x": 0.05
          },
          "xaxis": {
           "automargin": true,
           "gridcolor": "white",
           "linecolor": "white",
           "ticks": "",
           "title": {
            "standoff": 15
           },
           "zerolinecolor": "white",
           "zerolinewidth": 2
          },
          "yaxis": {
           "automargin": true,
           "gridcolor": "white",
           "linecolor": "white",
           "ticks": "",
           "title": {
            "standoff": 15
           },
           "zerolinecolor": "white",
           "zerolinewidth": 2
          }
         }
        },
        "title": {
         "text": "PlanetScope Image Count By Month and By Satellite Type - 0% Cloud Cover - 2021 - BeitBridge",
         "x": 0.5
        },
        "xaxis": {
         "anchor": "y",
         "domain": [
          0,
          1
         ],
         "title": {
          "text": "Month of Year"
         }
        },
        "yaxis": {
         "anchor": "x",
         "domain": [
          0,
          1
         ],
         "title": {
          "text": "Image Count"
         }
        }
       }
      }
     },
     "metadata": {},
     "output_type": "display_data"
    }
   ],
   "source": [
    "# Graph 6: Monthly bar chart showing monthly image counts for a given year broken down by satellite platform (dove-classic, dove-r, and superdove). \n",
    "# User must specify a threshold for cloud cover\n",
    "def create_dove_monthly_graph(df, target_year, cc_threshold, output_graph):\n",
    "    \"\"\"\n",
    "    Creates a monthly bar chart to display image counts per month for a specified year, broken down by satellite platform\n",
    "    Image counts are determined based on the input cloud cover threshold.\n",
    "\n",
    "    Params:\n",
    "    ---------------------\n",
    "    df: pandas dataframe\n",
    "        query dataframe containing image information\n",
    "    target_year: int\n",
    "        year to produce graph for (will cause an error if no images present for specified year)\n",
    "    cc_threshold: float\n",
    "        cloud cover percentage threshold. Images with cloud cover exceeding this number will not be counted\n",
    "    output_graph: bool\n",
    "        if set to True, graph will be saved to file as an html and png file\n",
    "    \"\"\"\n",
    "    \n",
    "    target_df = df.loc[df[\"year\"] == target_year]\n",
    "\n",
    "    month_df = pd.DataFrame()\n",
    "    col_list = []\n",
    "    for datasource in df.sat_type.unique().tolist():\n",
    "        if datasource == \"dove-c\":\n",
    "            col_name = \"Dove-Classic\"\n",
    "        elif datasource == \"dove-r\":\n",
    "            col_name = \"Dove-R\"\n",
    "        elif datasource == \"superdove\":\n",
    "            col_name = \"SuperDove\"\n",
    "        \n",
    "        month_df[col_name] = target_df.loc[(target_df['cloud_cover'] == cc_threshold) & (target_df['sat_type'] == datasource)]['month'].value_counts()\n",
    "        col_list.append(col_name)\n",
    "\n",
    "    month_df.reset_index(inplace=True)\n",
    "    month_df.rename(columns={'index': 'month'}, inplace=True)\n",
    "    month_df.sort_values('month', inplace=True)\n",
    "    month_df.reset_index(inplace=True, drop=True)\n",
    "\n",
    "    month_fig = px.bar(month_df, x='month', y=col_list)\n",
    "    month_fig.update_layout(title_text=f\"PlanetScope Image Count By Month and By Satellite Type - {cc_threshold}% Cloud Cover - {target_year} - {aoi_name}\", title_x=0.5, yaxis_title=\"Image Count\", xaxis_title=\"Month of Year\")\n",
    "\n",
    "    filenamestr = f\"PlanetScope_Image_Count_Monthly_{cc_threshold}%CC_SatelliteType_{target_year}_{aoi_name}\"\n",
    "    if output_graph:\n",
    "        out_png = outpath_figs.joinpath(f\"{filenamestr}.png\")\n",
    "        out_html = outpath_figs.joinpath(f\"{filenamestr}.html\")\n",
    "        month_fig.write_image(out_png)\n",
    "        month_fig.write_html(out_html)\n",
    "\n",
    "    month_fig.show()\n",
    "\n",
    "create_dove_monthly_graph(filtered_search, target_year=2021, cc_threshold=0, output_graph=output_graphs)"
   ]
  },
  {
   "cell_type": "code",
   "execution_count": 27,
   "metadata": {},
   "outputs": [
    {
     "data": {
      "application/vnd.plotly.v1+json": {
       "config": {
        "plotlyServerURL": "https://plot.ly"
       },
       "data": [
        {
         "alignmentgroup": "True",
         "hovertemplate": "variable=Dove-Classic<br>year=%{x}<br>value=%{y}<extra></extra>",
         "legendgroup": "Dove-Classic",
         "marker": {
          "color": "#636efa",
          "pattern": {
           "shape": ""
          }
         },
         "name": "Dove-Classic",
         "offsetgroup": "Dove-Classic",
         "orientation": "v",
         "showlegend": true,
         "textposition": "auto",
         "type": "bar",
         "x": [
          2018,
          2019,
          2020,
          2021,
          2022,
          2023
         ],
         "xaxis": "x",
         "y": [
          96,
          84,
          56,
          22,
          1,
          0
         ],
         "yaxis": "y"
        },
        {
         "alignmentgroup": "True",
         "hovertemplate": "variable=Dove-R<br>year=%{x}<br>value=%{y}<extra></extra>",
         "legendgroup": "Dove-R",
         "marker": {
          "color": "#EF553B",
          "pattern": {
           "shape": ""
          }
         },
         "name": "Dove-R",
         "offsetgroup": "Dove-R",
         "orientation": "v",
         "showlegend": true,
         "textposition": "auto",
         "type": "bar",
         "x": [
          2018,
          2019,
          2020,
          2021,
          2022,
          2023
         ],
         "xaxis": "x",
         "y": [
          0,
          27,
          20,
          15,
          3,
          0
         ],
         "yaxis": "y"
        },
        {
         "alignmentgroup": "True",
         "hovertemplate": "variable=SuperDove<br>year=%{x}<br>value=%{y}<extra></extra>",
         "legendgroup": "SuperDove",
         "marker": {
          "color": "#00cc96",
          "pattern": {
           "shape": ""
          }
         },
         "name": "SuperDove",
         "offsetgroup": "SuperDove",
         "orientation": "v",
         "showlegend": true,
         "textposition": "auto",
         "type": "bar",
         "x": [
          2018,
          2019,
          2020,
          2021,
          2022,
          2023
         ],
         "xaxis": "x",
         "y": [
          0,
          0,
          22,
          107,
          117,
          15
         ],
         "yaxis": "y"
        }
       ],
       "layout": {
        "barmode": "relative",
        "legend": {
         "title": {
          "text": "variable"
         },
         "tracegroupgap": 0
        },
        "margin": {
         "t": 60
        },
        "template": {
         "data": {
          "bar": [
           {
            "error_x": {
             "color": "#2a3f5f"
            },
            "error_y": {
             "color": "#2a3f5f"
            },
            "marker": {
             "line": {
              "color": "#E5ECF6",
              "width": 0.5
             },
             "pattern": {
              "fillmode": "overlay",
              "size": 10,
              "solidity": 0.2
             }
            },
            "type": "bar"
           }
          ],
          "barpolar": [
           {
            "marker": {
             "line": {
              "color": "#E5ECF6",
              "width": 0.5
             },
             "pattern": {
              "fillmode": "overlay",
              "size": 10,
              "solidity": 0.2
             }
            },
            "type": "barpolar"
           }
          ],
          "carpet": [
           {
            "aaxis": {
             "endlinecolor": "#2a3f5f",
             "gridcolor": "white",
             "linecolor": "white",
             "minorgridcolor": "white",
             "startlinecolor": "#2a3f5f"
            },
            "baxis": {
             "endlinecolor": "#2a3f5f",
             "gridcolor": "white",
             "linecolor": "white",
             "minorgridcolor": "white",
             "startlinecolor": "#2a3f5f"
            },
            "type": "carpet"
           }
          ],
          "choropleth": [
           {
            "colorbar": {
             "outlinewidth": 0,
             "ticks": ""
            },
            "type": "choropleth"
           }
          ],
          "contour": [
           {
            "colorbar": {
             "outlinewidth": 0,
             "ticks": ""
            },
            "colorscale": [
             [
              0,
              "#0d0887"
             ],
             [
              0.1111111111111111,
              "#46039f"
             ],
             [
              0.2222222222222222,
              "#7201a8"
             ],
             [
              0.3333333333333333,
              "#9c179e"
             ],
             [
              0.4444444444444444,
              "#bd3786"
             ],
             [
              0.5555555555555556,
              "#d8576b"
             ],
             [
              0.6666666666666666,
              "#ed7953"
             ],
             [
              0.7777777777777778,
              "#fb9f3a"
             ],
             [
              0.8888888888888888,
              "#fdca26"
             ],
             [
              1,
              "#f0f921"
             ]
            ],
            "type": "contour"
           }
          ],
          "contourcarpet": [
           {
            "colorbar": {
             "outlinewidth": 0,
             "ticks": ""
            },
            "type": "contourcarpet"
           }
          ],
          "heatmap": [
           {
            "colorbar": {
             "outlinewidth": 0,
             "ticks": ""
            },
            "colorscale": [
             [
              0,
              "#0d0887"
             ],
             [
              0.1111111111111111,
              "#46039f"
             ],
             [
              0.2222222222222222,
              "#7201a8"
             ],
             [
              0.3333333333333333,
              "#9c179e"
             ],
             [
              0.4444444444444444,
              "#bd3786"
             ],
             [
              0.5555555555555556,
              "#d8576b"
             ],
             [
              0.6666666666666666,
              "#ed7953"
             ],
             [
              0.7777777777777778,
              "#fb9f3a"
             ],
             [
              0.8888888888888888,
              "#fdca26"
             ],
             [
              1,
              "#f0f921"
             ]
            ],
            "type": "heatmap"
           }
          ],
          "heatmapgl": [
           {
            "colorbar": {
             "outlinewidth": 0,
             "ticks": ""
            },
            "colorscale": [
             [
              0,
              "#0d0887"
             ],
             [
              0.1111111111111111,
              "#46039f"
             ],
             [
              0.2222222222222222,
              "#7201a8"
             ],
             [
              0.3333333333333333,
              "#9c179e"
             ],
             [
              0.4444444444444444,
              "#bd3786"
             ],
             [
              0.5555555555555556,
              "#d8576b"
             ],
             [
              0.6666666666666666,
              "#ed7953"
             ],
             [
              0.7777777777777778,
              "#fb9f3a"
             ],
             [
              0.8888888888888888,
              "#fdca26"
             ],
             [
              1,
              "#f0f921"
             ]
            ],
            "type": "heatmapgl"
           }
          ],
          "histogram": [
           {
            "marker": {
             "pattern": {
              "fillmode": "overlay",
              "size": 10,
              "solidity": 0.2
             }
            },
            "type": "histogram"
           }
          ],
          "histogram2d": [
           {
            "colorbar": {
             "outlinewidth": 0,
             "ticks": ""
            },
            "colorscale": [
             [
              0,
              "#0d0887"
             ],
             [
              0.1111111111111111,
              "#46039f"
             ],
             [
              0.2222222222222222,
              "#7201a8"
             ],
             [
              0.3333333333333333,
              "#9c179e"
             ],
             [
              0.4444444444444444,
              "#bd3786"
             ],
             [
              0.5555555555555556,
              "#d8576b"
             ],
             [
              0.6666666666666666,
              "#ed7953"
             ],
             [
              0.7777777777777778,
              "#fb9f3a"
             ],
             [
              0.8888888888888888,
              "#fdca26"
             ],
             [
              1,
              "#f0f921"
             ]
            ],
            "type": "histogram2d"
           }
          ],
          "histogram2dcontour": [
           {
            "colorbar": {
             "outlinewidth": 0,
             "ticks": ""
            },
            "colorscale": [
             [
              0,
              "#0d0887"
             ],
             [
              0.1111111111111111,
              "#46039f"
             ],
             [
              0.2222222222222222,
              "#7201a8"
             ],
             [
              0.3333333333333333,
              "#9c179e"
             ],
             [
              0.4444444444444444,
              "#bd3786"
             ],
             [
              0.5555555555555556,
              "#d8576b"
             ],
             [
              0.6666666666666666,
              "#ed7953"
             ],
             [
              0.7777777777777778,
              "#fb9f3a"
             ],
             [
              0.8888888888888888,
              "#fdca26"
             ],
             [
              1,
              "#f0f921"
             ]
            ],
            "type": "histogram2dcontour"
           }
          ],
          "mesh3d": [
           {
            "colorbar": {
             "outlinewidth": 0,
             "ticks": ""
            },
            "type": "mesh3d"
           }
          ],
          "parcoords": [
           {
            "line": {
             "colorbar": {
              "outlinewidth": 0,
              "ticks": ""
             }
            },
            "type": "parcoords"
           }
          ],
          "pie": [
           {
            "automargin": true,
            "type": "pie"
           }
          ],
          "scatter": [
           {
            "fillpattern": {
             "fillmode": "overlay",
             "size": 10,
             "solidity": 0.2
            },
            "type": "scatter"
           }
          ],
          "scatter3d": [
           {
            "line": {
             "colorbar": {
              "outlinewidth": 0,
              "ticks": ""
             }
            },
            "marker": {
             "colorbar": {
              "outlinewidth": 0,
              "ticks": ""
             }
            },
            "type": "scatter3d"
           }
          ],
          "scattercarpet": [
           {
            "marker": {
             "colorbar": {
              "outlinewidth": 0,
              "ticks": ""
             }
            },
            "type": "scattercarpet"
           }
          ],
          "scattergeo": [
           {
            "marker": {
             "colorbar": {
              "outlinewidth": 0,
              "ticks": ""
             }
            },
            "type": "scattergeo"
           }
          ],
          "scattergl": [
           {
            "marker": {
             "colorbar": {
              "outlinewidth": 0,
              "ticks": ""
             }
            },
            "type": "scattergl"
           }
          ],
          "scattermapbox": [
           {
            "marker": {
             "colorbar": {
              "outlinewidth": 0,
              "ticks": ""
             }
            },
            "type": "scattermapbox"
           }
          ],
          "scatterpolar": [
           {
            "marker": {
             "colorbar": {
              "outlinewidth": 0,
              "ticks": ""
             }
            },
            "type": "scatterpolar"
           }
          ],
          "scatterpolargl": [
           {
            "marker": {
             "colorbar": {
              "outlinewidth": 0,
              "ticks": ""
             }
            },
            "type": "scatterpolargl"
           }
          ],
          "scatterternary": [
           {
            "marker": {
             "colorbar": {
              "outlinewidth": 0,
              "ticks": ""
             }
            },
            "type": "scatterternary"
           }
          ],
          "surface": [
           {
            "colorbar": {
             "outlinewidth": 0,
             "ticks": ""
            },
            "colorscale": [
             [
              0,
              "#0d0887"
             ],
             [
              0.1111111111111111,
              "#46039f"
             ],
             [
              0.2222222222222222,
              "#7201a8"
             ],
             [
              0.3333333333333333,
              "#9c179e"
             ],
             [
              0.4444444444444444,
              "#bd3786"
             ],
             [
              0.5555555555555556,
              "#d8576b"
             ],
             [
              0.6666666666666666,
              "#ed7953"
             ],
             [
              0.7777777777777778,
              "#fb9f3a"
             ],
             [
              0.8888888888888888,
              "#fdca26"
             ],
             [
              1,
              "#f0f921"
             ]
            ],
            "type": "surface"
           }
          ],
          "table": [
           {
            "cells": {
             "fill": {
              "color": "#EBF0F8"
             },
             "line": {
              "color": "white"
             }
            },
            "header": {
             "fill": {
              "color": "#C8D4E3"
             },
             "line": {
              "color": "white"
             }
            },
            "type": "table"
           }
          ]
         },
         "layout": {
          "annotationdefaults": {
           "arrowcolor": "#2a3f5f",
           "arrowhead": 0,
           "arrowwidth": 1
          },
          "autotypenumbers": "strict",
          "coloraxis": {
           "colorbar": {
            "outlinewidth": 0,
            "ticks": ""
           }
          },
          "colorscale": {
           "diverging": [
            [
             0,
             "#8e0152"
            ],
            [
             0.1,
             "#c51b7d"
            ],
            [
             0.2,
             "#de77ae"
            ],
            [
             0.3,
             "#f1b6da"
            ],
            [
             0.4,
             "#fde0ef"
            ],
            [
             0.5,
             "#f7f7f7"
            ],
            [
             0.6,
             "#e6f5d0"
            ],
            [
             0.7,
             "#b8e186"
            ],
            [
             0.8,
             "#7fbc41"
            ],
            [
             0.9,
             "#4d9221"
            ],
            [
             1,
             "#276419"
            ]
           ],
           "sequential": [
            [
             0,
             "#0d0887"
            ],
            [
             0.1111111111111111,
             "#46039f"
            ],
            [
             0.2222222222222222,
             "#7201a8"
            ],
            [
             0.3333333333333333,
             "#9c179e"
            ],
            [
             0.4444444444444444,
             "#bd3786"
            ],
            [
             0.5555555555555556,
             "#d8576b"
            ],
            [
             0.6666666666666666,
             "#ed7953"
            ],
            [
             0.7777777777777778,
             "#fb9f3a"
            ],
            [
             0.8888888888888888,
             "#fdca26"
            ],
            [
             1,
             "#f0f921"
            ]
           ],
           "sequentialminus": [
            [
             0,
             "#0d0887"
            ],
            [
             0.1111111111111111,
             "#46039f"
            ],
            [
             0.2222222222222222,
             "#7201a8"
            ],
            [
             0.3333333333333333,
             "#9c179e"
            ],
            [
             0.4444444444444444,
             "#bd3786"
            ],
            [
             0.5555555555555556,
             "#d8576b"
            ],
            [
             0.6666666666666666,
             "#ed7953"
            ],
            [
             0.7777777777777778,
             "#fb9f3a"
            ],
            [
             0.8888888888888888,
             "#fdca26"
            ],
            [
             1,
             "#f0f921"
            ]
           ]
          },
          "colorway": [
           "#636efa",
           "#EF553B",
           "#00cc96",
           "#ab63fa",
           "#FFA15A",
           "#19d3f3",
           "#FF6692",
           "#B6E880",
           "#FF97FF",
           "#FECB52"
          ],
          "font": {
           "color": "#2a3f5f"
          },
          "geo": {
           "bgcolor": "white",
           "lakecolor": "white",
           "landcolor": "#E5ECF6",
           "showlakes": true,
           "showland": true,
           "subunitcolor": "white"
          },
          "hoverlabel": {
           "align": "left"
          },
          "hovermode": "closest",
          "mapbox": {
           "style": "light"
          },
          "paper_bgcolor": "white",
          "plot_bgcolor": "#E5ECF6",
          "polar": {
           "angularaxis": {
            "gridcolor": "white",
            "linecolor": "white",
            "ticks": ""
           },
           "bgcolor": "#E5ECF6",
           "radialaxis": {
            "gridcolor": "white",
            "linecolor": "white",
            "ticks": ""
           }
          },
          "scene": {
           "xaxis": {
            "backgroundcolor": "#E5ECF6",
            "gridcolor": "white",
            "gridwidth": 2,
            "linecolor": "white",
            "showbackground": true,
            "ticks": "",
            "zerolinecolor": "white"
           },
           "yaxis": {
            "backgroundcolor": "#E5ECF6",
            "gridcolor": "white",
            "gridwidth": 2,
            "linecolor": "white",
            "showbackground": true,
            "ticks": "",
            "zerolinecolor": "white"
           },
           "zaxis": {
            "backgroundcolor": "#E5ECF6",
            "gridcolor": "white",
            "gridwidth": 2,
            "linecolor": "white",
            "showbackground": true,
            "ticks": "",
            "zerolinecolor": "white"
           }
          },
          "shapedefaults": {
           "line": {
            "color": "#2a3f5f"
           }
          },
          "ternary": {
           "aaxis": {
            "gridcolor": "white",
            "linecolor": "white",
            "ticks": ""
           },
           "baxis": {
            "gridcolor": "white",
            "linecolor": "white",
            "ticks": ""
           },
           "bgcolor": "#E5ECF6",
           "caxis": {
            "gridcolor": "white",
            "linecolor": "white",
            "ticks": ""
           }
          },
          "title": {
           "x": 0.05
          },
          "xaxis": {
           "automargin": true,
           "gridcolor": "white",
           "linecolor": "white",
           "ticks": "",
           "title": {
            "standoff": 15
           },
           "zerolinecolor": "white",
           "zerolinewidth": 2
          },
          "yaxis": {
           "automargin": true,
           "gridcolor": "white",
           "linecolor": "white",
           "ticks": "",
           "title": {
            "standoff": 15
           },
           "zerolinecolor": "white",
           "zerolinewidth": 2
          }
         }
        },
        "title": {
         "text": "PlanetScope Image Count By Year and By Satellite Type - 0% Cloud Cover - 2018 to 2023 - BeitBridge",
         "x": 0.5
        },
        "xaxis": {
         "anchor": "y",
         "domain": [
          0,
          1
         ],
         "title": {
          "text": "Year"
         }
        },
        "yaxis": {
         "anchor": "x",
         "domain": [
          0,
          1
         ],
         "title": {
          "text": "Image Count"
         }
        }
       }
      }
     },
     "metadata": {},
     "output_type": "display_data"
    }
   ],
   "source": [
    "# Graph 7: Annual bar chart showing image counts per year broken down by satellite platform.\n",
    "# Use this to display the number of images from different satellites across multiple years in the query, if applicable.\n",
    "def create_dove_year_graph(df, cc_threshold, output_graph):\n",
    "    \"\"\"\n",
    "    Creates a yearly bar chart to display image counts per year over multiple years, broken down by satellite platform\n",
    "    Image counts are determined based on the input cloud cover threshold.\n",
    "\n",
    "    Params:\n",
    "    ---------------------\n",
    "    df: pandas dataframe\n",
    "        query dataframe containing image information\n",
    "    cc_threshold: float\n",
    "        cloud cover percentage threshold. Images with cloud cover exceeding this number will not be counted\n",
    "    output_graph: bool\n",
    "        if set to True, graph will be saved to file as an html and png file\n",
    "    \"\"\"\n",
    "    target_df = df\n",
    "    min_year = df.iloc[0]['year']\n",
    "    max_year = df.iloc[-1]['year']\n",
    "  \n",
    "    year_df = pd.DataFrame()\n",
    "    year_df[\"Dove-Classic\"] = target_df.loc[(target_df['cloud_cover'] <= 5) & (target_df[\"sat_type\"] == \"dove-c\")]['year'].value_counts()\n",
    "    year_df[\"Dove-R\"] = target_df.loc[(target_df['cloud_cover'] <= 5) & (target_df[\"sat_type\"] == \"dove-r\")]['year'].value_counts()\n",
    "    year_df[\"SuperDove\"] = target_df.loc[(target_df['cloud_cover'] <= 5) & (target_df[\"sat_type\"] == \"superdove\")]['year'].value_counts()\n",
    "    \n",
    "    year_df.reset_index(inplace=True)\n",
    "    year_df.rename(columns={'index': 'year'}, inplace=True)\n",
    "    year_df.sort_values('year', inplace=True)\n",
    "    year_df.reset_index(inplace=True, drop=True)\n",
    "\n",
    "    year_fig = px.bar(year_df, x='year', y=[\"Dove-Classic\", \"Dove-R\", \"SuperDove\"])\n",
    "    year_fig.update_layout(title_text=f\"PlanetScope Image Count By Year and By Satellite Type - {cc_threshold}% Cloud Cover - {min_year} to {max_year} - {aoi_name}\", title_x=0.5, yaxis_title=\"Image Count\", xaxis_title=\"Year\")\n",
    "\n",
    "    filenamestr = f\"PlanetScope_Annual_Image_Count_{cc_threshold}_%CC_SatelliteType_{min_year}_to_{max_year}_{aoi_name}\"\n",
    "    if output_graph:\n",
    "        out_png = outpath_figs.joinpath(f\"{filenamestr}.png\")\n",
    "        out_html = outpath_figs.joinpath(f\"{filenamestr}.html\")\n",
    "        year_fig.write_image(out_png)\n",
    "        year_fig.write_html(out_html)\n",
    "\n",
    "    year_fig.show()\n",
    "\n",
    "    return year_df\n",
    "\n",
    "year_df = create_dove_year_graph(filtered_search, cc_threshold=0, output_graph=output_graphs)"
   ]
  },
  {
   "cell_type": "markdown",
   "metadata": {},
   "source": [
    "## Stage 4: Download Imagery\n",
    "In this stage, the images returned by the query in Stage 1 are downloaded. The user may input final criteria to further subset the images to retrieve based on cloud cover, start and end dates, AOI coverage, and satellite type"
   ]
  },
  {
   "cell_type": "code",
   "execution_count": 28,
   "metadata": {},
   "outputs": [],
   "source": [
    "# Read filtered search dataframe from pickle file\n",
    "filter_search_pickle = outpath_search_df.joinpath(f'{aoi_name}_{o_start_date}_to_{o_end_date}_search_df_filtered.pkl')\n",
    "filtered_search = pd.read_pickle(filter_search_pickle)"
   ]
  },
  {
   "cell_type": "code",
   "execution_count": 33,
   "metadata": {},
   "outputs": [],
   "source": [
    "# Specify final image download selection criteria here. The original query criteria can also be used by setting all variables to None\n",
    "start_date_download = None # Start date for image download (string in the format \"YYYY-MM-DD\")\n",
    "end_date_download = None # End date for image download (string in the format \"YYYY-MM-DD\")\n",
    "cc_thresh_download = None # Maximum cloud cover percentage to use for image download\n",
    "aoi_coverage_download = None # Minimum AOI coverage percentage to use for image download\n",
    "sat_list = None # List of satellite types to download. Options are 'dove-c', 'dove-r', and 'superdove'. Note: TDI notebook currently only supports superdove\n",
    "\n",
    "# Examples of user-specified criteria for image download\n",
    "# max_cc_download = 0.0\n",
    "# start_date_download = \"2022-01-01\"\n",
    "# end_date_download = \"2023-03-31\"\n",
    "# aoi_coverage_download = 90.0\n",
    "# sat_list = ['superdove']\n",
    "\n",
    "# If one of the above download criteria is not specified, the original query parameter is used.\n",
    "if start_date_download is None:\n",
    "    start_date_download = o_start_date\n",
    "if end_date_download is None:\n",
    "    end_date_download = o_end_date\n",
    "if cc_thresh_download is None:\n",
    "    cc_thresh_download = cc_thresh\n",
    "if aoi_coverage_download is None:\n",
    "    aoi_coverage_download = coverage_thresh\n",
    "if sat_list is None:\n",
    "    sat_list = ['dove-c', 'dove-r', 'superdove']\n",
    "    \n",
    "\n",
    "start_date_final = datetime.datetime.strptime(start_date_download, \"%Y-%m-%d\")\n",
    "end_date_final = datetime.datetime.strptime(end_date_download, \"%Y-%m-%d\")\n",
    "\n",
    "# Path to put downloaded images\n",
    "outpath_dl = outpath_images.joinpath(f\"{aoi_name}_{start_date_download}_to_{end_date_download}\")\n",
    "outpath_dl.mkdir(parents=True, exist_ok=True)\n",
    "\n",
    "outpath_download_df.mkdir(parents=True, exist_ok=True)\n",
    "\n",
    "filtered_download_pickle = outpath_download_df.joinpath(f'{aoi_name}_{start_date_download}_to_{end_date_download}_download_df.pkl')\n",
    "filtered_download_resp_pickle = outpath_download_df.joinpath(f'{aoi_name}_{start_date_download}_to_{end_date_download}_download_resp_dict.pkl')\n",
    "\n",
    "pl_resp_dict = {}"
   ]
  },
  {
   "cell_type": "code",
   "execution_count": 30,
   "metadata": {},
   "outputs": [
    {
     "name": "stdout",
     "output_type": "stream",
     "text": [
      "Total number of images to download: 163. Total cost: $1205.88 USD\n"
     ]
    }
   ],
   "source": [
    "\n",
    "#Filter results down to final download list based on above criteria\n",
    "filtered_search_final = filtered_search.copy(deep=True)\n",
    "filtered_search_final = filtered_search_final.loc[(filtered_search_final['date'] >= start_date_final) \n",
    "                                                  & (filtered_search_final['date'] <= end_date_final) \n",
    "                                                  & (filtered_search_final['cloud_cover'] <= cc_thresh_download)\n",
    "                                                  & (filtered_search_final['aoi_coverage'] >= aoi_coverage_download)\n",
    "                                                  & (filtered_search_final['sat_type'].isin(sat_list))]\n",
    "\n",
    "filtered_search_final['pl_id'] = \"\"\n",
    "filtered_search_final['pl_status'] = \"\"\n",
    "\n",
    "filtered_search_final.to_pickle(filtered_download_pickle)\n",
    "\n",
    "total_cost = round(filtered_search_final['cost'].sum(), 2)\n",
    "num_images = len(filtered_search_final)\n",
    "print(f\"Total number of images to download: {num_images}. Total cost: ${total_cost} USD\")"
   ]
  },
  {
   "cell_type": "code",
   "execution_count": 31,
   "metadata": {},
   "outputs": [
    {
     "data": {
      "text/plain": [
       "dict_keys(['NDVI', 'False Colour Infrared', 'Panchromatic', 'Near-infrared', 'MSAVI2', 'EVI', 'False Colour Urban', 'True Colour Image', 'SAR Terrain Flattened', 'RGB+NIR', 'NDWI2', 'All Optical Bands', 'SAR Terrain Corrected'])"
      ]
     },
     "execution_count": 31,
     "metadata": {},
     "output_type": "execute_result"
    }
   ],
   "source": [
    "# Query endpoint to get different output types and build dictionary of selectable output types for download\n",
    "output_id_url = f\"https://api.skywatch.co/earthcache/outputs\"\n",
    "output_id_resp = requests.get(url=output_id_url, headers=headers).json()\n",
    "output_type_dict = {}\n",
    "for output in output_id_resp['data']:\n",
    "    output_name = output['name']\n",
    "    output_id = output['id']\n",
    "    output_type_dict[output_name] = output_id\n",
    "\n",
    "output_type_dict.keys()"
   ]
  },
  {
   "cell_type": "code",
   "execution_count": 32,
   "metadata": {},
   "outputs": [],
   "source": [
    "# Set desired output type to download based on the output from the previous cell\n",
    "# Note: leave as \"All Optical Bands\" if using the TDI notebook after image download\n",
    "im_download_product = 'All Optical Bands'\n",
    "output_id = output_type_dict[im_download_product]"
   ]
  },
  {
   "cell_type": "code",
   "execution_count": null,
   "metadata": {},
   "outputs": [],
   "source": [
    "def create_pipeline_query(pipeline_name, search_id, image_id, output_id):\n",
    "    \"\"\"\n",
    "    Creates a json query to use for creating an image download pipeline in the Skywatch API.\n",
    "\n",
    "    Params:\n",
    "    ---------------------\n",
    "    pipeline_name: str\n",
    "        Name of the image download pipeline\n",
    "    search_id: str\n",
    "        id for search query where image appears\n",
    "    image_id: str\n",
    "        id for image\n",
    "    output_id: str\n",
    "        id string for selected image product to download\n",
    "    \n",
    "\n",
    "    Returns:\n",
    "    ---------------------\n",
    "    query: dict\n",
    "        formatted query dictionary\n",
    "    \"\"\"\n",
    "    query = {\n",
    "            \"name\": pipeline_name,\n",
    "            \"search_id\": search_id,\n",
    "            \"search_results\": image_id,\n",
    "            \"output\": {\n",
    "                \"id\": output_id,\n",
    "                \"format\": \"geotiff\",\n",
    "                \"mosaic\": \"off\"\n",
    "            },\n",
    "            }\n",
    "    \n",
    "    return query\n",
    "\n",
    "def post_pipeline(query, headers):\n",
    "    \"\"\"\n",
    "    Runs a POST request to create image download pipeline.\n",
    "\n",
    "    Params:\n",
    "    ---------------------\n",
    "    query: dict\n",
    "        formatted query dictionary\n",
    "    headers: dict\n",
    "        headers for query\n",
    "        \n",
    "    Returns:\n",
    "    ---------------------\n",
    "    pipeline_id: str\n",
    "        id string for download pipeline\n",
    "\n",
    "    \"\"\"\n",
    "    pipeline_url = \"https://api.skywatch.co/earthcache/pipelines\"\n",
    "    pipeline_resp = requests.post(url=pipeline_url, data=json.dumps(query), headers=headers).json()\n",
    "    pipeline_id = pipeline_resp['data']['id']\n",
    "    \n",
    "    return pipeline_id\n",
    "\n",
    "def get_pipeline(pipeline_id):\n",
    "    \"\"\"\n",
    "    Get request to get the status of an image download pipeline.\n",
    "\n",
    "    Params:\n",
    "    ---------------------\n",
    "    pipeline_id: str\n",
    "        id string for download pipeline\n",
    "\n",
    "    Returns:\n",
    "    ---------------------\n",
    "    pipeline_get_resp: requests response object\n",
    "        image download pipeline response object\n",
    "\n",
    "    \"\"\"\n",
    "    pipeline_get_url = f\"https://api.skywatch.co/earthcache/interval_results?pipeline_id={pipeline_id}\"\n",
    "    pipeline_get_resp = requests.get(url=pipeline_get_url, headers=headers)\n",
    "\n",
    "    return pipeline_get_resp"
   ]
  },
  {
   "attachments": {},
   "cell_type": "markdown",
   "metadata": {},
   "source": [
    "***WARNING: Running the below cell will result in charges being applied to your Earthcache account!***"
   ]
  },
  {
   "cell_type": "code",
   "execution_count": null,
   "metadata": {},
   "outputs": [],
   "source": [
    "# Iterates through all images in image download dataframe and creates new image download pipelines for each.\n",
    "for index, row in filtered_search_final.iterrows():\n",
    "    time.sleep(1)\n",
    "    search_id = row[\"search_id\"]\n",
    "    image_id = row[\"id\"]\n",
    "    product_name = row[\"product_name\"]\n",
    "    print(f\"creating download pipeline for image: {product_name}\")\n",
    "    pipeline_name = f\"{aoi_name}_{product_name}\" #Pipeline name, which shows up in the Earthcache console. Default combines the AOI name and the image name\n",
    "    pl_query = create_pipeline_query(pipeline_name, search_id, image_id, output_id)\n",
    "    pl_id = post_pipeline(pl_query, headers)\n",
    "    filtered_search_final.loc[index, 'pl_id'] = pl_id # Appends the image download pipeline ID to the dataframe\n"
   ]
  },
  {
   "cell_type": "code",
   "execution_count": null,
   "metadata": {},
   "outputs": [],
   "source": [
    "# Once the image download dataframe has been updated with the download pipeline IDs, \n",
    "# we save it to a pickle file in case notebook terminates before images are downloaded\n",
    "filtered_search_final.to_pickle(filtered_download_pickle)"
   ]
  },
  {
   "cell_type": "code",
   "execution_count": null,
   "metadata": {},
   "outputs": [],
   "source": [
    "# Retrieve filtered download dataframe and dictionary containing json response objects in case\n",
    "# notebook was terminated before images could be downloaded. Resume from here in that case.\n",
    "\n",
    "if filtered_download_pickle.exists():\n",
    "    filtered_search_final = pd.read_pickle(filtered_download_pickle)\n",
    "\n",
    "if filtered_download_resp_pickle.exists():\n",
    "    with open(filtered_download_resp_pickle, 'rb') as f:\n",
    "        pl_resp_dict = pickle.load(f)"
   ]
  },
  {
   "cell_type": "code",
   "execution_count": null,
   "metadata": {},
   "outputs": [],
   "source": [
    "def query_pipeline(pl_id):\n",
    "    \"\"\"\n",
    "    Queries the image download pipeline to check processing status and retrieve pipeline json\n",
    "    response containing image download links for completed pipelines.\n",
    "\n",
    "    Params:\n",
    "    ---------------------\n",
    "    pl_id: str\n",
    "        id string for download pipeline\n",
    "\n",
    "    Returns:\n",
    "    ---------------------\n",
    "    pl_status: str\n",
    "        processing status of pipeline\n",
    "    pl_resp_json: dict\n",
    "        json response object from pipeline query. For completed jobs this will contain\n",
    "        links for image download.\n",
    "    \"\"\"\n",
    "    pl_resp = get_pipeline(pl_id)\n",
    "    pl_resp_json = pl_resp.json()\n",
    "    pl_status = pl_resp_json['data'][0]['status']\n",
    "    return pl_status, pl_resp_json\n",
    "\n",
    "# Iterates through all images in image download dataframe and checks the status of the image \n",
    "# download pipelines and saves the response json to a dictionary.\n",
    "# If any image download pipelines are still processing, the loop will repeat after a delay \n",
    "# which gets progressively shorter. The initial delay is set to 30 minutes. The delay is progressively \n",
    "# reduced, with a minimum delay of 1 minute being imposed. The loop repeats until the status of \n",
    "# all download pipelines have changed to completed.\n",
    "\n",
    "num_iterations = 1\n",
    "results_processing = True\n",
    "while results_processing:\n",
    "    status_list = []\n",
    "    print('Checking status of image download pipelines.')\n",
    "    for index, row in filtered_search_final.iterrows():\n",
    "        time.sleep(1)\n",
    "        pl_status = row['pl_status']\n",
    "        pl_id = row['pl_id']\n",
    "        if pl_status != 'complete':\n",
    "            pl_status, pl_resp_json = query_pipeline(pl_id)\n",
    "            filtered_search_final.loc[index, 'pl_status'] = pl_resp_json['data'][0]['status']\n",
    "            pl_resp_dict[pl_id] = pl_resp_json\n",
    "        \n",
    "        status_list.append(pl_status)\n",
    "\n",
    "    filtered_search_final.to_pickle(filtered_download_pickle)\n",
    "    with open(filtered_download_resp_pickle, 'wb') as f:\n",
    "        pickle.dump(pl_resp_dict, f)\n",
    "    \n",
    "    if 'complete' in set(status_list) and len(set(status_list)) == 1:\n",
    "        results_processing = False\n",
    "        print('All image pipelines are finished and ready for download!')\n",
    "    else:\n",
    "        wait_time = 1800 / num_iterations\n",
    "        if wait_time < 60:\n",
    "            wait_time = 60\n",
    "        wait_time_mins = round((wait_time / 60), 0)\n",
    "        print(f\"Results still pending for some items. Waiting for {wait_time_mins} mins and trying again.\")\n",
    "        num_iterations += 2\n",
    "        time.sleep(wait_time)"
   ]
  },
  {
   "cell_type": "code",
   "execution_count": null,
   "metadata": {},
   "outputs": [],
   "source": [
    "def download_file(url, out_name):\n",
    "    \"\"\"\n",
    "    Downloads files using the provided URL.\n",
    "\n",
    "    Params:\n",
    "    ---------------------\n",
    "    url: str\n",
    "        url path to the file\n",
    "    out_name: str\n",
    "        output file name for the local file download\n",
    "\n",
    "    Returns:\n",
    "    ---------------------\n",
    "\n",
    "    \"\"\"\n",
    "    with requests.get(url, stream=True) as r:\n",
    "        r.raise_for_status()\n",
    "        with open(out_name, 'wb') as f:\n",
    "            for chunk in r.iter_content(chunk_size=None):\n",
    "                f.write(chunk)\n",
    "\n",
    "# Iterates through all images in image download dataframe and downloads image and metadata\n",
    "for index, row in filtered_search_final.iterrows():\n",
    "    product_name = row['product_name']\n",
    "    pl_id = row['pl_id']\n",
    "    pl_resp_json = pl_resp_dict[pl_id]\n",
    "    results = pl_resp_json['data'][0]['results'][0]\n",
    "\n",
    "    # Dict of image files to download. Currently downloads image tif file and metadata json file.\n",
    "    # Cloud mask file currently commented out, as it is not used in subsequent processes.\n",
    "    download_dict = {'image': {'url': results['analytics_url'], 'extension': 'analytic.tif'},\n",
    "                    'metadata': {'url': results['metadata_url'], 'extension': 'metadata.json'}}\n",
    "                    # 'cloud_mask': {'url': results['raster_files'][0]['uri'], 'extension': 'mask.tif'}}\n",
    "\n",
    "    out_basepath = outpath_dl.joinpath(product_name) # Files for each image are placed in a folder named after the image file\n",
    "    out_basepath.mkdir(exist_ok=True)\n",
    "\n",
    "    print(f'downloading all files for image: {product_name}')\n",
    "    for key, value in download_dict.items():\n",
    "        dl_url = value['url']\n",
    "        extension = value['extension']\n",
    "        out_fname = out_basepath.joinpath(f'{product_name}_{extension}')\n",
    "        download_file(dl_url, out_fname)"
   ]
  }
 ],
 "metadata": {
  "kernelspec": {
   "display_name": "Python 3 (ipykernel)",
   "language": "python",
   "name": "python3"
  },
  "language_info": {
   "codemirror_mode": {
    "name": "ipython",
    "version": 3
   },
   "file_extension": ".py",
   "mimetype": "text/x-python",
   "name": "python",
   "nbconvert_exporter": "python",
   "pygments_lexer": "ipython3",
   "version": "3.10.10"
  },
  "vscode": {
   "interpreter": {
    "hash": "b205056744192b51d7fcf647b8488be922fc7e73105947b81a7c7b6d880083f8"
   }
  }
 },
 "nbformat": 4,
 "nbformat_minor": 4
}
